{
 "cells": [
  {
   "cell_type": "markdown",
   "metadata": {
    "application/vnd.databricks.v1+cell": {
     "cellMetadata": {
      "byteLimit": 2048000,
      "rowLimit": 10000
     },
     "inputWidgets": {},
     "nuid": "2456a7a6-de67-407f-80d0-43437ce75d72",
     "showTitle": false,
     "title": ""
    }
   },
   "source": [
    "#Airbnb Geneva Analysis\n",
    "\n",
    "## Problem Statement:\n",
    "With the rise of the sharing economy, Airbnb has become one of the leading platforms in the travel industry, especially in metropolitan cities like Geneva. However, there's much speculation and curiosity regarding what makes an Airbnb listing successful, particularly in terms of overall ratings. Our primary question is:\n",
    "\n",
    "\"How do different neighborhoods compare in terms of average price, overall rating, and property types?\"\n",
    "\n",
    "##  Objectives and Deliverables:\n",
    "The research will deliver insights on the following:\n",
    "\n",
    "- Factors for higher rating: Investigate property types in Geneva and understand their influence on ratings and prices. The aim is to decipher which property types tend to receive better ratings and why.\n",
    "\n",
    "- Neighborhood Comparison: break down and compare different neighborhoods in Geneva regarding their average price, overall rating, and most common property types. This will provide insights into which neighborhoods are considered premium and why.\n",
    "\n",
    "- Success Factors for Listings: Understand the correlation between price and overall rating. The age-old question – does higher price mean better ratings?\n",
    "\n",
    "## Data Source:\n",
    "The dataset is sourced from Kaggle and represents Airbnb listings for Geneva as of 29th June 2021.\n",
    "\n",
    "Link to the dataset: https://www.kaggle.com/datasets/prayankkul/airbnb-geneva-switzerland-29-jun-2021/data\n",
    "\n",
    "## ETL Pipeline Overview:\n",
    "The ETL process consists of the following steps:\n",
    "\n",
    "Extract: Download the data from the provided Kaggle link and read it into Databricks.\n",
    "\n",
    "Transform:\n",
    "\n",
    "- Cleanse the data by removing nulls, duplicates, and outliers where necessary.\n",
    "- Transform data types to the suitable format.\n",
    "- Engineer new features such as 'month' for new listings and reviews to facilitate growth metrics.\n",
    "- Aggregate data at various levels like property type and neighborhoods for analysis.\n",
    "- Join datasets as necessary, for instance, merging listings data with reviews data.\n",
    "- Load: Data will be loaded into Delta tables and views for optimized querying and analysis in Databricks.\n",
    "\n",
    "## Data Cube Design:\n",
    "###Dimensions:\n",
    "\n",
    "- Listing details (property type, amenities, host information).\n",
    "- Review details (date, reviewer details).\n",
    "- Neighbourhood information.\n",
    "\n",
    "###Measures:\n",
    "\n",
    "- Average Rating.\n",
    "- Average Price.\n",
    "- Count of Listings.\n",
    "- Count of Reviews.\n",
    "\n",
    "## Visualization and Reporting:\n",
    "Using Databricks' built-in visualizations, we will create various plots and graphs to visually depict:\n",
    "\n",
    "The distribution of ratings across different property types.\n",
    "Average prices and ratings across neighborhoods.\n",
    "Growth charts depicting the monthly trend of new listings and reviews.\n",
    "Scatter plots to explore the correlation between price and rating.\n",
    "7. Conclusion:\n",
    "Our analysis aims to provide a comprehensive understanding of what contributes to a successful Airbnb listing in Geneva, giving stakeholders actionable insights into property optimization, pricing strategies, and more.\n",
    "\n",
    "## Limitations:\n",
    "- Compute Constraints: Using the Databricks community edition imposes a significant limitation in terms of available compute. This results in slower data processing times, affecting the efficiency of the overall ETL process.\n",
    "\n",
    "- Transient Compute Instances: After every run, a new compute instance must be generated, causing disruptions in continuity and adding overhead in terms of setup time.\n",
    "\n",
    "- Delta File Management: As the cluster changes after each run, delta files associated with tables have to be manually removed. This introduces potential data loss risks and requires additional manual oversight.\n",
    "\n",
    "- SQL Errors:  Table constraints are not supported, limiting the schema enforcement capabilities, which is essential for data quality and integrity.\n",
    "\n",
    "- Cluster Management: The inability to restart the same cluster, even though the files are retained, creates inconsistencies in processing and potential mismatches in data.\n",
    "\n",
    "## Proposed Imporovement\n",
    "- Enhanced Alerting and Monitoring: Databricks offers powerful alerting and monitoring features in its full version. By leveraging these capabilities, we can:\n",
    "\n",
    "- Automated Alerts: Configure Databricks to send alerts in case of anomalies in data, failures in the ETL process, or any issues with the compute resources. This immediate notification ensures timely interventions and minimal disruptions.\n",
    "\n",
    "- Log Analysis: Capture and analyze logs for the ETL processes. Any discrepancies, errors, or inefficiencies can be traced back to their root cause using detailed logs.\n",
    "\n",
    "- Error Handling Mechanisms:\n",
    "Incorporate error-handling mechanisms in the ETL scripts. This ensures graceful failure in the event of SQL errors, providing more informative messages and possible resolutions.\n",
    "\n",
    "- Historization: \n",
    "Implementing Slowly Changing Dimensions (SCD) to track historical changes, providing a more comprehensive view of how data evolves over time.\n",
    "\n",
    "\n",
    "- Normalization: \n",
    "the star schema is excellent for querying, normalizing to at least 2NF to ensure data consistency and reduce redundancy.\n",
    "\n",
    "- Data Quality Checks: \n",
    "Incorporate regular data quality checks, ensuring that data in the warehouse remains accurate, consistent, and up-to-date."
   ]
  },
  {
   "cell_type": "code",
   "execution_count": 0,
   "metadata": {
    "application/vnd.databricks.v1+cell": {
     "cellMetadata": {
      "byteLimit": 2048000,
      "rowLimit": 10000
     },
     "inputWidgets": {},
     "nuid": "05420944-7eb9-461e-b3a2-a0b2e440bc07",
     "showTitle": false,
     "title": ""
    }
   },
   "outputs": [],
   "source": [
    "#clean up resources when starting with a new cluster\n",
    "#dbutils.fs.ls(\"dbfs:/user/hive/warehouse/\") "
   ]
  },
  {
   "cell_type": "markdown",
   "metadata": {
    "application/vnd.databricks.v1+cell": {
     "cellMetadata": {
      "byteLimit": 2048000,
      "rowLimit": 10000
     },
     "inputWidgets": {},
     "nuid": "e16dd5ae-7256-412f-8716-a64ba21cc8e6",
     "showTitle": false,
     "title": ""
    }
   },
   "source": [
    "Creation of multiple databases: RAW, STAGING, DWH and  REPORTING \n",
    "Organizing data into different databases to streamline the data engineering pipeline. Raw data is kept untouched for auditing and traceability; staging for transformations; DWH for structured and optimized data storage; Reporting for user-specific views;"
   ]
  },
  {
   "cell_type": "code",
   "execution_count": 0,
   "metadata": {
    "application/vnd.databricks.v1+cell": {
     "cellMetadata": {
      "byteLimit": 2048000,
      "implicitDf": true,
      "rowLimit": 10000
     },
     "inputWidgets": {},
     "nuid": "9a13debe-b258-4433-b3ef-af73d35852d2",
     "showTitle": false,
     "title": ""
    }
   },
   "outputs": [
    {
     "output_type": "display_data",
     "data": {
      "text/html": [
       "<style scoped>\n",
       "  .ansiout {\n",
       "    display: block;\n",
       "    unicode-bidi: embed;\n",
       "    white-space: pre-wrap;\n",
       "    word-wrap: break-word;\n",
       "    word-break: break-all;\n",
       "    font-family: \"Menlo\", \"Monaco\", \"Consolas\", \"Ubuntu Mono\", \"Source Code Pro\", monospace;\n",
       "    font-size: 13px;\n",
       "    color: #555;\n",
       "    margin-left: 4px;\n",
       "    line-height: 19px;\n",
       "  }\n",
       "</style>\n",
       "com.databricks.backend.common.rpc.SparkDriverExceptions$SQLExecutionException: org.apache.spark.sql.catalyst.analysis.NamespaceAlreadyExistsException: [SCHEMA_ALREADY_EXISTS] Cannot create schema `RAW` because it already exists.\n",
       "Choose a different name, drop the existing schema, or add the IF NOT EXISTS clause to tolerate pre-existing schema.\n",
       "\tat org.apache.spark.sql.errors.QueryCompilationErrors$.namespaceAlreadyExistsError(QueryCompilationErrors.scala:1544)\n",
       "\tat org.apache.spark.sql.execution.datasources.v2.CreateNamespaceExec.run(CreateNamespaceExec.scala:53)\n",
       "\tat org.apache.spark.sql.execution.datasources.v2.V2CommandExec.$anonfun$result$1(V2CommandExec.scala:47)\n",
       "\tat com.databricks.spark.util.FrameProfiler$.record(FrameProfiler.scala:94)\n",
       "\tat org.apache.spark.sql.execution.datasources.v2.V2CommandExec.result$lzycompute(V2CommandExec.scala:47)\n",
       "\tat org.apache.spark.sql.execution.datasources.v2.V2CommandExec.result(V2CommandExec.scala:45)\n",
       "\tat org.apache.spark.sql.execution.datasources.v2.V2CommandExec.executeCollect(V2CommandExec.scala:54)\n",
       "\tat org.apache.spark.sql.execution.QueryExecution$$anonfun$$nestedInanonfun$eagerlyExecuteCommands$1$1.$anonfun$applyOrElse$3(QueryExecution.scala:287)\n",
       "\tat org.apache.spark.sql.catalyst.QueryPlanningTracker$.withTracker(QueryPlanningTracker.scala:166)\n",
       "\tat org.apache.spark.sql.execution.QueryExecution$$anonfun$$nestedInanonfun$eagerlyExecuteCommands$1$1.$anonfun$applyOrElse$2(QueryExecution.scala:287)\n",
       "\tat org.apache.spark.sql.execution.SQLExecution$.$anonfun$withNewExecutionId0$8(SQLExecution.scala:301)\n",
       "\tat org.apache.spark.sql.execution.SQLExecution$.withSQLConfPropagated(SQLExecution.scala:555)\n",
       "\tat org.apache.spark.sql.execution.SQLExecution$.$anonfun$withNewExecutionId0$1(SQLExecution.scala:204)\n",
       "\tat org.apache.spark.sql.SparkSession.withActive(SparkSession.scala:1117)\n",
       "\tat org.apache.spark.sql.execution.SQLExecution$.withNewExecutionId0(SQLExecution.scala:153)\n",
       "\tat org.apache.spark.sql.execution.SQLExecution$.withNewExecutionId(SQLExecution.scala:497)\n",
       "\tat org.apache.spark.sql.execution.QueryExecution$$anonfun$$nestedInanonfun$eagerlyExecuteCommands$1$1.$anonfun$applyOrElse$1(QueryExecution.scala:286)\n",
       "\tat org.apache.spark.sql.execution.QueryExecution.org$apache$spark$sql$execution$QueryExecution$$withMVTagsIfNecessary(QueryExecution.scala:260)\n",
       "\tat org.apache.spark.sql.execution.QueryExecution$$anonfun$$nestedInanonfun$eagerlyExecuteCommands$1$1.applyOrElse(QueryExecution.scala:281)\n",
       "\tat org.apache.spark.sql.execution.QueryExecution$$anonfun$$nestedInanonfun$eagerlyExecuteCommands$1$1.applyOrElse(QueryExecution.scala:266)\n",
       "\tat org.apache.spark.sql.catalyst.trees.TreeNode.$anonfun$transformDownWithPruning$1(TreeNode.scala:470)\n",
       "\tat org.apache.spark.sql.catalyst.trees.CurrentOrigin$.withOrigin(origin.scala:76)\n",
       "\tat org.apache.spark.sql.catalyst.trees.TreeNode.transformDownWithPruning(TreeNode.scala:470)\n",
       "\tat org.apache.spark.sql.catalyst.plans.logical.LogicalPlan.org$apache$spark$sql$catalyst$plans$logical$AnalysisHelper$$super$transformDownWithPruning(LogicalPlan.scala:36)\n",
       "\tat org.apache.spark.sql.catalyst.plans.logical.AnalysisHelper.transformDownWithPruning(AnalysisHelper.scala:316)\n",
       "\tat org.apache.spark.sql.catalyst.plans.logical.AnalysisHelper.transformDownWithPruning$(AnalysisHelper.scala:312)\n",
       "\tat org.apache.spark.sql.catalyst.plans.logical.LogicalPlan.transformDownWithPruning(LogicalPlan.scala:36)\n",
       "\tat org.apache.spark.sql.catalyst.plans.logical.LogicalPlan.transformDownWithPruning(LogicalPlan.scala:36)\n",
       "\tat org.apache.spark.sql.catalyst.trees.TreeNode.transformDown(TreeNode.scala:446)\n",
       "\tat org.apache.spark.sql.execution.QueryExecution.$anonfun$eagerlyExecuteCommands$1(QueryExecution.scala:266)\n",
       "\tat org.apache.spark.sql.catalyst.plans.logical.AnalysisHelper$.allowInvokingTransformsInAnalyzer(AnalysisHelper.scala:372)\n",
       "\tat org.apache.spark.sql.execution.QueryExecution.eagerlyExecuteCommands(QueryExecution.scala:266)\n",
       "\tat org.apache.spark.sql.execution.QueryExecution.commandExecuted$lzycompute(QueryExecution.scala:218)\n",
       "\tat org.apache.spark.sql.execution.QueryExecution.commandExecuted(QueryExecution.scala:215)\n",
       "\tat org.apache.spark.sql.Dataset.<init>(Dataset.scala:262)\n",
       "\tat org.apache.spark.sql.Dataset$.$anonfun$ofRows$2(Dataset.scala:123)\n",
       "\tat org.apache.spark.sql.SparkSession.withActive(SparkSession.scala:1117)\n",
       "\tat org.apache.spark.sql.SparkSession.$anonfun$withActiveAndFrameProfiler$1(SparkSession.scala:1124)\n",
       "\tat com.databricks.spark.util.FrameProfiler$.record(FrameProfiler.scala:94)\n",
       "\tat org.apache.spark.sql.SparkSession.withActiveAndFrameProfiler(SparkSession.scala:1124)\n",
       "\tat org.apache.spark.sql.Dataset$.ofRows(Dataset.scala:113)\n",
       "\tat org.apache.spark.sql.SparkSession.$anonfun$sql$5(SparkSession.scala:897)\n",
       "\tat org.apache.spark.sql.SparkSession.withActive(SparkSession.scala:1117)\n",
       "\tat org.apache.spark.sql.SparkSession.sql(SparkSession.scala:886)\n",
       "\tat org.apache.spark.sql.SparkSession.sql(SparkSession.scala:920)\n",
       "\tat org.apache.spark.sql.SparkSession.sql(SparkSession.scala:953)\n",
       "\tat org.apache.spark.sql.SQLContext.sql(SQLContext.scala:695)\n",
       "\tat com.databricks.backend.daemon.driver.DriverLocal$DbClassicStrategy.executeSQLQuery(DriverLocal.scala:240)\n",
       "\tat com.databricks.backend.daemon.driver.DriverLocal.executeSQLSubCommand(DriverLocal.scala:324)\n",
       "\tat com.databricks.backend.daemon.driver.DriverLocal.$anonfun$executeSql$1(DriverLocal.scala:343)\n",
       "\tat scala.collection.immutable.List.map(List.scala:293)\n",
       "\tat com.databricks.backend.daemon.driver.DriverLocal.executeSql(DriverLocal.scala:338)\n",
       "\tat com.databricks.backend.daemon.driver.JupyterDriverLocal.repl(JupyterDriverLocal.scala:753)\n",
       "\tat com.databricks.backend.daemon.driver.DriverLocal.$anonfun$execute$34(DriverLocal.scala:1015)\n",
       "\tat com.databricks.unity.EmptyHandle$.runWith(UCSHandle.scala:124)\n",
       "\tat com.databricks.backend.daemon.driver.DriverLocal.$anonfun$execute$22(DriverLocal.scala:998)\n",
       "\tat com.databricks.logging.UsageLogging.$anonfun$withAttributionContext$1(UsageLogging.scala:426)\n",
       "\tat scala.util.DynamicVariable.withValue(DynamicVariable.scala:62)\n",
       "\tat com.databricks.logging.AttributionContext$.withValue(AttributionContext.scala:216)\n",
       "\tat com.databricks.logging.UsageLogging.withAttributionContext(UsageLogging.scala:424)\n",
       "\tat com.databricks.logging.UsageLogging.withAttributionContext$(UsageLogging.scala:418)\n",
       "\tat com.databricks.backend.daemon.driver.DriverLocal.withAttributionContext(DriverLocal.scala:71)\n",
       "\tat com.databricks.logging.UsageLogging.withAttributionTags(UsageLogging.scala:472)\n",
       "\tat com.databricks.logging.UsageLogging.withAttributionTags$(UsageLogging.scala:455)\n",
       "\tat com.databricks.backend.daemon.driver.DriverLocal.withAttributionTags(DriverLocal.scala:71)\n",
       "\tat com.databricks.backend.daemon.driver.DriverLocal.execute(DriverLocal.scala:940)\n",
       "\tat com.databricks.backend.daemon.driver.DriverWrapper.$anonfun$tryExecutingCommand$1(DriverWrapper.scala:862)\n",
       "\tat scala.util.Try$.apply(Try.scala:213)\n",
       "\tat com.databricks.backend.daemon.driver.DriverWrapper.tryExecutingCommand(DriverWrapper.scala:854)\n",
       "\tat com.databricks.backend.daemon.driver.DriverWrapper.executeCommandAndGetError(DriverWrapper.scala:651)\n",
       "\tat com.databricks.backend.daemon.driver.DriverWrapper.executeCommand(DriverWrapper.scala:808)\n",
       "\tat com.databricks.backend.daemon.driver.DriverWrapper.runInnerLoop(DriverWrapper.scala:528)\n",
       "\tat com.databricks.backend.daemon.driver.DriverWrapper.runInner(DriverWrapper.scala:444)\n",
       "\tat com.databricks.backend.daemon.driver.DriverWrapper.run(DriverWrapper.scala:287)\n",
       "\tat java.lang.Thread.run(Thread.java:750)\n",
       "\n",
       "\tat com.databricks.backend.daemon.driver.DriverLocal.executeSql(DriverLocal.scala:381)\n",
       "\tat com.databricks.backend.daemon.driver.JupyterDriverLocal.repl(JupyterDriverLocal.scala:753)\n",
       "\tat com.databricks.backend.daemon.driver.DriverLocal.$anonfun$execute$34(DriverLocal.scala:1015)\n",
       "\tat com.databricks.unity.EmptyHandle$.runWith(UCSHandle.scala:124)\n",
       "\tat com.databricks.backend.daemon.driver.DriverLocal.$anonfun$execute$22(DriverLocal.scala:998)\n",
       "\tat com.databricks.logging.UsageLogging.$anonfun$withAttributionContext$1(UsageLogging.scala:426)\n",
       "\tat scala.util.DynamicVariable.withValue(DynamicVariable.scala:62)\n",
       "\tat com.databricks.logging.AttributionContext$.withValue(AttributionContext.scala:216)\n",
       "\tat com.databricks.logging.UsageLogging.withAttributionContext(UsageLogging.scala:424)\n",
       "\tat com.databricks.logging.UsageLogging.withAttributionContext$(UsageLogging.scala:418)\n",
       "\tat com.databricks.backend.daemon.driver.DriverLocal.withAttributionContext(DriverLocal.scala:71)\n",
       "\tat com.databricks.logging.UsageLogging.withAttributionTags(UsageLogging.scala:472)\n",
       "\tat com.databricks.logging.UsageLogging.withAttributionTags$(UsageLogging.scala:455)\n",
       "\tat com.databricks.backend.daemon.driver.DriverLocal.withAttributionTags(DriverLocal.scala:71)\n",
       "\tat com.databricks.backend.daemon.driver.DriverLocal.execute(DriverLocal.scala:940)\n",
       "\tat com.databricks.backend.daemon.driver.DriverWrapper.$anonfun$tryExecutingCommand$1(DriverWrapper.scala:862)\n",
       "\tat scala.util.Try$.apply(Try.scala:213)\n",
       "\tat com.databricks.backend.daemon.driver.DriverWrapper.tryExecutingCommand(DriverWrapper.scala:854)\n",
       "\tat com.databricks.backend.daemon.driver.DriverWrapper.executeCommandAndGetError(DriverWrapper.scala:651)\n",
       "\tat com.databricks.backend.daemon.driver.DriverWrapper.executeCommand(DriverWrapper.scala:808)\n",
       "\tat com.databricks.backend.daemon.driver.DriverWrapper.runInnerLoop(DriverWrapper.scala:528)\n",
       "\tat com.databricks.backend.daemon.driver.DriverWrapper.runInner(DriverWrapper.scala:444)\n",
       "\tat com.databricks.backend.daemon.driver.DriverWrapper.run(DriverWrapper.scala:287)\n",
       "\tat java.lang.Thread.run(Thread.java:750)"
      ]
     },
     "metadata": {
      "application/vnd.databricks.v1+output": {
       "arguments": {},
       "data": "com.databricks.backend.common.rpc.SparkDriverExceptions$SQLExecutionException: org.apache.spark.sql.catalyst.analysis.NamespaceAlreadyExistsException: [SCHEMA_ALREADY_EXISTS] Cannot create schema `RAW` because it already exists.\nChoose a different name, drop the existing schema, or add the IF NOT EXISTS clause to tolerate pre-existing schema.\n\tat org.apache.spark.sql.errors.QueryCompilationErrors$.namespaceAlreadyExistsError(QueryCompilationErrors.scala:1544)\n\tat org.apache.spark.sql.execution.datasources.v2.CreateNamespaceExec.run(CreateNamespaceExec.scala:53)\n\tat org.apache.spark.sql.execution.datasources.v2.V2CommandExec.$anonfun$result$1(V2CommandExec.scala:47)\n\tat com.databricks.spark.util.FrameProfiler$.record(FrameProfiler.scala:94)\n\tat org.apache.spark.sql.execution.datasources.v2.V2CommandExec.result$lzycompute(V2CommandExec.scala:47)\n\tat org.apache.spark.sql.execution.datasources.v2.V2CommandExec.result(V2CommandExec.scala:45)\n\tat org.apache.spark.sql.execution.datasources.v2.V2CommandExec.executeCollect(V2CommandExec.scala:54)\n\tat org.apache.spark.sql.execution.QueryExecution$$anonfun$$nestedInanonfun$eagerlyExecuteCommands$1$1.$anonfun$applyOrElse$3(QueryExecution.scala:287)\n\tat org.apache.spark.sql.catalyst.QueryPlanningTracker$.withTracker(QueryPlanningTracker.scala:166)\n\tat org.apache.spark.sql.execution.QueryExecution$$anonfun$$nestedInanonfun$eagerlyExecuteCommands$1$1.$anonfun$applyOrElse$2(QueryExecution.scala:287)\n\tat org.apache.spark.sql.execution.SQLExecution$.$anonfun$withNewExecutionId0$8(SQLExecution.scala:301)\n\tat org.apache.spark.sql.execution.SQLExecution$.withSQLConfPropagated(SQLExecution.scala:555)\n\tat org.apache.spark.sql.execution.SQLExecution$.$anonfun$withNewExecutionId0$1(SQLExecution.scala:204)\n\tat org.apache.spark.sql.SparkSession.withActive(SparkSession.scala:1117)\n\tat org.apache.spark.sql.execution.SQLExecution$.withNewExecutionId0(SQLExecution.scala:153)\n\tat org.apache.spark.sql.execution.SQLExecution$.withNewExecutionId(SQLExecution.scala:497)\n\tat org.apache.spark.sql.execution.QueryExecution$$anonfun$$nestedInanonfun$eagerlyExecuteCommands$1$1.$anonfun$applyOrElse$1(QueryExecution.scala:286)\n\tat org.apache.spark.sql.execution.QueryExecution.org$apache$spark$sql$execution$QueryExecution$$withMVTagsIfNecessary(QueryExecution.scala:260)\n\tat org.apache.spark.sql.execution.QueryExecution$$anonfun$$nestedInanonfun$eagerlyExecuteCommands$1$1.applyOrElse(QueryExecution.scala:281)\n\tat org.apache.spark.sql.execution.QueryExecution$$anonfun$$nestedInanonfun$eagerlyExecuteCommands$1$1.applyOrElse(QueryExecution.scala:266)\n\tat org.apache.spark.sql.catalyst.trees.TreeNode.$anonfun$transformDownWithPruning$1(TreeNode.scala:470)\n\tat org.apache.spark.sql.catalyst.trees.CurrentOrigin$.withOrigin(origin.scala:76)\n\tat org.apache.spark.sql.catalyst.trees.TreeNode.transformDownWithPruning(TreeNode.scala:470)\n\tat org.apache.spark.sql.catalyst.plans.logical.LogicalPlan.org$apache$spark$sql$catalyst$plans$logical$AnalysisHelper$$super$transformDownWithPruning(LogicalPlan.scala:36)\n\tat org.apache.spark.sql.catalyst.plans.logical.AnalysisHelper.transformDownWithPruning(AnalysisHelper.scala:316)\n\tat org.apache.spark.sql.catalyst.plans.logical.AnalysisHelper.transformDownWithPruning$(AnalysisHelper.scala:312)\n\tat org.apache.spark.sql.catalyst.plans.logical.LogicalPlan.transformDownWithPruning(LogicalPlan.scala:36)\n\tat org.apache.spark.sql.catalyst.plans.logical.LogicalPlan.transformDownWithPruning(LogicalPlan.scala:36)\n\tat org.apache.spark.sql.catalyst.trees.TreeNode.transformDown(TreeNode.scala:446)\n\tat org.apache.spark.sql.execution.QueryExecution.$anonfun$eagerlyExecuteCommands$1(QueryExecution.scala:266)\n\tat org.apache.spark.sql.catalyst.plans.logical.AnalysisHelper$.allowInvokingTransformsInAnalyzer(AnalysisHelper.scala:372)\n\tat org.apache.spark.sql.execution.QueryExecution.eagerlyExecuteCommands(QueryExecution.scala:266)\n\tat org.apache.spark.sql.execution.QueryExecution.commandExecuted$lzycompute(QueryExecution.scala:218)\n\tat org.apache.spark.sql.execution.QueryExecution.commandExecuted(QueryExecution.scala:215)\n\tat org.apache.spark.sql.Dataset.<init>(Dataset.scala:262)\n\tat org.apache.spark.sql.Dataset$.$anonfun$ofRows$2(Dataset.scala:123)\n\tat org.apache.spark.sql.SparkSession.withActive(SparkSession.scala:1117)\n\tat org.apache.spark.sql.SparkSession.$anonfun$withActiveAndFrameProfiler$1(SparkSession.scala:1124)\n\tat com.databricks.spark.util.FrameProfiler$.record(FrameProfiler.scala:94)\n\tat org.apache.spark.sql.SparkSession.withActiveAndFrameProfiler(SparkSession.scala:1124)\n\tat org.apache.spark.sql.Dataset$.ofRows(Dataset.scala:113)\n\tat org.apache.spark.sql.SparkSession.$anonfun$sql$5(SparkSession.scala:897)\n\tat org.apache.spark.sql.SparkSession.withActive(SparkSession.scala:1117)\n\tat org.apache.spark.sql.SparkSession.sql(SparkSession.scala:886)\n\tat org.apache.spark.sql.SparkSession.sql(SparkSession.scala:920)\n\tat org.apache.spark.sql.SparkSession.sql(SparkSession.scala:953)\n\tat org.apache.spark.sql.SQLContext.sql(SQLContext.scala:695)\n\tat com.databricks.backend.daemon.driver.DriverLocal$DbClassicStrategy.executeSQLQuery(DriverLocal.scala:240)\n\tat com.databricks.backend.daemon.driver.DriverLocal.executeSQLSubCommand(DriverLocal.scala:324)\n\tat com.databricks.backend.daemon.driver.DriverLocal.$anonfun$executeSql$1(DriverLocal.scala:343)\n\tat scala.collection.immutable.List.map(List.scala:293)\n\tat com.databricks.backend.daemon.driver.DriverLocal.executeSql(DriverLocal.scala:338)\n\tat com.databricks.backend.daemon.driver.JupyterDriverLocal.repl(JupyterDriverLocal.scala:753)\n\tat com.databricks.backend.daemon.driver.DriverLocal.$anonfun$execute$34(DriverLocal.scala:1015)\n\tat com.databricks.unity.EmptyHandle$.runWith(UCSHandle.scala:124)\n\tat com.databricks.backend.daemon.driver.DriverLocal.$anonfun$execute$22(DriverLocal.scala:998)\n\tat com.databricks.logging.UsageLogging.$anonfun$withAttributionContext$1(UsageLogging.scala:426)\n\tat scala.util.DynamicVariable.withValue(DynamicVariable.scala:62)\n\tat com.databricks.logging.AttributionContext$.withValue(AttributionContext.scala:216)\n\tat com.databricks.logging.UsageLogging.withAttributionContext(UsageLogging.scala:424)\n\tat com.databricks.logging.UsageLogging.withAttributionContext$(UsageLogging.scala:418)\n\tat com.databricks.backend.daemon.driver.DriverLocal.withAttributionContext(DriverLocal.scala:71)\n\tat com.databricks.logging.UsageLogging.withAttributionTags(UsageLogging.scala:472)\n\tat com.databricks.logging.UsageLogging.withAttributionTags$(UsageLogging.scala:455)\n\tat com.databricks.backend.daemon.driver.DriverLocal.withAttributionTags(DriverLocal.scala:71)\n\tat com.databricks.backend.daemon.driver.DriverLocal.execute(DriverLocal.scala:940)\n\tat com.databricks.backend.daemon.driver.DriverWrapper.$anonfun$tryExecutingCommand$1(DriverWrapper.scala:862)\n\tat scala.util.Try$.apply(Try.scala:213)\n\tat com.databricks.backend.daemon.driver.DriverWrapper.tryExecutingCommand(DriverWrapper.scala:854)\n\tat com.databricks.backend.daemon.driver.DriverWrapper.executeCommandAndGetError(DriverWrapper.scala:651)\n\tat com.databricks.backend.daemon.driver.DriverWrapper.executeCommand(DriverWrapper.scala:808)\n\tat com.databricks.backend.daemon.driver.DriverWrapper.runInnerLoop(DriverWrapper.scala:528)\n\tat com.databricks.backend.daemon.driver.DriverWrapper.runInner(DriverWrapper.scala:444)\n\tat com.databricks.backend.daemon.driver.DriverWrapper.run(DriverWrapper.scala:287)\n\tat java.lang.Thread.run(Thread.java:750)\n\n\tat com.databricks.backend.daemon.driver.DriverLocal.executeSql(DriverLocal.scala:381)\n\tat com.databricks.backend.daemon.driver.JupyterDriverLocal.repl(JupyterDriverLocal.scala:753)\n\tat com.databricks.backend.daemon.driver.DriverLocal.$anonfun$execute$34(DriverLocal.scala:1015)\n\tat com.databricks.unity.EmptyHandle$.runWith(UCSHandle.scala:124)\n\tat com.databricks.backend.daemon.driver.DriverLocal.$anonfun$execute$22(DriverLocal.scala:998)\n\tat com.databricks.logging.UsageLogging.$anonfun$withAttributionContext$1(UsageLogging.scala:426)\n\tat scala.util.DynamicVariable.withValue(DynamicVariable.scala:62)\n\tat com.databricks.logging.AttributionContext$.withValue(AttributionContext.scala:216)\n\tat com.databricks.logging.UsageLogging.withAttributionContext(UsageLogging.scala:424)\n\tat com.databricks.logging.UsageLogging.withAttributionContext$(UsageLogging.scala:418)\n\tat com.databricks.backend.daemon.driver.DriverLocal.withAttributionContext(DriverLocal.scala:71)\n\tat com.databricks.logging.UsageLogging.withAttributionTags(UsageLogging.scala:472)\n\tat com.databricks.logging.UsageLogging.withAttributionTags$(UsageLogging.scala:455)\n\tat com.databricks.backend.daemon.driver.DriverLocal.withAttributionTags(DriverLocal.scala:71)\n\tat com.databricks.backend.daemon.driver.DriverLocal.execute(DriverLocal.scala:940)\n\tat com.databricks.backend.daemon.driver.DriverWrapper.$anonfun$tryExecutingCommand$1(DriverWrapper.scala:862)\n\tat scala.util.Try$.apply(Try.scala:213)\n\tat com.databricks.backend.daemon.driver.DriverWrapper.tryExecutingCommand(DriverWrapper.scala:854)\n\tat com.databricks.backend.daemon.driver.DriverWrapper.executeCommandAndGetError(DriverWrapper.scala:651)\n\tat com.databricks.backend.daemon.driver.DriverWrapper.executeCommand(DriverWrapper.scala:808)\n\tat com.databricks.backend.daemon.driver.DriverWrapper.runInnerLoop(DriverWrapper.scala:528)\n\tat com.databricks.backend.daemon.driver.DriverWrapper.runInner(DriverWrapper.scala:444)\n\tat com.databricks.backend.daemon.driver.DriverWrapper.run(DriverWrapper.scala:287)\n\tat java.lang.Thread.run(Thread.java:750)\n",
       "errorSummary": "Error in SQL statement: NamespaceAlreadyExistsException: [SCHEMA_ALREADY_EXISTS] Cannot create schema `RAW` because it already exists.\nChoose a different name, drop the existing schema, or add the IF NOT EXISTS clause to tolerate pre-existing schema.",
       "errorTraceType": "html",
       "metadata": {},
       "type": "ipynbError"
      }
     },
     "output_type": "display_data"
    }
   ],
   "source": [
    "%sql\n",
    "--CREATE DATABASE\n",
    "CREATE DATABASE RAW;\n",
    "CREATE DATABASE STAGING;\n",
    "CREATE DATABASE DWH;\n",
    "CREATE DATABASE REPORTING;"
   ]
  },
  {
   "cell_type": "markdown",
   "metadata": {
    "application/vnd.databricks.v1+cell": {
     "cellMetadata": {
      "byteLimit": 2048000,
      "rowLimit": 10000
     },
     "inputWidgets": {},
     "nuid": "77e0d31b-b63b-42d4-b69f-6f0fb2bc3b24",
     "showTitle": true,
     "title": ""
    }
   },
   "source": [
    "###RAW TABLES\n",
    "- RAW.reviews\n",
    "- RAW.listing\n",
    "- RAW.calenar\n",
    "\n",
    "Copies data from the '/FileStore/tables/raw/calendar/**' directory into table, using specified formatting options."
   ]
  },
  {
   "cell_type": "markdown",
   "metadata": {
    "application/vnd.databricks.v1+cell": {
     "cellMetadata": {
      "byteLimit": 2048000,
      "rowLimit": 10000
     },
     "inputWidgets": {},
     "nuid": "4361cf28-f1b8-431a-81b4-a968cdf45593",
     "showTitle": false,
     "title": ""
    }
   },
   "source": [
    "####RAW.calendar"
   ]
  },
  {
   "cell_type": "code",
   "execution_count": 0,
   "metadata": {
    "application/vnd.databricks.v1+cell": {
     "cellMetadata": {
      "byteLimit": 2048000,
      "implicitDf": true,
      "rowLimit": 10000
     },
     "inputWidgets": {},
     "nuid": "f36d185b-f137-43e4-a937-b6ddc7be7b04",
     "showTitle": false,
     "title": ""
    }
   },
   "outputs": [
    {
     "output_type": "display_data",
     "data": {
      "text/html": [
       "<style scoped>\n",
       "  .ansiout {\n",
       "    display: block;\n",
       "    unicode-bidi: embed;\n",
       "    white-space: pre-wrap;\n",
       "    word-wrap: break-word;\n",
       "    word-break: break-all;\n",
       "    font-family: \"Menlo\", \"Monaco\", \"Consolas\", \"Ubuntu Mono\", \"Source Code Pro\", monospace;\n",
       "    font-size: 13px;\n",
       "    color: #555;\n",
       "    margin-left: 4px;\n",
       "    line-height: 19px;\n",
       "  }\n",
       "</style>"
      ]
     },
     "metadata": {
      "application/vnd.databricks.v1+output": {
       "arguments": {},
       "data": "",
       "errorSummary": "Command skipped",
       "errorTraceType": "html",
       "metadata": {},
       "type": "ipynbError"
      }
     },
     "output_type": "display_data"
    }
   ],
   "source": [
    "%sql\n",
    "--in built won't copy duplicates, would only process newer files  \n",
    "CREATE TABLE IF NOT EXISTS raw.calendar;\n",
    " \n",
    "COPY INTO raw.calendar\n",
    "  FROM '/FileStore/tables/raw/calendar/**'\n",
    "  FILEFORMAT = CSV\n",
    "  FORMAT_OPTIONS ('inferSchema' = 'true',\n",
    "                  'mergeSchema' = 'true',\n",
    "                  'delimiter' = ',',\n",
    "                  'header' = 'true',\n",
    "                  'quote' ='\"')\n",
    "  COPY_OPTIONS ('mergeSchema' = 'true',\n",
    "                'ignoreCorruptFiles' = 'true');"
   ]
  },
  {
   "cell_type": "markdown",
   "metadata": {
    "application/vnd.databricks.v1+cell": {
     "cellMetadata": {
      "byteLimit": 2048000,
      "rowLimit": 10000
     },
     "inputWidgets": {},
     "nuid": "5075cce1-4105-460b-a3d6-126249e5c33b",
     "showTitle": false,
     "title": ""
    }
   },
   "source": [
    "####RAW.reviews"
   ]
  },
  {
   "cell_type": "markdown",
   "metadata": {
    "application/vnd.databricks.v1+cell": {
     "cellMetadata": {
      "byteLimit": 2048000,
      "rowLimit": 10000
     },
     "inputWidgets": {},
     "nuid": "6bdee648-3c47-4e15-a809-cd51162f5191",
     "showTitle": false,
     "title": ""
    }
   },
   "source": [
    "PySpark reads from the CSV file from /FileStore/tables/raw/reviews/** containing reviews into a DataFrame df.\n",
    "Applies a schema to the data.\n",
    "Adjusts whitespace from the columns and writes this DataFrame to the table RAW.reviews.\n",
    "processing with pyspark as the file contains some corrupted data"
   ]
  },
  {
   "cell_type": "code",
   "execution_count": 0,
   "metadata": {
    "application/vnd.databricks.v1+cell": {
     "cellMetadata": {
      "byteLimit": 2048000,
      "implicitDf": true,
      "rowLimit": 10000
     },
     "inputWidgets": {},
     "nuid": "22c18f9d-6a3e-4755-bd53-30b8d9a06788",
     "showTitle": false,
     "title": ""
    }
   },
   "outputs": [
    {
     "output_type": "display_data",
     "data": {
      "text/html": [
       "<style scoped>\n",
       "  .ansiout {\n",
       "    display: block;\n",
       "    unicode-bidi: embed;\n",
       "    white-space: pre-wrap;\n",
       "    word-wrap: break-word;\n",
       "    word-break: break-all;\n",
       "    font-family: \"Menlo\", \"Monaco\", \"Consolas\", \"Ubuntu Mono\", \"Source Code Pro\", monospace;\n",
       "    font-size: 13px;\n",
       "    color: #555;\n",
       "    margin-left: 4px;\n",
       "    line-height: 19px;\n",
       "  }\n",
       "</style>"
      ]
     },
     "metadata": {
      "application/vnd.databricks.v1+output": {
       "arguments": {},
       "data": "",
       "errorSummary": "Command skipped",
       "errorTraceType": "html",
       "metadata": {},
       "type": "ipynbError"
      }
     },
     "output_type": "display_data"
    }
   ],
   "source": [
    "from pyspark.sql.types import StructType, StructField, StringType\n",
    "from pyspark.sql import functions as F\n",
    "\n",
    "# Adjust the schema to match the new dataset\n",
    "schema = StructType([\n",
    "    StructField(\"listing_id\", StringType(), True),\n",
    "    StructField(\"review_id\", StringType(), True),\n",
    "    StructField(\"date\", StringType(), True),\n",
    "    StructField(\"reviewer_id\", StringType(), True),\n",
    "    StructField(\"reviewer_name\", StringType(), True),\n",
    "    StructField(\"comments\", StringType(), True)\n",
    "])\n",
    "\n",
    "# File location and type\n",
    "file_location = \"/FileStore/tables/raw/reviews/**\"  # Adjust the file path\n",
    "file_type = \"csv\"\n",
    "\n",
    "# CSV options\n",
    "infer_schema = \"true\"\n",
    "first_row_is_header = \"true\"\n",
    "delimiter = \",\"\n",
    "\n",
    "df = spark.read.format(file_type) \\\n",
    "  .schema(schema) \\\n",
    "  .option(\"header\", first_row_is_header) \\\n",
    "  .option(\"sep\", delimiter) \\\n",
    "  .option(\"multiline\", \"true\") \\\n",
    "  .option(\"quote\", \"\\\"\") \\\n",
    "  .option(\"escape\", \"\\\"\") \\\n",
    "  .load(file_location)\n",
    "\n",
    "def trim_whitespace(df):\n",
    "    for col in df.columns:\n",
    "        df = df.withColumn(col, F.trim(df[col]))\n",
    "    return df\n",
    "\n",
    "# Apply the function to DataFrame\n",
    "df = trim_whitespace(df)\n",
    "\n",
    "# Write dataframe to raw table\n",
    "df.write.mode(\"overwrite\").saveAsTable(\"RAW.reviews\")\n"
   ]
  },
  {
   "cell_type": "markdown",
   "metadata": {
    "application/vnd.databricks.v1+cell": {
     "cellMetadata": {
      "byteLimit": 2048000,
      "rowLimit": 10000
     },
     "inputWidgets": {},
     "nuid": "6413f844-e443-43af-9c78-3122adf4f269",
     "showTitle": false,
     "title": ""
    }
   },
   "source": [
    "#### RAW.LISTING"
   ]
  },
  {
   "cell_type": "markdown",
   "metadata": {
    "application/vnd.databricks.v1+cell": {
     "cellMetadata": {
      "byteLimit": 2048000,
      "rowLimit": 10000
     },
     "inputWidgets": {},
     "nuid": "c3524005-5b87-4001-a189-ceab22a06c0d",
     "showTitle": false,
     "title": ""
    }
   },
   "source": [
    "Similar to above immediate cleaning and ingestion help maintain a consistent pipeline. CSV file in \"/FileStore/tables/raw/listing/**\" is written to RAW.listing table "
   ]
  },
  {
   "cell_type": "code",
   "execution_count": 0,
   "metadata": {
    "application/vnd.databricks.v1+cell": {
     "cellMetadata": {
      "byteLimit": 2048000,
      "implicitDf": true,
      "rowLimit": 10000
     },
     "inputWidgets": {},
     "nuid": "dea3ac5d-8cf0-4b07-ac14-81d6d18de40a",
     "showTitle": false,
     "title": ""
    }
   },
   "outputs": [
    {
     "output_type": "display_data",
     "data": {
      "text/html": [
       "<style scoped>\n",
       "  .ansiout {\n",
       "    display: block;\n",
       "    unicode-bidi: embed;\n",
       "    white-space: pre-wrap;\n",
       "    word-wrap: break-word;\n",
       "    word-break: break-all;\n",
       "    font-family: \"Menlo\", \"Monaco\", \"Consolas\", \"Ubuntu Mono\", \"Source Code Pro\", monospace;\n",
       "    font-size: 13px;\n",
       "    color: #555;\n",
       "    margin-left: 4px;\n",
       "    line-height: 19px;\n",
       "  }\n",
       "</style>"
      ]
     },
     "metadata": {
      "application/vnd.databricks.v1+output": {
       "arguments": {},
       "data": "",
       "errorSummary": "Command skipped",
       "errorTraceType": "html",
       "metadata": {},
       "type": "ipynbError"
      }
     },
     "output_type": "display_data"
    }
   ],
   "source": [
    "from pyspark.sql import SparkSession\n",
    "from pyspark.sql import functions as F\n",
    "\n",
    "def trim_whitespace(df):\n",
    "    for col in df.columns:\n",
    "        df = df.withColumn(col, F.trim(df[col]))\n",
    "    return df\n",
    "\n",
    "# File attributes\n",
    "file_location = \"/FileStore/tables/raw/listing/**\"\n",
    "file_type = \"csv\"\n",
    "\n",
    "# CSV read options\n",
    "options = {\n",
    "    \"inferSchema\": \"true\",\n",
    "    \"header\": \"true\",\n",
    "    \"sep\": \",\",\n",
    "    \"multiline\": \"true\",\n",
    "    \"quote\": \"\\\"\",\n",
    "    \"escape\": \"\\\"\"\n",
    "}\n",
    "\n",
    "# Read the data\n",
    "df = spark.read.format(file_type).options(**options).load(file_location)\n",
    "\n",
    "# Trim whitespace from all columns\n",
    "df = trim_whitespace(df)\n",
    "\n",
    "# Write dataframe to raw table\n",
    "df.write.mode(\"overwrite\").saveAsTable(\"RAW.listing\")\n"
   ]
  },
  {
   "cell_type": "markdown",
   "metadata": {
    "application/vnd.databricks.v1+cell": {
     "cellMetadata": {
      "byteLimit": 2048000,
      "rowLimit": 10000
     },
     "inputWidgets": {},
     "nuid": "a39f6e9e-b037-4693-8bb7-1c9c3ceb3e42",
     "showTitle": false,
     "title": ""
    }
   },
   "source": [
    "###STAGING TABLES\n",
    "Sets up staging tables for calendar, reviews, and listing with various transformations.\n",
    "These staging tables represent a \"cleaned\" version of raw data. Transformations at this stage mean that downstream tasks (like analytics) won't need to deal with raw quirks or errors, optimizing the pipeline and reducing downstream work.\n",
    "- STAGING.CALENDAR\n",
    "- STAGING.REVIEWS\n",
    "- STAGING.LISTING\n",
    "- STAGING.HOST\n",
    "\n",
    "I went with the truncate and Insert Logic in Staging: Ensuring a fresh start for each data load, maintain data integrity, and provide a potential performance boost. \n",
    "\n",
    "###validation:\n",
    "Duplicate Checks: Ensuring data quality by frequently checking for duplicates. Duplicates can cause inflated metrics and misinterpretations in later analysis.\n"
   ]
  },
  {
   "cell_type": "markdown",
   "metadata": {
    "application/vnd.databricks.v1+cell": {
     "cellMetadata": {
      "byteLimit": 2048000,
      "rowLimit": 10000
     },
     "inputWidgets": {},
     "nuid": "0ec14d62-ba6e-4a5a-bfcc-4b4a3e4f6cf6",
     "showTitle": false,
     "title": ""
    }
   },
   "source": [
    "#### CALENDAR"
   ]
  },
  {
   "cell_type": "code",
   "execution_count": 0,
   "metadata": {
    "application/vnd.databricks.v1+cell": {
     "cellMetadata": {
      "byteLimit": 2048000,
      "implicitDf": true,
      "rowLimit": 10000
     },
     "inputWidgets": {},
     "nuid": "63ce7467-9e28-4753-9fe6-db6d023bbdda",
     "showTitle": false,
     "title": ""
    }
   },
   "outputs": [
    {
     "output_type": "display_data",
     "data": {
      "text/html": [
       "<style scoped>\n",
       "  .ansiout {\n",
       "    display: block;\n",
       "    unicode-bidi: embed;\n",
       "    white-space: pre-wrap;\n",
       "    word-wrap: break-word;\n",
       "    word-break: break-all;\n",
       "    font-family: \"Menlo\", \"Monaco\", \"Consolas\", \"Ubuntu Mono\", \"Source Code Pro\", monospace;\n",
       "    font-size: 13px;\n",
       "    color: #555;\n",
       "    margin-left: 4px;\n",
       "    line-height: 19px;\n",
       "  }\n",
       "</style>"
      ]
     },
     "metadata": {
      "application/vnd.databricks.v1+output": {
       "arguments": {},
       "data": "",
       "errorSummary": "Command skipped",
       "errorTraceType": "html",
       "metadata": {},
       "type": "ipynbError"
      }
     },
     "output_type": "display_data"
    }
   ],
   "source": [
    "%sql\n",
    "--create staging table\n",
    "CREATE OR REPLACE TABLE STAGING.CALENDAR (\n",
    "  LISTING_ID INTEGER,\n",
    "  DATE DATE,\n",
    "  AVAILABLE BOOLEAN,\n",
    "  PRICE FLOAT,\n",
    "  ADJUSTED_PRICE FLOAT,\n",
    "  MINIMUM_NIGHTS INTEGER,\n",
    "  MAXIMUM_NIGHTS INTEGER,\n",
    "  LOAD_ID STRING,\n",
    "  RECORD_HASH STRING\n",
    ")\n"
   ]
  },
  {
   "cell_type": "code",
   "execution_count": 0,
   "metadata": {
    "application/vnd.databricks.v1+cell": {
     "cellMetadata": {
      "byteLimit": 2048000,
      "implicitDf": true,
      "rowLimit": 10000
     },
     "inputWidgets": {},
     "nuid": "28fdbc30-0b17-42f5-b905-74397b8b9235",
     "showTitle": false,
     "title": ""
    }
   },
   "outputs": [
    {
     "output_type": "display_data",
     "data": {
      "text/html": [
       "<style scoped>\n",
       "  .ansiout {\n",
       "    display: block;\n",
       "    unicode-bidi: embed;\n",
       "    white-space: pre-wrap;\n",
       "    word-wrap: break-word;\n",
       "    word-break: break-all;\n",
       "    font-family: \"Menlo\", \"Monaco\", \"Consolas\", \"Ubuntu Mono\", \"Source Code Pro\", monospace;\n",
       "    font-size: 13px;\n",
       "    color: #555;\n",
       "    margin-left: 4px;\n",
       "    line-height: 19px;\n",
       "  }\n",
       "</style>"
      ]
     },
     "metadata": {
      "application/vnd.databricks.v1+output": {
       "arguments": {},
       "data": "",
       "errorSummary": "Command skipped",
       "errorTraceType": "html",
       "metadata": {},
       "type": "ipynbError"
      }
     },
     "output_type": "display_data"
    }
   ],
   "source": [
    "%sql\n",
    "--STAGING TABLE\n",
    "TRUNCATE TABLE Staging.calendar;\n",
    "\n",
    "INSERT INTO staging.calendar\n",
    "SELECT\n",
    " DISTINCT \n",
    "    listing_id,\n",
    "    CAST(date AS DATE) AS date,\n",
    "    CASE WHEN available = 't' THEN TRUE \n",
    "         WHEN available = 'f' THEN FALSE \n",
    "         ELSE NULL END AS available,\n",
    "    CAST(REPLACE(price, '$', '') AS DECIMAL(10, 2)) AS price,\n",
    "    CAST(REPLACE(adjusted_price, '$', '') AS DECIMAL(10, 2)) AS adjusted_price,\n",
    "    minimum_nights,\n",
    "    maximum_nights,\n",
    "    current_timestamp() AS LOAD_ID,\n",
    "    MD5(CONCAT(CAST(RAND() AS STRING), CAST(CURRENT_TIMESTAMP AS STRING))) AS record_hash\n",
    "FROM \n",
    "  raw.calendar;\n"
   ]
  },
  {
   "cell_type": "code",
   "execution_count": 0,
   "metadata": {
    "application/vnd.databricks.v1+cell": {
     "cellMetadata": {
      "byteLimit": 2048000,
      "implicitDf": true,
      "rowLimit": 10000
     },
     "inputWidgets": {},
     "nuid": "b8547ec6-be72-4c34-b3e8-a68c23cca06b",
     "showTitle": false,
     "title": ""
    }
   },
   "outputs": [
    {
     "output_type": "display_data",
     "data": {
      "text/html": [
       "<style scoped>\n",
       "  .ansiout {\n",
       "    display: block;\n",
       "    unicode-bidi: embed;\n",
       "    white-space: pre-wrap;\n",
       "    word-wrap: break-word;\n",
       "    word-break: break-all;\n",
       "    font-family: \"Menlo\", \"Monaco\", \"Consolas\", \"Ubuntu Mono\", \"Source Code Pro\", monospace;\n",
       "    font-size: 13px;\n",
       "    color: #555;\n",
       "    margin-left: 4px;\n",
       "    line-height: 19px;\n",
       "  }\n",
       "</style>"
      ]
     },
     "metadata": {
      "application/vnd.databricks.v1+output": {
       "arguments": {},
       "data": "",
       "errorSummary": "Command skipped",
       "errorTraceType": "html",
       "metadata": {},
       "type": "ipynbError"
      }
     },
     "output_type": "display_data"
    }
   ],
   "source": [
    "%sql\n",
    "--duplicates check\n",
    "select listing_id, date, count(*) \n",
    "from staging.calendar\n",
    "group by all\n",
    "having count(*) >1"
   ]
  },
  {
   "cell_type": "markdown",
   "metadata": {
    "application/vnd.databricks.v1+cell": {
     "cellMetadata": {
      "byteLimit": 2048000,
      "rowLimit": 10000
     },
     "inputWidgets": {},
     "nuid": "7f4df295-84cf-4c93-845b-dba528d81971",
     "showTitle": false,
     "title": ""
    }
   },
   "source": [
    "####Reviews"
   ]
  },
  {
   "cell_type": "code",
   "execution_count": 0,
   "metadata": {
    "application/vnd.databricks.v1+cell": {
     "cellMetadata": {
      "byteLimit": 2048000,
      "implicitDf": true,
      "rowLimit": 10000
     },
     "inputWidgets": {},
     "nuid": "ef3d80a4-bf1b-40df-b428-471b3c016305",
     "showTitle": false,
     "title": ""
    }
   },
   "outputs": [
    {
     "output_type": "display_data",
     "data": {
      "text/html": [
       "<style scoped>\n",
       "  .ansiout {\n",
       "    display: block;\n",
       "    unicode-bidi: embed;\n",
       "    white-space: pre-wrap;\n",
       "    word-wrap: break-word;\n",
       "    word-break: break-all;\n",
       "    font-family: \"Menlo\", \"Monaco\", \"Consolas\", \"Ubuntu Mono\", \"Source Code Pro\", monospace;\n",
       "    font-size: 13px;\n",
       "    color: #555;\n",
       "    margin-left: 4px;\n",
       "    line-height: 19px;\n",
       "  }\n",
       "</style>"
      ]
     },
     "metadata": {
      "application/vnd.databricks.v1+output": {
       "arguments": {},
       "data": "",
       "errorSummary": "Command skipped",
       "errorTraceType": "html",
       "metadata": {},
       "type": "ipynbError"
      }
     },
     "output_type": "display_data"
    }
   ],
   "source": [
    "%sql\n",
    "--create staging table\n",
    "CREATE OR REPLACE TABLE STAGING.REVIEWS (\n",
    "  LISTING_ID INTEGER,\n",
    "  REVIEW_ID INTEGER,\n",
    "  REVIEWER_ID INTEGER,\n",
    "  REVIEWER_NAME STRING,\n",
    "  REVIEW_DATE DATE,\n",
    "  COMMENTS STRING,\n",
    "  LOAD_ID STRING,\n",
    "  RECORD_HASH STRING\n",
    ");"
   ]
  },
  {
   "cell_type": "code",
   "execution_count": 0,
   "metadata": {
    "application/vnd.databricks.v1+cell": {
     "cellMetadata": {
      "byteLimit": 2048000,
      "implicitDf": true,
      "rowLimit": 10000
     },
     "inputWidgets": {},
     "nuid": "46ba0a9b-4c0e-4c24-a998-c3172c3afe65",
     "showTitle": false,
     "title": ""
    }
   },
   "outputs": [
    {
     "output_type": "display_data",
     "data": {
      "text/html": [
       "<style scoped>\n",
       "  .ansiout {\n",
       "    display: block;\n",
       "    unicode-bidi: embed;\n",
       "    white-space: pre-wrap;\n",
       "    word-wrap: break-word;\n",
       "    word-break: break-all;\n",
       "    font-family: \"Menlo\", \"Monaco\", \"Consolas\", \"Ubuntu Mono\", \"Source Code Pro\", monospace;\n",
       "    font-size: 13px;\n",
       "    color: #555;\n",
       "    margin-left: 4px;\n",
       "    line-height: 19px;\n",
       "  }\n",
       "</style>"
      ]
     },
     "metadata": {
      "application/vnd.databricks.v1+output": {
       "arguments": {},
       "data": "",
       "errorSummary": "Command skipped",
       "errorTraceType": "html",
       "metadata": {},
       "type": "ipynbError"
      }
     },
     "output_type": "display_data"
    }
   ],
   "source": [
    "%sql\n",
    "--STAGING TABLE\n",
    "TRUNCATE TABLE Staging.REVIEWS;\n",
    "\n",
    "INSERT INTO staging.REVIEWS\n",
    "SELECT\n",
    " DISTINCT\n",
    " CAST(LISTING_ID AS INTEGER) AS LISTING_ID,\n",
    " cast(review_id as INTEGER) AS REVIEW_ID,\n",
    " cast(REVIEWER_ID as INTEGER) AS REVIEWER_ID,\n",
    " REVIEWER_NAME STRING,\n",
    " CAST(date AS DATE) AS review_date,\n",
    " COMMENTS,\n",
    " REPLACE(CAST(current_timestamp() AS STRING), '-', '') AS LOAD_ID,\n",
    " MD5(CONCAT(CAST(RAND() AS STRING), CAST(CURRENT_TIMESTAMP AS STRING))) as record_hash\n",
    "FROM \n",
    "  raw.REVIEWS;\n"
   ]
  },
  {
   "cell_type": "code",
   "execution_count": 0,
   "metadata": {
    "application/vnd.databricks.v1+cell": {
     "cellMetadata": {
      "byteLimit": 2048000,
      "implicitDf": true,
      "rowLimit": 10000
     },
     "inputWidgets": {},
     "nuid": "d5ab17a0-c48f-40bd-8907-536f98c84682",
     "showTitle": false,
     "title": ""
    }
   },
   "outputs": [
    {
     "output_type": "display_data",
     "data": {
      "text/html": [
       "<style scoped>\n",
       "  .ansiout {\n",
       "    display: block;\n",
       "    unicode-bidi: embed;\n",
       "    white-space: pre-wrap;\n",
       "    word-wrap: break-word;\n",
       "    word-break: break-all;\n",
       "    font-family: \"Menlo\", \"Monaco\", \"Consolas\", \"Ubuntu Mono\", \"Source Code Pro\", monospace;\n",
       "    font-size: 13px;\n",
       "    color: #555;\n",
       "    margin-left: 4px;\n",
       "    line-height: 19px;\n",
       "  }\n",
       "</style>"
      ]
     },
     "metadata": {
      "application/vnd.databricks.v1+output": {
       "arguments": {},
       "data": "",
       "errorSummary": "Command skipped",
       "errorTraceType": "html",
       "metadata": {},
       "type": "ipynbError"
      }
     },
     "output_type": "display_data"
    }
   ],
   "source": [
    "%sql\n",
    "--duplicates check\n",
    "select review_id, listing_id, reviewer_id, count(*)\n",
    "from staging.review\n",
    "group by all\n",
    "having count(*) > 1"
   ]
  },
  {
   "cell_type": "markdown",
   "metadata": {
    "application/vnd.databricks.v1+cell": {
     "cellMetadata": {
      "byteLimit": 2048000,
      "rowLimit": 10000
     },
     "inputWidgets": {},
     "nuid": "32bd23b6-041a-4156-9784-20a57ee64860",
     "showTitle": false,
     "title": ""
    }
   },
   "source": [
    "#### LISTING"
   ]
  },
  {
   "cell_type": "code",
   "execution_count": 0,
   "metadata": {
    "application/vnd.databricks.v1+cell": {
     "cellMetadata": {
      "byteLimit": 2048000,
      "implicitDf": true,
      "rowLimit": 10000
     },
     "inputWidgets": {},
     "nuid": "cc162c45-a552-44b6-ae91-a9344223238f",
     "showTitle": false,
     "title": ""
    }
   },
   "outputs": [
    {
     "output_type": "display_data",
     "data": {
      "text/html": [
       "<style scoped>\n",
       "  .ansiout {\n",
       "    display: block;\n",
       "    unicode-bidi: embed;\n",
       "    white-space: pre-wrap;\n",
       "    word-wrap: break-word;\n",
       "    word-break: break-all;\n",
       "    font-family: \"Menlo\", \"Monaco\", \"Consolas\", \"Ubuntu Mono\", \"Source Code Pro\", monospace;\n",
       "    font-size: 13px;\n",
       "    color: #555;\n",
       "    margin-left: 4px;\n",
       "    line-height: 19px;\n",
       "  }\n",
       "</style>"
      ]
     },
     "metadata": {
      "application/vnd.databricks.v1+output": {
       "arguments": {},
       "data": "",
       "errorSummary": "Command skipped",
       "errorTraceType": "html",
       "metadata": {},
       "type": "ipynbError"
      }
     },
     "output_type": "display_data"
    }
   ],
   "source": [
    "%sql\n",
    "--create staging table\n",
    "CREATE TABLE Staging.LISTING (\n",
    "    listing_id INTEGER,\n",
    "    listing_url STRING,\n",
    "    name STRING,\n",
    "    description STRING,\n",
    "    neighborhood_overview STRING,\n",
    "    picture_url STRING,\n",
    "    host_id INTEGER,\n",
    "    host_url STRING,\n",
    "    host_name STRING,\n",
    "    host_since_date DATE,\n",
    "    host_location STRING,\n",
    "    host_about STRING,\n",
    "    host_response_time STRING,\n",
    "    host_response_rate_percent FLOAT,\n",
    "    host_acceptance_rate_percent FLOAT,\n",
    "    host_is_superhost BOOLEAN,\n",
    "    host_thumbnail_url STRING,\n",
    "    host_picture_url STRING,\n",
    "    host_neighbourhood STRING,\n",
    "    host_listings_count INTEGER,\n",
    "    host_total_listings_count INTEGER,\n",
    "    host_verifications STRING,\n",
    "    host_has_profile_pic BOOLEAN,\n",
    "    host_identity_verified BOOLEAN,\n",
    "    neighbourhood STRING,\n",
    "    neighbourhood_cleansed STRING,\n",
    "    latitude FLOAT,\n",
    "    longitude FLOAT,\n",
    "    property_type STRING,\n",
    "    room_type STRING,\n",
    "    accommodates INTEGER,\n",
    "    bathrooms_text STRING,\n",
    "    bedrooms INTEGER,\n",
    "    beds INTEGER,\n",
    "    amenities STRING,\n",
    "    price DECIMAL(10, 2),\n",
    "    minimum_nights INTEGER,\n",
    "    maximum_nights INTEGER,\n",
    "    minimum_minimum_nights INTEGER,\n",
    "    maximum_minimum_nights INTEGER,\n",
    "    minimum_maximum_nights INTEGER,\n",
    "    maximum_maximum_nights INTEGER,\n",
    "    minimum_nights_avg_ntm FLOAT,\n",
    "    maximum_nights_avg_ntm FLOAT,\n",
    "    has_availability BOOLEAN,\n",
    "    availability_30 INTEGER,\n",
    "    availability_60 INTEGER,\n",
    "    availability_90 INTEGER,\n",
    "    availability_365 INTEGER,\n",
    "    number_of_reviews INTEGER,\n",
    "    number_of_reviews_ltm INTEGER,\n",
    "    number_of_reviews_l30d INTEGER,\n",
    "    first_review_date DATE,\n",
    "    last_review_date DATE,\n",
    "    review_scores_rating FLOAT,\n",
    "    review_scores_accuracy FLOAT,\n",
    "    review_scores_cleanliness FLOAT,\n",
    "    review_scores_checkin FLOAT,\n",
    "    review_scores_communication FLOAT,\n",
    "    review_scores_location FLOAT,\n",
    "    review_scores_value FLOAT,\n",
    "    license STRING,\n",
    "    instant_bookable BOOLEAN,\n",
    "    calculated_host_listings_count INTEGER,\n",
    "    calculated_host_listings_count_entire_homes INTEGER,\n",
    "    calculated_host_listings_count_private_rooms INTEGER,\n",
    "    calculated_host_listings_count_shared_rooms INTEGER,\n",
    "    reviews_per_month FLOAT,\n",
    "    LOAD_ID STRING,\n",
    "    record_hash STRING\n",
    ");\n",
    "\n"
   ]
  },
  {
   "cell_type": "code",
   "execution_count": 0,
   "metadata": {
    "application/vnd.databricks.v1+cell": {
     "cellMetadata": {
      "byteLimit": 2048000,
      "implicitDf": true,
      "rowLimit": 10000
     },
     "inputWidgets": {},
     "nuid": "8553b431-aada-4f4b-923b-080ee7bdd182",
     "showTitle": false,
     "title": ""
    }
   },
   "outputs": [
    {
     "output_type": "display_data",
     "data": {
      "text/html": [
       "<style scoped>\n",
       "  .ansiout {\n",
       "    display: block;\n",
       "    unicode-bidi: embed;\n",
       "    white-space: pre-wrap;\n",
       "    word-wrap: break-word;\n",
       "    word-break: break-all;\n",
       "    font-family: \"Menlo\", \"Monaco\", \"Consolas\", \"Ubuntu Mono\", \"Source Code Pro\", monospace;\n",
       "    font-size: 13px;\n",
       "    color: #555;\n",
       "    margin-left: 4px;\n",
       "    line-height: 19px;\n",
       "  }\n",
       "</style>"
      ]
     },
     "metadata": {
      "application/vnd.databricks.v1+output": {
       "arguments": {},
       "data": "",
       "errorSummary": "Command skipped",
       "errorTraceType": "html",
       "metadata": {},
       "type": "ipynbError"
      }
     },
     "output_type": "display_data"
    }
   ],
   "source": [
    "%sql\n",
    "--STAGING TABLE\n",
    "TRUNCATE TABLE Staging.LISTING;\n",
    "\n",
    "INSERT INTO staging.listing\n",
    "SELECT\n",
    "    cast(id as INTEGER) as listing_id,\n",
    "    listing_url,\n",
    "    name,\n",
    "    description,\n",
    "    neighborhood_overview,\n",
    "    picture_url,\n",
    "    cast(host_id as INTEGER) as host_id,\n",
    "    host_url,\n",
    "    host_name,\n",
    "    CAST(host_since AS DATE) AS host_since_date,\n",
    "    host_location,\n",
    "    host_about,\n",
    "    host_response_time,\n",
    "    CASE WHEN host_response_rate LIKE '%%%' THEN CAST(REPLACE(host_response_rate, '%', '') AS FLOAT) / 100 ELSE NULL END AS host_response_rate_percent,\n",
    "    CASE WHEN host_acceptance_rate LIKE '%%%' THEN CAST(REPLACE(host_acceptance_rate, '%', '') AS FLOAT) / 100 ELSE NULL END AS host_acceptance_rate_percent,\n",
    "    CASE WHEN host_is_superhost = 't' THEN TRUE \n",
    "         WHEN host_is_superhost = 'f' THEN FALSE \n",
    "         ELSE NULL END AS host_is_superhost,\n",
    "    host_thumbnail_url,\n",
    "    host_picture_url,\n",
    "    host_neighbourhood,\n",
    "    CAST(host_listings_count AS INT) AS host_listings_count,\n",
    "    CAST(host_total_listings_count AS INT) AS host_total_listings_count,\n",
    "    host_verifications,\n",
    "    CASE WHEN host_has_profile_pic = 't' THEN TRUE \n",
    "         WHEN host_has_profile_pic = 'f' THEN FALSE\n",
    "         ELSE NULL END AS host_has_profile_pic,\n",
    "    CASE WHEN host_identity_verified = 't' THEN TRUE \n",
    "         WHEN host_identity_verified = 'f' THEN FALSE \n",
    "         ELSE NULL END AS host_identity_verified,\n",
    "    neighbourhood,\n",
    "    neighbourhood_cleansed,\n",
    "    CAST(latitude AS FLOAT) AS latitude,\n",
    "    CAST(longitude AS FLOAT) AS longitude,\n",
    "    property_type,\n",
    "    room_type,\n",
    "    CAST(accommodates AS INT) AS accommodates,\n",
    "    bathrooms_text,\n",
    "    CAST(bedrooms AS INT) AS bedrooms,\n",
    "    CAST(beds AS INT) AS beds,\n",
    "    amenities,\n",
    "    CAST(REPLACE(price, '$', '') AS DECIMAL(10, 2)) AS price,\n",
    "    CAST(minimum_nights AS INT) AS minimum_nights,\n",
    "    CAST(maximum_nights AS INT) AS maximum_nights,\n",
    "    CAST(minimum_minimum_nights AS INT) AS minimum_minimum_nights,\n",
    "    CAST(maximum_minimum_nights AS INT) AS maximum_minimum_nights,\n",
    "    CAST(minimum_maximum_nights AS INT) AS minimum_maximum_nights,\n",
    "    CAST(maximum_maximum_nights AS INT) AS maximum_maximum_nights,\n",
    "    CAST(minimum_nights_avg_ntm AS FLOAT) AS minimum_nights_avg_ntm,\n",
    "    CAST(maximum_nights_avg_ntm AS FLOAT) AS maximum_nights_avg_ntm,\n",
    "    CASE WHEN has_availability = 't' THEN TRUE\n",
    "         WHEN has_availability = 'f' THEN FALSE \n",
    "         ELSE NULL END AS has_availability,\n",
    "    CAST(availability_30 AS INT) AS availability_30,\n",
    "    CAST(availability_60 AS INT) AS availability_60,\n",
    "    CAST(availability_90 AS INT) AS availability_90,\n",
    "    CAST(availability_365 AS INT) AS availability_365,\n",
    "    CAST(number_of_reviews AS INT) AS number_of_reviews,\n",
    "    CAST(number_of_reviews_ltm AS INT) AS number_of_reviews_ltm,\n",
    "    CAST(number_of_reviews_l30d AS INT) AS number_of_reviews_l30d,\n",
    "    CAST(first_review AS DATE) AS first_review_date,\n",
    "    CAST(last_review AS DATE) AS last_review_date,\n",
    "    CAST(review_scores_rating AS FLOAT) AS review_scores_rating,\n",
    "    CAST(review_scores_accuracy AS FLOAT) AS review_scores_accuracy,\n",
    "    CAST(review_scores_cleanliness AS FLOAT) AS review_scores_cleanliness,\n",
    "    CAST(review_scores_checkin AS FLOAT) AS review_scores_checkin,\n",
    "    CAST(review_scores_communication AS FLOAT) AS review_scores_communication,\n",
    "    CAST(review_scores_location AS FLOAT) AS review_scores_location,\n",
    "    CAST(review_scores_value AS FLOAT) AS review_scores_value,\n",
    "    license,\n",
    "    CASE WHEN instant_bookable = 't' THEN TRUE \n",
    "         WHEN instant_bookable = 'f' THEN FALSE\n",
    "         ELSE NULL END AS instant_bookable,\n",
    "    CAST(calculated_host_listings_count AS INT) AS calculated_host_listings_count,\n",
    "    CAST(calculated_host_listings_count_entire_homes AS INT) AS calculated_host_listings_count_entire_homes,\n",
    "    CAST(calculated_host_listings_count_private_rooms AS INT) AS calculated_host_listings_count_private_rooms,\n",
    "    CAST(calculated_host_listings_count_shared_rooms AS INT) AS calculated_host_listings_count_shared_rooms,\n",
    "    CAST(reviews_per_month AS FLOAT) AS reviews_per_month,\n",
    "    REPLACE(CAST(current_timestamp() AS STRING), '-', '') AS LOAD_ID,\n",
    "    MD5(CONCAT(CAST(RAND() AS STRING), CAST(CURRENT_TIMESTAMP AS STRING))) as record_hash\n",
    "FROM \n",
    "    raw.listing;\n"
   ]
  },
  {
   "cell_type": "code",
   "execution_count": 0,
   "metadata": {
    "application/vnd.databricks.v1+cell": {
     "cellMetadata": {
      "byteLimit": 2048000,
      "implicitDf": true,
      "rowLimit": 10000
     },
     "inputWidgets": {},
     "nuid": "426365d3-8200-4b84-afa0-84839e3dc975",
     "showTitle": false,
     "title": ""
    }
   },
   "outputs": [
    {
     "output_type": "display_data",
     "data": {
      "text/html": [
       "<style scoped>\n",
       "  .ansiout {\n",
       "    display: block;\n",
       "    unicode-bidi: embed;\n",
       "    white-space: pre-wrap;\n",
       "    word-wrap: break-word;\n",
       "    word-break: break-all;\n",
       "    font-family: \"Menlo\", \"Monaco\", \"Consolas\", \"Ubuntu Mono\", \"Source Code Pro\", monospace;\n",
       "    font-size: 13px;\n",
       "    color: #555;\n",
       "    margin-left: 4px;\n",
       "    line-height: 19px;\n",
       "  }\n",
       "</style>"
      ]
     },
     "metadata": {
      "application/vnd.databricks.v1+output": {
       "arguments": {},
       "data": "",
       "errorSummary": "Command skipped",
       "errorTraceType": "html",
       "metadata": {},
       "type": "ipynbError"
      }
     },
     "output_type": "display_data"
    }
   ],
   "source": [
    "%sql\n",
    "--check for duplicate records\n",
    "select listing_id,count(*) \n",
    "from staging.listing\n",
    "group by all\n",
    "having count(*) > 1;"
   ]
  },
  {
   "cell_type": "markdown",
   "metadata": {
    "application/vnd.databricks.v1+cell": {
     "cellMetadata": {
      "byteLimit": 2048000,
      "implicitDf": true,
      "rowLimit": 10000
     },
     "inputWidgets": {},
     "nuid": "ede2a103-a93d-42b4-929d-b0872a6ed1ea",
     "showTitle": false,
     "title": ""
    }
   },
   "source": [
    "####HOST"
   ]
  },
  {
   "cell_type": "code",
   "execution_count": 0,
   "metadata": {
    "application/vnd.databricks.v1+cell": {
     "cellMetadata": {
      "byteLimit": 2048000,
      "implicitDf": true,
      "rowLimit": 10000
     },
     "inputWidgets": {},
     "nuid": "b3580901-1e1c-47e1-b7db-41c4d066639b",
     "showTitle": false,
     "title": ""
    }
   },
   "outputs": [
    {
     "output_type": "display_data",
     "data": {
      "text/html": [
       "<style scoped>\n",
       "  .ansiout {\n",
       "    display: block;\n",
       "    unicode-bidi: embed;\n",
       "    white-space: pre-wrap;\n",
       "    word-wrap: break-word;\n",
       "    word-break: break-all;\n",
       "    font-family: \"Menlo\", \"Monaco\", \"Consolas\", \"Ubuntu Mono\", \"Source Code Pro\", monospace;\n",
       "    font-size: 13px;\n",
       "    color: #555;\n",
       "    margin-left: 4px;\n",
       "    line-height: 19px;\n",
       "  }\n",
       "</style>"
      ]
     },
     "metadata": {
      "application/vnd.databricks.v1+output": {
       "arguments": {},
       "data": "",
       "errorSummary": "Command skipped",
       "errorTraceType": "html",
       "metadata": {},
       "type": "ipynbError"
      }
     },
     "output_type": "display_data"
    }
   ],
   "source": [
    "%sql\n",
    "--create staging table\n",
    "CREATE OR REPLACE TABLE staging.host(\n",
    "    host_id INT,\n",
    "    host_name STRING,\n",
    "    host_since_date DATE,\n",
    "    host_location STRING,\n",
    "    host_about STRING,\n",
    "    host_response_time STRING,\n",
    "    host_response_rate_percent DOUBLE,\n",
    "    host_acceptance_rate_percent DOUBLE,\n",
    "    host_is_superhost BOOLEAN,\n",
    "    host_thumbnail_url STRING,\n",
    "    host_picture_url STRING,\n",
    "    host_neighbourhood STRING,\n",
    "    host_verifications STRING,\n",
    "    host_has_profile_pic BOOLEAN,\n",
    "    host_identity_verified BOOLEAN,\n",
    "    LOAD_ID STRING,\n",
    "    record_hash STRING\n",
    ");\n"
   ]
  },
  {
   "cell_type": "markdown",
   "metadata": {
    "application/vnd.databricks.v1+cell": {
     "cellMetadata": {
      "byteLimit": 2048000,
      "rowLimit": 10000
     },
     "inputWidgets": {},
     "nuid": "49f6c367-c5c6-462c-86e7-3df37a5c799a",
     "showTitle": false,
     "title": ""
    }
   },
   "source": [
    " Inserts unique host data from staging.listing into staging.host.\n",
    "\n",
    "utilizing window functions and ranking, to ensure only the most recent and unique data about hosts is ingested. "
   ]
  },
  {
   "cell_type": "code",
   "execution_count": 0,
   "metadata": {
    "application/vnd.databricks.v1+cell": {
     "cellMetadata": {
      "byteLimit": 2048000,
      "implicitDf": true,
      "rowLimit": 10000
     },
     "inputWidgets": {},
     "nuid": "e77fee6f-4626-4c5e-ba97-361d288bd8b6",
     "showTitle": false,
     "title": ""
    }
   },
   "outputs": [
    {
     "output_type": "display_data",
     "data": {
      "text/html": [
       "<style scoped>\n",
       "  .ansiout {\n",
       "    display: block;\n",
       "    unicode-bidi: embed;\n",
       "    white-space: pre-wrap;\n",
       "    word-wrap: break-word;\n",
       "    word-break: break-all;\n",
       "    font-family: \"Menlo\", \"Monaco\", \"Consolas\", \"Ubuntu Mono\", \"Source Code Pro\", monospace;\n",
       "    font-size: 13px;\n",
       "    color: #555;\n",
       "    margin-left: 4px;\n",
       "    line-height: 19px;\n",
       "  }\n",
       "</style>"
      ]
     },
     "metadata": {
      "application/vnd.databricks.v1+output": {
       "arguments": {},
       "data": "",
       "errorSummary": "Command skipped",
       "errorTraceType": "html",
       "metadata": {},
       "type": "ipynbError"
      }
     },
     "output_type": "display_data"
    }
   ],
   "source": [
    "%sql\n",
    "TRUNCATE TABLE staging.host;\n",
    "\n",
    "-- Insert data into staging.host from staging.listing\n",
    "INSERT INTO staging.host\n",
    "WITH RankedData AS (\n",
    "  SELECT \n",
    "    host_id,\n",
    "    host_name,\n",
    "    host_since_date,\n",
    "    host_location,\n",
    "    host_about,\n",
    "    host_response_time,\n",
    "    host_response_rate_percent,\n",
    "    host_acceptance_rate_percent,\n",
    "    host_is_superhost,\n",
    "    host_thumbnail_url,\n",
    "    host_picture_url,\n",
    "    host_neighbourhood,\n",
    "    host_verifications,\n",
    "    host_has_profile_pic,\n",
    "    host_identity_verified,\n",
    "    CAST(current_timestamp() AS STRING) AS LOAD_ID,\n",
    "    MD5(CONCAT(CAST(RAND() AS STRING), CAST(CURRENT_TIMESTAMP AS STRING))) as record_hash,\n",
    "    ROW_NUMBER() OVER(PARTITION BY host_id ORDER BY LOAD_ID DESC) as rn\n",
    "  FROM staging.listing\n",
    "  WHERE host_id IS NOT NULL\n",
    ")\n",
    "SELECT \n",
    "    host_id,\n",
    "    host_name,\n",
    "    host_since_date,\n",
    "    host_location,\n",
    "    host_about,\n",
    "    host_response_time,\n",
    "    ifnull(host_response_rate_percent,0 ),\n",
    "    ifnull(host_acceptance_rate_percent, 0),\n",
    "    host_is_superhost,\n",
    "    host_thumbnail_url,\n",
    "    host_picture_url,\n",
    "    host_neighbourhood,\n",
    "    host_verifications,\n",
    "    host_has_profile_pic,\n",
    "    host_identity_verified,\n",
    "    LOAD_ID,\n",
    "    record_hash\n",
    "FROM RankedData\n",
    "WHERE rn = 1;\n"
   ]
  },
  {
   "cell_type": "code",
   "execution_count": 0,
   "metadata": {
    "application/vnd.databricks.v1+cell": {
     "cellMetadata": {
      "byteLimit": 2048000,
      "implicitDf": true,
      "rowLimit": 10000
     },
     "inputWidgets": {},
     "nuid": "844fc5dc-31e4-4e8c-8f6f-888557883f04",
     "showTitle": false,
     "title": ""
    }
   },
   "outputs": [
    {
     "output_type": "display_data",
     "data": {
      "text/html": [
       "<style scoped>\n",
       "  .ansiout {\n",
       "    display: block;\n",
       "    unicode-bidi: embed;\n",
       "    white-space: pre-wrap;\n",
       "    word-wrap: break-word;\n",
       "    word-break: break-all;\n",
       "    font-family: \"Menlo\", \"Monaco\", \"Consolas\", \"Ubuntu Mono\", \"Source Code Pro\", monospace;\n",
       "    font-size: 13px;\n",
       "    color: #555;\n",
       "    margin-left: 4px;\n",
       "    line-height: 19px;\n",
       "  }\n",
       "</style>"
      ]
     },
     "metadata": {
      "application/vnd.databricks.v1+output": {
       "arguments": {},
       "data": "",
       "errorSummary": "Command skipped",
       "errorTraceType": "html",
       "metadata": {},
       "type": "ipynbError"
      }
     },
     "output_type": "display_data"
    }
   ],
   "source": [
    "%sql\n",
    "--check for duplicate records\n",
    "select host_id,count(*) \n",
    "from staging.host\n",
    "group by all\n",
    "having count(*) > 1;\n"
   ]
  },
  {
   "cell_type": "markdown",
   "metadata": {
    "application/vnd.databricks.v1+cell": {
     "cellMetadata": {
      "byteLimit": 2048000,
      "rowLimit": 10000
     },
     "inputWidgets": {},
     "nuid": "6fa4feb6-ae7d-4e53-bcd5-ccf03a1714f1",
     "showTitle": false,
     "title": ""
    }
   },
   "source": [
    "###DIMENSION AND FACT TABLE (DWH)\n",
    "The DWH layer uses the MERGE INTO statement in conjunction with EDW_PUBLCN_ID to ensure idempotency during data ingestion and updates. EDW_PUBLCN_ID, typically a timestamp or unique identifier for each batch of data processed, ensures that each batch can be re-ingested or re-run without introducing unwanted duplicates. If the same data point is re-introduced, the MERGE INTO statement checks against unique identifiers (like listing_id) and uses the EDW_PUBLCN_ID to determine whether to update or retain the existing data. This approach ensures that the DWH remains consistent and accurate, even in the face of repeated data processing or potential reprocessing scenarios.\n",
    "tables in this db includes:\n",
    "- dim_date\n",
    "- dim_listing\n",
    "- dim_host\n",
    "- dim_listing_calendar\n",
    "- dim_neighbourhood\n",
    "- fct_ratings_review\n",
    "- fct_reviews"
   ]
  },
  {
   "cell_type": "markdown",
   "metadata": {
    "application/vnd.databricks.v1+cell": {
     "cellMetadata": {
      "byteLimit": 2048000,
      "rowLimit": 10000
     },
     "inputWidgets": {},
     "nuid": "c047dc2f-72a1-4717-b416-d216adfcf56a",
     "showTitle": false,
     "title": ""
    }
   },
   "source": [
    "####Creation of Dim_Date\n",
    "which holds various date-related attributes for our data warehouse. This table is important for time-based analyses.\n",
    "Attributes:\n",
    "- date_id: Unique identifier for each date.\n",
    "- date: Actual date value.\n",
    "- year: Year extracted from the date.\n",
    "- quarter: Quarterly segmentation of the year.\n",
    "- month: Numeric month value.\n",
    "- month_name: Name of the month.\n",
    "- day: Day of the month.\n",
    "- weekday: Day of the week."
   ]
  },
  {
   "cell_type": "code",
   "execution_count": 0,
   "metadata": {
    "application/vnd.databricks.v1+cell": {
     "cellMetadata": {
      "byteLimit": 2048000,
      "implicitDf": true,
      "rowLimit": 10000
     },
     "inputWidgets": {},
     "nuid": "eb54c3bc-688f-4f23-97d5-030867f0ba1a",
     "showTitle": false,
     "title": ""
    }
   },
   "outputs": [
    {
     "output_type": "display_data",
     "data": {
      "text/html": [
       "<style scoped>\n",
       "  .ansiout {\n",
       "    display: block;\n",
       "    unicode-bidi: embed;\n",
       "    white-space: pre-wrap;\n",
       "    word-wrap: break-word;\n",
       "    word-break: break-all;\n",
       "    font-family: \"Menlo\", \"Monaco\", \"Consolas\", \"Ubuntu Mono\", \"Source Code Pro\", monospace;\n",
       "    font-size: 13px;\n",
       "    color: #555;\n",
       "    margin-left: 4px;\n",
       "    line-height: 19px;\n",
       "  }\n",
       "</style>"
      ]
     },
     "metadata": {
      "application/vnd.databricks.v1+output": {
       "arguments": {},
       "data": "",
       "errorSummary": "Command skipped",
       "errorTraceType": "html",
       "metadata": {},
       "type": "ipynbError"
      }
     },
     "output_type": "display_data"
    }
   ],
   "source": [
    "%sql\n",
    "-- Create the Dim_Date table\n",
    "CREATE OR REPLACE TABLE dwh.Dim_Date (\n",
    "    date_id INT NOT NULL, -- PRIMARY KEY, Table constraints are only supported in Unity Catalog.\n",
    "    date DATE,\n",
    "    year INT,\n",
    "    quarter INT,\n",
    "    month INT,\n",
    "    month_name STRING,\n",
    "    day INT,\n",
    "    weekday STRING\n",
    ");"
   ]
  },
  {
   "cell_type": "markdown",
   "metadata": {
    "application/vnd.databricks.v1+cell": {
     "cellMetadata": {
      "byteLimit": 2048000,
      "rowLimit": 10000
     },
     "inputWidgets": {},
     "nuid": "e56789b6-cfb6-40c9-8925-8cb044cb400d",
     "showTitle": false,
     "title": ""
    }
   },
   "source": [
    "Dim_Date is populated using a CTE that extracts unique dates from the`staging.calendar` table. "
   ]
  },
  {
   "cell_type": "code",
   "execution_count": 0,
   "metadata": {
    "application/vnd.databricks.v1+cell": {
     "cellMetadata": {
      "byteLimit": 2048000,
      "implicitDf": true,
      "rowLimit": 10000
     },
     "inputWidgets": {},
     "nuid": "1f792ddd-d039-49e3-9d61-efe0b3cf63d9",
     "showTitle": false,
     "title": ""
    }
   },
   "outputs": [
    {
     "output_type": "display_data",
     "data": {
      "text/html": [
       "<style scoped>\n",
       "  .ansiout {\n",
       "    display: block;\n",
       "    unicode-bidi: embed;\n",
       "    white-space: pre-wrap;\n",
       "    word-wrap: break-word;\n",
       "    word-break: break-all;\n",
       "    font-family: \"Menlo\", \"Monaco\", \"Consolas\", \"Ubuntu Mono\", \"Source Code Pro\", monospace;\n",
       "    font-size: 13px;\n",
       "    color: #555;\n",
       "    margin-left: 4px;\n",
       "    line-height: 19px;\n",
       "  }\n",
       "</style>"
      ]
     },
     "metadata": {
      "application/vnd.databricks.v1+output": {
       "arguments": {},
       "data": "",
       "errorSummary": "Command skipped",
       "errorTraceType": "html",
       "metadata": {},
       "type": "ipynbError"
      }
     },
     "output_type": "display_data"
    }
   ],
   "source": [
    "%sql\n",
    "---- Updating Dim_Date\n",
    "WITH Date_CTE AS (\n",
    "    SELECT DISTINCT date\n",
    "    FROM staging.calendar\n",
    ")\n",
    "\n",
    "INSERT INTO dwh.Dim_Date\n",
    "SELECT \n",
    "  ROW_NUMBER() OVER (ORDER BY date) as date_id,\n",
    "  date,\n",
    "  EXTRACT(YEAR FROM date) as year,\n",
    "  CAST(EXTRACT(MONTH FROM date) / 4 + 1 AS INT) as quarter, \n",
    "  EXTRACT(MONTH FROM date) as month,\n",
    "  DATE_FORMAT(date, 'MMMM') as month_name,\n",
    "  EXTRACT(DAY FROM date) as day,\n",
    "  DATE_FORMAT(date, 'EEEE') as weekday\n",
    "FROM \n",
    "  Date_CTE;\n"
   ]
  },
  {
   "cell_type": "markdown",
   "metadata": {
    "application/vnd.databricks.v1+cell": {
     "cellMetadata": {
      "byteLimit": 2048000,
      "rowLimit": 10000
     },
     "inputWidgets": {},
     "nuid": "650e7905-4f7d-4b89-aef7-a1c004cfdccb",
     "showTitle": false,
     "title": ""
    }
   },
   "source": [
    "#### DIM_HOST\n",
    "the attributes (columns) of the `Dim_Host` table are as follows:\n",
    "\n",
    "- `host_id` - INT: Identifier for the host.\n",
    "- `host_name` - STRING: Name of the host.\n",
    "- `host_since_date` - DATE: The date when the host joined.\n",
    "- `host_location` - STRING: Location of the host.\n",
    "- `host_about` - STRING: Description or information about the host.\n",
    "- `host_response_time` - STRING: Estimated response time of the host to queries or bookings.\n",
    "- `host_response_rate_percent` - DOUBLE: Percentage rate at which the host responds to queries or bookings.\n",
    "- `host_acceptance_rate_percent` - DOUBLE: Percentage rate at which the host accepts booking requests.\n",
    "- `host_is_superhost` - BOOLEAN: Flag to indicate if the host is a superhost.\n",
    "- `host_thumbnail_url` - STRING: URL for the host's thumbnail picture.\n",
    "- `host_picture_url` - STRING: URL for the host's main picture.\n",
    "- `host_neighbourhood` - STRING: The neighborhood where the host's properties are located, or where the host resides.\n",
    "-. `host_verifications` - STRING: Methods the host has used to verify their identity.\n",
    "- `host_has_profile_pic` - BOOLEAN: Flag to indicate if the host has a profile picture.\n",
    "- `host_identity_verified` - BOOLEAN: Flag to indicate if the host's identity has been verified.\n",
    "- `EDW_PUBLCN_ID` - TIMESTAMP: Timestamp indicating when the record was published or last updated in the Enterprise Data Warehouse (EDW).\n",
    "\n",
    "The table is partitioned by the `host_location` attribute."
   ]
  },
  {
   "cell_type": "code",
   "execution_count": 0,
   "metadata": {
    "application/vnd.databricks.v1+cell": {
     "cellMetadata": {
      "byteLimit": 2048000,
      "implicitDf": true,
      "rowLimit": 10000
     },
     "inputWidgets": {},
     "nuid": "ad1eda7c-ada7-467b-82c1-2bd4b4386852",
     "showTitle": false,
     "title": ""
    }
   },
   "outputs": [
    {
     "output_type": "display_data",
     "data": {
      "text/html": [
       "<style scoped>\n",
       "  .ansiout {\n",
       "    display: block;\n",
       "    unicode-bidi: embed;\n",
       "    white-space: pre-wrap;\n",
       "    word-wrap: break-word;\n",
       "    word-break: break-all;\n",
       "    font-family: \"Menlo\", \"Monaco\", \"Consolas\", \"Ubuntu Mono\", \"Source Code Pro\", monospace;\n",
       "    font-size: 13px;\n",
       "    color: #555;\n",
       "    margin-left: 4px;\n",
       "    line-height: 19px;\n",
       "  }\n",
       "</style>"
      ]
     },
     "metadata": {
      "application/vnd.databricks.v1+output": {
       "arguments": {},
       "data": "",
       "errorSummary": "Command skipped",
       "errorTraceType": "html",
       "metadata": {},
       "type": "ipynbError"
      }
     },
     "output_type": "display_data"
    }
   ],
   "source": [
    "%sql\n",
    "--create the dwh.host table\n",
    "CREATE OR REPLACE TABLE dwh.dim_host(\n",
    "    host_id INT NOT NULL,\n",
    "    host_name STRING,\n",
    "    host_since_date DATE,\n",
    "    host_location STRING,\n",
    "    host_about STRING,\n",
    "    host_response_time STRING,\n",
    "    host_response_rate_percent DOUBLE,\n",
    "    host_acceptance_rate_percent DOUBLE,\n",
    "    host_is_superhost BOOLEAN,\n",
    "    host_thumbnail_url STRING,\n",
    "    host_picture_url STRING,\n",
    "    host_neighbourhood STRING,\n",
    "    host_verifications STRING,\n",
    "    host_has_profile_pic BOOLEAN,\n",
    "    host_identity_verified BOOLEAN,\n",
    "    EDW_PUBLCN_ID TIMESTAMP\n",
    ")\n",
    "USING DELTA\n",
    "PARTITIONED BY (host_location);\n"
   ]
  },
  {
   "cell_type": "markdown",
   "metadata": {
    "application/vnd.databricks.v1+cell": {
     "cellMetadata": {
      "byteLimit": 2048000,
      "rowLimit": 10000
     },
     "inputWidgets": {},
     "nuid": "8307eef4-ddda-4c9e-b963-e78b553e7ffa",
     "showTitle": false,
     "title": ""
    }
   },
   "source": [
    "Updating Dim_Host\n",
    "we're merging data from the staging.host table into our dwh.dim_host table. The goal is to keep the dimension table up-to-date"
   ]
  },
  {
   "cell_type": "code",
   "execution_count": 0,
   "metadata": {
    "application/vnd.databricks.v1+cell": {
     "cellMetadata": {
      "byteLimit": 2048000,
      "implicitDf": true,
      "rowLimit": 10000
     },
     "inputWidgets": {},
     "nuid": "c3a03dc6-6a8f-49ca-b340-895118cd08fc",
     "showTitle": false,
     "title": ""
    }
   },
   "outputs": [
    {
     "output_type": "display_data",
     "data": {
      "text/html": [
       "<style scoped>\n",
       "  .ansiout {\n",
       "    display: block;\n",
       "    unicode-bidi: embed;\n",
       "    white-space: pre-wrap;\n",
       "    word-wrap: break-word;\n",
       "    word-break: break-all;\n",
       "    font-family: \"Menlo\", \"Monaco\", \"Consolas\", \"Ubuntu Mono\", \"Source Code Pro\", monospace;\n",
       "    font-size: 13px;\n",
       "    color: #555;\n",
       "    margin-left: 4px;\n",
       "    line-height: 19px;\n",
       "  }\n",
       "</style>"
      ]
     },
     "metadata": {
      "application/vnd.databricks.v1+output": {
       "arguments": {},
       "data": "",
       "errorSummary": "Command skipped",
       "errorTraceType": "html",
       "metadata": {},
       "type": "ipynbError"
      }
     },
     "output_type": "display_data"
    }
   ],
   "source": [
    "%sql\n",
    "--DIM_HOST\n",
    "MERGE INTO dwh.dim_host AS target\n",
    "USING staging.host AS source\n",
    "ON target.host_id = source.host_id\n",
    "WHEN MATCHED THEN\n",
    "   UPDATE SET \n",
    "       target.host_name = source.host_name,\n",
    "       target.host_location = source.host_location,\n",
    "       target.host_since_date = source.host_since_date,\n",
    "       target.host_about = source.host_about,\n",
    "       target.host_response_time = source.host_response_time,\n",
    "       target.host_response_rate_percent = source.host_response_rate_percent,\n",
    "       target.host_acceptance_rate_percent = source.host_acceptance_rate_percent,\n",
    "       target.host_is_superhost = source.host_is_superhost,\n",
    "       target.host_thumbnail_url = source.host_thumbnail_url,\n",
    "       target.host_picture_url = source.host_picture_url,\n",
    "       target.host_neighbourhood = source.host_neighbourhood,\n",
    "       target.host_verifications = source.host_verifications,\n",
    "       target.host_has_profile_pic = source.host_has_profile_pic,\n",
    "       target.host_identity_verified = source.host_identity_verified,\n",
    "       target.EDW_PUBLCN_ID = current_timestamp()\n",
    "WHEN NOT MATCHED THEN\n",
    "   INSERT (\n",
    "       host_id, \n",
    "       host_name, \n",
    "       host_location, \n",
    "       host_since_date, \n",
    "       host_about,\n",
    "       host_response_time,\n",
    "       host_response_rate_percent,\n",
    "       host_acceptance_rate_percent,\n",
    "       host_is_superhost,\n",
    "       host_thumbnail_url,\n",
    "       host_picture_url,\n",
    "       host_neighbourhood,\n",
    "       host_verifications,\n",
    "       host_has_profile_pic,\n",
    "       host_identity_verified,\n",
    "       EDW_PUBLCN_ID\n",
    "   )\n",
    "   VALUES (\n",
    "       source.host_id, \n",
    "       source.host_name, \n",
    "       source.host_location, \n",
    "       source.host_since_date, \n",
    "       source.host_about,\n",
    "       source.host_response_time,\n",
    "       source.host_response_rate_percent,\n",
    "       source.host_acceptance_rate_percent,\n",
    "       source.host_is_superhost,\n",
    "       source.host_thumbnail_url,\n",
    "       source.host_picture_url,\n",
    "       source.host_neighbourhood,\n",
    "       source.host_verifications,\n",
    "       source.host_has_profile_pic,\n",
    "       source.host_identity_verified,\n",
    "       current_timestamp()\n",
    "   );\n"
   ]
  },
  {
   "cell_type": "code",
   "execution_count": 0,
   "metadata": {
    "application/vnd.databricks.v1+cell": {
     "cellMetadata": {
      "byteLimit": 2048000,
      "implicitDf": true,
      "rowLimit": 10000
     },
     "inputWidgets": {},
     "nuid": "d9bd9591-8596-4489-a967-3aea623f5dac",
     "showTitle": false,
     "title": ""
    }
   },
   "outputs": [
    {
     "output_type": "display_data",
     "data": {
      "text/html": [
       "<style scoped>\n",
       "  .ansiout {\n",
       "    display: block;\n",
       "    unicode-bidi: embed;\n",
       "    white-space: pre-wrap;\n",
       "    word-wrap: break-word;\n",
       "    word-break: break-all;\n",
       "    font-family: \"Menlo\", \"Monaco\", \"Consolas\", \"Ubuntu Mono\", \"Source Code Pro\", monospace;\n",
       "    font-size: 13px;\n",
       "    color: #555;\n",
       "    margin-left: 4px;\n",
       "    line-height: 19px;\n",
       "  }\n",
       "</style>"
      ]
     },
     "metadata": {
      "application/vnd.databricks.v1+output": {
       "arguments": {},
       "data": "",
       "errorSummary": "Command skipped",
       "errorTraceType": "html",
       "metadata": {},
       "type": "ipynbError"
      }
     },
     "output_type": "display_data"
    }
   ],
   "source": [
    "%sql\n",
    "--check for duplicate records\n",
    "select host_id,count(*) \n",
    "from dwh.dim_host\n",
    "group by all\n",
    "having count(*) > 1;"
   ]
  },
  {
   "cell_type": "markdown",
   "metadata": {
    "application/vnd.databricks.v1+cell": {
     "cellMetadata": {},
     "inputWidgets": {},
     "nuid": "664df731-f4ea-4bc9-a22c-31ecc1ddaf4c",
     "showTitle": false,
     "title": ""
    }
   },
   "source": [
    "####dim_neighbourhood \n",
    "\n",
    "The dwh.dim_neighbourhood table contains:\n",
    "\n",
    "- neighbourhood_id: A unique sequential ID for neighbourhoods.\n",
    "- neighbourhood_name: The neighbourhood name.\n",
    "- neighborhood_overview: A representative overview of the neighbourhood.\n",
    "- latitude:  the latitude of the listing's location.\n",
    "- longitude: the longitude of the listing's location.\n",
    "- EDW_PUBLCN_ID: A timestamp indicating when the record was inserted."
   ]
  },
  {
   "cell_type": "code",
   "execution_count": 0,
   "metadata": {
    "application/vnd.databricks.v1+cell": {
     "cellMetadata": {
      "byteLimit": 2048000,
      "implicitDf": true,
      "rowLimit": 10000
     },
     "inputWidgets": {},
     "nuid": "6b3f77cf-0064-4d98-8e1a-bb9012284c7e",
     "showTitle": false,
     "title": ""
    }
   },
   "outputs": [
    {
     "output_type": "display_data",
     "data": {
      "text/html": [
       "<style scoped>\n",
       "  .table-result-container {\n",
       "    max-height: 300px;\n",
       "    overflow: auto;\n",
       "  }\n",
       "  table, th, td {\n",
       "    border: 1px solid black;\n",
       "    border-collapse: collapse;\n",
       "  }\n",
       "  th, td {\n",
       "    padding: 5px;\n",
       "  }\n",
       "  th {\n",
       "    text-align: left;\n",
       "  }\n",
       "</style><div class='table-result-container'><table class='table-result'><thead style='background-color: white'><tr></tr></thead><tbody></tbody></table></div>"
      ]
     },
     "metadata": {
      "application/vnd.databricks.v1+output": {
       "addedWidgets": {},
       "aggData": [],
       "aggError": "",
       "aggOverflow": false,
       "aggSchema": [],
       "aggSeriesLimitReached": false,
       "aggType": "",
       "arguments": {},
       "columnCustomDisplayInfos": {},
       "data": [],
       "datasetInfos": [],
       "dbfsResultPath": null,
       "isJsonSchema": true,
       "metadata": {
        "dataframeName": null
       },
       "overflow": false,
       "plotOptions": {
        "customPlotOptions": {},
        "displayType": "table",
        "pivotAggregation": null,
        "pivotColumns": null,
        "xColumns": null,
        "yColumns": null
       },
       "removedWidgets": [],
       "schema": [],
       "type": "table"
      }
     },
     "output_type": "display_data"
    }
   ],
   "source": [
    "%sql\n",
    "CREATE OR REPLACE TABLE dwh.dim_neighbourhood (\n",
    "    neighbourhood_id INT,\n",
    "    neighbourhood_name STRING,\n",
    "    neighborhood_overview STRING,\n",
    "    latitude DOUBLE,\n",
    "    longitude DOUBLE,\n",
    "    EDW_PUBLCN_ID TIMESTAMP\n",
    ") USING DELTA;\n"
   ]
  },
  {
   "cell_type": "code",
   "execution_count": 0,
   "metadata": {
    "application/vnd.databricks.v1+cell": {
     "cellMetadata": {
      "byteLimit": 2048000,
      "implicitDf": true,
      "rowLimit": 10000
     },
     "inputWidgets": {},
     "nuid": "89445746-e280-4a96-aa8a-8c78535cacaf",
     "showTitle": false,
     "title": ""
    }
   },
   "outputs": [
    {
     "output_type": "display_data",
     "data": {
      "text/html": [
       "<style scoped>\n",
       "  .table-result-container {\n",
       "    max-height: 300px;\n",
       "    overflow: auto;\n",
       "  }\n",
       "  table, th, td {\n",
       "    border: 1px solid black;\n",
       "    border-collapse: collapse;\n",
       "  }\n",
       "  th, td {\n",
       "    padding: 5px;\n",
       "  }\n",
       "  th {\n",
       "    text-align: left;\n",
       "  }\n",
       "</style><div class='table-result-container'><table class='table-result'><thead style='background-color: white'><tr><th>num_affected_rows</th><th>num_inserted_rows</th></tr></thead><tbody><tr><td>0</td><td>0</td></tr></tbody></table></div>"
      ]
     },
     "metadata": {
      "application/vnd.databricks.v1+output": {
       "addedWidgets": {},
       "aggData": [],
       "aggError": "",
       "aggOverflow": false,
       "aggSchema": [],
       "aggSeriesLimitReached": false,
       "aggType": "",
       "arguments": {},
       "columnCustomDisplayInfos": {},
       "data": [
        [
         0,
         0
        ]
       ],
       "datasetInfos": [],
       "dbfsResultPath": null,
       "isJsonSchema": true,
       "metadata": {
        "dataframeName": "_sqldf",
        "executionCount": 15
       },
       "overflow": false,
       "plotOptions": {
        "customPlotOptions": {},
        "displayType": "table",
        "pivotAggregation": null,
        "pivotColumns": null,
        "xColumns": null,
        "yColumns": null
       },
       "removedWidgets": [],
       "schema": [
        {
         "metadata": "{}",
         "name": "num_affected_rows",
         "type": "\"long\""
        },
        {
         "metadata": "{}",
         "name": "num_inserted_rows",
         "type": "\"long\""
        }
       ],
       "type": "table"
      }
     },
     "output_type": "display_data"
    }
   ],
   "source": [
    "%sql\n",
    "--identify potential new neighbourhoods\n",
    "WITH NewNeighbourhoods AS (\n",
    "    SELECT\n",
    "        neighbourhood_cleansed as neighbourhood_name,\n",
    "        MAX(neighborhood_overview) AS neighborhood_overview,\n",
    "        AVG(latitude) as latitude,\n",
    "        AVG(longitude) as longitude,\n",
    "        CURRENT_TIMESTAMP() AS EDW_PUBLCN_ID\n",
    "    FROM \n",
    "        staging.listing\n",
    "    WHERE\n",
    "        neighbourhood_cleansed NOT IN (SELECT neighbourhood_name FROM dwh.dim_neighbourhood)\n",
    "    GROUP BY \n",
    "        neighbourhood_cleansed\n",
    ")\n",
    "\n",
    "-- Insert new neighbourhoods into dwh.dim_neighbourhood\n",
    "INSERT INTO dwh.dim_neighbourhood\n",
    "SELECT\n",
    "    ROW_NUMBER() OVER(ORDER BY neighbourhood_name) + COALESCE((SELECT MAX(neighbourhood_id) FROM dwh.dim_neighbourhood), 0) as neighbourhood_id,\n",
    "    neighbourhood_name,\n",
    "    neighborhood_overview,\n",
    "    latitude,\n",
    "    longitude,\n",
    "    EDW_PUBLCN_ID\n",
    "FROM\n",
    "    NewNeighbourhoods;\n"
   ]
  },
  {
   "cell_type": "code",
   "execution_count": 0,
   "metadata": {
    "application/vnd.databricks.v1+cell": {
     "cellMetadata": {
      "byteLimit": 2048000,
      "implicitDf": true,
      "rowLimit": 10000
     },
     "inputWidgets": {},
     "nuid": "af094b2e-9aa5-4743-a5c6-5c967ce2e7e0",
     "showTitle": false,
     "title": ""
    }
   },
   "outputs": [
    {
     "output_type": "display_data",
     "data": {
      "text/html": [
       "<style scoped>\n",
       "  .table-result-container {\n",
       "    max-height: 300px;\n",
       "    overflow: auto;\n",
       "  }\n",
       "  table, th, td {\n",
       "    border: 1px solid black;\n",
       "    border-collapse: collapse;\n",
       "  }\n",
       "  th, td {\n",
       "    padding: 5px;\n",
       "  }\n",
       "  th {\n",
       "    text-align: left;\n",
       "  }\n",
       "</style><div class='table-result-container'><table class='table-result'><thead style='background-color: white'><tr><th>neighbourhood_id</th><th>count(1)</th></tr></thead><tbody></tbody></table></div>"
      ]
     },
     "metadata": {
      "application/vnd.databricks.v1+output": {
       "addedWidgets": {},
       "aggData": [],
       "aggError": "",
       "aggOverflow": false,
       "aggSchema": [],
       "aggSeriesLimitReached": false,
       "aggType": "",
       "arguments": {},
       "columnCustomDisplayInfos": {},
       "data": [],
       "datasetInfos": [],
       "dbfsResultPath": null,
       "isJsonSchema": true,
       "metadata": {
        "dataframeName": "_sqldf",
        "executionCount": 16
       },
       "overflow": false,
       "plotOptions": {
        "customPlotOptions": {},
        "displayType": "table",
        "pivotAggregation": null,
        "pivotColumns": null,
        "xColumns": null,
        "yColumns": null
       },
       "removedWidgets": [],
       "schema": [
        {
         "metadata": "{}",
         "name": "neighbourhood_id",
         "type": "\"integer\""
        },
        {
         "metadata": "{\"__autoGeneratedAlias\":\"true\"}",
         "name": "count(1)",
         "type": "\"long\""
        }
       ],
       "type": "table"
      }
     },
     "output_type": "display_data"
    }
   ],
   "source": [
    "%sql\n",
    "select neighbourhood_id, count(*) \n",
    "from dwh.dim_neighbourhood\n",
    "group by neighbourhood_id\n",
    "having count(*) > 1"
   ]
  },
  {
   "cell_type": "markdown",
   "metadata": {
    "application/vnd.databricks.v1+cell": {
     "cellMetadata": {
      "byteLimit": 2048000,
      "rowLimit": 10000
     },
     "inputWidgets": {},
     "nuid": "333346bb-4464-4cee-ac7e-dd05e9d4d6ff",
     "showTitle": false,
     "title": ""
    }
   },
   "source": [
    "####DIM LISTING\n",
    "the attributes  of the dwh.Dim_Listing table are:\n",
    "\n",
    "- listing_id: unique identifier for each listing.\n",
    "- listing_url:  stores the URL of the listing.\n",
    "- name:  the name or title of the listing.\n",
    "- description:  a description of the listing.\n",
    "- neighborhood_overview:  an overview of the neighborhood where the listing is located.\n",
    "- picture_url: A stores the URL of the listing's main picture or image.\n",
    "- property_type: the type of property being listed (e.g., apartment, house, etc.).\n",
    "- room_type: the type of room being listed (e.g., entire home, private room).\n",
    "- amenities: ists amenities available with the listing.\n",
    "- price: the price of the listing\n",
    "- neighbourhood: the specific neighborhood where the listing is located.\n",
    "- license: A string representing a regulatory or permitting license associated with the listing.\n",
    "- EDW_PUBLCN_ID: A timestamp, indicating when the record was published to the data warehouse."
   ]
  },
  {
   "cell_type": "code",
   "execution_count": 0,
   "metadata": {
    "application/vnd.databricks.v1+cell": {
     "cellMetadata": {
      "byteLimit": 2048000,
      "implicitDf": true,
      "rowLimit": 10000
     },
     "inputWidgets": {},
     "nuid": "bbc367a3-4654-4f9d-a541-f0b9475bf4ba",
     "showTitle": false,
     "title": ""
    }
   },
   "outputs": [
    {
     "output_type": "display_data",
     "data": {
      "text/html": [
       "<style scoped>\n",
       "  .table-result-container {\n",
       "    max-height: 300px;\n",
       "    overflow: auto;\n",
       "  }\n",
       "  table, th, td {\n",
       "    border: 1px solid black;\n",
       "    border-collapse: collapse;\n",
       "  }\n",
       "  th, td {\n",
       "    padding: 5px;\n",
       "  }\n",
       "  th {\n",
       "    text-align: left;\n",
       "  }\n",
       "</style><div class='table-result-container'><table class='table-result'><thead style='background-color: white'><tr></tr></thead><tbody></tbody></table></div>"
      ]
     },
     "metadata": {
      "application/vnd.databricks.v1+output": {
       "addedWidgets": {},
       "aggData": [],
       "aggError": "",
       "aggOverflow": false,
       "aggSchema": [],
       "aggSeriesLimitReached": false,
       "aggType": "",
       "arguments": {},
       "columnCustomDisplayInfos": {},
       "data": [],
       "datasetInfos": [],
       "dbfsResultPath": null,
       "isJsonSchema": true,
       "metadata": {
        "dataframeName": null
       },
       "overflow": false,
       "plotOptions": {
        "customPlotOptions": {},
        "displayType": "table",
        "pivotAggregation": null,
        "pivotColumns": null,
        "xColumns": null,
        "yColumns": null
       },
       "removedWidgets": [],
       "schema": [],
       "type": "table"
      }
     },
     "output_type": "display_data"
    }
   ],
   "source": [
    "%sql\n",
    "-- Create the dwh.Dim_Listing table\n",
    "CREATE OR REPLACE TABLE dwh.Dim_Listing(\n",
    "    listing_id INT NOT NULL,\n",
    "    listing_url STRING,\n",
    "    name STRING,\n",
    "    description STRING,\n",
    "    picture_url STRING,\n",
    "    property_type STRING,\n",
    "    room_type STRING,\n",
    "    amenities STRING,\n",
    "    price DECIMAL(10,2),\n",
    "    neighbourhood_id INTEGER,\n",
    "    license STRING,\n",
    "    EDW_PUBLCN_ID TIMESTAMP\n",
    ")\n",
    "USING DELTA;"
   ]
  },
  {
   "cell_type": "code",
   "execution_count": 0,
   "metadata": {
    "application/vnd.databricks.v1+cell": {
     "cellMetadata": {
      "byteLimit": 2048000,
      "implicitDf": true,
      "rowLimit": 10000
     },
     "inputWidgets": {},
     "nuid": "b4540194-6725-40d1-9b55-71fd09280e48",
     "showTitle": false,
     "title": ""
    }
   },
   "outputs": [
    {
     "output_type": "display_data",
     "data": {
      "text/html": [
       "<style scoped>\n",
       "  .table-result-container {\n",
       "    max-height: 300px;\n",
       "    overflow: auto;\n",
       "  }\n",
       "  table, th, td {\n",
       "    border: 1px solid black;\n",
       "    border-collapse: collapse;\n",
       "  }\n",
       "  th, td {\n",
       "    padding: 5px;\n",
       "  }\n",
       "  th {\n",
       "    text-align: left;\n",
       "  }\n",
       "</style><div class='table-result-container'><table class='table-result'><thead style='background-color: white'><tr><th>num_affected_rows</th><th>num_updated_rows</th><th>num_deleted_rows</th><th>num_inserted_rows</th></tr></thead><tbody><tr><td>2069</td><td>0</td><td>0</td><td>2069</td></tr></tbody></table></div>"
      ]
     },
     "metadata": {
      "application/vnd.databricks.v1+output": {
       "addedWidgets": {},
       "aggData": [],
       "aggError": "",
       "aggOverflow": false,
       "aggSchema": [],
       "aggSeriesLimitReached": false,
       "aggType": "",
       "arguments": {},
       "columnCustomDisplayInfos": {},
       "data": [
        [
         2069,
         0,
         0,
         2069
        ]
       ],
       "datasetInfos": [],
       "dbfsResultPath": null,
       "isJsonSchema": true,
       "metadata": {
        "dataframeName": "_sqldf",
        "executionCount": 18
       },
       "overflow": false,
       "plotOptions": {
        "customPlotOptions": {},
        "displayType": "table",
        "pivotAggregation": null,
        "pivotColumns": null,
        "xColumns": null,
        "yColumns": null
       },
       "removedWidgets": [],
       "schema": [
        {
         "metadata": "{}",
         "name": "num_affected_rows",
         "type": "\"long\""
        },
        {
         "metadata": "{}",
         "name": "num_updated_rows",
         "type": "\"long\""
        },
        {
         "metadata": "{}",
         "name": "num_deleted_rows",
         "type": "\"long\""
        },
        {
         "metadata": "{}",
         "name": "num_inserted_rows",
         "type": "\"long\""
        }
       ],
       "type": "table"
      }
     },
     "output_type": "display_data"
    }
   ],
   "source": [
    "%sql\n",
    "MERGE INTO dwh.Dim_Listing AS target\n",
    "USING (\n",
    "  SELECT \n",
    "    l.listing_id,\n",
    "    l.listing_url,\n",
    "    l.name,\n",
    "    l.description,\n",
    "    l.picture_url,\n",
    "    l.property_type,\n",
    "    l.room_type,\n",
    "    l.amenities,\n",
    "    l.price,\n",
    "    n.neighbourhood_id,\n",
    "    l.license,\n",
    "    CURRENT_TIMESTAMP() as EDW_PUBLCN_ID\n",
    "  FROM \n",
    "    staging.listing l\n",
    "    JOIN dwh.dim_neighbourhood n ON l.neighbourhood_cleansed = n.neighbourhood_name\n",
    ") AS source\n",
    "ON target.listing_id = source.listing_id\n",
    "WHEN MATCHED THEN\n",
    "  UPDATE SET \n",
    "    target.listing_url = source.listing_url,\n",
    "    target.name = source.name,\n",
    "    target.description = source.description,\n",
    "    target.picture_url = source.picture_url,\n",
    "    target.property_type = source.property_type,\n",
    "    target.room_type = source.room_type,\n",
    "    target.amenities = source.amenities,\n",
    "    target.price = source.price,\n",
    "    target.neighbourhood_id = source.neighbourhood_id,\n",
    "    target.license = source.license,\n",
    "    target.EDW_PUBLCN_ID = source.EDW_PUBLCN_ID\n",
    "WHEN NOT MATCHED THEN\n",
    "  INSERT (\n",
    "    listing_id,\n",
    "    listing_url,\n",
    "    name,\n",
    "    description,\n",
    "    picture_url,\n",
    "    property_type,\n",
    "    room_type,\n",
    "    amenities,\n",
    "    price,\n",
    "    neighbourhood_id,\n",
    "    license,\n",
    "    EDW_PUBLCN_ID\n",
    "  )\n",
    "  VALUES (\n",
    "    source.listing_id,\n",
    "    source.listing_url,\n",
    "    source.name,\n",
    "    source.description,\n",
    "    source.picture_url,\n",
    "    source.property_type,\n",
    "    source.room_type,\n",
    "    source.amenities,\n",
    "    source.price,\n",
    "    source.neighbourhood_id,\n",
    "    source.license,\n",
    "    source.EDW_PUBLCN_ID\n",
    "  );\n"
   ]
  },
  {
   "cell_type": "code",
   "execution_count": 0,
   "metadata": {
    "application/vnd.databricks.v1+cell": {
     "cellMetadata": {
      "byteLimit": 2048000,
      "implicitDf": true,
      "rowLimit": 10000
     },
     "inputWidgets": {},
     "nuid": "8c25a685-58ca-421e-a980-2174e9f82de0",
     "showTitle": false,
     "title": ""
    }
   },
   "outputs": [
    {
     "output_type": "display_data",
     "data": {
      "text/html": [
       "<style scoped>\n",
       "  .ansiout {\n",
       "    display: block;\n",
       "    unicode-bidi: embed;\n",
       "    white-space: pre-wrap;\n",
       "    word-wrap: break-word;\n",
       "    word-break: break-all;\n",
       "    font-family: \"Menlo\", \"Monaco\", \"Consolas\", \"Ubuntu Mono\", \"Source Code Pro\", monospace;\n",
       "    font-size: 13px;\n",
       "    color: #555;\n",
       "    margin-left: 4px;\n",
       "    line-height: 19px;\n",
       "  }\n",
       "</style>"
      ]
     },
     "metadata": {
      "application/vnd.databricks.v1+output": {
       "arguments": {},
       "data": "",
       "errorSummary": "Command skipped",
       "errorTraceType": "html",
       "metadata": {},
       "type": "ipynbError"
      }
     },
     "output_type": "display_data"
    }
   ],
   "source": [
    "%sql\n",
    "--check for duplicate records\n",
    "select listing_id,count(*) \n",
    "from dwh.Dim_Listing\n",
    "group by all\n",
    "having count(*) > 1;"
   ]
  },
  {
   "cell_type": "markdown",
   "metadata": {
    "application/vnd.databricks.v1+cell": {
     "cellMetadata": {
      "byteLimit": 2048000,
      "rowLimit": 10000
     },
     "inputWidgets": {},
     "nuid": "52dbb113-7709-4b66-8f15-60ac0ff58426",
     "showTitle": false,
     "title": ""
    }
   },
   "source": [
    "####DIM_LISTING_CALENDAR\n",
    "the attributes of the dwh.dim_listing_calendar table are:\n",
    "\n",
    "- listing_id: the unique identifier for each listing. It is set as NOT NULL\n",
    "\n",
    "- date: the date associated with the calendar entry. is also set as NOT NULL.\n",
    "\n",
    "- available:  indicating whether the listing is available on the specified date. It can have values of TRUE (available) or FALSE (not available).\n",
    "\n",
    "- price: the price of the listing for the specified date. \n",
    "\n",
    "- adjusted_price: the specified date, which might differ from the regular price due to promotions, discounts\n",
    "- minimum_nights: the minimum number of nights that a guest can book the listing for.\n",
    "\n",
    "- maximum_nights: he maximum number of nights that a guest can book the listing for.\n",
    "\n",
    "- EDW_PUBLCN_ID: indicating when the record was published or added to the data warehouse."
   ]
  },
  {
   "cell_type": "code",
   "execution_count": 0,
   "metadata": {
    "application/vnd.databricks.v1+cell": {
     "cellMetadata": {
      "byteLimit": 2048000,
      "implicitDf": true,
      "rowLimit": 10000
     },
     "inputWidgets": {},
     "nuid": "79575b4b-6fec-42a1-98f3-9db88376852a",
     "showTitle": false,
     "title": ""
    }
   },
   "outputs": [
    {
     "output_type": "display_data",
     "data": {
      "text/html": [
       "<style scoped>\n",
       "  .ansiout {\n",
       "    display: block;\n",
       "    unicode-bidi: embed;\n",
       "    white-space: pre-wrap;\n",
       "    word-wrap: break-word;\n",
       "    word-break: break-all;\n",
       "    font-family: \"Menlo\", \"Monaco\", \"Consolas\", \"Ubuntu Mono\", \"Source Code Pro\", monospace;\n",
       "    font-size: 13px;\n",
       "    color: #555;\n",
       "    margin-left: 4px;\n",
       "    line-height: 19px;\n",
       "  }\n",
       "</style>"
      ]
     },
     "metadata": {
      "application/vnd.databricks.v1+output": {
       "arguments": {},
       "data": "",
       "errorSummary": "Command skipped",
       "errorTraceType": "html",
       "metadata": {},
       "type": "ipynbError"
      }
     },
     "output_type": "display_data"
    }
   ],
   "source": [
    "%sql\n",
    "CREATE OR REPLACE TABLE dwh.dim_listing_calendar(\n",
    "    listing_id INT NOT NULL,\n",
    "    date DATE NOT NULL,\n",
    "    available BOOLEAN,\n",
    "    price DECIMAL(10, 2),\n",
    "    adjusted_price DECIMAL(10, 2),\n",
    "    minimum_nights INT,\n",
    "    maximum_nights INT,\n",
    "    EDW_PUBLCN_ID TIMESTAMP\n",
    ")\n",
    "USING DELTA;"
   ]
  },
  {
   "cell_type": "code",
   "execution_count": 0,
   "metadata": {
    "application/vnd.databricks.v1+cell": {
     "cellMetadata": {
      "byteLimit": 2048000,
      "implicitDf": true,
      "rowLimit": 10000
     },
     "inputWidgets": {},
     "nuid": "d0fa929a-9908-45c0-a14c-3ec55a1a48ec",
     "showTitle": false,
     "title": ""
    }
   },
   "outputs": [
    {
     "output_type": "display_data",
     "data": {
      "text/html": [
       "<style scoped>\n",
       "  .ansiout {\n",
       "    display: block;\n",
       "    unicode-bidi: embed;\n",
       "    white-space: pre-wrap;\n",
       "    word-wrap: break-word;\n",
       "    word-break: break-all;\n",
       "    font-family: \"Menlo\", \"Monaco\", \"Consolas\", \"Ubuntu Mono\", \"Source Code Pro\", monospace;\n",
       "    font-size: 13px;\n",
       "    color: #555;\n",
       "    margin-left: 4px;\n",
       "    line-height: 19px;\n",
       "  }\n",
       "</style>"
      ]
     },
     "metadata": {
      "application/vnd.databricks.v1+output": {
       "arguments": {},
       "data": "",
       "errorSummary": "Command skipped",
       "errorTraceType": "html",
       "metadata": {},
       "type": "ipynbError"
      }
     },
     "output_type": "display_data"
    }
   ],
   "source": [
    "%sql\n",
    "MERGE INTO dwh.dim_listing_calendar AS target\n",
    "USING (\n",
    "    SELECT \n",
    "        listing_id,\n",
    "        CAST(date AS DATE) AS date,\n",
    "        CASE WHEN available = 't' THEN TRUE \n",
    "             WHEN available = 'f' THEN FALSE  \n",
    "             ELSE NULL END AS available,\n",
    "        CAST(REPLACE(price, '$', '') AS DECIMAL(10, 2)) AS price,\n",
    "        CAST(REPLACE(adjusted_price, '$', '') AS DECIMAL(10, 2)) AS adjusted_price,\n",
    "        minimum_nights,\n",
    "        maximum_nights,\n",
    "        CURRENT_TIMESTAMP() AS EDW_PUBLCN_ID\n",
    "    FROM raw.calendar\n",
    "    WHERE listing_id IS NOT NULL\n",
    ") AS source\n",
    "ON target.listing_id = source.listing_id AND target.date = source.date\n",
    "WHEN MATCHED THEN\n",
    "    UPDATE SET \n",
    "        target.available = source.available,\n",
    "        target.price = source.price,\n",
    "        target.adjusted_price = source.adjusted_price,\n",
    "        target.minimum_nights = source.minimum_nights,\n",
    "        target.maximum_nights = source.maximum_nights,\n",
    "        target.EDW_PUBLCN_ID = source.EDW_PUBLCN_ID\n",
    "WHEN NOT MATCHED THEN\n",
    "    INSERT (listing_id,\n",
    "             date, \n",
    "             available, \n",
    "             price, \n",
    "             adjusted_price, \n",
    "             minimum_nights, \n",
    "             maximum_nights, \n",
    "             EDW_PUBLCN_ID)\n",
    "    VALUES (source.listing_id, source.date, source.available, source.price, source.adjusted_price, source.minimum_nights, source.maximum_nights, source.EDW_PUBLCN_ID);\n",
    "\n"
   ]
  },
  {
   "cell_type": "code",
   "execution_count": 0,
   "metadata": {
    "application/vnd.databricks.v1+cell": {
     "cellMetadata": {
      "byteLimit": 2048000,
      "implicitDf": true,
      "rowLimit": 10000
     },
     "inputWidgets": {},
     "nuid": "282d1d3b-d20b-4945-933f-700f09a0e262",
     "showTitle": false,
     "title": ""
    }
   },
   "outputs": [
    {
     "output_type": "display_data",
     "data": {
      "text/html": [
       "<style scoped>\n",
       "  .ansiout {\n",
       "    display: block;\n",
       "    unicode-bidi: embed;\n",
       "    white-space: pre-wrap;\n",
       "    word-wrap: break-word;\n",
       "    word-break: break-all;\n",
       "    font-family: \"Menlo\", \"Monaco\", \"Consolas\", \"Ubuntu Mono\", \"Source Code Pro\", monospace;\n",
       "    font-size: 13px;\n",
       "    color: #555;\n",
       "    margin-left: 4px;\n",
       "    line-height: 19px;\n",
       "  }\n",
       "</style>"
      ]
     },
     "metadata": {
      "application/vnd.databricks.v1+output": {
       "arguments": {},
       "data": "",
       "errorSummary": "Command skipped",
       "errorTraceType": "html",
       "metadata": {},
       "type": "ipynbError"
      }
     },
     "output_type": "display_data"
    }
   ],
   "source": [
    "%sql\n",
    "--check for duplicate records\n",
    "select listing_id, date,count(*) \n",
    "from dwh.dim_calendar\n",
    "group by all\n",
    "having count(*) > 1;"
   ]
  },
  {
   "cell_type": "markdown",
   "metadata": {
    "application/vnd.databricks.v1+cell": {
     "cellMetadata": {
      "byteLimit": 2048000,
      "rowLimit": 10000
     },
     "inputWidgets": {},
     "nuid": "9c845769-ea8a-4b5f-b2ef-6c0938607682",
     "showTitle": false,
     "title": ""
    }
   },
   "source": [
    "####dwh.fct_ratings_reviews\n",
    "table is our first fact table and captures the review scores and related metrics for Airbnb listings.\n",
    "\n",
    "- listing_id: Unique ID for listings.\n",
    "- host_id: ID for the host of the listing.\n",
    "- neighbourhood_id: ID for the neighbourhood.\n",
    "- property_type: Type of the property.\n",
    "- review_scores_rating to review_scores_value: Various review scores.\n",
    "- price: Listing price.\n",
    "- reviews_per_month: Average reviews per month.\n",
    "- number_of_reviews to number_of_reviews_l30d: Count of reviews in different timeframes.\n",
    "- first_review_date: Date of the first review.\n",
    "- last_review_date: Date of the most recent review.\n",
    "- EDW_PUBLCN_ID: Record insertion timestamp."
   ]
  },
  {
   "cell_type": "code",
   "execution_count": 0,
   "metadata": {
    "application/vnd.databricks.v1+cell": {
     "cellMetadata": {
      "byteLimit": 2048000,
      "implicitDf": true,
      "rowLimit": 10000
     },
     "inputWidgets": {},
     "nuid": "d6afc984-c094-4c74-a861-e7d2a6899ca6",
     "showTitle": false,
     "title": ""
    }
   },
   "outputs": [
    {
     "output_type": "display_data",
     "data": {
      "text/html": [
       "<style scoped>\n",
       "  .ansiout {\n",
       "    display: block;\n",
       "    unicode-bidi: embed;\n",
       "    white-space: pre-wrap;\n",
       "    word-wrap: break-word;\n",
       "    word-break: break-all;\n",
       "    font-family: \"Menlo\", \"Monaco\", \"Consolas\", \"Ubuntu Mono\", \"Source Code Pro\", monospace;\n",
       "    font-size: 13px;\n",
       "    color: #555;\n",
       "    margin-left: 4px;\n",
       "    line-height: 19px;\n",
       "  }\n",
       "</style>"
      ]
     },
     "metadata": {
      "application/vnd.databricks.v1+output": {
       "arguments": {},
       "data": "",
       "errorSummary": "Command skipped",
       "errorTraceType": "html",
       "metadata": {},
       "type": "ipynbError"
      }
     },
     "output_type": "display_data"
    }
   ],
   "source": [
    "%sql\n",
    "CREATE OR REPLACE TABLE dwh.fct_ratings_reviews (\n",
    "    listing_id INT NOT NULL,\n",
    "    host_id INT,\n",
    "    neighbourhood_id INT,\n",
    "    property_type STRING,\n",
    "    review_scores_rating FLOAT,\n",
    "    review_scores_accuracy FLOAT,\n",
    "    review_scores_cleanliness FLOAT,\n",
    "    review_scores_checkin FLOAT,\n",
    "    review_scores_communication FLOAT,\n",
    "    review_scores_location FLOAT,\n",
    "    review_scores_value FLOAT,\n",
    "    price FLOAT,\n",
    "    reviews_per_month FLOAT,\n",
    "    number_of_reviews INT,\n",
    "    number_of_reviews_ltm INT,\n",
    "    number_of_reviews_l30d INT,\n",
    "    first_review_date DATE,\n",
    "    last_review_date DATE,\n",
    "    EDW_PUBLCN_ID TIMESTAMP\n",
    ")\n",
    "USING DELTA;"
   ]
  },
  {
   "cell_type": "code",
   "execution_count": 0,
   "metadata": {
    "application/vnd.databricks.v1+cell": {
     "cellMetadata": {
      "byteLimit": 2048000,
      "implicitDf": true,
      "rowLimit": 10000
     },
     "inputWidgets": {},
     "nuid": "326d78a3-78c2-4e68-9fa9-49ba2070ce2e",
     "showTitle": false,
     "title": ""
    }
   },
   "outputs": [
    {
     "output_type": "display_data",
     "data": {
      "text/html": [
       "<style scoped>\n",
       "  .ansiout {\n",
       "    display: block;\n",
       "    unicode-bidi: embed;\n",
       "    white-space: pre-wrap;\n",
       "    word-wrap: break-word;\n",
       "    word-break: break-all;\n",
       "    font-family: \"Menlo\", \"Monaco\", \"Consolas\", \"Ubuntu Mono\", \"Source Code Pro\", monospace;\n",
       "    font-size: 13px;\n",
       "    color: #555;\n",
       "    margin-left: 4px;\n",
       "    line-height: 19px;\n",
       "  }\n",
       "</style>"
      ]
     },
     "metadata": {
      "application/vnd.databricks.v1+output": {
       "arguments": {},
       "data": "",
       "errorSummary": "Command skipped",
       "errorTraceType": "html",
       "metadata": {},
       "type": "ipynbError"
      }
     },
     "output_type": "display_data"
    }
   ],
   "source": [
    "%sql\n",
    "-- Merge into fact_ratings_reviews based on processed data from staging.listing and dwh.dim_neighbourhood\n",
    "MERGE INTO dwh.fct_ratings_reviews AS target\n",
    "USING (\n",
    "    SELECT\n",
    "        l.listing_id,\n",
    "        l.host_id,\n",
    "        n.neighbourhood_id,\n",
    "        l.property_type,\n",
    "        l.review_scores_rating,\n",
    "        l.review_scores_accuracy,\n",
    "        l.review_scores_cleanliness,\n",
    "        l.review_scores_checkin,\n",
    "        l.review_scores_communication,\n",
    "        l.review_scores_location,\n",
    "        l.review_scores_value,\n",
    "        l.price,\n",
    "        l.reviews_per_month,\n",
    "        l.number_of_reviews,\n",
    "        l.number_of_reviews_ltm,\n",
    "        l.number_of_reviews_l30d,\n",
    "        l.first_review_date,\n",
    "        l.last_review_date,\n",
    "        current_timestamp() as EDW_PUBLCN_ID\n",
    "    FROM \n",
    "        staging.listing l\n",
    "    JOIN \n",
    "        dwh.dim_neighbourhood n ON l.neighbourhood_cleansed = n.neighbourhood_name\n",
    ") AS source\n",
    "ON target.listing_id = source.listing_id\n",
    "WHEN MATCHED THEN\n",
    "    UPDATE SET \n",
    "        target.host_id = source.host_id,\n",
    "        target.neighbourhood_id = source.neighbourhood_id,\n",
    "        target.property_type = source.property_type,\n",
    "        target.review_scores_rating = source.review_scores_rating,\n",
    "        target.review_scores_accuracy = source.review_scores_accuracy,\n",
    "        target.review_scores_cleanliness = source.review_scores_cleanliness,\n",
    "        target.review_scores_checkin = source.review_scores_checkin,\n",
    "        target.review_scores_communication = source.review_scores_communication,\n",
    "        target.review_scores_location = source.review_scores_location,\n",
    "        target.review_scores_value = source.review_scores_value,\n",
    "        target.price = source.price,\n",
    "        target.reviews_per_month = source.reviews_per_month,\n",
    "        target.number_of_reviews = source.number_of_reviews,\n",
    "        target.number_of_reviews_ltm = source.number_of_reviews_ltm,\n",
    "        target.number_of_reviews_l30d = source.number_of_reviews_l30d,\n",
    "        target.first_review_date = source.first_review_date,\n",
    "        target.last_review_date = source.last_review_date,\n",
    "        target.EDW_PUBLCN_ID = source.EDW_PUBLCN_ID\n",
    "WHEN NOT MATCHED THEN\n",
    "    INSERT (\n",
    "        listing_id,\n",
    "        host_id,\n",
    "        neighbourhood_id,\n",
    "        property_type,\n",
    "        review_scores_rating,\n",
    "        review_scores_accuracy,\n",
    "        review_scores_cleanliness,\n",
    "        review_scores_checkin,\n",
    "        review_scores_communication,\n",
    "        review_scores_location,\n",
    "        review_scores_value,\n",
    "        price,\n",
    "        reviews_per_month,\n",
    "        number_of_reviews,\n",
    "        number_of_reviews_ltm,\n",
    "        number_of_reviews_l30d,\n",
    "        first_review_date,\n",
    "        last_review_date,\n",
    "        EDW_PUBLCN_ID\n",
    "    )\n",
    "    VALUES (\n",
    "        source.listing_id,\n",
    "        source.host_id,\n",
    "        source.neighbourhood_id,\n",
    "        source.property_type,\n",
    "        source.review_scores_rating,\n",
    "        source.review_scores_accuracy,\n",
    "        source.review_scores_cleanliness,\n",
    "        source.review_scores_checkin,\n",
    "        source.review_scores_communication,\n",
    "        source.review_scores_location,\n",
    "        source.review_scores_value,\n",
    "        source.price,\n",
    "        source.reviews_per_month,\n",
    "        source.number_of_reviews,\n",
    "        source.number_of_reviews_ltm,\n",
    "        source.number_of_reviews_l30d,\n",
    "        source.first_review_date,\n",
    "        source.last_review_date,\n",
    "        source.EDW_PUBLCN_ID\n",
    "    )\n",
    ";\n"
   ]
  },
  {
   "cell_type": "code",
   "execution_count": 0,
   "metadata": {
    "application/vnd.databricks.v1+cell": {
     "cellMetadata": {
      "byteLimit": 2048000,
      "implicitDf": true,
      "rowLimit": 10000
     },
     "inputWidgets": {},
     "nuid": "14d1dd0f-ac5f-4bab-b878-d1851a62ef15",
     "showTitle": false,
     "title": ""
    }
   },
   "outputs": [
    {
     "output_type": "display_data",
     "data": {
      "text/html": [
       "<style scoped>\n",
       "  .ansiout {\n",
       "    display: block;\n",
       "    unicode-bidi: embed;\n",
       "    white-space: pre-wrap;\n",
       "    word-wrap: break-word;\n",
       "    word-break: break-all;\n",
       "    font-family: \"Menlo\", \"Monaco\", \"Consolas\", \"Ubuntu Mono\", \"Source Code Pro\", monospace;\n",
       "    font-size: 13px;\n",
       "    color: #555;\n",
       "    margin-left: 4px;\n",
       "    line-height: 19px;\n",
       "  }\n",
       "</style>"
      ]
     },
     "metadata": {
      "application/vnd.databricks.v1+output": {
       "arguments": {},
       "data": "",
       "errorSummary": "Command skipped",
       "errorTraceType": "html",
       "metadata": {},
       "type": "ipynbError"
      }
     },
     "output_type": "display_data"
    }
   ],
   "source": [
    "%sql\n",
    "--check duplicates\n",
    "select listing_id, host_id, count(*) \n",
    "from dwh.fct_ratings_reviews\n",
    "group by all\n",
    "having count(*) > 1"
   ]
  },
  {
   "cell_type": "markdown",
   "metadata": {
    "application/vnd.databricks.v1+cell": {
     "cellMetadata": {
      "byteLimit": 2048000,
      "rowLimit": 10000
     },
     "inputWidgets": {},
     "nuid": "c5b53e3c-9c8d-406a-b788-c303efbdae80",
     "showTitle": false,
     "title": ""
    }
   },
   "source": [
    "#### fct_reviews: \n",
    "table captures individual reviews left by Airbnb users.\n",
    "\n",
    "- review_id: Unique ID for reviews.\n",
    "- listing_id: Reference to the listing.\n",
    "- reviewer_id: ID of the reviewer.\n",
    "- review_date: Date of the review.\n",
    "- comments: Reviewer's comments.\n",
    "- EDW_PUBLCN_ID: Record insertion timestamp.\n"
   ]
  },
  {
   "cell_type": "code",
   "execution_count": 0,
   "metadata": {
    "application/vnd.databricks.v1+cell": {
     "cellMetadata": {
      "byteLimit": 2048000,
      "implicitDf": true,
      "rowLimit": 10000
     },
     "inputWidgets": {},
     "nuid": "3b6d3e73-4ba8-48bf-a1c1-c8885655750b",
     "showTitle": false,
     "title": ""
    }
   },
   "outputs": [
    {
     "output_type": "display_data",
     "data": {
      "text/html": [
       "<style scoped>\n",
       "  .ansiout {\n",
       "    display: block;\n",
       "    unicode-bidi: embed;\n",
       "    white-space: pre-wrap;\n",
       "    word-wrap: break-word;\n",
       "    word-break: break-all;\n",
       "    font-family: \"Menlo\", \"Monaco\", \"Consolas\", \"Ubuntu Mono\", \"Source Code Pro\", monospace;\n",
       "    font-size: 13px;\n",
       "    color: #555;\n",
       "    margin-left: 4px;\n",
       "    line-height: 19px;\n",
       "  }\n",
       "</style>"
      ]
     },
     "metadata": {
      "application/vnd.databricks.v1+output": {
       "arguments": {},
       "data": "",
       "errorSummary": "Command skipped",
       "errorTraceType": "html",
       "metadata": {},
       "type": "ipynbError"
      }
     },
     "output_type": "display_data"
    }
   ],
   "source": [
    "%sql\n",
    "CREATE TABLE dwh.fct_reviews (\n",
    "    review_id STRING  NOT NULL,  --PRIMARY KEY,(not supported) \n",
    "    listing_id INTEGER,\n",
    "    reviewer_id STRING,\n",
    "    review_date DATE,\n",
    "    comments STRING,\n",
    "    EDW_PUBLCN_ID TIMESTAMP\n",
    ");\n"
   ]
  },
  {
   "cell_type": "markdown",
   "metadata": {
    "application/vnd.databricks.v1+cell": {
     "cellMetadata": {
      "byteLimit": 2048000,
      "rowLimit": 10000
     },
     "inputWidgets": {},
     "nuid": "3da3c1c6-46a8-437b-9ffb-895fd22763ba",
     "showTitle": false,
     "title": ""
    }
   },
   "source": [
    "To populate the dwh.fact_reviews table, we'll merge data from the staging.review table into it. This approach ensures no duplicates and allows for easy updates in the future:"
   ]
  },
  {
   "cell_type": "code",
   "execution_count": 0,
   "metadata": {
    "application/vnd.databricks.v1+cell": {
     "cellMetadata": {
      "byteLimit": 2048000,
      "implicitDf": true,
      "rowLimit": 10000
     },
     "inputWidgets": {},
     "nuid": "d442fc2a-752a-442a-ba81-6c12b03d3a67",
     "showTitle": false,
     "title": ""
    }
   },
   "outputs": [
    {
     "output_type": "display_data",
     "data": {
      "text/html": [
       "<style scoped>\n",
       "  .ansiout {\n",
       "    display: block;\n",
       "    unicode-bidi: embed;\n",
       "    white-space: pre-wrap;\n",
       "    word-wrap: break-word;\n",
       "    word-break: break-all;\n",
       "    font-family: \"Menlo\", \"Monaco\", \"Consolas\", \"Ubuntu Mono\", \"Source Code Pro\", monospace;\n",
       "    font-size: 13px;\n",
       "    color: #555;\n",
       "    margin-left: 4px;\n",
       "    line-height: 19px;\n",
       "  }\n",
       "</style>"
      ]
     },
     "metadata": {
      "application/vnd.databricks.v1+output": {
       "arguments": {},
       "data": "",
       "errorSummary": "Command skipped",
       "errorTraceType": "html",
       "metadata": {},
       "type": "ipynbError"
      }
     },
     "output_type": "display_data"
    }
   ],
   "source": [
    "%sql\n",
    "MERGE INTO dwh.fct_reviews AS target\n",
    "USING (\n",
    "    SELECT\n",
    "        review_id,\n",
    "        listing_id,\n",
    "        reviewer_id,\n",
    "        review_date,\n",
    "        comments,\n",
    "        current_timestamp() AS EDW_PUBLCN_ID\n",
    "    FROM \n",
    "        staging.review\n",
    ") AS source\n",
    "ON target.review_id = source.review_id\n",
    "WHEN MATCHED THEN\n",
    "    UPDATE SET \n",
    "        target.listing_id = source.listing_id,\n",
    "        target.reviewer_id = source.reviewer_id,\n",
    "        target.review_date = source.review_date,\n",
    "        target.comments = source.comments,\n",
    "        target.EDW_PUBLCN_ID = source.EDW_PUBLCN_ID\n",
    "WHEN NOT MATCHED THEN\n",
    "    INSERT *\n",
    ";\n"
   ]
  },
  {
   "cell_type": "code",
   "execution_count": 0,
   "metadata": {
    "application/vnd.databricks.v1+cell": {
     "cellMetadata": {
      "byteLimit": 2048000,
      "implicitDf": true,
      "rowLimit": 10000
     },
     "inputWidgets": {},
     "nuid": "3162d0b2-b9cc-41cb-9523-84ff5013b93e",
     "showTitle": false,
     "title": ""
    }
   },
   "outputs": [
    {
     "output_type": "display_data",
     "data": {
      "text/html": [
       "<style scoped>\n",
       "  .ansiout {\n",
       "    display: block;\n",
       "    unicode-bidi: embed;\n",
       "    white-space: pre-wrap;\n",
       "    word-wrap: break-word;\n",
       "    word-break: break-all;\n",
       "    font-family: \"Menlo\", \"Monaco\", \"Consolas\", \"Ubuntu Mono\", \"Source Code Pro\", monospace;\n",
       "    font-size: 13px;\n",
       "    color: #555;\n",
       "    margin-left: 4px;\n",
       "    line-height: 19px;\n",
       "  }\n",
       "</style>"
      ]
     },
     "metadata": {
      "application/vnd.databricks.v1+output": {
       "arguments": {},
       "data": "",
       "errorSummary": "Command skipped",
       "errorTraceType": "html",
       "metadata": {},
       "type": "ipynbError"
      }
     },
     "output_type": "display_data"
    }
   ],
   "source": [
    "%sql\n",
    "--checking for duplicates\n",
    "select listing_id, review_id, count(*)\n",
    "from dwh.fct_reviews\n",
    "group by all\n",
    "having count(*) > 1"
   ]
  },
  {
   "cell_type": "code",
   "execution_count": 0,
   "metadata": {
    "application/vnd.databricks.v1+cell": {
     "cellMetadata": {
      "byteLimit": 2048000,
      "implicitDf": true,
      "rowLimit": 10000
     },
     "inputWidgets": {},
     "nuid": "5d3cfb71-7a77-415c-aa74-ca0c69e38901",
     "showTitle": false,
     "title": ""
    }
   },
   "outputs": [
    {
     "output_type": "display_data",
     "data": {
      "text/html": [
       "<style scoped>\n",
       "  .ansiout {\n",
       "    display: block;\n",
       "    unicode-bidi: embed;\n",
       "    white-space: pre-wrap;\n",
       "    word-wrap: break-word;\n",
       "    word-break: break-all;\n",
       "    font-family: \"Menlo\", \"Monaco\", \"Consolas\", \"Ubuntu Mono\", \"Source Code Pro\", monospace;\n",
       "    font-size: 13px;\n",
       "    color: #555;\n",
       "    margin-left: 4px;\n",
       "    line-height: 19px;\n",
       "  }\n",
       "</style>"
      ]
     },
     "metadata": {
      "application/vnd.databricks.v1+output": {
       "arguments": {},
       "data": "",
       "errorSummary": "Command skipped",
       "errorTraceType": "html",
       "metadata": {},
       "type": "ipynbError"
      }
     },
     "output_type": "display_data"
    }
   ],
   "source": [
    "%sql\n",
    "CREATE OR REPLACE TABLE dwh.dim_reviewer (\n",
    "    reviewer_id INT ,   -- Identifier for the reviewer\n",
    "    reviewer_name STRING,           -- Name of the reviewer\n",
    "    EDW_PUBLCN_ID TIMESTAMP\n",
    ");\n"
   ]
  },
  {
   "cell_type": "code",
   "execution_count": 0,
   "metadata": {
    "application/vnd.databricks.v1+cell": {
     "cellMetadata": {
      "byteLimit": 2048000,
      "implicitDf": true,
      "rowLimit": 10000
     },
     "inputWidgets": {},
     "nuid": "4077a04a-a6ce-4d15-8b6e-68f644b8a4ff",
     "showTitle": false,
     "title": ""
    }
   },
   "outputs": [
    {
     "output_type": "display_data",
     "data": {
      "text/html": [
       "<style scoped>\n",
       "  .ansiout {\n",
       "    display: block;\n",
       "    unicode-bidi: embed;\n",
       "    white-space: pre-wrap;\n",
       "    word-wrap: break-word;\n",
       "    word-break: break-all;\n",
       "    font-family: \"Menlo\", \"Monaco\", \"Consolas\", \"Ubuntu Mono\", \"Source Code Pro\", monospace;\n",
       "    font-size: 13px;\n",
       "    color: #555;\n",
       "    margin-left: 4px;\n",
       "    line-height: 19px;\n",
       "  }\n",
       "</style>"
      ]
     },
     "metadata": {
      "application/vnd.databricks.v1+output": {
       "arguments": {},
       "data": "",
       "errorSummary": "Command skipped",
       "errorTraceType": "html",
       "metadata": {},
       "type": "ipynbError"
      }
     },
     "output_type": "display_data"
    }
   ],
   "source": [
    "%sql\n",
    "MERGE INTO dwh.dim_reviewer AS target\n",
    "USING (\n",
    "    SELECT DISTINCT\n",
    "        reviewer_id,\n",
    "        reviewer_name,\n",
    "        current_timestamp() AS EDW_PUBLCN_ID\n",
    "    FROM\n",
    "        staging.review\n",
    ") AS source\n",
    "ON target.reviewer_id = source.reviewer_id\n",
    "WHEN MATCHED THEN\n",
    "    UPDATE SET \n",
    "        target.reviewer_name = source.reviewer_name,\n",
    "        target.EDW_PUBLCN_ID = source.EDW_PUBLCN_ID\n",
    "WHEN NOT MATCHED THEN\n",
    "    INSERT (reviewer_id, reviewer_name, EDW_PUBLCN_ID)\n",
    "    VALUES (source.reviewer_id, source.reviewer_name, source.EDW_PUBLCN_ID);\n"
   ]
  },
  {
   "cell_type": "markdown",
   "metadata": {
    "application/vnd.databricks.v1+cell": {
     "cellMetadata": {
      "byteLimit": 2048000,
      "rowLimit": 10000
     },
     "inputWidgets": {},
     "nuid": "b53c073f-32c4-42bc-a904-6eb467556237",
     "showTitle": false,
     "title": ""
    }
   },
   "source": [
    "###REPORTING\n",
    "The reporting database is designed for quick data retrieval for analysis. Views play a key role because they:\n",
    "\n",
    "- Simplify data presentation.\n",
    "- Merge data from multiple sources.\n",
    "- Mask sensitive data.\n",
    "- Ensure consistent data access.\n",
    "\n",
    "Essentially, views optimize and secure data for better reporting outcomes."
   ]
  },
  {
   "cell_type": "markdown",
   "metadata": {
    "application/vnd.databricks.v1+cell": {
     "cellMetadata": {
      "byteLimit": 2048000,
      "implicitDf": true,
      "rowLimit": 10000
     },
     "inputWidgets": {},
     "nuid": "838e73f2-791d-4960-96bd-19750fbc3606",
     "showTitle": false,
     "title": ""
    }
   },
   "source": [
    "#### reporting.neighborhood_comparison\n",
    "Attributes for the view:\n",
    "\n",
    "- neighbourhood_name: The name of the neighborhood.\n",
    "- avg_rating: Average rating score of listings in the neighborhood.\n",
    "- avg_price: Average price of listings in the neighborhood.\n",
    "- most_common_property_type: Most prevalent property type in the neighborhood based on the number of listings."
   ]
  },
  {
   "cell_type": "code",
   "execution_count": 0,
   "metadata": {
    "application/vnd.databricks.v1+cell": {
     "cellMetadata": {
      "byteLimit": 2048000,
      "implicitDf": true,
      "rowLimit": 10000
     },
     "inputWidgets": {},
     "nuid": "1d573977-413a-469a-bde5-38204651f51f",
     "showTitle": false,
     "title": ""
    }
   },
   "outputs": [
    {
     "output_type": "display_data",
     "data": {
      "text/html": [
       "<style scoped>\n",
       "  .table-result-container {\n",
       "    max-height: 300px;\n",
       "    overflow: auto;\n",
       "  }\n",
       "  table, th, td {\n",
       "    border: 1px solid black;\n",
       "    border-collapse: collapse;\n",
       "  }\n",
       "  th, td {\n",
       "    padding: 5px;\n",
       "  }\n",
       "  th {\n",
       "    text-align: left;\n",
       "  }\n",
       "</style><div class='table-result-container'><table class='table-result'><thead style='background-color: white'><tr></tr></thead><tbody></tbody></table></div>"
      ]
     },
     "metadata": {
      "application/vnd.databricks.v1+output": {
       "addedWidgets": {},
       "aggData": [],
       "aggError": "",
       "aggOverflow": false,
       "aggSchema": [],
       "aggSeriesLimitReached": false,
       "aggType": "",
       "arguments": {},
       "columnCustomDisplayInfos": {},
       "data": [],
       "datasetInfos": [],
       "dbfsResultPath": null,
       "isJsonSchema": true,
       "metadata": {
        "dataframeName": null
       },
       "overflow": false,
       "plotOptions": {
        "customPlotOptions": {},
        "displayType": "table",
        "pivotAggregation": null,
        "pivotColumns": null,
        "xColumns": null,
        "yColumns": null
       },
       "removedWidgets": [],
       "schema": [],
       "type": "table"
      }
     },
     "output_type": "display_data"
    }
   ],
   "source": [
    "%sql\n",
    "\n",
    "CREATE OR REPLACE VIEW reporting.neighborhood_comparison AS\n",
    "\n",
    "WITH PropertyTypeCounts AS (\n",
    "    SELECT\n",
    "        neighbourhood_name,\n",
    "        property_type,\n",
    "        COUNT(*) AS property_type_count\n",
    "    FROM\n",
    "        dwh.fct_ratings_reviews as rf\n",
    "    JOIN\n",
    "        dwh.dim_neighbourhood  as n \n",
    "        ON rf.neighbourhood_id = n.neighbourhood_id\n",
    "    GROUP BY\n",
    "        neighbourhood_name,\n",
    "        property_type\n",
    ")\n",
    "\n",
    ", RankedPropertyTypes AS (\n",
    "    SELECT\n",
    "        neighbourhood_name,\n",
    "        property_type,\n",
    "        property_type_count,\n",
    "        RANK() OVER (PARTITION BY neighbourhood_name ORDER BY property_type_count DESC) AS ranking\n",
    "    FROM\n",
    "        PropertyTypeCounts\n",
    ")\n",
    "\n",
    "SELECT\n",
    "    n.neighbourhood_name,\n",
    "    round(AVG(f.review_scores_rating), 2) as avg_rating,\n",
    "    round(AVG(f.price), 2) as avg_price,\n",
    "    p.property_type as most_common_property_type,\n",
    "    latitude, \n",
    "    longitude   \n",
    "FROM\n",
    "    dwh.fct_ratings_reviews f\n",
    "JOIN\n",
    "    dwh.dim_neighbourhood n ON f.neighbourhood_id = n.neighbourhood_id\n",
    "JOIN\n",
    "    RankedPropertyTypes p ON n.neighbourhood_name = p.neighbourhood_name AND p.ranking = 1\n",
    "WHERE\n",
    "    f.review_scores_rating IS NOT NULL AND f.price IS NOT NULL\n",
    "GROUP BY\n",
    "    n.neighbourhood_name,\n",
    "    p.property_type,\n",
    "    n.latitude,\n",
    "    n.longitude;\n"
   ]
  },
  {
   "cell_type": "code",
   "execution_count": 0,
   "metadata": {
    "application/vnd.databricks.v1+cell": {
     "cellMetadata": {
      "byteLimit": 2048000,
      "implicitDf": true,
      "rowLimit": 10000
     },
     "inputWidgets": {},
     "nuid": "d01cf00c-7081-47a9-85eb-9bef87c656bf",
     "showTitle": false,
     "title": ""
    }
   },
   "outputs": [
    {
     "output_type": "display_data",
     "data": {
      "text/html": [
       "<style scoped>\n",
       "  .table-result-container {\n",
       "    max-height: 300px;\n",
       "    overflow: auto;\n",
       "  }\n",
       "  table, th, td {\n",
       "    border: 1px solid black;\n",
       "    border-collapse: collapse;\n",
       "  }\n",
       "  th, td {\n",
       "    padding: 5px;\n",
       "  }\n",
       "  th {\n",
       "    text-align: left;\n",
       "  }\n",
       "</style><div class='table-result-container'><table class='table-result'><thead style='background-color: white'><tr><th>neighbourhood_name</th><th>avg_rating</th><th>avg_price</th><th>most_common_property_type</th><th>latitude</th><th>longitude</th></tr></thead><tbody><tr><td>Satigny</td><td>4.82</td><td>141.0</td><td>Private room in apartment</td><td>46.21358108520508</td><td>6.035404014587402</td></tr><tr><td>Chancy</td><td>4.84</td><td>50.0</td><td>Private room in bed and breakfast</td><td>46.151371002197266</td><td>5.973229885101318</td></tr><tr><td>Hermance</td><td>4.75</td><td>209.25</td><td>Entire apartment</td><td>46.29617919921875</td><td>6.244332027435303</td></tr><tr><td>Confignon</td><td>4.69</td><td>93.5</td><td>Entire apartment</td><td>46.17920608520508</td><td>6.085241985321045</td></tr><tr><td>Bernex</td><td>1.75</td><td>74.67</td><td>Private room in apartment</td><td>46.17865753173828</td><td>6.07257878780365</td></tr><tr><td>Soral</td><td>4.83</td><td>70.0</td><td>Entire apartment</td><td>46.144265747070314</td><td>6.046381950378418</td></tr><tr><td>Vandoeuvres</td><td>5.0</td><td>335.0</td><td>Entire house</td><td>46.21209907531738</td><td>6.2081098556518555</td></tr><tr><td>Veyrier</td><td>4.79</td><td>80.7</td><td>Private room in apartment</td><td>46.17028359805836</td><td>6.17012882232666</td></tr><tr><td>Anières</td><td>4.99</td><td>137.5</td><td>Entire house</td><td>46.27988052368164</td><td>6.2260425090789795</td></tr><tr><td>Soral</td><td>4.83</td><td>70.0</td><td>Private room in bed and breakfast</td><td>46.144265747070314</td><td>6.046381950378418</td></tr><tr><td>Hermance</td><td>4.75</td><td>209.25</td><td>Room in hotel</td><td>46.29617919921875</td><td>6.244332027435303</td></tr><tr><td>Plan-les-Ouates</td><td>4.7</td><td>123.86</td><td>Private room in apartment</td><td>46.16787846883138</td><td>6.118375301361084</td></tr><tr><td>Bellevue</td><td>4.29</td><td>119.7</td><td>Private room in condominium</td><td>46.25446859995524</td><td>6.144661585489909</td></tr><tr><td>Troinex</td><td>4.71</td><td>67.0</td><td>Entire apartment</td><td>46.161460876464844</td><td>6.151516596476237</td></tr><tr><td>Versoix</td><td>4.73</td><td>102.83</td><td>Entire apartment</td><td>46.28473035026999</td><td>6.16304941738353</td></tr><tr><td>Soral</td><td>4.83</td><td>70.0</td><td>Entire condominium</td><td>46.144265747070314</td><td>6.046381950378418</td></tr><tr><td>Bernex</td><td>1.75</td><td>74.67</td><td>Entire apartment</td><td>46.17865753173828</td><td>6.07257878780365</td></tr><tr><td>Anières</td><td>4.99</td><td>137.5</td><td>Private room in tiny house</td><td>46.27988052368164</td><td>6.2260425090789795</td></tr><tr><td>Genthod</td><td>4.65</td><td>119.67</td><td>Entire house</td><td>46.26373036702474</td><td>6.152356677585178</td></tr><tr><td>Hermance</td><td>4.75</td><td>209.25</td><td>Entire townhouse</td><td>46.29617919921875</td><td>6.244332027435303</td></tr><tr><td>Soral</td><td>4.83</td><td>70.0</td><td>Private room in apartment</td><td>46.144265747070314</td><td>6.046381950378418</td></tr><tr><td>Bardonnex</td><td>4.59</td><td>55.0</td><td>Entire condominium</td><td>46.142924785614014</td><td>6.129654943943024</td></tr><tr><td>Chêne-Bourg</td><td>4.69</td><td>136.0</td><td>Entire apartment</td><td>46.19604737418039</td><td>6.195715665817261</td></tr><tr><td>Plan-les-Ouates</td><td>4.7</td><td>123.86</td><td>Entire house</td><td>46.16787846883138</td><td>6.118375301361084</td></tr><tr><td>Puplinge</td><td>3.9</td><td>100.8</td><td>Private room in villa</td><td>46.206246852874756</td><td>6.228972494602203</td></tr><tr><td>Russin</td><td>5.0</td><td>100.0</td><td>Entire apartment</td><td>46.18846893310547</td><td>6.0122599601745605</td></tr><tr><td>Jussy</td><td>5.0</td><td>55.0</td><td>Private room in house</td><td>46.23508071899414</td><td>6.266059875488281</td></tr><tr><td>Genthod</td><td>4.65</td><td>119.67</td><td>Private room in house</td><td>46.26373036702474</td><td>6.152356677585178</td></tr><tr><td>Hermance</td><td>4.75</td><td>209.25</td><td>Farm stay</td><td>46.29617919921875</td><td>6.244332027435303</td></tr><tr><td>Pregny-Chambésy</td><td>4.49</td><td>148.29</td><td>Entire apartment</td><td>46.243313380650115</td><td>6.13839696702503</td></tr><tr><td>Meyrin</td><td>4.23</td><td>84.34</td><td>Private room in apartment</td><td>46.22992346627372</td><td>6.083341148921422</td></tr><tr><td>Choulex</td><td>4.91</td><td>90.0</td><td>Private room in house</td><td>46.222455978393555</td><td>6.223180055618286</td></tr><tr><td>Carouge</td><td>4.68</td><td>99.04</td><td>Entire apartment</td><td>46.18372325102488</td><td>6.139604275425275</td></tr><tr><td>Onex</td><td>4.63</td><td>97.0</td><td>Private room in apartment</td><td>46.186279296875</td><td>6.101581235726674</td></tr><tr><td>Anières</td><td>4.99</td><td>137.5</td><td>Private room in house</td><td>46.27988052368164</td><td>6.2260425090789795</td></tr><tr><td>Avully</td><td>4.84</td><td>69.67</td><td>Private room in apartment</td><td>46.16606648763021</td><td>6.007119973500569</td></tr><tr><td>Meinier</td><td>4.14</td><td>106.67</td><td>Entire apartment</td><td>46.244465827941895</td><td>6.231289982795715</td></tr><tr><td>Collex-Bossy</td><td>3.63</td><td>273.5</td><td>Entire apartment</td><td>46.26654968261719</td><td>6.124266052246094</td></tr><tr><td>Puplinge</td><td>3.9</td><td>100.8</td><td>Private room in apartment</td><td>46.206246852874756</td><td>6.228972494602203</td></tr><tr><td>Hermance</td><td>4.75</td><td>209.25</td><td>Entire house</td><td>46.29617919921875</td><td>6.244332027435303</td></tr><tr><td>Commune de Genève</td><td>4.64</td><td>121.59</td><td>Entire apartment</td><td>46.20494697667375</td><td>6.1447652526377965</td></tr><tr><td>Soral</td><td>4.83</td><td>70.0</td><td>Entire cottage</td><td>46.144265747070314</td><td>6.046381950378418</td></tr><tr><td>Choulex</td><td>4.91</td><td>90.0</td><td>Entire loft</td><td>46.222455978393555</td><td>6.223180055618286</td></tr><tr><td>Genthod</td><td>4.65</td><td>119.67</td><td>Entire apartment</td><td>46.26373036702474</td><td>6.152356677585178</td></tr><tr><td>Grand-Saconnex</td><td>4.64</td><td>131.86</td><td>Private room in apartment</td><td>46.232375621795654</td><td>6.122182139328548</td></tr><tr><td>Vandoeuvres</td><td>5.0</td><td>335.0</td><td>Entire guesthouse</td><td>46.21209907531738</td><td>6.2081098556518555</td></tr><tr><td>Lancy</td><td>4.43</td><td>100.84</td><td>Entire apartment</td><td>46.18263603659237</td><td>6.1216356614056755</td></tr><tr><td>Corsier</td><td>4.72</td><td>84.67</td><td>Entire apartment</td><td>46.26394589742025</td><td>6.222644964853923</td></tr><tr><td>Collonge-Bellerive</td><td>4.85</td><td>169.73</td><td>Entire house</td><td>46.248945236206055</td><td>6.203615086419242</td></tr><tr><td>Anières</td><td>4.99</td><td>137.5</td><td>Private room in villa</td><td>46.27988052368164</td><td>6.2260425090789795</td></tr><tr><td>Thônex</td><td>4.73</td><td>78.52</td><td>Entire apartment</td><td>46.191736394708805</td><td>6.203878792849454</td></tr><tr><td>Chêne-Bougeries</td><td>4.43</td><td>163.88</td><td>Entire apartment</td><td>46.200147247314455</td><td>6.182647228240967</td></tr><tr><td>Puplinge</td><td>3.9</td><td>100.8</td><td>Entire apartment</td><td>46.206246852874756</td><td>6.228972494602203</td></tr><tr><td>Vernier</td><td>4.53</td><td>79.21</td><td>Private room in apartment</td><td>46.2091455106382</td><td>6.09874333275689</td></tr><tr><td>Cologny</td><td>4.52</td><td>139.53</td><td>Entire apartment</td><td>46.2137812100924</td><td>6.186290795986469</td></tr><tr><td>Perly-Certoux</td><td>5.0</td><td>88.0</td><td>Entire condominium</td><td>46.15187072753906</td><td>6.088799953460693</td></tr></tbody></table></div>"
      ]
     },
     "metadata": {
      "application/vnd.databricks.v1+output": {
       "addedWidgets": {},
       "aggData": [],
       "aggError": "",
       "aggOverflow": false,
       "aggSchema": [],
       "aggSeriesLimitReached": false,
       "aggType": "",
       "arguments": {},
       "columnCustomDisplayInfos": {},
       "data": [
        [
         "Satigny",
         4.82,
         141.0,
         "Private room in apartment",
         46.21358108520508,
         6.035404014587402
        ],
        [
         "Chancy",
         4.84,
         50.0,
         "Private room in bed and breakfast",
         46.151371002197266,
         5.973229885101318
        ],
        [
         "Hermance",
         4.75,
         209.25,
         "Entire apartment",
         46.29617919921875,
         6.244332027435303
        ],
        [
         "Confignon",
         4.69,
         93.5,
         "Entire apartment",
         46.17920608520508,
         6.085241985321045
        ],
        [
         "Bernex",
         1.75,
         74.67,
         "Private room in apartment",
         46.17865753173828,
         6.07257878780365
        ],
        [
         "Soral",
         4.83,
         70.0,
         "Entire apartment",
         46.144265747070314,
         6.046381950378418
        ],
        [
         "Vandoeuvres",
         5.0,
         335.0,
         "Entire house",
         46.21209907531738,
         6.2081098556518555
        ],
        [
         "Veyrier",
         4.79,
         80.7,
         "Private room in apartment",
         46.17028359805836,
         6.17012882232666
        ],
        [
         "Anières",
         4.99,
         137.5,
         "Entire house",
         46.27988052368164,
         6.2260425090789795
        ],
        [
         "Soral",
         4.83,
         70.0,
         "Private room in bed and breakfast",
         46.144265747070314,
         6.046381950378418
        ],
        [
         "Hermance",
         4.75,
         209.25,
         "Room in hotel",
         46.29617919921875,
         6.244332027435303
        ],
        [
         "Plan-les-Ouates",
         4.7,
         123.86,
         "Private room in apartment",
         46.16787846883138,
         6.118375301361084
        ],
        [
         "Bellevue",
         4.29,
         119.7,
         "Private room in condominium",
         46.25446859995524,
         6.144661585489909
        ],
        [
         "Troinex",
         4.71,
         67.0,
         "Entire apartment",
         46.161460876464844,
         6.151516596476237
        ],
        [
         "Versoix",
         4.73,
         102.83,
         "Entire apartment",
         46.28473035026999,
         6.16304941738353
        ],
        [
         "Soral",
         4.83,
         70.0,
         "Entire condominium",
         46.144265747070314,
         6.046381950378418
        ],
        [
         "Bernex",
         1.75,
         74.67,
         "Entire apartment",
         46.17865753173828,
         6.07257878780365
        ],
        [
         "Anières",
         4.99,
         137.5,
         "Private room in tiny house",
         46.27988052368164,
         6.2260425090789795
        ],
        [
         "Genthod",
         4.65,
         119.67,
         "Entire house",
         46.26373036702474,
         6.152356677585178
        ],
        [
         "Hermance",
         4.75,
         209.25,
         "Entire townhouse",
         46.29617919921875,
         6.244332027435303
        ],
        [
         "Soral",
         4.83,
         70.0,
         "Private room in apartment",
         46.144265747070314,
         6.046381950378418
        ],
        [
         "Bardonnex",
         4.59,
         55.0,
         "Entire condominium",
         46.142924785614014,
         6.129654943943024
        ],
        [
         "Chêne-Bourg",
         4.69,
         136.0,
         "Entire apartment",
         46.19604737418039,
         6.195715665817261
        ],
        [
         "Plan-les-Ouates",
         4.7,
         123.86,
         "Entire house",
         46.16787846883138,
         6.118375301361084
        ],
        [
         "Puplinge",
         3.9,
         100.8,
         "Private room in villa",
         46.206246852874756,
         6.228972494602203
        ],
        [
         "Russin",
         5.0,
         100.0,
         "Entire apartment",
         46.18846893310547,
         6.0122599601745605
        ],
        [
         "Jussy",
         5.0,
         55.0,
         "Private room in house",
         46.23508071899414,
         6.266059875488281
        ],
        [
         "Genthod",
         4.65,
         119.67,
         "Private room in house",
         46.26373036702474,
         6.152356677585178
        ],
        [
         "Hermance",
         4.75,
         209.25,
         "Farm stay",
         46.29617919921875,
         6.244332027435303
        ],
        [
         "Pregny-Chambésy",
         4.49,
         148.29,
         "Entire apartment",
         46.243313380650115,
         6.13839696702503
        ],
        [
         "Meyrin",
         4.23,
         84.34,
         "Private room in apartment",
         46.22992346627372,
         6.083341148921422
        ],
        [
         "Choulex",
         4.91,
         90.0,
         "Private room in house",
         46.222455978393555,
         6.223180055618286
        ],
        [
         "Carouge",
         4.68,
         99.04,
         "Entire apartment",
         46.18372325102488,
         6.139604275425275
        ],
        [
         "Onex",
         4.63,
         97.0,
         "Private room in apartment",
         46.186279296875,
         6.101581235726674
        ],
        [
         "Anières",
         4.99,
         137.5,
         "Private room in house",
         46.27988052368164,
         6.2260425090789795
        ],
        [
         "Avully",
         4.84,
         69.67,
         "Private room in apartment",
         46.16606648763021,
         6.007119973500569
        ],
        [
         "Meinier",
         4.14,
         106.67,
         "Entire apartment",
         46.244465827941895,
         6.231289982795715
        ],
        [
         "Collex-Bossy",
         3.63,
         273.5,
         "Entire apartment",
         46.26654968261719,
         6.124266052246094
        ],
        [
         "Puplinge",
         3.9,
         100.8,
         "Private room in apartment",
         46.206246852874756,
         6.228972494602203
        ],
        [
         "Hermance",
         4.75,
         209.25,
         "Entire house",
         46.29617919921875,
         6.244332027435303
        ],
        [
         "Commune de Genève",
         4.64,
         121.59,
         "Entire apartment",
         46.20494697667375,
         6.1447652526377965
        ],
        [
         "Soral",
         4.83,
         70.0,
         "Entire cottage",
         46.144265747070314,
         6.046381950378418
        ],
        [
         "Choulex",
         4.91,
         90.0,
         "Entire loft",
         46.222455978393555,
         6.223180055618286
        ],
        [
         "Genthod",
         4.65,
         119.67,
         "Entire apartment",
         46.26373036702474,
         6.152356677585178
        ],
        [
         "Grand-Saconnex",
         4.64,
         131.86,
         "Private room in apartment",
         46.232375621795654,
         6.122182139328548
        ],
        [
         "Vandoeuvres",
         5.0,
         335.0,
         "Entire guesthouse",
         46.21209907531738,
         6.2081098556518555
        ],
        [
         "Lancy",
         4.43,
         100.84,
         "Entire apartment",
         46.18263603659237,
         6.1216356614056755
        ],
        [
         "Corsier",
         4.72,
         84.67,
         "Entire apartment",
         46.26394589742025,
         6.222644964853923
        ],
        [
         "Collonge-Bellerive",
         4.85,
         169.73,
         "Entire house",
         46.248945236206055,
         6.203615086419242
        ],
        [
         "Anières",
         4.99,
         137.5,
         "Private room in villa",
         46.27988052368164,
         6.2260425090789795
        ],
        [
         "Thônex",
         4.73,
         78.52,
         "Entire apartment",
         46.191736394708805,
         6.203878792849454
        ],
        [
         "Chêne-Bougeries",
         4.43,
         163.88,
         "Entire apartment",
         46.200147247314455,
         6.182647228240967
        ],
        [
         "Puplinge",
         3.9,
         100.8,
         "Entire apartment",
         46.206246852874756,
         6.228972494602203
        ],
        [
         "Vernier",
         4.53,
         79.21,
         "Private room in apartment",
         46.2091455106382,
         6.09874333275689
        ],
        [
         "Cologny",
         4.52,
         139.53,
         "Entire apartment",
         46.2137812100924,
         6.186290795986469
        ],
        [
         "Perly-Certoux",
         5.0,
         88.0,
         "Entire condominium",
         46.15187072753906,
         6.088799953460693
        ]
       ],
       "datasetInfos": [],
       "dbfsResultPath": null,
       "isJsonSchema": true,
       "metadata": {
        "dataframeName": "_sqldf",
        "executionCount": 21
       },
       "overflow": false,
       "plotOptions": {
        "customPlotOptions": {},
        "displayType": "table",
        "pivotAggregation": null,
        "pivotColumns": null,
        "xColumns": null,
        "yColumns": null
       },
       "removedWidgets": [],
       "schema": [
        {
         "metadata": "{}",
         "name": "neighbourhood_name",
         "type": "\"string\""
        },
        {
         "metadata": "{}",
         "name": "avg_rating",
         "type": "\"double\""
        },
        {
         "metadata": "{}",
         "name": "avg_price",
         "type": "\"double\""
        },
        {
         "metadata": "{}",
         "name": "most_common_property_type",
         "type": "\"string\""
        },
        {
         "metadata": "{}",
         "name": "latitude",
         "type": "\"double\""
        },
        {
         "metadata": "{}",
         "name": "longitude",
         "type": "\"double\""
        }
       ],
       "type": "table"
      }
     },
     "output_type": "display_data"
    }
   ],
   "source": [
    "%sql\n",
    "select * from reporting.neighborhood_comparison"
   ]
  },
  {
   "cell_type": "markdown",
   "metadata": {
    "application/vnd.databricks.v1+cell": {
     "cellMetadata": {
      "byteLimit": 2048000,
      "implicitDf": true,
      "rowLimit": 10000
     },
     "inputWidgets": {},
     "nuid": "31df8942-b4ee-48b3-8e04-76e2465fc776",
     "showTitle": false,
     "title": ""
    }
   },
   "source": [
    "#### reporting.rating_factors\n",
    "Attributes for the  view:\n",
    "\n",
    "- property_type: Type of the property.\n",
    "- avg_rating: Average rating score for the property type.\n",
    "- avg_price: Average price for the property type.\n",
    "- number_of_listings: Count of listings for each property type."
   ]
  },
  {
   "cell_type": "code",
   "execution_count": 0,
   "metadata": {
    "application/vnd.databricks.v1+cell": {
     "cellMetadata": {
      "byteLimit": 2048000,
      "implicitDf": true,
      "rowLimit": 10000
     },
     "inputWidgets": {},
     "nuid": "1723411c-6a3d-4095-9f2a-fe395b696d5b",
     "showTitle": false,
     "title": ""
    }
   },
   "outputs": [
    {
     "output_type": "display_data",
     "data": {
      "text/html": [
       "<style scoped>\n",
       "  .ansiout {\n",
       "    display: block;\n",
       "    unicode-bidi: embed;\n",
       "    white-space: pre-wrap;\n",
       "    word-wrap: break-word;\n",
       "    word-break: break-all;\n",
       "    font-family: \"Menlo\", \"Monaco\", \"Consolas\", \"Ubuntu Mono\", \"Source Code Pro\", monospace;\n",
       "    font-size: 13px;\n",
       "    color: #555;\n",
       "    margin-left: 4px;\n",
       "    line-height: 19px;\n",
       "  }\n",
       "</style>"
      ]
     },
     "metadata": {
      "application/vnd.databricks.v1+output": {
       "arguments": {},
       "data": "",
       "errorSummary": "Command skipped",
       "errorTraceType": "html",
       "metadata": {},
       "type": "ipynbError"
      }
     },
     "output_type": "display_data"
    }
   ],
   "source": [
    "%sql\n",
    "--Factors for higher rating\n",
    "CREATE OR REPLACE VIEW reporting.rating_factors AS\n",
    "SELECT \n",
    "    property_type,\n",
    "    AVG(review_scores_rating)::DECIMAL(4,2) as avg_rating,\n",
    "    AVG(price)::DECIMAL(10,2) as avg_price,\n",
    "    COUNT(listing_id) as number_of_listings\n",
    "FROM \n",
    "    dwh.fct_ratings_reviews\n",
    "WHERE review_scores_rating  IS NOT NULL\n",
    "  AND price IS NOT NULL\n",
    "GROUP BY \n",
    "    property_type;"
   ]
  },
  {
   "cell_type": "code",
   "execution_count": 0,
   "metadata": {
    "application/vnd.databricks.v1+cell": {
     "cellMetadata": {
      "byteLimit": 2048000,
      "implicitDf": true,
      "rowLimit": 10000
     },
     "inputWidgets": {},
     "nuid": "fd3332a9-fffc-4cc6-98f3-5ef642d47fde",
     "showTitle": false,
     "title": ""
    }
   },
   "outputs": [
    {
     "output_type": "display_data",
     "data": {
      "text/html": [
       "<style scoped>\n",
       "  .table-result-container {\n",
       "    max-height: 300px;\n",
       "    overflow: auto;\n",
       "  }\n",
       "  table, th, td {\n",
       "    border: 1px solid black;\n",
       "    border-collapse: collapse;\n",
       "  }\n",
       "  th, td {\n",
       "    padding: 5px;\n",
       "  }\n",
       "  th {\n",
       "    text-align: left;\n",
       "  }\n",
       "</style><div class='table-result-container'><table class='table-result'><thead style='background-color: white'><tr><th>property_type</th><th>avg_rating</th><th>avg_price</th><th>number_of_listings</th></tr></thead><tbody><tr><td>Private room in loft</td><td>4.90</td><td>118.25</td><td>4</td></tr><tr><td>Farm stay</td><td>4.00</td><td>219.00</td><td>1</td></tr><tr><td>Entire apartment</td><td>4.63</td><td>130.54</td><td>848</td></tr><tr><td>Entire house</td><td>4.56</td><td>246.66</td><td>29</td></tr><tr><td>Shared room in condominium</td><td>5.00</td><td>133.00</td><td>1</td></tr><tr><td>Room in boutique hotel</td><td>4.30</td><td>106.50</td><td>14</td></tr><tr><td>Private room in casa particular</td><td>4.42</td><td>67.00</td><td>9</td></tr><tr><td>Entire guesthouse</td><td>4.80</td><td>87.56</td><td>9</td></tr><tr><td>Private room in nature lodge</td><td>4.63</td><td>70.00</td><td>1</td></tr><tr><td>Entire guest suite</td><td>4.27</td><td>96.25</td><td>4</td></tr><tr><td>Entire place</td><td>4.95</td><td>132.00</td><td>1</td></tr><tr><td>Private room in condominium</td><td>4.58</td><td>63.83</td><td>23</td></tr><tr><td>Private room in hostel</td><td>4.49</td><td>50.00</td><td>2</td></tr><tr><td>Private room in chalet</td><td>4.88</td><td>44.00</td><td>1</td></tr><tr><td>Room in aparthotel</td><td>4.75</td><td>230.00</td><td>2</td></tr><tr><td>Entire bed and breakfast</td><td>4.68</td><td>98.00</td><td>1</td></tr><tr><td>Private room in guest suite</td><td>4.80</td><td>93.00</td><td>1</td></tr><tr><td>Entire townhouse</td><td>3.97</td><td>168.80</td><td>5</td></tr><tr><td>Entire villa</td><td>4.92</td><td>403.89</td><td>9</td></tr><tr><td>Room in hotel</td><td>4.54</td><td>122.00</td><td>11</td></tr><tr><td>Private room in bed and breakfast</td><td>4.79</td><td>53.85</td><td>13</td></tr><tr><td>Entire serviced apartment</td><td>4.38</td><td>165.18</td><td>60</td></tr><tr><td>Entire condominium</td><td>4.67</td><td>127.76</td><td>58</td></tr><tr><td>Private room in serviced apartment</td><td>4.21</td><td>166.25</td><td>4</td></tr><tr><td>Private room in apartment</td><td>4.62</td><td>71.45</td><td>337</td></tr><tr><td>Yurt</td><td>4.84</td><td>54.00</td><td>1</td></tr><tr><td>Entire loft</td><td>4.67</td><td>156.27</td><td>15</td></tr><tr><td>Private room in tiny house</td><td>5.00</td><td>61.00</td><td>1</td></tr><tr><td>Private room in house</td><td>4.80</td><td>95.92</td><td>53</td></tr><tr><td>Shared room in loft</td><td>4.80</td><td>23.00</td><td>1</td></tr><tr><td>Tiny house</td><td>4.82</td><td>53.00</td><td>3</td></tr><tr><td>Boat</td><td>4.64</td><td>190.00</td><td>3</td></tr><tr><td>Private room in villa</td><td>3.78</td><td>96.67</td><td>9</td></tr><tr><td>Private room in guesthouse</td><td>5.00</td><td>85.00</td><td>1</td></tr><tr><td>Houseboat</td><td>4.79</td><td>393.00</td><td>1</td></tr><tr><td>Private room in townhouse</td><td>4.95</td><td>72.50</td><td>4</td></tr><tr><td>Shared room in apartment</td><td>4.80</td><td>114.89</td><td>9</td></tr><tr><td>Entire bungalow</td><td>4.67</td><td>99.00</td><td>1</td></tr></tbody></table></div>"
      ]
     },
     "metadata": {
      "application/vnd.databricks.v1+output": {
       "addedWidgets": {},
       "aggData": [],
       "aggError": "",
       "aggOverflow": false,
       "aggSchema": [],
       "aggSeriesLimitReached": false,
       "aggType": "",
       "arguments": {},
       "columnCustomDisplayInfos": {},
       "data": [
        [
         "Private room in loft",
         "4.90",
         "118.25",
         4
        ],
        [
         "Farm stay",
         "4.00",
         "219.00",
         1
        ],
        [
         "Entire apartment",
         "4.63",
         "130.54",
         848
        ],
        [
         "Entire house",
         "4.56",
         "246.66",
         29
        ],
        [
         "Shared room in condominium",
         "5.00",
         "133.00",
         1
        ],
        [
         "Room in boutique hotel",
         "4.30",
         "106.50",
         14
        ],
        [
         "Private room in casa particular",
         "4.42",
         "67.00",
         9
        ],
        [
         "Entire guesthouse",
         "4.80",
         "87.56",
         9
        ],
        [
         "Private room in nature lodge",
         "4.63",
         "70.00",
         1
        ],
        [
         "Entire guest suite",
         "4.27",
         "96.25",
         4
        ],
        [
         "Entire place",
         "4.95",
         "132.00",
         1
        ],
        [
         "Private room in condominium",
         "4.58",
         "63.83",
         23
        ],
        [
         "Private room in hostel",
         "4.49",
         "50.00",
         2
        ],
        [
         "Private room in chalet",
         "4.88",
         "44.00",
         1
        ],
        [
         "Room in aparthotel",
         "4.75",
         "230.00",
         2
        ],
        [
         "Entire bed and breakfast",
         "4.68",
         "98.00",
         1
        ],
        [
         "Private room in guest suite",
         "4.80",
         "93.00",
         1
        ],
        [
         "Entire townhouse",
         "3.97",
         "168.80",
         5
        ],
        [
         "Entire villa",
         "4.92",
         "403.89",
         9
        ],
        [
         "Room in hotel",
         "4.54",
         "122.00",
         11
        ],
        [
         "Private room in bed and breakfast",
         "4.79",
         "53.85",
         13
        ],
        [
         "Entire serviced apartment",
         "4.38",
         "165.18",
         60
        ],
        [
         "Entire condominium",
         "4.67",
         "127.76",
         58
        ],
        [
         "Private room in serviced apartment",
         "4.21",
         "166.25",
         4
        ],
        [
         "Private room in apartment",
         "4.62",
         "71.45",
         337
        ],
        [
         "Yurt",
         "4.84",
         "54.00",
         1
        ],
        [
         "Entire loft",
         "4.67",
         "156.27",
         15
        ],
        [
         "Private room in tiny house",
         "5.00",
         "61.00",
         1
        ],
        [
         "Private room in house",
         "4.80",
         "95.92",
         53
        ],
        [
         "Shared room in loft",
         "4.80",
         "23.00",
         1
        ],
        [
         "Tiny house",
         "4.82",
         "53.00",
         3
        ],
        [
         "Boat",
         "4.64",
         "190.00",
         3
        ],
        [
         "Private room in villa",
         "3.78",
         "96.67",
         9
        ],
        [
         "Private room in guesthouse",
         "5.00",
         "85.00",
         1
        ],
        [
         "Houseboat",
         "4.79",
         "393.00",
         1
        ],
        [
         "Private room in townhouse",
         "4.95",
         "72.50",
         4
        ],
        [
         "Shared room in apartment",
         "4.80",
         "114.89",
         9
        ],
        [
         "Entire bungalow",
         "4.67",
         "99.00",
         1
        ]
       ],
       "datasetInfos": [],
       "dbfsResultPath": null,
       "isJsonSchema": true,
       "metadata": {
        "dataframeName": "_sqldf",
        "executionCount": 4
       },
       "overflow": false,
       "plotOptions": {
        "customPlotOptions": {},
        "displayType": "table",
        "pivotAggregation": null,
        "pivotColumns": null,
        "xColumns": null,
        "yColumns": null
       },
       "removedWidgets": [],
       "schema": [
        {
         "metadata": "{}",
         "name": "property_type",
         "type": "\"string\""
        },
        {
         "metadata": "{}",
         "name": "avg_rating",
         "type": "\"decimal(4,2)\""
        },
        {
         "metadata": "{}",
         "name": "avg_price",
         "type": "\"decimal(10,2)\""
        },
        {
         "metadata": "{}",
         "name": "number_of_listings",
         "type": "\"long\""
        }
       ],
       "type": "table"
      }
     },
     "output_type": "display_data"
    }
   ],
   "source": [
    "%sql\n",
    "select * from reporting.rating_factors"
   ]
  },
  {
   "cell_type": "markdown",
   "metadata": {
    "application/vnd.databricks.v1+cell": {
     "cellMetadata": {
      "byteLimit": 2048000,
      "implicitDf": true,
      "rowLimit": 10000
     },
     "inputWidgets": {},
     "nuid": "ff1a8ae2-be60-4b94-b9f0-e80d65db5d4a",
     "showTitle": false,
     "title": ""
    }
   },
   "source": [
    "#### reporting.price_rating_correlation\n",
    "Attributes for the  view:\n",
    "\n",
    "- listing_id: Unique identifier for the listing.\n",
    "- average_price: Average price for the listing.\n",
    "- average_rating: Average rating score for the listing."
   ]
  },
  {
   "cell_type": "code",
   "execution_count": 0,
   "metadata": {
    "application/vnd.databricks.v1+cell": {
     "cellMetadata": {
      "byteLimit": 2048000,
      "implicitDf": true,
      "rowLimit": 10000
     },
     "inputWidgets": {},
     "nuid": "4d53f218-eb55-4b9e-9c03-d89678e03dbd",
     "showTitle": false,
     "title": ""
    }
   },
   "outputs": [
    {
     "output_type": "display_data",
     "data": {
      "text/html": [
       "<style scoped>\n",
       "  .ansiout {\n",
       "    display: block;\n",
       "    unicode-bidi: embed;\n",
       "    white-space: pre-wrap;\n",
       "    word-wrap: break-word;\n",
       "    word-break: break-all;\n",
       "    font-family: \"Menlo\", \"Monaco\", \"Consolas\", \"Ubuntu Mono\", \"Source Code Pro\", monospace;\n",
       "    font-size: 13px;\n",
       "    color: #555;\n",
       "    margin-left: 4px;\n",
       "    line-height: 19px;\n",
       "  }\n",
       "</style>"
      ]
     },
     "metadata": {
      "application/vnd.databricks.v1+output": {
       "arguments": {},
       "data": "",
       "errorSummary": "Command skipped",
       "errorTraceType": "html",
       "metadata": {},
       "type": "ipynbError"
      }
     },
     "output_type": "display_data"
    }
   ],
   "source": [
    "%sql\n",
    "CREATE OR REPLACE VIEW reporting.price_rating_correlation AS\n",
    "SELECT \n",
    "    listing_id,\n",
    "    AVG(price)::DECIMAL(10,2) as average_price,  \n",
    "    AVG(review_scores_rating)::DECIMAL(4,2) as average_rating  \n",
    "FROM \n",
    "    dwh.fact_ratings_reviews\n",
    "WHERE review_scores_rating  IS NOT NULL\n",
    "  AND price IS NOT NULL\n",
    "GROUP BY \n",
    "    listing_id;"
   ]
  },
  {
   "cell_type": "code",
   "execution_count": 0,
   "metadata": {
    "application/vnd.databricks.v1+cell": {
     "cellMetadata": {
      "byteLimit": 2048000,
      "implicitDf": true,
      "rowLimit": 10000
     },
     "inputWidgets": {},
     "nuid": "140458c9-9dc4-428b-bda5-b90ead5e92d3",
     "showTitle": false,
     "title": ""
    }
   },
   "outputs": [
    {
     "output_type": "display_data",
     "data": {
      "text/html": [
       "<style scoped>\n",
       "  .table-result-container {\n",
       "    max-height: 300px;\n",
       "    overflow: auto;\n",
       "  }\n",
       "  table, th, td {\n",
       "    border: 1px solid black;\n",
       "    border-collapse: collapse;\n",
       "  }\n",
       "  th, td {\n",
       "    padding: 5px;\n",
       "  }\n",
       "  th {\n",
       "    text-align: left;\n",
       "  }\n",
       "</style><div class='table-result-container'><table class='table-result'><thead style='background-color: white'><tr><th>listing_id</th><th>average_price</th><th>average_rating</th></tr></thead><tbody><tr><td>7297517</td><td>64.00</td><td>4.37</td></tr><tr><td>15286007</td><td>90.00</td><td>4.92</td></tr><tr><td>29254763</td><td>154.00</td><td>4.94</td></tr><tr><td>34107998</td><td>110.00</td><td>5.00</td></tr><tr><td>36587460</td><td>65.00</td><td>5.00</td></tr><tr><td>40082506</td><td>100.00</td><td>4.59</td></tr><tr><td>40837539</td><td>110.00</td><td>4.00</td></tr><tr><td>47778061</td><td>219.00</td><td>4.00</td></tr><tr><td>48342247</td><td>92.00</td><td>3.00</td></tr><tr><td>6125767</td><td>140.00</td><td>4.50</td></tr><tr><td>18778594</td><td>100.00</td><td>5.00</td></tr><tr><td>40196577</td><td>200.00</td><td>4.50</td></tr><tr><td>42420052</td><td>160.00</td><td>5.00</td></tr><tr><td>47024348</td><td>84.00</td><td>4.43</td></tr><tr><td>411058</td><td>125.00</td><td>4.78</td></tr><tr><td>914760</td><td>150.00</td><td>4.91</td></tr><tr><td>1298750</td><td>90.00</td><td>4.65</td></tr><tr><td>10643746</td><td>70.00</td><td>4.94</td></tr><tr><td>12415551</td><td>500.00</td><td>5.00</td></tr><tr><td>22522031</td><td>70.00</td><td>4.76</td></tr><tr><td>33577148</td><td>169.00</td><td>4.83</td></tr><tr><td>33937462</td><td>35.00</td><td>3.88</td></tr><tr><td>37085244</td><td>69.00</td><td>4.82</td></tr><tr><td>14610010</td><td>95.00</td><td>4.65</td></tr><tr><td>39541447</td><td>104.00</td><td>5.00</td></tr><tr><td>40524836</td><td>110.00</td><td>4.49</td></tr><tr><td>42168595</td><td>75.00</td><td>4.50</td></tr><tr><td>49568039</td><td>100.00</td><td>5.00</td></tr><tr><td>17317397</td><td>60.00</td><td>4.91</td></tr><tr><td>23522575</td><td>310.00</td><td>4.47</td></tr><tr><td>26852531</td><td>120.00</td><td>5.00</td></tr><tr><td>2137826</td><td>130.00</td><td>4.22</td></tr><tr><td>2664733</td><td>979.00</td><td>4.89</td></tr><tr><td>5009111</td><td>95.00</td><td>4.74</td></tr><tr><td>19909824</td><td>132.00</td><td>4.45</td></tr><tr><td>45777110</td><td>80.00</td><td>4.50</td></tr><tr><td>46235554</td><td>86.00</td><td>4.67</td></tr><tr><td>49764403</td><td>221.00</td><td>5.00</td></tr><tr><td>2510707</td><td>90.00</td><td>4.82</td></tr><tr><td>8819965</td><td>105.00</td><td>4.88</td></tr><tr><td>10315558</td><td>55.00</td><td>4.89</td></tr><tr><td>13543594</td><td>70.00</td><td>4.54</td></tr><tr><td>15125542</td><td>85.00</td><td>4.96</td></tr><tr><td>34641228</td><td>160.00</td><td>4.95</td></tr><tr><td>42501864</td><td>87.00</td><td>5.00</td></tr><tr><td>6829050</td><td>100.00</td><td>4.71</td></tr><tr><td>7605791</td><td>124.00</td><td>5.00</td></tr><tr><td>13340278</td><td>54.00</td><td>4.73</td></tr><tr><td>18015596</td><td>167.00</td><td>5.00</td></tr><tr><td>22556279</td><td>130.00</td><td>4.80</td></tr><tr><td>23834694</td><td>150.00</td><td>4.00</td></tr><tr><td>32886079</td><td>70.00</td><td>4.50</td></tr><tr><td>37930603</td><td>60.00</td><td>4.70</td></tr><tr><td>43473237</td><td>99.00</td><td>5.00</td></tr><tr><td>49019972</td><td>80.00</td><td>5.00</td></tr><tr><td>15475710</td><td>190.00</td><td>5.00</td></tr><tr><td>23001688</td><td>246.00</td><td>4.92</td></tr><tr><td>28398977</td><td>80.00</td><td>4.95</td></tr><tr><td>38069129</td><td>100.00</td><td>5.00</td></tr><tr><td>39268035</td><td>68.00</td><td>4.45</td></tr><tr><td>23621747</td><td>110.00</td><td>4.88</td></tr><tr><td>30739269</td><td>80.00</td><td>5.00</td></tr><tr><td>46290636</td><td>200.00</td><td>5.00</td></tr><tr><td>46817883</td><td>75.00</td><td>4.80</td></tr><tr><td>47007972</td><td>145.00</td><td>4.33</td></tr><tr><td>5137416</td><td>156.00</td><td>4.91</td></tr><tr><td>11540186</td><td>80.00</td><td>5.00</td></tr><tr><td>24234484</td><td>53.00</td><td>4.80</td></tr><tr><td>25673090</td><td>45.00</td><td>4.83</td></tr><tr><td>29259762</td><td>49.00</td><td>4.79</td></tr><tr><td>34584025</td><td>60.00</td><td>1.00</td></tr><tr><td>37610871</td><td>49.00</td><td>4.50</td></tr><tr><td>41465859</td><td>34.00</td><td>5.00</td></tr><tr><td>50111464</td><td>159.00</td><td>5.00</td></tr><tr><td>3108317</td><td>55.00</td><td>4.89</td></tr><tr><td>4798214</td><td>106.00</td><td>4.80</td></tr><tr><td>13009983</td><td>400.00</td><td>5.00</td></tr><tr><td>14311842</td><td>200.00</td><td>5.00</td></tr><tr><td>15862729</td><td>77.00</td><td>4.31</td></tr><tr><td>17343502</td><td>75.00</td><td>4.51</td></tr><tr><td>25487069</td><td>122.00</td><td>4.84</td></tr><tr><td>35992700</td><td>50.00</td><td>5.00</td></tr><tr><td>47867700</td><td>124.00</td><td>5.00</td></tr><tr><td>48434784</td><td>40.00</td><td>4.60</td></tr><tr><td>11026738</td><td>261.00</td><td>3.00</td></tr><tr><td>11686599</td><td>119.00</td><td>4.77</td></tr><tr><td>15112647</td><td>70.00</td><td>5.00</td></tr><tr><td>17658638</td><td>190.00</td><td>4.20</td></tr><tr><td>20161851</td><td>99.00</td><td>5.00</td></tr><tr><td>31421874</td><td>75.00</td><td>5.00</td></tr><tr><td>33311524</td><td>55.00</td><td>5.00</td></tr><tr><td>39954058</td><td>77.00</td><td>1.00</td></tr><tr><td>41883379</td><td>119.00</td><td>4.80</td></tr><tr><td>2035090</td><td>70.00</td><td>4.96</td></tr><tr><td>3393746</td><td>52.00</td><td>4.87</td></tr><tr><td>13646487</td><td>89.00</td><td>5.00</td></tr><tr><td>13785087</td><td>68.00</td><td>4.22</td></tr><tr><td>19382028</td><td>119.00</td><td>4.74</td></tr><tr><td>34831175</td><td>109.00</td><td>4.85</td></tr><tr><td>38642710</td><td>64.00</td><td>5.00</td></tr><tr><td>40497395</td><td>180.00</td><td>4.64</td></tr><tr><td>41077185</td><td>132.00</td><td>3.00</td></tr><tr><td>41169889</td><td>132.00</td><td>5.00</td></tr><tr><td>4887567</td><td>289.00</td><td>4.89</td></tr><tr><td>7551598</td><td>55.00</td><td>4.62</td></tr><tr><td>11157603</td><td>140.00</td><td>4.76</td></tr><tr><td>21003738</td><td>121.00</td><td>4.91</td></tr><tr><td>23699607</td><td>90.00</td><td>4.24</td></tr><tr><td>35876107</td><td>125.00</td><td>5.00</td></tr><tr><td>43421268</td><td>350.00</td><td>4.50</td></tr><tr><td>46580382</td><td>50.00</td><td>5.00</td></tr><tr><td>14408918</td><td>30.00</td><td>4.00</td></tr><tr><td>21448011</td><td>70.00</td><td>4.24</td></tr><tr><td>26769006</td><td>120.00</td><td>5.00</td></tr><tr><td>29795164</td><td>110.00</td><td>4.80</td></tr><tr><td>31404215</td><td>150.00</td><td>4.92</td></tr><tr><td>33878801</td><td>140.00</td><td>5.00</td></tr><tr><td>37935895</td><td>280.00</td><td>5.00</td></tr><tr><td>43335473</td><td>107.00</td><td>5.00</td></tr><tr><td>18624447</td><td>110.00</td><td>5.00</td></tr><tr><td>21971383</td><td>49.00</td><td>4.40</td></tr><tr><td>22948679</td><td>155.00</td><td>4.95</td></tr><tr><td>29749870</td><td>110.00</td><td>4.38</td></tr><tr><td>43721539</td><td>185.00</td><td>4.00</td></tr><tr><td>9742032</td><td>142.00</td><td>4.13</td></tr><tr><td>13271249</td><td>95.00</td><td>4.72</td></tr><tr><td>13949022</td><td>100.00</td><td>4.75</td></tr><tr><td>18766274</td><td>79.00</td><td>4.33</td></tr><tr><td>19566207</td><td>110.00</td><td>4.81</td></tr><tr><td>19777691</td><td>160.00</td><td>5.00</td></tr><tr><td>20808702</td><td>130.00</td><td>4.44</td></tr><tr><td>21573621</td><td>50.00</td><td>4.31</td></tr><tr><td>23304254</td><td>390.00</td><td>5.00</td></tr><tr><td>37116467</td><td>70.00</td><td>4.00</td></tr><tr><td>37438894</td><td>115.00</td><td>4.00</td></tr><tr><td>37875007</td><td>58.00</td><td>4.33</td></tr><tr><td>41681076</td><td>126.00</td><td>5.00</td></tr><tr><td>1883650</td><td>50.00</td><td>4.50</td></tr><tr><td>2451175</td><td>30.00</td><td>4.55</td></tr><tr><td>3866275</td><td>130.00</td><td>4.79</td></tr><tr><td>42068585</td><td>65.00</td><td>5.00</td></tr><tr><td>2484804</td><td>194.00</td><td>5.00</td></tr><tr><td>5817333</td><td>208.00</td><td>4.41</td></tr><tr><td>21090658</td><td>86.00</td><td>4.75</td></tr><tr><td>26093275</td><td>40.00</td><td>4.92</td></tr><tr><td>29116006</td><td>170.00</td><td>5.00</td></tr><tr><td>30687050</td><td>250.00</td><td>4.83</td></tr><tr><td>40815199</td><td>70.00</td><td>4.50</td></tr><tr><td>40957650</td><td>204.00</td><td>3.50</td></tr><tr><td>43993821</td><td>50.00</td><td>4.91</td></tr><tr><td>45336807</td><td>98.00</td><td>4.20</td></tr><tr><td>26871731</td><td>131.00</td><td>4.40</td></tr><tr><td>27131577</td><td>95.00</td><td>4.71</td></tr><tr><td>39621518</td><td>75.00</td><td>4.33</td></tr><tr><td>39621539</td><td>89.00</td><td>4.00</td></tr><tr><td>40963645</td><td>104.00</td><td>1.00</td></tr><tr><td>45283684</td><td>60.00</td><td>4.50</td></tr><tr><td>7971244</td><td>67.00</td><td>4.50</td></tr><tr><td>13280057</td><td>95.00</td><td>4.64</td></tr><tr><td>32887919</td><td>350.00</td><td>4.67</td></tr><tr><td>42081768</td><td>250.00</td><td>4.88</td></tr><tr><td>42681733</td><td>324.00</td><td>4.00</td></tr><tr><td>46446160</td><td>107.00</td><td>3.00</td></tr><tr><td>46621804</td><td>82.00</td><td>4.74</td></tr><tr><td>22585758</td><td>56.00</td><td>4.62</td></tr><tr><td>31343589</td><td>130.00</td><td>5.00</td></tr><tr><td>43307650</td><td>120.00</td><td>4.92</td></tr><tr><td>20797693</td><td>125.00</td><td>4.64</td></tr><tr><td>27286394</td><td>89.00</td><td>5.00</td></tr><tr><td>29790176</td><td>88.00</td><td>5.00</td></tr><tr><td>31946608</td><td>250.00</td><td>4.91</td></tr><tr><td>32778681</td><td>43.00</td><td>5.00</td></tr><tr><td>35480029</td><td>60.00</td><td>5.00</td></tr><tr><td>39521342</td><td>104.00</td><td>4.00</td></tr><tr><td>40218129</td><td>200.00</td><td>4.50</td></tr><tr><td>42756760</td><td>58.00</td><td>4.63</td></tr><tr><td>49114301</td><td>97.00</td><td>1.00</td></tr><tr><td>7492145</td><td>109.00</td><td>4.50</td></tr><tr><td>11030622</td><td>67.00</td><td>4.77</td></tr><tr><td>23020884</td><td>53.00</td><td>4.88</td></tr><tr><td>30415164</td><td>88.00</td><td>4.62</td></tr><tr><td>32816607</td><td>70.00</td><td>5.00</td></tr><tr><td>32818216</td><td>290.00</td><td>5.00</td></tr><tr><td>32860612</td><td>141.00</td><td>4.70</td></tr><tr><td>36784873</td><td>60.00</td><td>5.00</td></tr><tr><td>7701827</td><td>150.00</td><td>4.89</td></tr><tr><td>8069188</td><td>61.00</td><td>4.82</td></tr><tr><td>11157686</td><td>130.00</td><td>4.87</td></tr><tr><td>16530524</td><td>100.00</td><td>3.67</td></tr><tr><td>23969107</td><td>148.00</td><td>4.60</td></tr><tr><td>25716711</td><td>195.00</td><td>5.00</td></tr><tr><td>26267529</td><td>39.00</td><td>4.29</td></tr><tr><td>26680149</td><td>170.00</td><td>5.00</td></tr><tr><td>28201246</td><td>140.00</td><td>5.00</td></tr><tr><td>29180555</td><td>100.00</td><td>4.98</td></tr><tr><td>29630932</td><td>155.00</td><td>5.00</td></tr><tr><td>42826463</td><td>121.00</td><td>4.47</td></tr><tr><td>46912223</td><td>150.00</td><td>5.00</td></tr><tr><td>49194768</td><td>185.00</td><td>5.00</td></tr><tr><td>8113202</td><td>110.00</td><td>4.71</td></tr><tr><td>12941391</td><td>88.00</td><td>4.00</td></tr><tr><td>21117550</td><td>96.00</td><td>5.00</td></tr><tr><td>23767256</td><td>60.00</td><td>4.25</td></tr><tr><td>26318024</td><td>115.00</td><td>4.93</td></tr><tr><td>27925680</td><td>40.00</td><td>5.00</td></tr><tr><td>33178972</td><td>80.00</td><td>4.67</td></tr><tr><td>47219384</td><td>50.00</td><td>1.00</td></tr><tr><td>48276770</td><td>54.00</td><td>2.50</td></tr><tr><td>19062761</td><td>45.00</td><td>4.95</td></tr><tr><td>19771259</td><td>50.00</td><td>4.82</td></tr><tr><td>26798787</td><td>90.00</td><td>4.67</td></tr><tr><td>38225473</td><td>175.00</td><td>5.00</td></tr><tr><td>42083392</td><td>104.00</td><td>4.00</td></tr><tr><td>5436950</td><td>85.00</td><td>4.86</td></tr><tr><td>7401649</td><td>85.00</td><td>4.67</td></tr><tr><td>11134992</td><td>100.00</td><td>4.63</td></tr><tr><td>13542576</td><td>70.00</td><td>4.61</td></tr><tr><td>22808110</td><td>110.00</td><td>4.79</td></tr><tr><td>23354863</td><td>85.00</td><td>1.00</td></tr><tr><td>276025</td><td>65.00</td><td>4.62</td></tr><tr><td>530979</td><td>197.00</td><td>4.70</td></tr><tr><td>4190063</td><td>257.00</td><td>4.39</td></tr><tr><td>4827173</td><td>44.00</td><td>4.53</td></tr><tr><td>12936458</td><td>49.00</td><td>5.00</td></tr><tr><td>14040641</td><td>120.00</td><td>4.96</td></tr><tr><td>15671234</td><td>91.00</td><td>4.80</td></tr><tr><td>37874820</td><td>80.00</td><td>4.38</td></tr><tr><td>38005526</td><td>90.00</td><td>5.00</td></tr><tr><td>40445945</td><td>30.00</td><td>4.83</td></tr><tr><td>40510148</td><td>100.00</td><td>4.50</td></tr><tr><td>45695094</td><td>65.00</td><td>4.50</td></tr><tr><td>49244029</td><td>140.00</td><td>5.00</td></tr><tr><td>16551084</td><td>120.00</td><td>5.00</td></tr><tr><td>16613789</td><td>66.00</td><td>4.89</td></tr><tr><td>20709398</td><td>131.00</td><td>4.35</td></tr><tr><td>20798663</td><td>90.00</td><td>4.38</td></tr><tr><td>22665542</td><td>145.00</td><td>4.60</td></tr><tr><td>22721865</td><td>83.00</td><td>4.51</td></tr><tr><td>24275836</td><td>200.00</td><td>5.00</td></tr><tr><td>27746928</td><td>60.00</td><td>5.00</td></tr><tr><td>39211660</td><td>65.00</td><td>5.00</td></tr><tr><td>41147803</td><td>80.00</td><td>5.00</td></tr><tr><td>42811797</td><td>75.00</td><td>5.00</td></tr><tr><td>47524345</td><td>314.00</td><td>5.00</td></tr><tr><td>626512</td><td>110.00</td><td>4.97</td></tr><tr><td>2168178</td><td>91.00</td><td>4.67</td></tr><tr><td>12194712</td><td>130.00</td><td>5.00</td></tr><tr><td>16422397</td><td>90.00</td><td>4.85</td></tr><tr><td>21275097</td><td>210.00</td><td>5.00</td></tr><tr><td>31702428</td><td>67.00</td><td>4.00</td></tr><tr><td>32172340</td><td>157.00</td><td>5.00</td></tr><tr><td>38799236</td><td>142.00</td><td>4.60</td></tr><tr><td>41639731</td><td>120.00</td><td>4.67</td></tr><tr><td>45365639</td><td>120.00</td><td>5.00</td></tr><tr><td>45859602</td><td>288.00</td><td>5.00</td></tr><tr><td>18902924</td><td>110.00</td><td>4.89</td></tr><tr><td>25804431</td><td>92.00</td><td>5.00</td></tr><tr><td>29002033</td><td>124.00</td><td>4.41</td></tr><tr><td>43177810</td><td>131.00</td><td>4.80</td></tr><tr><td>45323363</td><td>136.00</td><td>5.00</td></tr><tr><td>3102373</td><td>240.00</td><td>4.95</td></tr><tr><td>20307382</td><td>54.00</td><td>4.84</td></tr><tr><td>31203820</td><td>70.00</td><td>4.55</td></tr><tr><td>35855024</td><td>170.00</td><td>5.00</td></tr><tr><td>40582798</td><td>103.00</td><td>4.74</td></tr><tr><td>6801761</td><td>60.00</td><td>4.20</td></tr><tr><td>11830227</td><td>52.00</td><td>4.78</td></tr><tr><td>13709871</td><td>81.00</td><td>4.60</td></tr><tr><td>23447279</td><td>100.00</td><td>5.00</td></tr><tr><td>26715273</td><td>133.00</td><td>5.00</td></tr><tr><td>31890853</td><td>67.00</td><td>3.67</td></tr><tr><td>37068191</td><td>500.00</td><td>0.00</td></tr><tr><td>47922923</td><td>75.00</td><td>5.00</td></tr><tr><td>50103440</td><td>55.00</td><td>5.00</td></tr><tr><td>7830382</td><td>62.00</td><td>4.72</td></tr><tr><td>17845523</td><td>159.00</td><td>4.95</td></tr><tr><td>29557130</td><td>117.00</td><td>4.64</td></tr><tr><td>36708738</td><td>67.00</td><td>4.00</td></tr><tr><td>49683014</td><td>77.00</td><td>4.71</td></tr><tr><td>1192759</td><td>85.00</td><td>4.78</td></tr><tr><td>8147327</td><td>100.00</td><td>5.00</td></tr><tr><td>16439123</td><td>67.00</td><td>4.77</td></tr><tr><td>21031079</td><td>45.00</td><td>4.88</td></tr><tr><td>22174300</td><td>55.00</td><td>4.70</td></tr><tr><td>23523212</td><td>128.00</td><td>4.71</td></tr><tr><td>25886296</td><td>160.00</td><td>4.92</td></tr><tr><td>28134184</td><td>135.00</td><td>4.76</td></tr><tr><td>40963162</td><td>104.00</td><td>4.00</td></tr><tr><td>46088164</td><td>70.00</td><td>4.60</td></tr><tr><td>2415094</td><td>115.00</td><td>4.79</td></tr><tr><td>18942742</td><td>601.00</td><td>5.00</td></tr><tr><td>23340883</td><td>48.00</td><td>4.85</td></tr><tr><td>30619273</td><td>86.00</td><td>5.00</td></tr><tr><td>34218013</td><td>115.00</td><td>5.00</td></tr><tr><td>40088245</td><td>52.00</td><td>5.00</td></tr><tr><td>44586691</td><td>140.00</td><td>4.80</td></tr><tr><td>6942314</td><td>95.00</td><td>4.58</td></tr><tr><td>8902030</td><td>120.00</td><td>4.64</td></tr><tr><td>20396786</td><td>250.00</td><td>4.95</td></tr><tr><td>28534716</td><td>109.00</td><td>4.85</td></tr><tr><td>29527703</td><td>120.00</td><td>4.75</td></tr><tr><td>765191</td><td>125.00</td><td>4.58</td></tr><tr><td>12417832</td><td>500.00</td><td>4.00</td></tr><tr><td>23714879</td><td>101.00</td><td>4.62</td></tr><tr><td>29034306</td><td>99.00</td><td>4.91</td></tr><tr><td>38821988</td><td>89.00</td><td>5.00</td></tr><tr><td>40616841</td><td>55.00</td><td>5.00</td></tr><tr><td>7492387</td><td>109.00</td><td>5.00</td></tr><tr><td>30756137</td><td>50.00</td><td>4.23</td></tr><tr><td>3451577</td><td>89.00</td><td>4.95</td></tr><tr><td>8479304</td><td>150.00</td><td>4.62</td></tr><tr><td>12190137</td><td>93.00</td><td>4.47</td></tr><tr><td>21604492</td><td>85.00</td><td>5.00</td></tr><tr><td>29143747</td><td>116.00</td><td>4.34</td></tr><tr><td>35981729</td><td>90.00</td><td>0.00</td></tr><tr><td>44225535</td><td>132.00</td><td>5.00</td></tr><tr><td>46203154</td><td>89.00</td><td>5.00</td></tr><tr><td>46634257</td><td>128.00</td><td>4.75</td></tr><tr><td>50089034</td><td>109.00</td><td>1.00</td></tr><tr><td>8647682</td><td>66.00</td><td>4.33</td></tr><tr><td>15869970</td><td>70.00</td><td>5.00</td></tr><tr><td>16880260</td><td>45.00</td><td>4.20</td></tr><tr><td>19836013</td><td>67.00</td><td>4.87</td></tr><tr><td>30331263</td><td>250.00</td><td>5.00</td></tr><tr><td>32739259</td><td>68.00</td><td>5.00</td></tr><tr><td>41778788</td><td>493.00</td><td>4.00</td></tr><tr><td>44042724</td><td>88.00</td><td>5.00</td></tr><tr><td>32299696</td><td>50.00</td><td>4.82</td></tr><tr><td>34634219</td><td>90.00</td><td>4.50</td></tr><tr><td>43446918</td><td>99.00</td><td>4.50</td></tr><tr><td>44117379</td><td>60.00</td><td>5.00</td></tr><tr><td>11300923</td><td>70.00</td><td>4.75</td></tr><tr><td>17166730</td><td>150.00</td><td>5.00</td></tr><tr><td>30753207</td><td>50.00</td><td>4.80</td></tr><tr><td>34159665</td><td>378.00</td><td>4.55</td></tr><tr><td>49787894</td><td>134.00</td><td>4.50</td></tr><tr><td>49875270</td><td>55.00</td><td>5.00</td></tr><tr><td>610685</td><td>36.00</td><td>4.17</td></tr><tr><td>656316</td><td>100.00</td><td>4.80</td></tr><tr><td>4822620</td><td>125.00</td><td>4.90</td></tr><tr><td>16017499</td><td>42.00</td><td>0.00</td></tr><tr><td>27597309</td><td>118.00</td><td>5.00</td></tr><tr><td>32543644</td><td>105.00</td><td>4.41</td></tr><tr><td>46004288</td><td>45.00</td><td>4.80</td></tr><tr><td>49292169</td><td>99.00</td><td>4.42</td></tr><tr><td>6279426</td><td>60.00</td><td>5.00</td></tr><tr><td>13822514</td><td>77.00</td><td>4.86</td></tr><tr><td>21108470</td><td>84.00</td><td>5.00</td></tr><tr><td>25048675</td><td>450.00</td><td>5.00</td></tr><tr><td>27484333</td><td>166.00</td><td>5.00</td></tr><tr><td>30813176</td><td>90.00</td><td>5.00</td></tr><tr><td>33124445</td><td>93.00</td><td>4.80</td></tr><tr><td>36686681</td><td>110.00</td><td>4.67</td></tr><tr><td>40030021</td><td>90.00</td><td>4.71</td></tr><tr><td>41095127</td><td>75.00</td><td>4.33</td></tr><tr><td>45678768</td><td>132.00</td><td>4.00</td></tr><tr><td>48586369</td><td>45.00</td><td>4.67</td></tr><tr><td>338682</td><td>157.00</td><td>4.80</td></tr><tr><td>7798321</td><td>420.00</td><td>4.78</td></tr><tr><td>14252288</td><td>183.00</td><td>4.95</td></tr><tr><td>24914339</td><td>89.00</td><td>4.68</td></tr><tr><td>30687441</td><td>69.00</td><td>5.00</td></tr><tr><td>32597746</td><td>68.00</td><td>4.88</td></tr><tr><td>32862527</td><td>149.00</td><td>5.00</td></tr><tr><td>38036747</td><td>83.00</td><td>5.00</td></tr><tr><td>42328224</td><td>69.00</td><td>5.00</td></tr><tr><td>1067335</td><td>120.00</td><td>4.73</td></tr><tr><td>13203361</td><td>78.00</td><td>4.50</td></tr><tr><td>35376772</td><td>100.00</td><td>4.51</td></tr><tr><td>39515994</td><td>96.00</td><td>3.50</td></tr><tr><td>41837357</td><td>39.00</td><td>4.83</td></tr><tr><td>44326527</td><td>45.00</td><td>4.50</td></tr><tr><td>46444200</td><td>70.00</td><td>4.33</td></tr><tr><td>7289703</td><td>60.00</td><td>4.88</td></tr><tr><td>17661291</td><td>67.00</td><td>4.88</td></tr><tr><td>37489736</td><td>65.00</td><td>5.00</td></tr><tr><td>47595692</td><td>43.00</td><td>5.00</td></tr><tr><td>48950218</td><td>110.00</td><td>4.67</td></tr><tr><td>1933385</td><td>288.00</td><td>4.83</td></tr><tr><td>2058042</td><td>55.00</td><td>4.83</td></tr><tr><td>11316463</td><td>125.00</td><td>4.92</td></tr><tr><td>14190296</td><td>89.00</td><td>4.66</td></tr><tr><td>23237285</td><td>65.00</td><td>4.98</td></tr><tr><td>28504976</td><td>60.00</td><td>4.83</td></tr><tr><td>37453637</td><td>121.00</td><td>5.00</td></tr><tr><td>37610434</td><td>67.00</td><td>4.67</td></tr><tr><td>38132588</td><td>77.00</td><td>5.00</td></tr><tr><td>41164283</td><td>96.00</td><td>4.00</td></tr><tr><td>43545814</td><td>73.00</td><td>4.63</td></tr><tr><td>9890287</td><td>62.00</td><td>4.70</td></tr><tr><td>16531834</td><td>46.00</td><td>4.50</td></tr><tr><td>22697970</td><td>250.00</td><td>0.00</td></tr><tr><td>22951619</td><td>180.00</td><td>4.73</td></tr><tr><td>25507726</td><td>220.00</td><td>4.00</td></tr><tr><td>40124023</td><td>80.00</td><td>5.00</td></tr><tr><td>49252572</td><td>44.00</td><td>5.00</td></tr><tr><td>26408295</td><td>85.00</td><td>4.71</td></tr><tr><td>27245109</td><td>80.00</td><td>4.85</td></tr><tr><td>29896141</td><td>59.00</td><td>4.74</td></tr><tr><td>33153550</td><td>210.00</td><td>4.50</td></tr><tr><td>37612810</td><td>35.00</td><td>4.56</td></tr><tr><td>39435918</td><td>61.00</td><td>5.00</td></tr><tr><td>39541190</td><td>104.00</td><td>3.50</td></tr><tr><td>42086774</td><td>68.00</td><td>5.00</td></tr><tr><td>649023</td><td>67.00</td><td>4.87</td></tr><tr><td>2069351</td><td>100.00</td><td>4.64</td></tr><tr><td>5559199</td><td>57.00</td><td>5.00</td></tr><tr><td>8196271</td><td>62.00</td><td>4.86</td></tr><tr><td>10975641</td><td>80.00</td><td>4.83</td></tr><tr><td>19541160</td><td>67.00</td><td>4.83</td></tr><tr><td>35671505</td><td>65.00</td><td>4.95</td></tr><tr><td>39569088</td><td>104.00</td><td>5.00</td></tr><tr><td>41810571</td><td>150.00</td><td>5.00</td></tr><tr><td>42531318</td><td>132.00</td><td>5.00</td></tr><tr><td>45323601</td><td>167.00</td><td>4.00</td></tr><tr><td>1179787</td><td>79.00</td><td>4.82</td></tr><tr><td>15463301</td><td>65.00</td><td>4.50</td></tr><tr><td>15558327</td><td>90.00</td><td>4.00</td></tr><tr><td>18986489</td><td>350.00</td><td>4.67</td></tr><tr><td>19820423</td><td>36.00</td><td>4.23</td></tr><tr><td>33607560</td><td>175.00</td><td>4.94</td></tr><tr><td>34143147</td><td>164.00</td><td>4.00</td></tr><tr><td>24053771</td><td>103.00</td><td>4.71</td></tr><tr><td>30952353</td><td>100.00</td><td>5.00</td></tr><tr><td>35237878</td><td>150.00</td><td>5.00</td></tr><tr><td>35546128</td><td>120.00</td><td>5.00</td></tr><tr><td>44924369</td><td>260.00</td><td>5.00</td></tr><tr><td>45415479</td><td>105.00</td><td>4.86</td></tr><tr><td>664917</td><td>120.00</td><td>4.86</td></tr><tr><td>3163290</td><td>110.00</td><td>4.60</td></tr><tr><td>3837904</td><td>49.00</td><td>4.45</td></tr><tr><td>6275508</td><td>90.00</td><td>0.00</td></tr><tr><td>8471424</td><td>110.00</td><td>4.91</td></tr><tr><td>14479388</td><td>199.00</td><td>4.00</td></tr><tr><td>14888346</td><td>120.00</td><td>4.47</td></tr><tr><td>15727181</td><td>10.00</td><td>4.00</td></tr><tr><td>32336998</td><td>90.00</td><td>4.57</td></tr><tr><td>33205348</td><td>150.00</td><td>4.73</td></tr><tr><td>41932671</td><td>53.00</td><td>5.00</td></tr><tr><td>43874858</td><td>50.00</td><td>4.67</td></tr><tr><td>3716543</td><td>75.00</td><td>5.00</td></tr><tr><td>6324829</td><td>84.00</td><td>4.43</td></tr><tr><td>9161848</td><td>950.00</td><td>5.00</td></tr><tr><td>19552254</td><td>69.00</td><td>4.41</td></tr><tr><td>28030067</td><td>100.00</td><td>4.30</td></tr><tr><td>6929096</td><td>175.00</td><td>5.00</td></tr><tr><td>7817866</td><td>364.00</td><td>5.00</td></tr><tr><td>11962965</td><td>180.00</td><td>4.33</td></tr><tr><td>12816482</td><td>50.00</td><td>5.00</td></tr><tr><td>16865565</td><td>80.00</td><td>4.44</td></tr><tr><td>17358787</td><td>100.00</td><td>5.00</td></tr><tr><td>18367360</td><td>100.00</td><td>4.99</td></tr><tr><td>26115359</td><td>150.00</td><td>4.76</td></tr><tr><td>33155303</td><td>39.00</td><td>5.00</td></tr><tr><td>36212033</td><td>60.00</td><td>5.00</td></tr><tr><td>40347739</td><td>180.00</td><td>4.80</td></tr><tr><td>42108451</td><td>40.00</td><td>4.50</td></tr><tr><td>43017132</td><td>125.00</td><td>3.80</td></tr><tr><td>47459936</td><td>440.00</td><td>5.00</td></tr><tr><td>5248925</td><td>88.00</td><td>4.48</td></tr><tr><td>10155127</td><td>149.00</td><td>4.76</td></tr><tr><td>36924184</td><td>33.00</td><td>5.00</td></tr><tr><td>37137105</td><td>80.00</td><td>4.71</td></tr><tr><td>37276515</td><td>190.00</td><td>4.00</td></tr><tr><td>1172184</td><td>150.00</td><td>4.89</td></tr><tr><td>10084649</td><td>80.00</td><td>4.54</td></tr><tr><td>22353375</td><td>197.00</td><td>5.00</td></tr><tr><td>22502451</td><td>48.00</td><td>5.00</td></tr><tr><td>25440502</td><td>133.00</td><td>5.00</td></tr><tr><td>37144047</td><td>80.00</td><td>4.65</td></tr><tr><td>43473282</td><td>99.00</td><td>4.70</td></tr><tr><td>47856569</td><td>115.00</td><td>5.00</td></tr><tr><td>3948265</td><td>49.00</td><td>4.92</td></tr><tr><td>16591476</td><td>120.00</td><td>4.96</td></tr><tr><td>29298090</td><td>140.00</td><td>4.95</td></tr><tr><td>38791432</td><td>85.00</td><td>4.87</td></tr><tr><td>913745</td><td>38.00</td><td>4.13</td></tr><tr><td>1669494</td><td>222.00</td><td>5.00</td></tr><tr><td>7125870</td><td>81.00</td><td>4.74</td></tr><tr><td>11844674</td><td>235.00</td><td>4.83</td></tr><tr><td>16257749</td><td>193.00</td><td>4.33</td></tr><tr><td>30492333</td><td>69.00</td><td>4.69</td></tr><tr><td>38717240</td><td>180.00</td><td>5.00</td></tr><tr><td>44565466</td><td>200.00</td><td>5.00</td></tr><tr><td>45451516</td><td>65.00</td><td>5.00</td></tr><tr><td>46111481</td><td>104.00</td><td>5.00</td></tr><tr><td>966887</td><td>84.00</td><td>4.56</td></tr><tr><td>12244930</td><td>186.00</td><td>4.60</td></tr><tr><td>13410260</td><td>102.00</td><td>4.86</td></tr><tr><td>20264125</td><td>70.00</td><td>5.00</td></tr><tr><td>21599460</td><td>104.00</td><td>4.63</td></tr><tr><td>22162228</td><td>140.00</td><td>4.89</td></tr><tr><td>23794805</td><td>70.00</td><td>4.92</td></tr><tr><td>25139027</td><td>66.00</td><td>4.63</td></tr><tr><td>27120635</td><td>140.00</td><td>4.75</td></tr><tr><td>27592713</td><td>63.00</td><td>5.00</td></tr><tr><td>29525466</td><td>98.00</td><td>4.97</td></tr><tr><td>30194680</td><td>90.00</td><td>5.00</td></tr><tr><td>31160433</td><td>45.00</td><td>5.00</td></tr><tr><td>35741478</td><td>70.00</td><td>4.24</td></tr><tr><td>40443949</td><td>77.00</td><td>4.59</td></tr><tr><td>43333881</td><td>100.00</td><td>4.67</td></tr><tr><td>49711666</td><td>99.00</td><td>5.00</td></tr><tr><td>1251652</td><td>75.00</td><td>4.64</td></tr><tr><td>5686998</td><td>64.00</td><td>4.77</td></tr><tr><td>9662569</td><td>89.00</td><td>4.50</td></tr><tr><td>15641749</td><td>227.00</td><td>4.00</td></tr><tr><td>35102593</td><td>110.00</td><td>5.00</td></tr><tr><td>43110073</td><td>130.00</td><td>5.00</td></tr><tr><td>3423232</td><td>89.00</td><td>4.67</td></tr><tr><td>23049562</td><td>38.00</td><td>4.62</td></tr><tr><td>32149874</td><td>80.00</td><td>4.76</td></tr><tr><td>36719518</td><td>80.00</td><td>4.18</td></tr><tr><td>40246994</td><td>104.00</td><td>4.88</td></tr><tr><td>728403</td><td>274.00</td><td>4.73</td></tr><tr><td>963950</td><td>80.00</td><td>4.94</td></tr><tr><td>16972237</td><td>130.00</td><td>4.71</td></tr><tr><td>39712844</td><td>50.00</td><td>5.00</td></tr><tr><td>15215114</td><td>97.00</td><td>4.62</td></tr><tr><td>25764077</td><td>90.00</td><td>4.95</td></tr><tr><td>30507834</td><td>141.00</td><td>4.77</td></tr><tr><td>40585341</td><td>104.00</td><td>4.50</td></tr><tr><td>44199957</td><td>130.00</td><td>5.00</td></tr><tr><td>8717390</td><td>100.00</td><td>4.67</td></tr><tr><td>13814466</td><td>71.00</td><td>4.67</td></tr><tr><td>33217759</td><td>119.00</td><td>4.70</td></tr><tr><td>39566206</td><td>104.00</td><td>3.50</td></tr><tr><td>41161900</td><td>96.00</td><td>4.00</td></tr><tr><td>43455576</td><td>99.00</td><td>5.00</td></tr><tr><td>49075101</td><td>123.00</td><td>5.00</td></tr><tr><td>800449</td><td>280.00</td><td>4.84</td></tr><tr><td>7445669</td><td>142.00</td><td>4.88</td></tr><tr><td>19773185</td><td>110.00</td><td>5.00</td></tr><tr><td>21392804</td><td>78.00</td><td>4.56</td></tr><tr><td>31030466</td><td>59.00</td><td>5.00</td></tr><tr><td>33322767</td><td>200.00</td><td>4.63</td></tr><tr><td>38570077</td><td>600.00</td><td>5.00</td></tr><tr><td>41190691</td><td>120.00</td><td>5.00</td></tr><tr><td>45449253</td><td>60.00</td><td>4.80</td></tr><tr><td>4674252</td><td>88.00</td><td>4.50</td></tr><tr><td>6151047</td><td>129.00</td><td>4.84</td></tr><tr><td>6754329</td><td>99.00</td><td>4.78</td></tr><tr><td>7626959</td><td>120.00</td><td>4.74</td></tr><tr><td>7847916</td><td>120.00</td><td>5.00</td></tr><tr><td>9603781</td><td>181.00</td><td>4.88</td></tr><tr><td>10067403</td><td>150.00</td><td>4.67</td></tr><tr><td>11318272</td><td>61.00</td><td>4.30</td></tr><tr><td>17172361</td><td>78.00</td><td>4.86</td></tr><tr><td>22593765</td><td>119.00</td><td>4.67</td></tr><tr><td>29752324</td><td>78.00</td><td>4.81</td></tr><tr><td>39542571</td><td>104.00</td><td>5.00</td></tr><tr><td>40062171</td><td>76.00</td><td>5.00</td></tr><tr><td>9620792</td><td>185.00</td><td>4.78</td></tr><tr><td>15966357</td><td>104.00</td><td>4.65</td></tr><tr><td>17589735</td><td>280.00</td><td>4.86</td></tr><tr><td>17615948</td><td>95.00</td><td>4.67</td></tr><tr><td>35285239</td><td>100.00</td><td>4.50</td></tr><tr><td>37135935</td><td>133.00</td><td>4.00</td></tr><tr><td>45936403</td><td>100.00</td><td>5.00</td></tr><tr><td>17147615</td><td>260.00</td><td>4.67</td></tr><tr><td>18245559</td><td>150.00</td><td>4.96</td></tr><tr><td>18493989</td><td>236.00</td><td>4.33</td></tr><tr><td>28781148</td><td>96.00</td><td>4.88</td></tr><tr><td>32439705</td><td>120.00</td><td>4.93</td></tr><tr><td>44048994</td><td>132.00</td><td>4.64</td></tr><tr><td>921964</td><td>50.00</td><td>5.00</td></tr><tr><td>3322739</td><td>130.00</td><td>4.86</td></tr><tr><td>4264696</td><td>142.00</td><td>4.73</td></tr><tr><td>21479760</td><td>100.00</td><td>4.00</td></tr><tr><td>25401700</td><td>49.00</td><td>4.40</td></tr><tr><td>34417122</td><td>56.00</td><td>4.91</td></tr><tr><td>39350716</td><td>70.00</td><td>5.00</td></tr><tr><td>626831</td><td>350.00</td><td>4.33</td></tr><tr><td>10603615</td><td>111.00</td><td>4.35</td></tr><tr><td>17219491</td><td>115.00</td><td>4.67</td></tr><tr><td>18381329</td><td>87.00</td><td>4.72</td></tr><tr><td>24850134</td><td>42.00</td><td>4.86</td></tr><tr><td>40272787</td><td>104.00</td><td>4.75</td></tr><tr><td>43551116</td><td>150.00</td><td>5.00</td></tr><tr><td>46290560</td><td>90.00</td><td>4.91</td></tr><tr><td>46673234</td><td>88.00</td><td>4.40</td></tr><tr><td>2214480</td><td>50.00</td><td>4.58</td></tr><tr><td>5247146</td><td>88.00</td><td>4.35</td></tr><tr><td>10509547</td><td>103.00</td><td>4.57</td></tr><tr><td>12040233</td><td>70.00</td><td>4.63</td></tr><tr><td>22786989</td><td>140.00</td><td>4.93</td></tr><tr><td>42245524</td><td>195.00</td><td>4.00</td></tr><tr><td>49883025</td><td>129.00</td><td>5.00</td></tr><tr><td>1252213</td><td>110.00</td><td>4.33</td></tr><tr><td>2026519</td><td>93.00</td><td>4.33</td></tr><tr><td>6805470</td><td>100.00</td><td>4.82</td></tr><tr><td>29378572</td><td>70.00</td><td>4.91</td></tr><tr><td>33124597</td><td>166.00</td><td>3.50</td></tr><tr><td>34742552</td><td>59.00</td><td>4.38</td></tr><tr><td>38011300</td><td>104.00</td><td>5.00</td></tr><tr><td>42883022</td><td>150.00</td><td>5.00</td></tr><tr><td>48226084</td><td>100.00</td><td>4.00</td></tr><tr><td>39219315</td><td>55.00</td><td>4.45</td></tr><tr><td>40776710</td><td>109.00</td><td>4.53</td></tr><tr><td>41490843</td><td>100.00</td><td>5.00</td></tr><tr><td>41836973</td><td>73.00</td><td>4.60</td></tr><tr><td>11312826</td><td>192.00</td><td>4.91</td></tr><tr><td>15243894</td><td>550.00</td><td>5.00</td></tr><tr><td>17185384</td><td>167.00</td><td>4.88</td></tr><tr><td>20964450</td><td>34.00</td><td>5.00</td></tr><tr><td>34431197</td><td>200.00</td><td>5.00</td></tr><tr><td>35570922</td><td>74.00</td><td>4.88</td></tr><tr><td>35639358</td><td>110.00</td><td>1.00</td></tr><tr><td>38710306</td><td>70.00</td><td>1.00</td></tr><tr><td>41926540</td><td>141.00</td><td>5.00</td></tr><tr><td>49280371</td><td>100.00</td><td>5.00</td></tr><tr><td>49977457</td><td>35.00</td><td>5.00</td></tr><tr><td>44959</td><td>68.00</td><td>4.87</td></tr><tr><td>13610420</td><td>105.00</td><td>4.50</td></tr><tr><td>24812881</td><td>80.00</td><td>4.75</td></tr><tr><td>26329246</td><td>75.00</td><td>4.68</td></tr><tr><td>30949949</td><td>460.00</td><td>4.53</td></tr><tr><td>40980546</td><td>65.00</td><td>5.00</td></tr><tr><td>4769087</td><td>49.00</td><td>4.74</td></tr><tr><td>17619387</td><td>89.00</td><td>4.86</td></tr><tr><td>22033127</td><td>115.00</td><td>4.69</td></tr><tr><td>29721996</td><td>67.00</td><td>4.67</td></tr><tr><td>41266803</td><td>98.00</td><td>0.00</td></tr><tr><td>41732191</td><td>121.00</td><td>4.83</td></tr><tr><td>42119715</td><td>43.00</td><td>3.50</td></tr><tr><td>48102129</td><td>100.00</td><td>5.00</td></tr><tr><td>5055787</td><td>110.00</td><td>4.54</td></tr><tr><td>11688257</td><td>120.00</td><td>4.75</td></tr><tr><td>29746073</td><td>178.00</td><td>2.00</td></tr><tr><td>41837072</td><td>84.00</td><td>0.00</td></tr><tr><td>46187008</td><td>199.00</td><td>5.00</td></tr><tr><td>1273891</td><td>220.00</td><td>5.00</td></tr><tr><td>12581984</td><td>100.00</td><td>4.88</td></tr><tr><td>13966397</td><td>155.00</td><td>4.83</td></tr><tr><td>23461278</td><td>39.00</td><td>4.23</td></tr><tr><td>32787062</td><td>100.00</td><td>4.00</td></tr><tr><td>41003444</td><td>59.00</td><td>4.67</td></tr><tr><td>43992771</td><td>70.00</td><td>5.00</td></tr><tr><td>44158035</td><td>150.00</td><td>4.50</td></tr><tr><td>7117459</td><td>100.00</td><td>4.76</td></tr><tr><td>18893751</td><td>150.00</td><td>4.83</td></tr><tr><td>28619250</td><td>153.00</td><td>5.00</td></tr><tr><td>40109394</td><td>70.00</td><td>5.00</td></tr><tr><td>40443064</td><td>108.00</td><td>5.00</td></tr><tr><td>41095238</td><td>83.00</td><td>4.50</td></tr><tr><td>43492506</td><td>200.00</td><td>5.00</td></tr><tr><td>48397760</td><td>75.00</td><td>5.00</td></tr><tr><td>5028852</td><td>95.00</td><td>4.68</td></tr><tr><td>21686480</td><td>100.00</td><td>4.67</td></tr><tr><td>24663997</td><td>88.00</td><td>4.94</td></tr><tr><td>42789704</td><td>85.00</td><td>4.80</td></tr><tr><td>2350002</td><td>151.00</td><td>4.73</td></tr><tr><td>3087183</td><td>99.00</td><td>4.78</td></tr><tr><td>3384278</td><td>47.00</td><td>4.53</td></tr><tr><td>9491456</td><td>100.00</td><td>4.71</td></tr><tr><td>11381653</td><td>120.00</td><td>4.33</td></tr><tr><td>11997033</td><td>80.00</td><td>4.38</td></tr><tr><td>12240143</td><td>97.00</td><td>5.00</td></tr><tr><td>17244023</td><td>81.00</td><td>4.85</td></tr><tr><td>19783641</td><td>80.00</td><td>4.87</td></tr><tr><td>22682322</td><td>233.00</td><td>4.31</td></tr><tr><td>32165884</td><td>79.00</td><td>5.00</td></tr><tr><td>840332</td><td>55.00</td><td>0.00</td></tr><tr><td>2760444</td><td>110.00</td><td>4.80</td></tr><tr><td>4953188</td><td>91.00</td><td>4.44</td></tr><tr><td>5517400</td><td>125.00</td><td>4.59</td></tr><tr><td>23101396</td><td>42.00</td><td>4.75</td></tr><tr><td>36724127</td><td>140.00</td><td>4.90</td></tr><tr><td>39251150</td><td>89.00</td><td>5.00</td></tr><tr><td>46369692</td><td>100.00</td><td>4.75</td></tr><tr><td>48876090</td><td>51.00</td><td>5.00</td></tr><tr><td>12422220</td><td>400.00</td><td>4.67</td></tr><tr><td>12500606</td><td>110.00</td><td>4.84</td></tr><tr><td>15249322</td><td>61.00</td><td>4.76</td></tr><tr><td>23918133</td><td>70.00</td><td>5.00</td></tr><tr><td>29291450</td><td>200.00</td><td>4.58</td></tr><tr><td>30084709</td><td>61.00</td><td>4.62</td></tr><tr><td>30554962</td><td>150.00</td><td>4.93</td></tr><tr><td>35257942</td><td>70.00</td><td>5.00</td></tr><tr><td>26410923</td><td>135.00</td><td>4.67</td></tr><tr><td>33207864</td><td>150.00</td><td>4.80</td></tr><tr><td>35528205</td><td>89.00</td><td>5.00</td></tr><tr><td>3440524</td><td>53.00</td><td>4.68</td></tr><tr><td>5867434</td><td>600.00</td><td>5.00</td></tr><tr><td>10430368</td><td>109.00</td><td>4.76</td></tr><tr><td>11264647</td><td>55.00</td><td>5.00</td></tr><tr><td>12422395</td><td>640.00</td><td>5.00</td></tr><tr><td>16854166</td><td>560.00</td><td>4.75</td></tr><tr><td>26392547</td><td>70.00</td><td>5.00</td></tr><tr><td>28459943</td><td>69.00</td><td>4.67</td></tr><tr><td>38743517</td><td>79.00</td><td>4.50</td></tr><tr><td>44302602</td><td>60.00</td><td>5.00</td></tr><tr><td>45753418</td><td>60.00</td><td>4.63</td></tr><tr><td>494701</td><td>124.00</td><td>4.07</td></tr><tr><td>7586171</td><td>40.00</td><td>4.11</td></tr><tr><td>16199048</td><td>104.00</td><td>4.31</td></tr><tr><td>23630646</td><td>290.00</td><td>4.96</td></tr><tr><td>30924384</td><td>135.00</td><td>5.00</td></tr><tr><td>32667993</td><td>99.00</td><td>4.84</td></tr><tr><td>38529059</td><td>99.00</td><td>4.67</td></tr><tr><td>41023562</td><td>43.00</td><td>5.00</td></tr><tr><td>44825804</td><td>107.00</td><td>5.00</td></tr><tr><td>45696239</td><td>59.00</td><td>4.50</td></tr><tr><td>4422262</td><td>120.00</td><td>5.00</td></tr><tr><td>10348605</td><td>198.00</td><td>4.73</td></tr><tr><td>19851270</td><td>67.00</td><td>4.85</td></tr><tr><td>21972181</td><td>109.00</td><td>4.00</td></tr><tr><td>33086710</td><td>39.00</td><td>5.00</td></tr><tr><td>42020277</td><td>49.00</td><td>4.33</td></tr><tr><td>42037321</td><td>200.00</td><td>5.00</td></tr><tr><td>14786231</td><td>70.00</td><td>4.69</td></tr><tr><td>23915971</td><td>129.00</td><td>4.53</td></tr><tr><td>28167195</td><td>120.00</td><td>4.89</td></tr><tr><td>29323288</td><td>58.00</td><td>4.80</td></tr><tr><td>29798602</td><td>95.00</td><td>4.70</td></tr><tr><td>39241336</td><td>73.00</td><td>0.00</td></tr><tr><td>39516890</td><td>104.00</td><td>4.50</td></tr><tr><td>42103223</td><td>72.00</td><td>4.50</td></tr><tr><td>4843398</td><td>85.00</td><td>4.38</td></tr><tr><td>6382351</td><td>468.00</td><td>5.00</td></tr><tr><td>14275170</td><td>92.00</td><td>5.00</td></tr><tr><td>27280427</td><td>125.00</td><td>0.00</td></tr><tr><td>27772603</td><td>65.00</td><td>4.36</td></tr><tr><td>40133645</td><td>120.00</td><td>4.75</td></tr><tr><td>8080654</td><td>155.00</td><td>4.85</td></tr><tr><td>17577152</td><td>101.00</td><td>5.00</td></tr><tr><td>23511189</td><td>80.00</td><td>4.24</td></tr><tr><td>32831598</td><td>80.00</td><td>4.89</td></tr><tr><td>36844810</td><td>79.00</td><td>4.81</td></tr><tr><td>29138602</td><td>110.00</td><td>4.78</td></tr><tr><td>45538038</td><td>95.00</td><td>5.00</td></tr><tr><td>4320491</td><td>49.00</td><td>4.66</td></tr><tr><td>9528653</td><td>80.00</td><td>4.50</td></tr><tr><td>18818818</td><td>99.00</td><td>4.90</td></tr><tr><td>23341695</td><td>40.00</td><td>4.68</td></tr><tr><td>23740559</td><td>150.00</td><td>4.83</td></tr><tr><td>28130086</td><td>60.00</td><td>4.45</td></tr><tr><td>38515753</td><td>75.00</td><td>5.00</td></tr><tr><td>40519794</td><td>180.00</td><td>5.00</td></tr><tr><td>47815970</td><td>97.00</td><td>4.38</td></tr><tr><td>3178070</td><td>75.00</td><td>4.86</td></tr><tr><td>19771058</td><td>100.00</td><td>5.00</td></tr><tr><td>26230721</td><td>45.00</td><td>5.00</td></tr><tr><td>31254488</td><td>65.00</td><td>4.27</td></tr><tr><td>36287742</td><td>174.00</td><td>4.79</td></tr><tr><td>37587502</td><td>185.00</td><td>5.00</td></tr><tr><td>48535713</td><td>89.00</td><td>5.00</td></tr><tr><td>5296496</td><td>156.00</td><td>4.75</td></tr><tr><td>17674864</td><td>65.00</td><td>4.86</td></tr><tr><td>22343298</td><td>128.00</td><td>4.90</td></tr><tr><td>34474339</td><td>90.00</td><td>4.00</td></tr><tr><td>35698975</td><td>160.00</td><td>4.56</td></tr><tr><td>37520450</td><td>164.00</td><td>5.00</td></tr><tr><td>37727518</td><td>75.00</td><td>4.83</td></tr><tr><td>39546428</td><td>96.00</td><td>3.50</td></tr><tr><td>4799361</td><td>126.00</td><td>4.83</td></tr><tr><td>20764918</td><td>80.00</td><td>4.72</td></tr><tr><td>28406673</td><td>117.00</td><td>4.90</td></tr><tr><td>29958113</td><td>115.00</td><td>4.67</td></tr><tr><td>41447947</td><td>120.00</td><td>5.00</td></tr><tr><td>42444950</td><td>110.00</td><td>4.80</td></tr><tr><td>7067049</td><td>149.00</td><td>4.83</td></tr><tr><td>14957240</td><td>120.00</td><td>5.00</td></tr><tr><td>36309779</td><td>61.00</td><td>5.00</td></tr><tr><td>37720976</td><td>77.00</td><td>5.00</td></tr><tr><td>41524511</td><td>180.00</td><td>4.80</td></tr><tr><td>43455995</td><td>99.00</td><td>4.50</td></tr><tr><td>952395</td><td>120.00</td><td>4.89</td></tr><tr><td>7416695</td><td>81.00</td><td>4.71</td></tr><tr><td>7632813</td><td>250.00</td><td>4.67</td></tr><tr><td>16821125</td><td>203.00</td><td>4.00</td></tr><tr><td>19844397</td><td>165.00</td><td>4.83</td></tr><tr><td>30928567</td><td>60.00</td><td>4.60</td></tr><tr><td>44144364</td><td>69.00</td><td>5.00</td></tr><tr><td>5903347</td><td>23.00</td><td>4.80</td></tr><tr><td>10377339</td><td>160.00</td><td>4.70</td></tr><tr><td>10387269</td><td>58.00</td><td>4.63</td></tr><tr><td>10982977</td><td>105.00</td><td>5.00</td></tr><tr><td>13219098</td><td>92.00</td><td>4.96</td></tr><tr><td>32750947</td><td>141.00</td><td>5.00</td></tr><tr><td>34175401</td><td>95.00</td><td>4.95</td></tr><tr><td>37316354</td><td>98.00</td><td>4.77</td></tr><tr><td>39272298</td><td>38.00</td><td>5.00</td></tr><tr><td>43304757</td><td>144.00</td><td>4.83</td></tr><tr><td>46483452</td><td>78.00</td><td>3.33</td></tr><tr><td>21131496</td><td>44.00</td><td>4.82</td></tr><tr><td>24383151</td><td>140.00</td><td>5.00</td></tr><tr><td>35575874</td><td>93.00</td><td>4.83</td></tr><tr><td>36503399</td><td>90.00</td><td>4.78</td></tr><tr><td>39661332</td><td>85.00</td><td>4.95</td></tr><tr><td>45628395</td><td>55.00</td><td>4.50</td></tr><tr><td>49700699</td><td>229.00</td><td>5.00</td></tr><tr><td>468995</td><td>107.00</td><td>4.74</td></tr><tr><td>9743988</td><td>100.00</td><td>4.86</td></tr><tr><td>16355741</td><td>67.00</td><td>4.97</td></tr><tr><td>26468107</td><td>100.00</td><td>5.00</td></tr><tr><td>29035010</td><td>137.00</td><td>4.83</td></tr><tr><td>42759195</td><td>75.00</td><td>5.00</td></tr><tr><td>47791382</td><td>55.00</td><td>4.82</td></tr><tr><td>48930993</td><td>135.00</td><td>4.75</td></tr><tr><td>16687683</td><td>70.00</td><td>4.83</td></tr><tr><td>27194490</td><td>100.00</td><td>4.93</td></tr><tr><td>38253199</td><td>149.00</td><td>4.93</td></tr><tr><td>42595167</td><td>100.00</td><td>4.00</td></tr><tr><td>969981</td><td>120.00</td><td>5.00</td></tr><tr><td>2336814</td><td>150.00</td><td>4.53</td></tr><tr><td>21251812</td><td>85.00</td><td>4.87</td></tr><tr><td>21692262</td><td>115.00</td><td>4.90</td></tr><tr><td>25557751</td><td>100.00</td><td>2.00</td></tr><tr><td>27696826</td><td>64.00</td><td>5.00</td></tr><tr><td>32201638</td><td>119.00</td><td>4.54</td></tr><tr><td>33290427</td><td>60.00</td><td>4.78</td></tr><tr><td>40026248</td><td>87.00</td><td>4.48</td></tr><tr><td>42345278</td><td>155.00</td><td>4.89</td></tr><tr><td>43148154</td><td>60.00</td><td>4.67</td></tr><tr><td>43221999</td><td>88.00</td><td>5.00</td></tr><tr><td>10984038</td><td>75.00</td><td>5.00</td></tr><tr><td>19960091</td><td>80.00</td><td>4.76</td></tr><tr><td>22091580</td><td>148.00</td><td>4.84</td></tr><tr><td>23478816</td><td>45.00</td><td>4.70</td></tr><tr><td>25056162</td><td>210.00</td><td>5.00</td></tr><tr><td>29243691</td><td>150.00</td><td>5.00</td></tr><tr><td>30552736</td><td>97.00</td><td>4.63</td></tr><tr><td>35556438</td><td>100.00</td><td>4.89</td></tr><tr><td>40942050</td><td>60.00</td><td>5.00</td></tr><tr><td>43033297</td><td>120.00</td><td>5.00</td></tr><tr><td>48933731</td><td>157.00</td><td>4.78</td></tr><tr><td>2452737</td><td>63.00</td><td>4.82</td></tr><tr><td>4844036</td><td>30.00</td><td>5.00</td></tr><tr><td>9020187</td><td>200.00</td><td>4.70</td></tr><tr><td>10003145</td><td>131.00</td><td>4.85</td></tr><tr><td>19172142</td><td>57.00</td><td>4.58</td></tr><tr><td>23850452</td><td>110.00</td><td>5.00</td></tr><tr><td>37826302</td><td>60.00</td><td>4.95</td></tr><tr><td>38807359</td><td>50.00</td><td>4.92</td></tr><tr><td>39333864</td><td>124.00</td><td>5.00</td></tr><tr><td>40205372</td><td>76.00</td><td>0.00</td></tr><tr><td>42992640</td><td>200.00</td><td>4.87</td></tr><tr><td>47813533</td><td>134.00</td><td>2.00</td></tr><tr><td>2366343</td><td>82.00</td><td>4.52</td></tr><tr><td>3509380</td><td>83.00</td><td>4.37</td></tr><tr><td>21958415</td><td>57.00</td><td>4.94</td></tr><tr><td>26872383</td><td>120.00</td><td>4.50</td></tr><tr><td>29291312</td><td>100.00</td><td>5.00</td></tr><tr><td>42049527</td><td>58.00</td><td>5.00</td></tr><tr><td>43719198</td><td>160.00</td><td>3.50</td></tr><tr><td>49106525</td><td>42.00</td><td>4.50</td></tr><tr><td>325986</td><td>150.00</td><td>4.84</td></tr><tr><td>20394072</td><td>46.00</td><td>4.92</td></tr><tr><td>27806144</td><td>90.00</td><td>4.99</td></tr><tr><td>27823044</td><td>55.00</td><td>3.33</td></tr><tr><td>31538423</td><td>120.00</td><td>5.00</td></tr><tr><td>35555554</td><td>100.00</td><td>5.00</td></tr><tr><td>37313127</td><td>107.00</td><td>4.00</td></tr><tr><td>41078192</td><td>104.00</td><td>5.00</td></tr><tr><td>43616447</td><td>106.00</td><td>4.56</td></tr><tr><td>9166481</td><td>65.00</td><td>5.00</td></tr><tr><td>11780330</td><td>230.00</td><td>4.11</td></tr><tr><td>22157935</td><td>50.00</td><td>5.00</td></tr><tr><td>27011423</td><td>69.00</td><td>5.00</td></tr><tr><td>30727721</td><td>83.00</td><td>4.78</td></tr><tr><td>31299672</td><td>180.00</td><td>4.86</td></tr><tr><td>39287864</td><td>79.00</td><td>4.43</td></tr><tr><td>14050492</td><td>149.00</td><td>5.00</td></tr><tr><td>14158355</td><td>119.00</td><td>4.61</td></tr><tr><td>21840630</td><td>110.00</td><td>4.70</td></tr><tr><td>32481902</td><td>65.00</td><td>4.40</td></tr><tr><td>39810160</td><td>49.00</td><td>4.33</td></tr><tr><td>41208997</td><td>89.00</td><td>4.50</td></tr><tr><td>42849516</td><td>55.00</td><td>5.00</td></tr><tr><td>43439392</td><td>80.00</td><td>5.00</td></tr><tr><td>48913929</td><td>90.00</td><td>4.00</td></tr><tr><td>17939469</td><td>175.00</td><td>4.98</td></tr><tr><td>21100076</td><td>304.00</td><td>5.00</td></tr><tr><td>34146181</td><td>220.00</td><td>5.00</td></tr><tr><td>41471627</td><td>80.00</td><td>4.73</td></tr><tr><td>45279831</td><td>90.00</td><td>5.00</td></tr><tr><td>2981431</td><td>36.00</td><td>4.28</td></tr><tr><td>11051956</td><td>77.00</td><td>4.80</td></tr><tr><td>20799055</td><td>161.00</td><td>4.62</td></tr><tr><td>22996481</td><td>160.00</td><td>4.89</td></tr><tr><td>32493584</td><td>100.00</td><td>4.00</td></tr><tr><td>42167400</td><td>75.00</td><td>4.00</td></tr><tr><td>42874036</td><td>83.00</td><td>4.83</td></tr><tr><td>47815787</td><td>94.00</td><td>4.43</td></tr><tr><td>50124536</td><td>95.00</td><td>5.00</td></tr><tr><td>901420</td><td>95.00</td><td>4.43</td></tr><tr><td>12212792</td><td>62.00</td><td>4.44</td></tr><tr><td>17615951</td><td>92.00</td><td>4.90</td></tr><tr><td>18562480</td><td>101.00</td><td>4.94</td></tr><tr><td>35353903</td><td>120.00</td><td>5.00</td></tr><tr><td>36842252</td><td>89.00</td><td>4.82</td></tr><tr><td>37230133</td><td>55.00</td><td>5.00</td></tr><tr><td>41101967</td><td>95.00</td><td>4.82</td></tr><tr><td>49472336</td><td>98.00</td><td>5.00</td></tr><tr><td>50082282</td><td>45.00</td><td>5.00</td></tr><tr><td>6756755</td><td>150.00</td><td>5.00</td></tr><tr><td>22476460</td><td>120.00</td><td>4.85</td></tr><tr><td>26525411</td><td>51.00</td><td>4.79</td></tr><tr><td>28926742</td><td>55.00</td><td>4.50</td></tr><tr><td>40435591</td><td>100.00</td><td>5.00</td></tr><tr><td>41222017</td><td>66.00</td><td>0.00</td></tr><tr><td>42172453</td><td>81.00</td><td>4.67</td></tr><tr><td>1390100</td><td>85.00</td><td>4.60</td></tr><tr><td>9806206</td><td>120.00</td><td>4.76</td></tr><tr><td>13988515</td><td>166.00</td><td>4.67</td></tr><tr><td>15711153</td><td>133.00</td><td>4.85</td></tr><tr><td>39551533</td><td>96.00</td><td>2.00</td></tr><tr><td>43977527</td><td>200.00</td><td>5.00</td></tr><tr><td>44592421</td><td>55.00</td><td>4.67</td></tr><tr><td>3990293</td><td>120.00</td><td>5.00</td></tr><tr><td>10087307</td><td>81.00</td><td>5.00</td></tr><tr><td>17623239</td><td>290.00</td><td>4.50</td></tr><tr><td>32830328</td><td>80.00</td><td>4.89</td></tr><tr><td>33728757</td><td>130.00</td><td>4.72</td></tr><tr><td>909957</td><td>237.00</td><td>4.55</td></tr><tr><td>2742038</td><td>165.00</td><td>4.17</td></tr><tr><td>7336796</td><td>110.00</td><td>4.83</td></tr><tr><td>10574168</td><td>75.00</td><td>4.62</td></tr><tr><td>14464267</td><td>75.00</td><td>4.73</td></tr><tr><td>16172566</td><td>114.00</td><td>4.76</td></tr><tr><td>20348351</td><td>101.00</td><td>4.00</td></tr><tr><td>23397668</td><td>70.00</td><td>4.85</td></tr><tr><td>34252016</td><td>385.00</td><td>5.00</td></tr><tr><td>35150322</td><td>80.00</td><td>5.00</td></tr><tr><td>35383749</td><td>59.00</td><td>5.00</td></tr><tr><td>40961221</td><td>132.00</td><td>5.00</td></tr><tr><td>47324346</td><td>100.00</td><td>1.00</td></tr><tr><td>3651974</td><td>76.00</td><td>4.88</td></tr><tr><td>8344245</td><td>69.00</td><td>4.79</td></tr><tr><td>9836688</td><td>100.00</td><td>4.96</td></tr><tr><td>9969651</td><td>71.00</td><td>4.69</td></tr><tr><td>10023698</td><td>78.00</td><td>4.78</td></tr><tr><td>24143796</td><td>65.00</td><td>5.00</td></tr><tr><td>28793259</td><td>100.00</td><td>5.00</td></tr><tr><td>41609039</td><td>161.00</td><td>4.78</td></tr><tr><td>2940931</td><td>55.00</td><td>4.77</td></tr><tr><td>5455569</td><td>109.00</td><td>4.51</td></tr><tr><td>6034943</td><td>50.00</td><td>4.87</td></tr><tr><td>7910947</td><td>262.00</td><td>4.67</td></tr><tr><td>12818905</td><td>140.00</td><td>4.50</td></tr><tr><td>14571441</td><td>85.00</td><td>4.91</td></tr><tr><td>15986599</td><td>67.00</td><td>4.44</td></tr><tr><td>29474298</td><td>126.00</td><td>4.00</td></tr><tr><td>47764385</td><td>90.00</td><td>2.00</td></tr><tr><td>7367940</td><td>128.00</td><td>4.13</td></tr><tr><td>8660375</td><td>75.00</td><td>4.63</td></tr><tr><td>14233292</td><td>49.00</td><td>4.76</td></tr><tr><td>15481869</td><td>70.00</td><td>4.82</td></tr><tr><td>21692965</td><td>160.00</td><td>4.89</td></tr><tr><td>29892666</td><td>85.00</td><td>5.00</td></tr><tr><td>32281082</td><td>120.00</td><td>4.67</td></tr><tr><td>35862520</td><td>100.00</td><td>5.00</td></tr><tr><td>37077642</td><td>78.00</td><td>1.00</td></tr><tr><td>693976</td><td>120.00</td><td>4.90</td></tr><tr><td>7450908</td><td>80.00</td><td>4.85</td></tr><tr><td>9501881</td><td>107.00</td><td>4.88</td></tr><tr><td>9783381</td><td>64.00</td><td>4.89</td></tr><tr><td>11413062</td><td>164.00</td><td>4.94</td></tr><tr><td>11981313</td><td>116.00</td><td>4.80</td></tr><tr><td>24392188</td><td>75.00</td><td>4.52</td></tr><tr><td>27022237</td><td>80.00</td><td>0.00</td></tr><tr><td>27162074</td><td>89.00</td><td>4.88</td></tr><tr><td>29986784</td><td>135.00</td><td>4.86</td></tr><tr><td>36580506</td><td>150.00</td><td>5.00</td></tr><tr><td>39521726</td><td>104.00</td><td>4.00</td></tr><tr><td>41496102</td><td>40.00</td><td>3.90</td></tr><tr><td>42876356</td><td>66.00</td><td>4.50</td></tr><tr><td>42936495</td><td>160.00</td><td>5.00</td></tr><tr><td>43983490</td><td>100.00</td><td>4.75</td></tr><tr><td>1421517</td><td>77.00</td><td>4.75</td></tr><tr><td>5616194</td><td>150.00</td><td>5.00</td></tr><tr><td>9271687</td><td>500.00</td><td>5.00</td></tr><tr><td>9798603</td><td>89.00</td><td>4.73</td></tr><tr><td>12558556</td><td>88.00</td><td>4.85</td></tr><tr><td>14275460</td><td>100.00</td><td>4.51</td></tr><tr><td>14987040</td><td>180.00</td><td>5.00</td></tr><tr><td>29028597</td><td>50.00</td><td>4.67</td></tr><tr><td>37714616</td><td>79.00</td><td>5.00</td></tr><tr><td>43483234</td><td>96.00</td><td>3.67</td></tr><tr><td>46086400</td><td>210.00</td><td>5.00</td></tr><tr><td>721025</td><td>199.00</td><td>4.82</td></tr><tr><td>5759222</td><td>95.00</td><td>4.67</td></tr><tr><td>6635324</td><td>140.00</td><td>4.50</td></tr><tr><td>21362573</td><td>145.00</td><td>5.00</td></tr><tr><td>22475827</td><td>50.00</td><td>5.00</td></tr><tr><td>23495573</td><td>66.00</td><td>4.58</td></tr><tr><td>24408641</td><td>90.00</td><td>5.00</td></tr><tr><td>31099175</td><td>55.00</td><td>5.00</td></tr><tr><td>41277752</td><td>59.00</td><td>5.00</td></tr><tr><td>50275514</td><td>105.00</td><td>5.00</td></tr><tr><td>1933491</td><td>185.00</td><td>4.70</td></tr><tr><td>15864251</td><td>129.00</td><td>4.95</td></tr><tr><td>16565849</td><td>268.00</td><td>5.00</td></tr><tr><td>17454756</td><td>65.00</td><td>4.67</td></tr><tr><td>18868868</td><td>95.00</td><td>4.89</td></tr><tr><td>22041488</td><td>358.00</td><td>4.97</td></tr><tr><td>23636260</td><td>95.00</td><td>4.77</td></tr><tr><td>31831066</td><td>99.00</td><td>4.95</td></tr><tr><td>38012936</td><td>121.00</td><td>5.00</td></tr><tr><td>43663800</td><td>125.00</td><td>5.00</td></tr><tr><td>940654</td><td>139.00</td><td>4.67</td></tr><tr><td>1050136</td><td>47.00</td><td>4.35</td></tr><tr><td>3418549</td><td>36.00</td><td>4.46</td></tr><tr><td>5111081</td><td>99.00</td><td>4.67</td></tr><tr><td>6653930</td><td>150.00</td><td>4.50</td></tr><tr><td>11377087</td><td>48.00</td><td>4.50</td></tr><tr><td>15700637</td><td>55.00</td><td>4.85</td></tr><tr><td>21085478</td><td>293.00</td><td>4.67</td></tr><tr><td>47841004</td><td>75.00</td><td>5.00</td></tr><tr><td>48501665</td><td>169.00</td><td>5.00</td></tr><tr><td>381538</td><td>146.00</td><td>5.00</td></tr><tr><td>28332242</td><td>110.00</td><td>4.59</td></tr><tr><td>39144163</td><td>65.00</td><td>2.00</td></tr><tr><td>1163211</td><td>79.00</td><td>4.84</td></tr><tr><td>20928186</td><td>72.00</td><td>4.84</td></tr><tr><td>24407671</td><td>65.00</td><td>4.90</td></tr><tr><td>31374489</td><td>84.00</td><td>4.00</td></tr><tr><td>31619098</td><td>199.00</td><td>4.57</td></tr><tr><td>42112241</td><td>130.00</td><td>4.60</td></tr><tr><td>935428</td><td>140.00</td><td>5.00</td></tr><tr><td>8563888</td><td>84.00</td><td>4.37</td></tr><tr><td>25796141</td><td>854.00</td><td>5.00</td></tr><tr><td>27919851</td><td>128.00</td><td>4.81</td></tr><tr><td>35671865</td><td>140.00</td><td>5.00</td></tr><tr><td>38426767</td><td>144.00</td><td>5.00</td></tr><tr><td>38650532</td><td>98.00</td><td>5.00</td></tr><tr><td>39575550</td><td>104.00</td><td>5.00</td></tr><tr><td>40028839</td><td>70.00</td><td>0.00</td></tr><tr><td>40940208</td><td>99.00</td><td>5.00</td></tr><tr><td>44012422</td><td>70.00</td><td>4.50</td></tr><tr><td>3948699</td><td>159.00</td><td>4.59</td></tr><tr><td>11814447</td><td>90.00</td><td>4.66</td></tr><tr><td>19026031</td><td>121.00</td><td>0.00</td></tr><tr><td>20059534</td><td>120.00</td><td>4.86</td></tr><tr><td>23572346</td><td>44.00</td><td>4.88</td></tr><tr><td>26656429</td><td>80.00</td><td>4.94</td></tr><tr><td>36803749</td><td>73.00</td><td>4.50</td></tr><tr><td>38126236</td><td>81.00</td><td>5.00</td></tr><tr><td>38886924</td><td>104.00</td><td>4.17</td></tr><tr><td>39503630</td><td>50.00</td><td>4.67</td></tr><tr><td>40419692</td><td>150.00</td><td>5.00</td></tr><tr><td>43644445</td><td>93.00</td><td>5.00</td></tr><tr><td>639461</td><td>129.00</td><td>4.22</td></tr><tr><td>2777113</td><td>50.00</td><td>4.75</td></tr><tr><td>13670795</td><td>100.00</td><td>4.93</td></tr><tr><td>20842636</td><td>105.00</td><td>4.50</td></tr><tr><td>21560355</td><td>193.00</td><td>4.53</td></tr><tr><td>34238052</td><td>40.00</td><td>4.69</td></tr><tr><td>40718209</td><td>115.00</td><td>5.00</td></tr><tr><td>45653005</td><td>90.00</td><td>5.00</td></tr><tr><td>46692642</td><td>91.00</td><td>3.00</td></tr><tr><td>952342</td><td>130.00</td><td>4.92</td></tr><tr><td>7845921</td><td>106.00</td><td>4.86</td></tr><tr><td>21644044</td><td>159.00</td><td>4.92</td></tr><tr><td>26119727</td><td>130.00</td><td>5.00</td></tr><tr><td>26598431</td><td>365.00</td><td>5.00</td></tr><tr><td>27134801</td><td>153.00</td><td>5.00</td></tr><tr><td>27535408</td><td>285.00</td><td>4.50</td></tr><tr><td>42240245</td><td>81.00</td><td>4.64</td></tr><tr><td>42485930</td><td>110.00</td><td>4.75</td></tr><tr><td>42931696</td><td>107.00</td><td>5.00</td></tr><tr><td>44413452</td><td>125.00</td><td>5.00</td></tr><tr><td>610738</td><td>150.00</td><td>4.33</td></tr><tr><td>21185566</td><td>90.00</td><td>4.75</td></tr><tr><td>21678925</td><td>70.00</td><td>4.52</td></tr><tr><td>20893756</td><td>360.00</td><td>4.80</td></tr><tr><td>32439416</td><td>85.00</td><td>4.86</td></tr><tr><td>43871988</td><td>104.00</td><td>4.34</td></tr><tr><td>45251777</td><td>200.00</td><td>5.00</td></tr><tr><td>46850662</td><td>65.00</td><td>5.00</td></tr><tr><td>7429800</td><td>235.00</td><td>4.90</td></tr><tr><td>19867995</td><td>49.00</td><td>5.00</td></tr><tr><td>21599640</td><td>126.00</td><td>4.50</td></tr><tr><td>24950831</td><td>88.00</td><td>5.00</td></tr><tr><td>34828847</td><td>61.00</td><td>4.50</td></tr><tr><td>35734873</td><td>200.00</td><td>4.50</td></tr><tr><td>38593068</td><td>240.00</td><td>4.83</td></tr><tr><td>39385375</td><td>116.00</td><td>5.00</td></tr><tr><td>39961295</td><td>196.00</td><td>5.00</td></tr><tr><td>45833164</td><td>500.00</td><td>4.89</td></tr><tr><td>46573112</td><td>78.00</td><td>4.34</td></tr><tr><td>50189850</td><td>109.00</td><td>5.00</td></tr><tr><td>7348483</td><td>81.00</td><td>4.82</td></tr><tr><td>23736667</td><td>50.00</td><td>4.98</td></tr><tr><td>37360569</td><td>100.00</td><td>5.00</td></tr><tr><td>46216984</td><td>70.00</td><td>5.00</td></tr><tr><td>2974328</td><td>90.00</td><td>4.72</td></tr><tr><td>4969489</td><td>115.00</td><td>4.73</td></tr><tr><td>14370287</td><td>150.00</td><td>3.50</td></tr><tr><td>23714530</td><td>150.00</td><td>4.40</td></tr><tr><td>24978123</td><td>53.00</td><td>4.83</td></tr><tr><td>39520256</td><td>104.00</td><td>5.00</td></tr><tr><td>44639058</td><td>70.00</td><td>4.00</td></tr><tr><td>10778062</td><td>98.00</td><td>4.68</td></tr><tr><td>12457924</td><td>170.00</td><td>4.77</td></tr><tr><td>14727973</td><td>92.00</td><td>4.94</td></tr><tr><td>14757969</td><td>171.00</td><td>4.76</td></tr><tr><td>17331836</td><td>125.00</td><td>5.00</td></tr><tr><td>26083464</td><td>50.00</td><td>4.62</td></tr><tr><td>32741322</td><td>220.00</td><td>5.00</td></tr><tr><td>39445793</td><td>64.00</td><td>4.25</td></tr><tr><td>45530371</td><td>89.00</td><td>5.00</td></tr><tr><td>45729298</td><td>35.00</td><td>4.50</td></tr><tr><td>18018494</td><td>46.00</td><td>4.48</td></tr><tr><td>18470960</td><td>120.00</td><td>5.00</td></tr><tr><td>19897934</td><td>85.00</td><td>5.00</td></tr><tr><td>23320007</td><td>109.00</td><td>4.82</td></tr><tr><td>32761169</td><td>66.00</td><td>4.80</td></tr><tr><td>35560387</td><td>120.00</td><td>4.94</td></tr><tr><td>36636576</td><td>58.00</td><td>4.33</td></tr><tr><td>45410976</td><td>95.00</td><td>4.00</td></tr><tr><td>49392157</td><td>88.00</td><td>4.27</td></tr><tr><td>19382811</td><td>70.00</td><td>4.71</td></tr><tr><td>27477230</td><td>47.00</td><td>5.00</td></tr><tr><td>29270920</td><td>79.00</td><td>4.00</td></tr><tr><td>34890565</td><td>134.00</td><td>4.58</td></tr><tr><td>35405625</td><td>300.00</td><td>5.00</td></tr><tr><td>39252027</td><td>70.00</td><td>4.77</td></tr><tr><td>42236573</td><td>85.00</td><td>4.50</td></tr><tr><td>5690631</td><td>41.00</td><td>4.80</td></tr><tr><td>15764644</td><td>111.00</td><td>4.33</td></tr><tr><td>23246592</td><td>40.00</td><td>4.88</td></tr><tr><td>23849560</td><td>140.00</td><td>4.90</td></tr><tr><td>24988143</td><td>42.00</td><td>4.82</td></tr><tr><td>26175658</td><td>260.00</td><td>4.67</td></tr><tr><td>30285090</td><td>150.00</td><td>5.00</td></tr><tr><td>32832522</td><td>89.00</td><td>4.00</td></tr><tr><td>33066100</td><td>84.00</td><td>4.77</td></tr><tr><td>33840294</td><td>135.00</td><td>5.00</td></tr><tr><td>41715861</td><td>100.00</td><td>5.00</td></tr><tr><td>42501335</td><td>140.00</td><td>5.00</td></tr><tr><td>46685345</td><td>160.00</td><td>5.00</td></tr><tr><td>49705803</td><td>76.00</td><td>4.00</td></tr><tr><td>4581470</td><td>132.00</td><td>4.95</td></tr><tr><td>17263959</td><td>115.00</td><td>4.57</td></tr><tr><td>17602151</td><td>81.00</td><td>4.54</td></tr><tr><td>24531319</td><td>165.00</td><td>5.00</td></tr><tr><td>46872297</td><td>120.00</td><td>4.75</td></tr><tr><td>3934582</td><td>88.00</td><td>4.63</td></tr><tr><td>5961262</td><td>229.00</td><td>4.80</td></tr><tr><td>7490872</td><td>180.00</td><td>4.78</td></tr><tr><td>10729350</td><td>115.00</td><td>4.81</td></tr><tr><td>11736459</td><td>70.00</td><td>4.63</td></tr><tr><td>12313309</td><td>181.00</td><td>5.00</td></tr><tr><td>25046205</td><td>100.00</td><td>5.00</td></tr><tr><td>28970343</td><td>97.00</td><td>4.95</td></tr><tr><td>32404023</td><td>105.00</td><td>4.74</td></tr><tr><td>34486346</td><td>195.00</td><td>5.00</td></tr><tr><td>35453889</td><td>89.00</td><td>5.00</td></tr><tr><td>37173037</td><td>129.00</td><td>5.00</td></tr><tr><td>39575966</td><td>104.00</td><td>4.00</td></tr><tr><td>40232524</td><td>77.00</td><td>4.00</td></tr><tr><td>45230072</td><td>48.00</td><td>5.00</td></tr><tr><td>49195715</td><td>80.00</td><td>5.00</td></tr><tr><td>11547188</td><td>60.00</td><td>4.38</td></tr><tr><td>11665732</td><td>133.00</td><td>4.89</td></tr><tr><td>12085880</td><td>107.00</td><td>4.75</td></tr><tr><td>16801405</td><td>40.00</td><td>4.71</td></tr><tr><td>23635950</td><td>130.00</td><td>4.92</td></tr><tr><td>29713911</td><td>92.00</td><td>4.89</td></tr><tr><td>41799032</td><td>120.00</td><td>5.00</td></tr><tr><td>14435396</td><td>74.00</td><td>4.90</td></tr><tr><td>17457392</td><td>75.00</td><td>4.80</td></tr><tr><td>22722210</td><td>41.00</td><td>4.34</td></tr><tr><td>30462632</td><td>399.00</td><td>4.74</td></tr><tr><td>35038457</td><td>100.00</td><td>4.85</td></tr><tr><td>41281842</td><td>65.00</td><td>5.00</td></tr><tr><td>2420928</td><td>54.00</td><td>4.38</td></tr><tr><td>2675341</td><td>120.00</td><td>4.92</td></tr><tr><td>11117739</td><td>30.00</td><td>4.76</td></tr><tr><td>12829370</td><td>300.00</td><td>4.75</td></tr><tr><td>16257353</td><td>122.00</td><td>3.88</td></tr><tr><td>29751763</td><td>59.00</td><td>4.85</td></tr><tr><td>33862576</td><td>90.00</td><td>4.80</td></tr><tr><td>34267966</td><td>220.00</td><td>4.75</td></tr><tr><td>43954631</td><td>79.00</td><td>4.56</td></tr><tr><td>47355980</td><td>94.00</td><td>4.77</td></tr><tr><td>9703138</td><td>80.00</td><td>3.00</td></tr><tr><td>16162980</td><td>90.00</td><td>0.00</td></tr><tr><td>23901725</td><td>125.00</td><td>4.79</td></tr><tr><td>24038384</td><td>80.00</td><td>4.77</td></tr><tr><td>37016967</td><td>105.00</td><td>5.00</td></tr><tr><td>38798078</td><td>180.00</td><td>5.00</td></tr><tr><td>41404635</td><td>73.00</td><td>4.31</td></tr><tr><td>45931369</td><td>120.00</td><td>4.83</td></tr><tr><td>47110428</td><td>135.00</td><td>4.00</td></tr><tr><td>47765028</td><td>50.00</td><td>5.00</td></tr><tr><td>996962</td><td>126.00</td><td>5.00</td></tr><tr><td>1821071</td><td>114.00</td><td>4.36</td></tr><tr><td>1917876</td><td>55.00</td><td>4.99</td></tr><tr><td>17536030</td><td>88.00</td><td>4.60</td></tr><tr><td>20047620</td><td>38.00</td><td>4.22</td></tr><tr><td>32680358</td><td>208.00</td><td>4.27</td></tr><tr><td>40277898</td><td>96.00</td><td>4.00</td></tr><tr><td>42761576</td><td>81.00</td><td>5.00</td></tr><tr><td>16525323</td><td>135.00</td><td>4.67</td></tr><tr><td>17034108</td><td>67.00</td><td>4.67</td></tr><tr><td>20734555</td><td>120.00</td><td>0.00</td></tr><tr><td>21734698</td><td>66.00</td><td>4.92</td></tr><tr><td>26942664</td><td>119.00</td><td>5.00</td></tr><tr><td>47702734</td><td>44.00</td><td>2.00</td></tr><tr><td>1081909</td><td>113.00</td><td>4.89</td></tr><tr><td>1933146</td><td>268.00</td><td>4.78</td></tr><tr><td>14736267</td><td>80.00</td><td>4.97</td></tr><tr><td>23012046</td><td>55.00</td><td>3.50</td></tr><tr><td>28650613</td><td>88.00</td><td>5.00</td></tr><tr><td>7730834</td><td>60.00</td><td>4.33</td></tr><tr><td>12061069</td><td>95.00</td><td>4.96</td></tr><tr><td>23542297</td><td>100.00</td><td>5.00</td></tr><tr><td>25314275</td><td>110.00</td><td>4.92</td></tr><tr><td>31348590</td><td>38.00</td><td>4.70</td></tr><tr><td>49705732</td><td>60.00</td><td>5.00</td></tr><tr><td>11157899</td><td>115.00</td><td>4.71</td></tr><tr><td>16471533</td><td>90.00</td><td>4.89</td></tr><tr><td>19146061</td><td>430.00</td><td>5.00</td></tr><tr><td>39428721</td><td>65.00</td><td>4.89</td></tr><tr><td>41868363</td><td>104.00</td><td>5.00</td></tr><tr><td>42175166</td><td>71.00</td><td>4.63</td></tr><tr><td>43721602</td><td>160.00</td><td>4.33</td></tr><tr><td>7622817</td><td>40.00</td><td>4.63</td></tr><tr><td>37847327</td><td>71.00</td><td>4.83</td></tr><tr><td>39960841</td><td>55.00</td><td>4.73</td></tr><tr><td>42725891</td><td>50.00</td><td>5.00</td></tr><tr><td>48003186</td><td>200.00</td><td>5.00</td></tr><tr><td>3707868</td><td>60.00</td><td>4.85</td></tr><tr><td>5233073</td><td>79.00</td><td>4.83</td></tr><tr><td>16892607</td><td>85.00</td><td>4.89</td></tr><tr><td>32340445</td><td>80.00</td><td>4.89</td></tr><tr><td>1650333</td><td>350.00</td><td>4.91</td></tr><tr><td>7289094</td><td>110.00</td><td>4.95</td></tr><tr><td>10960560</td><td>183.00</td><td>4.75</td></tr><tr><td>23797235</td><td>70.00</td><td>4.50</td></tr><tr><td>32941792</td><td>131.00</td><td>4.75</td></tr><tr><td>43661787</td><td>750.00</td><td>5.00</td></tr><tr><td>1834727</td><td>66.00</td><td>4.10</td></tr><tr><td>5506730</td><td>140.00</td><td>4.56</td></tr><tr><td>11333675</td><td>97.00</td><td>4.66</td></tr><tr><td>17049976</td><td>122.00</td><td>4.19</td></tr><tr><td>22652248</td><td>190.00</td><td>5.00</td></tr><tr><td>23304953</td><td>89.00</td><td>4.93</td></tr><tr><td>32600209</td><td>95.00</td><td>4.86</td></tr><tr><td>44513789</td><td>67.00</td><td>4.13</td></tr><tr><td>47008191</td><td>65.00</td><td>5.00</td></tr><tr><td>47726793</td><td>80.00</td><td>4.50</td></tr><tr><td>49283899</td><td>141.00</td><td>4.00</td></tr><tr><td>3351768</td><td>53.00</td><td>5.00</td></tr><tr><td>22742579</td><td>390.00</td><td>4.89</td></tr><tr><td>24859784</td><td>110.00</td><td>4.94</td></tr><tr><td>47700082</td><td>49.00</td><td>3.25</td></tr><tr><td>48518399</td><td>45.00</td><td>5.00</td></tr><tr><td>7217925</td><td>109.00</td><td>4.67</td></tr><tr><td>16497058</td><td>120.00</td><td>4.71</td></tr><tr><td>23461382</td><td>34.00</td><td>4.81</td></tr><tr><td>31202269</td><td>96.00</td><td>4.47</td></tr><tr><td>5416095</td><td>200.00</td><td>4.93</td></tr><tr><td>16159057</td><td>299.00</td><td>4.86</td></tr><tr><td>17825267</td><td>69.00</td><td>4.78</td></tr><tr><td>20168897</td><td>86.00</td><td>4.67</td></tr><tr><td>34349701</td><td>50.00</td><td>4.56</td></tr><tr><td>42525849</td><td>65.00</td><td>5.00</td></tr><tr><td>47433816</td><td>150.00</td><td>4.00</td></tr><tr><td>48276878</td><td>175.00</td><td>4.80</td></tr><tr><td>1236785</td><td>180.00</td><td>4.57</td></tr><tr><td>6929104</td><td>100.00</td><td>4.71</td></tr><tr><td>30554684</td><td>85.00</td><td>5.00</td></tr><tr><td>40615768</td><td>136.00</td><td>5.00</td></tr><tr><td>48051061</td><td>77.00</td><td>5.00</td></tr><tr><td>1167323</td><td>165.00</td><td>5.00</td></tr><tr><td>4158583</td><td>170.00</td><td>4.63</td></tr><tr><td>6521675</td><td>120.00</td><td>4.89</td></tr><tr><td>7794862</td><td>100.00</td><td>4.00</td></tr><tr><td>16309343</td><td>60.00</td><td>4.89</td></tr><tr><td>17473908</td><td>102.00</td><td>4.55</td></tr><tr><td>18840514</td><td>90.00</td><td>4.85</td></tr><tr><td>20739453</td><td>175.00</td><td>4.82</td></tr><tr><td>22264281</td><td>100.00</td><td>4.97</td></tr><tr><td>29979983</td><td>120.00</td><td>4.27</td></tr><tr><td>30580109</td><td>386.00</td><td>4.97</td></tr><tr><td>31560210</td><td>80.00</td><td>4.38</td></tr><tr><td>33956194</td><td>500.00</td><td>4.33</td></tr><tr><td>43268815</td><td>131.00</td><td>4.40</td></tr><tr><td>45720030</td><td>65.00</td><td>4.75</td></tr><tr><td>47422317</td><td>79.00</td><td>4.25</td></tr><tr><td>47795336</td><td>110.00</td><td>3.60</td></tr><tr><td>48991798</td><td>108.00</td><td>4.00</td></tr><tr><td>17196955</td><td>104.00</td><td>4.95</td></tr><tr><td>23393927</td><td>200.00</td><td>4.59</td></tr><tr><td>24055168</td><td>95.00</td><td>5.00</td></tr><tr><td>29838232</td><td>149.00</td><td>4.95</td></tr><tr><td>44115046</td><td>120.00</td><td>5.00</td></tr><tr><td>628055</td><td>48.00</td><td>4.75</td></tr><tr><td>9984236</td><td>104.00</td><td>5.00</td></tr><tr><td>11603929</td><td>125.00</td><td>4.97</td></tr><tr><td>13329369</td><td>77.00</td><td>5.00</td></tr><tr><td>22997037</td><td>87.00</td><td>5.00</td></tr><tr><td>34437252</td><td>100.00</td><td>5.00</td></tr><tr><td>45782210</td><td>104.00</td><td>5.00</td></tr><tr><td>7271653</td><td>110.00</td><td>4.87</td></tr><tr><td>11447446</td><td>250.00</td><td>5.00</td></tr><tr><td>12944103</td><td>89.00</td><td>5.00</td></tr><tr><td>14816058</td><td>88.00</td><td>5.00</td></tr><tr><td>37542244</td><td>83.00</td><td>4.88</td></tr><tr><td>38486498</td><td>125.00</td><td>4.63</td></tr><tr><td>38547173</td><td>100.00</td><td>5.00</td></tr><tr><td>45185062</td><td>75.00</td><td>5.00</td></tr><tr><td>12101245</td><td>105.00</td><td>4.49</td></tr><tr><td>14369898</td><td>70.00</td><td>4.60</td></tr><tr><td>31393487</td><td>208.00</td><td>5.00</td></tr><tr><td>35492642</td><td>120.00</td><td>4.78</td></tr><tr><td>40130142</td><td>130.00</td><td>4.75</td></tr><tr><td>50132447</td><td>100.00</td><td>4.75</td></tr><tr><td>754676</td><td>95.00</td><td>4.67</td></tr><tr><td>817501</td><td>76.00</td><td>4.45</td></tr><tr><td>16322751</td><td>230.00</td><td>0.00</td></tr><tr><td>26140465</td><td>230.00</td><td>4.40</td></tr><tr><td>31551129</td><td>130.00</td><td>4.00</td></tr><tr><td>36682996</td><td>170.00</td><td>5.00</td></tr><tr><td>43472948</td><td>99.00</td><td>4.75</td></tr><tr><td>47971372</td><td>85.00</td><td>5.00</td></tr><tr><td>4522610</td><td>116.00</td><td>4.44</td></tr><tr><td>20277017</td><td>57.00</td><td>4.67</td></tr><tr><td>22288806</td><td>60.00</td><td>5.00</td></tr><tr><td>30138742</td><td>77.00</td><td>4.46</td></tr><tr><td>33865776</td><td>157.00</td><td>4.50</td></tr><tr><td>2463585</td><td>70.00</td><td>4.65</td></tr><tr><td>3162126</td><td>219.00</td><td>4.73</td></tr><tr><td>38539406</td><td>59.00</td><td>5.00</td></tr><tr><td>39083845</td><td>380.00</td><td>5.00</td></tr><tr><td>41787417</td><td>52.00</td><td>4.50</td></tr><tr><td>45463474</td><td>393.00</td><td>4.79</td></tr><tr><td>48803853</td><td>70.00</td><td>4.00</td></tr><tr><td>49811870</td><td>63.00</td><td>5.00</td></tr><tr><td>22822880</td><td>176.00</td><td>4.66</td></tr><tr><td>26424140</td><td>90.00</td><td>4.80</td></tr><tr><td>28173093</td><td>160.00</td><td>4.67</td></tr><tr><td>30705658</td><td>89.00</td><td>4.58</td></tr><tr><td>32689551</td><td>260.00</td><td>5.00</td></tr><tr><td>39234479</td><td>513.00</td><td>5.00</td></tr><tr><td>43953930</td><td>78.00</td><td>3.92</td></tr><tr><td>42515</td><td>72.00</td><td>4.69</td></tr><tr><td>399388</td><td>49.00</td><td>4.82</td></tr><tr><td>2539227</td><td>107.00</td><td>4.55</td></tr><tr><td>3789436</td><td>120.00</td><td>4.67</td></tr><tr><td>13135441</td><td>66.00</td><td>4.74</td></tr><tr><td>22740212</td><td>40.00</td><td>4.92</td></tr><tr><td>37428032</td><td>40.00</td><td>4.90</td></tr><tr><td>40100994</td><td>104.00</td><td>4.50</td></tr><tr><td>1933255</td><td>321.00</td><td>4.79</td></tr><tr><td>13340167</td><td>83.00</td><td>4.84</td></tr><tr><td>13800901</td><td>66.00</td><td>4.90</td></tr><tr><td>25120694</td><td>137.00</td><td>5.00</td></tr><tr><td>29325047</td><td>70.00</td><td>5.00</td></tr><tr><td>33029935</td><td>100.00</td><td>4.88</td></tr><tr><td>44091555</td><td>69.00</td><td>4.67</td></tr><tr><td>45579207</td><td>84.00</td><td>5.00</td></tr><tr><td>5304033</td><td>98.00</td><td>4.43</td></tr><tr><td>24213085</td><td>229.00</td><td>4.57</td></tr><tr><td>36435433</td><td>130.00</td><td>4.77</td></tr><tr><td>40551921</td><td>50.00</td><td>4.52</td></tr><tr><td>46081272</td><td>121.00</td><td>5.00</td></tr><tr><td>919262</td><td>75.00</td><td>4.21</td></tr><tr><td>5120419</td><td>254.00</td><td>4.53</td></tr><tr><td>9620597</td><td>199.00</td><td>4.44</td></tr><tr><td>28753707</td><td>70.00</td><td>4.53</td></tr><tr><td>30320214</td><td>280.00</td><td>4.38</td></tr><tr><td>34198661</td><td>125.00</td><td>4.83</td></tr><tr><td>35630907</td><td>90.00</td><td>5.00</td></tr><tr><td>40960110</td><td>204.00</td><td>5.00</td></tr><tr><td>42873743</td><td>135.00</td><td>4.46</td></tr><tr><td>10332954</td><td>110.00</td><td>4.79</td></tr><tr><td>13650940</td><td>140.00</td><td>3.83</td></tr><tr><td>20189104</td><td>60.00</td><td>5.00</td></tr><tr><td>22903833</td><td>80.00</td><td>4.45</td></tr><tr><td>37362857</td><td>50.00</td><td>5.00</td></tr><tr><td>42243972</td><td>104.00</td><td>4.00</td></tr><tr><td>46327775</td><td>0.00</td><td>5.00</td></tr><tr><td>3314773</td><td>95.00</td><td>4.92</td></tr><tr><td>8855212</td><td>98.00</td><td>4.86</td></tr><tr><td>16291892</td><td>193.00</td><td>4.00</td></tr><tr><td>19216795</td><td>421.00</td><td>5.00</td></tr><tr><td>31395439</td><td>42.00</td><td>4.70</td></tr><tr><td>32639600</td><td>110.00</td><td>5.00</td></tr><tr><td>32689588</td><td>200.00</td><td>4.50</td></tr><tr><td>42084343</td><td>132.00</td><td>5.00</td></tr><tr><td>43649480</td><td>82.00</td><td>3.91</td></tr><tr><td>45516467</td><td>100.00</td><td>5.00</td></tr><tr><td>49726730</td><td>107.00</td><td>5.00</td></tr><tr><td>1389340</td><td>145.00</td><td>4.40</td></tr><tr><td>5400013</td><td>164.00</td><td>5.00</td></tr><tr><td>13387622</td><td>107.00</td><td>5.00</td></tr><tr><td>19520337</td><td>131.00</td><td>5.00</td></tr><tr><td>21033152</td><td>160.00</td><td>4.95</td></tr><tr><td>24931447</td><td>150.00</td><td>4.14</td></tr><tr><td>25776508</td><td>46.00</td><td>4.80</td></tr><tr><td>35819977</td><td>40.00</td><td>5.00</td></tr><tr><td>45152091</td><td>89.00</td><td>4.50</td></tr><tr><td>48913308</td><td>41.00</td><td>4.30</td></tr><tr><td>49029310</td><td>103.00</td><td>4.67</td></tr><tr><td>49574486</td><td>166.00</td><td>4.17</td></tr><tr><td>23434769</td><td>40.00</td><td>4.86</td></tr><tr><td>26674068</td><td>81.00</td><td>4.27</td></tr><tr><td>29700642</td><td>131.00</td><td>4.77</td></tr><tr><td>35832242</td><td>700.00</td><td>5.00</td></tr><tr><td>194110</td><td>135.00</td><td>4.50</td></tr><tr><td>2707979</td><td>120.00</td><td>4.48</td></tr><tr><td>43193305</td><td>80.00</td><td>5.00</td></tr><tr><td>45410856</td><td>55.00</td><td>4.00</td></tr><tr><td>45694097</td><td>58.00</td><td>4.00</td></tr><tr><td>48977042</td><td>90.00</td><td>5.00</td></tr><tr><td>476344</td><td>290.00</td><td>4.71</td></tr><tr><td>8379453</td><td>114.00</td><td>4.90</td></tr><tr><td>17302932</td><td>130.00</td><td>4.87</td></tr><tr><td>34933269</td><td>79.00</td><td>4.54</td></tr><tr><td>36379287</td><td>60.00</td><td>4.86</td></tr><tr><td>43055276</td><td>54.00</td><td>5.00</td></tr><tr><td>43803955</td><td>130.00</td><td>5.00</td></tr><tr><td>48012669</td><td>220.00</td><td>5.00</td></tr><tr><td>21424946</td><td>199.00</td><td>4.77</td></tr><tr><td>26490977</td><td>392.00</td><td>4.50</td></tr><tr><td>38396480</td><td>82.00</td><td>4.87</td></tr><tr><td>41361222</td><td>141.00</td><td>4.50</td></tr><tr><td>44566685</td><td>109.00</td><td>4.47</td></tr><tr><td>45315731</td><td>364.00</td><td>2.50</td></tr><tr><td>2675703</td><td>130.00</td><td>4.92</td></tr><tr><td>8178791</td><td>75.00</td><td>4.81</td></tr><tr><td>16569836</td><td>82.00</td><td>5.00</td></tr><tr><td>37076120</td><td>108.00</td><td>5.00</td></tr><tr><td>40507945</td><td>120.00</td><td>4.75</td></tr><tr><td>43420855</td><td>100.00</td><td>5.00</td></tr><tr><td>1479883</td><td>59.00</td><td>5.00</td></tr><tr><td>20881066</td><td>123.00</td><td>4.77</td></tr><tr><td>27723547</td><td>90.00</td><td>4.83</td></tr><tr><td>36588677</td><td>85.00</td><td>4.15</td></tr><tr><td>38361151</td><td>165.00</td><td>4.82</td></tr><tr><td>49851139</td><td>55.00</td><td>5.00</td></tr><tr><td>11121856</td><td>45.00</td><td>4.35</td></tr><tr><td>12899329</td><td>50.00</td><td>4.90</td></tr><tr><td>17339235</td><td>190.00</td><td>4.00</td></tr><tr><td>32797118</td><td>61.00</td><td>4.46</td></tr><tr><td>35566124</td><td>75.00</td><td>5.00</td></tr><tr><td>48863168</td><td>70.00</td><td>5.00</td></tr><tr><td>1288406</td><td>100.00</td><td>4.67</td></tr><tr><td>7632418</td><td>190.00</td><td>4.70</td></tr><tr><td>11459919</td><td>550.00</td><td>3.40</td></tr><tr><td>22880514</td><td>198.00</td><td>5.00</td></tr><tr><td>23691838</td><td>48.00</td><td>4.63</td></tr><tr><td>30053885</td><td>75.00</td><td>5.00</td></tr><tr><td>32914559</td><td>69.00</td><td>5.00</td></tr><tr><td>35515113</td><td>219.00</td><td>4.67</td></tr><tr><td>35644592</td><td>40.00</td><td>4.61</td></tr><tr><td>36023219</td><td>50.00</td><td>4.00</td></tr><tr><td>41151410</td><td>67.00</td><td>5.00</td></tr><tr><td>42674230</td><td>85.00</td><td>4.75</td></tr><tr><td>49946351</td><td>55.00</td><td>5.00</td></tr><tr><td>766186</td><td>129.00</td><td>4.92</td></tr><tr><td>14588423</td><td>71.00</td><td>4.86</td></tr><tr><td>19639287</td><td>71.00</td><td>4.78</td></tr><tr><td>20238633</td><td>75.00</td><td>4.85</td></tr><tr><td>23205718</td><td>180.00</td><td>5.00</td></tr><tr><td>38489321</td><td>80.00</td><td>4.93</td></tr><tr><td>42172181</td><td>95.00</td><td>5.00</td></tr><tr><td>43874467</td><td>150.00</td><td>4.57</td></tr><tr><td>44072712</td><td>55.00</td><td>5.00</td></tr><tr><td>47371920</td><td>60.00</td><td>5.00</td></tr><tr><td>50037662</td><td>82.00</td><td>4.75</td></tr><tr><td>946415</td><td>75.00</td><td>4.75</td></tr><tr><td>5071668</td><td>75.00</td><td>4.58</td></tr><tr><td>5924154</td><td>88.00</td><td>4.68</td></tr><tr><td>8190949</td><td>63.00</td><td>5.00</td></tr><tr><td>17414348</td><td>69.00</td><td>4.88</td></tr><tr><td>40776782</td><td>124.00</td><td>4.35</td></tr><tr><td>40962908</td><td>104.00</td><td>5.00</td></tr><tr><td>42583084</td><td>72.00</td><td>4.80</td></tr><tr><td>43456063</td><td>99.00</td><td>4.67</td></tr><tr><td>48226276</td><td>75.00</td><td>5.00</td></tr><tr><td>2714778</td><td>69.00</td><td>5.00</td></tr><tr><td>6809505</td><td>450.00</td><td>4.74</td></tr><tr><td>32398326</td><td>140.00</td><td>4.59</td></tr><tr><td>33367012</td><td>80.00</td><td>4.70</td></tr><tr><td>37587592</td><td>96.00</td><td>4.75</td></tr><tr><td>40316839</td><td>115.00</td><td>4.67</td></tr><tr><td>48597945</td><td>141.00</td><td>3.50</td></tr><tr><td>534098</td><td>86.00</td><td>4.80</td></tr><tr><td>706264</td><td>110.00</td><td>4.80</td></tr><tr><td>2148059</td><td>70.00</td><td>4.73</td></tr><tr><td>4293517</td><td>75.00</td><td>4.25</td></tr><tr><td>5066448</td><td>155.00</td><td>4.83</td></tr><tr><td>17123055</td><td>466.00</td><td>4.33</td></tr><tr><td>20019981</td><td>141.00</td><td>4.90</td></tr><tr><td>20669530</td><td>114.00</td><td>4.88</td></tr><tr><td>40650990</td><td>100.00</td><td>0.00</td></tr><tr><td>43235723</td><td>87.00</td><td>4.50</td></tr><tr><td>43722937</td><td>108.00</td><td>4.00</td></tr><tr><td>48101734</td><td>60.00</td><td>5.00</td></tr><tr><td>42226266</td><td>102.00</td><td>4.76</td></tr><tr><td>46129884</td><td>75.00</td><td>5.00</td></tr><tr><td>47839547</td><td>85.00</td><td>5.00</td></tr><tr><td>9646917</td><td>70.00</td><td>4.62</td></tr><tr><td>16285767</td><td>139.00</td><td>4.94</td></tr><tr><td>16475033</td><td>100.00</td><td>0.00</td></tr><tr><td>25504660</td><td>324.00</td><td>4.77</td></tr><tr><td>36875964</td><td>80.00</td><td>4.27</td></tr><tr><td>628495</td><td>77.00</td><td>4.83</td></tr><tr><td>9986899</td><td>180.00</td><td>4.91</td></tr><tr><td>16328782</td><td>50.00</td><td>5.00</td></tr><tr><td>16504003</td><td>50.00</td><td>5.00</td></tr><tr><td>21973416</td><td>90.00</td><td>4.57</td></tr><tr><td>27869391</td><td>105.00</td><td>4.64</td></tr><tr><td>32273285</td><td>141.00</td><td>4.50</td></tr><tr><td>33576602</td><td>115.00</td><td>5.00</td></tr><tr><td>40528105</td><td>89.00</td><td>5.00</td></tr><tr><td>43585633</td><td>45.00</td><td>5.00</td></tr><tr><td>44645763</td><td>90.00</td><td>4.75</td></tr><tr><td>44878456</td><td>65.00</td><td>5.00</td></tr><tr><td>1286802</td><td>75.00</td><td>5.00</td></tr><tr><td>13279964</td><td>85.00</td><td>4.69</td></tr><tr><td>15831895</td><td>91.00</td><td>4.76</td></tr><tr><td>23491832</td><td>140.00</td><td>5.00</td></tr><tr><td>30339820</td><td>190.00</td><td>5.00</td></tr><tr><td>37928700</td><td>88.00</td><td>4.68</td></tr><tr><td>39391081</td><td>150.00</td><td>4.86</td></tr><tr><td>42706635</td><td>110.00</td><td>4.90</td></tr><tr><td>44643285</td><td>90.00</td><td>3.50</td></tr><tr><td>20127765</td><td>63.00</td><td>4.60</td></tr><tr><td>39211082</td><td>159.00</td><td>4.64</td></tr><tr><td>41676980</td><td>65.00</td><td>5.00</td></tr><tr><td>46258676</td><td>150.00</td><td>5.00</td></tr><tr><td>5740336</td><td>71.00</td><td>4.48</td></tr><tr><td>6252372</td><td>44.00</td><td>4.74</td></tr><tr><td>17109045</td><td>74.00</td><td>4.54</td></tr><tr><td>25048631</td><td>250.00</td><td>4.00</td></tr><tr><td>26626507</td><td>85.00</td><td>4.82</td></tr><tr><td>47931405</td><td>68.00</td><td>4.33</td></tr><tr><td>4677724</td><td>90.00</td><td>4.75</td></tr><tr><td>4869297</td><td>107.00</td><td>4.71</td></tr><tr><td>8457830</td><td>59.00</td><td>4.86</td></tr><tr><td>25241049</td><td>77.00</td><td>4.77</td></tr><tr><td>35980305</td><td>65.00</td><td>4.86</td></tr><tr><td>36537157</td><td>150.00</td><td>5.00</td></tr><tr><td>41387940</td><td>70.00</td><td>5.00</td></tr><tr><td>42116782</td><td>60.00</td><td>4.56</td></tr><tr><td>45736720</td><td>235.00</td><td>5.00</td></tr><tr><td>1706604</td><td>250.00</td><td>4.86</td></tr><tr><td>3040262</td><td>47.00</td><td>4.95</td></tr><tr><td>26240736</td><td>115.00</td><td>4.73</td></tr><tr><td>38788691</td><td>180.00</td><td>4.85</td></tr><tr><td>39574937</td><td>104.00</td><td>5.00</td></tr><tr><td>41370057</td><td>96.00</td><td>5.00</td></tr><tr><td>42220716</td><td>80.00</td><td>4.00</td></tr></tbody></table></div>"
      ]
     },
     "metadata": {
      "application/vnd.databricks.v1+output": {
       "addedWidgets": {},
       "aggData": [],
       "aggError": "",
       "aggOverflow": false,
       "aggSchema": [],
       "aggSeriesLimitReached": false,
       "aggType": "",
       "arguments": {},
       "columnCustomDisplayInfos": {},
       "data": [
        [
         7297517,
         "64.00",
         "4.37"
        ],
        [
         15286007,
         "90.00",
         "4.92"
        ],
        [
         29254763,
         "154.00",
         "4.94"
        ],
        [
         34107998,
         "110.00",
         "5.00"
        ],
        [
         36587460,
         "65.00",
         "5.00"
        ],
        [
         40082506,
         "100.00",
         "4.59"
        ],
        [
         40837539,
         "110.00",
         "4.00"
        ],
        [
         47778061,
         "219.00",
         "4.00"
        ],
        [
         48342247,
         "92.00",
         "3.00"
        ],
        [
         6125767,
         "140.00",
         "4.50"
        ],
        [
         18778594,
         "100.00",
         "5.00"
        ],
        [
         40196577,
         "200.00",
         "4.50"
        ],
        [
         42420052,
         "160.00",
         "5.00"
        ],
        [
         47024348,
         "84.00",
         "4.43"
        ],
        [
         411058,
         "125.00",
         "4.78"
        ],
        [
         914760,
         "150.00",
         "4.91"
        ],
        [
         1298750,
         "90.00",
         "4.65"
        ],
        [
         10643746,
         "70.00",
         "4.94"
        ],
        [
         12415551,
         "500.00",
         "5.00"
        ],
        [
         22522031,
         "70.00",
         "4.76"
        ],
        [
         33577148,
         "169.00",
         "4.83"
        ],
        [
         33937462,
         "35.00",
         "3.88"
        ],
        [
         37085244,
         "69.00",
         "4.82"
        ],
        [
         14610010,
         "95.00",
         "4.65"
        ],
        [
         39541447,
         "104.00",
         "5.00"
        ],
        [
         40524836,
         "110.00",
         "4.49"
        ],
        [
         42168595,
         "75.00",
         "4.50"
        ],
        [
         49568039,
         "100.00",
         "5.00"
        ],
        [
         17317397,
         "60.00",
         "4.91"
        ],
        [
         23522575,
         "310.00",
         "4.47"
        ],
        [
         26852531,
         "120.00",
         "5.00"
        ],
        [
         2137826,
         "130.00",
         "4.22"
        ],
        [
         2664733,
         "979.00",
         "4.89"
        ],
        [
         5009111,
         "95.00",
         "4.74"
        ],
        [
         19909824,
         "132.00",
         "4.45"
        ],
        [
         45777110,
         "80.00",
         "4.50"
        ],
        [
         46235554,
         "86.00",
         "4.67"
        ],
        [
         49764403,
         "221.00",
         "5.00"
        ],
        [
         2510707,
         "90.00",
         "4.82"
        ],
        [
         8819965,
         "105.00",
         "4.88"
        ],
        [
         10315558,
         "55.00",
         "4.89"
        ],
        [
         13543594,
         "70.00",
         "4.54"
        ],
        [
         15125542,
         "85.00",
         "4.96"
        ],
        [
         34641228,
         "160.00",
         "4.95"
        ],
        [
         42501864,
         "87.00",
         "5.00"
        ],
        [
         6829050,
         "100.00",
         "4.71"
        ],
        [
         7605791,
         "124.00",
         "5.00"
        ],
        [
         13340278,
         "54.00",
         "4.73"
        ],
        [
         18015596,
         "167.00",
         "5.00"
        ],
        [
         22556279,
         "130.00",
         "4.80"
        ],
        [
         23834694,
         "150.00",
         "4.00"
        ],
        [
         32886079,
         "70.00",
         "4.50"
        ],
        [
         37930603,
         "60.00",
         "4.70"
        ],
        [
         43473237,
         "99.00",
         "5.00"
        ],
        [
         49019972,
         "80.00",
         "5.00"
        ],
        [
         15475710,
         "190.00",
         "5.00"
        ],
        [
         23001688,
         "246.00",
         "4.92"
        ],
        [
         28398977,
         "80.00",
         "4.95"
        ],
        [
         38069129,
         "100.00",
         "5.00"
        ],
        [
         39268035,
         "68.00",
         "4.45"
        ],
        [
         23621747,
         "110.00",
         "4.88"
        ],
        [
         30739269,
         "80.00",
         "5.00"
        ],
        [
         46290636,
         "200.00",
         "5.00"
        ],
        [
         46817883,
         "75.00",
         "4.80"
        ],
        [
         47007972,
         "145.00",
         "4.33"
        ],
        [
         5137416,
         "156.00",
         "4.91"
        ],
        [
         11540186,
         "80.00",
         "5.00"
        ],
        [
         24234484,
         "53.00",
         "4.80"
        ],
        [
         25673090,
         "45.00",
         "4.83"
        ],
        [
         29259762,
         "49.00",
         "4.79"
        ],
        [
         34584025,
         "60.00",
         "1.00"
        ],
        [
         37610871,
         "49.00",
         "4.50"
        ],
        [
         41465859,
         "34.00",
         "5.00"
        ],
        [
         50111464,
         "159.00",
         "5.00"
        ],
        [
         3108317,
         "55.00",
         "4.89"
        ],
        [
         4798214,
         "106.00",
         "4.80"
        ],
        [
         13009983,
         "400.00",
         "5.00"
        ],
        [
         14311842,
         "200.00",
         "5.00"
        ],
        [
         15862729,
         "77.00",
         "4.31"
        ],
        [
         17343502,
         "75.00",
         "4.51"
        ],
        [
         25487069,
         "122.00",
         "4.84"
        ],
        [
         35992700,
         "50.00",
         "5.00"
        ],
        [
         47867700,
         "124.00",
         "5.00"
        ],
        [
         48434784,
         "40.00",
         "4.60"
        ],
        [
         11026738,
         "261.00",
         "3.00"
        ],
        [
         11686599,
         "119.00",
         "4.77"
        ],
        [
         15112647,
         "70.00",
         "5.00"
        ],
        [
         17658638,
         "190.00",
         "4.20"
        ],
        [
         20161851,
         "99.00",
         "5.00"
        ],
        [
         31421874,
         "75.00",
         "5.00"
        ],
        [
         33311524,
         "55.00",
         "5.00"
        ],
        [
         39954058,
         "77.00",
         "1.00"
        ],
        [
         41883379,
         "119.00",
         "4.80"
        ],
        [
         2035090,
         "70.00",
         "4.96"
        ],
        [
         3393746,
         "52.00",
         "4.87"
        ],
        [
         13646487,
         "89.00",
         "5.00"
        ],
        [
         13785087,
         "68.00",
         "4.22"
        ],
        [
         19382028,
         "119.00",
         "4.74"
        ],
        [
         34831175,
         "109.00",
         "4.85"
        ],
        [
         38642710,
         "64.00",
         "5.00"
        ],
        [
         40497395,
         "180.00",
         "4.64"
        ],
        [
         41077185,
         "132.00",
         "3.00"
        ],
        [
         41169889,
         "132.00",
         "5.00"
        ],
        [
         4887567,
         "289.00",
         "4.89"
        ],
        [
         7551598,
         "55.00",
         "4.62"
        ],
        [
         11157603,
         "140.00",
         "4.76"
        ],
        [
         21003738,
         "121.00",
         "4.91"
        ],
        [
         23699607,
         "90.00",
         "4.24"
        ],
        [
         35876107,
         "125.00",
         "5.00"
        ],
        [
         43421268,
         "350.00",
         "4.50"
        ],
        [
         46580382,
         "50.00",
         "5.00"
        ],
        [
         14408918,
         "30.00",
         "4.00"
        ],
        [
         21448011,
         "70.00",
         "4.24"
        ],
        [
         26769006,
         "120.00",
         "5.00"
        ],
        [
         29795164,
         "110.00",
         "4.80"
        ],
        [
         31404215,
         "150.00",
         "4.92"
        ],
        [
         33878801,
         "140.00",
         "5.00"
        ],
        [
         37935895,
         "280.00",
         "5.00"
        ],
        [
         43335473,
         "107.00",
         "5.00"
        ],
        [
         18624447,
         "110.00",
         "5.00"
        ],
        [
         21971383,
         "49.00",
         "4.40"
        ],
        [
         22948679,
         "155.00",
         "4.95"
        ],
        [
         29749870,
         "110.00",
         "4.38"
        ],
        [
         43721539,
         "185.00",
         "4.00"
        ],
        [
         9742032,
         "142.00",
         "4.13"
        ],
        [
         13271249,
         "95.00",
         "4.72"
        ],
        [
         13949022,
         "100.00",
         "4.75"
        ],
        [
         18766274,
         "79.00",
         "4.33"
        ],
        [
         19566207,
         "110.00",
         "4.81"
        ],
        [
         19777691,
         "160.00",
         "5.00"
        ],
        [
         20808702,
         "130.00",
         "4.44"
        ],
        [
         21573621,
         "50.00",
         "4.31"
        ],
        [
         23304254,
         "390.00",
         "5.00"
        ],
        [
         37116467,
         "70.00",
         "4.00"
        ],
        [
         37438894,
         "115.00",
         "4.00"
        ],
        [
         37875007,
         "58.00",
         "4.33"
        ],
        [
         41681076,
         "126.00",
         "5.00"
        ],
        [
         1883650,
         "50.00",
         "4.50"
        ],
        [
         2451175,
         "30.00",
         "4.55"
        ],
        [
         3866275,
         "130.00",
         "4.79"
        ],
        [
         42068585,
         "65.00",
         "5.00"
        ],
        [
         2484804,
         "194.00",
         "5.00"
        ],
        [
         5817333,
         "208.00",
         "4.41"
        ],
        [
         21090658,
         "86.00",
         "4.75"
        ],
        [
         26093275,
         "40.00",
         "4.92"
        ],
        [
         29116006,
         "170.00",
         "5.00"
        ],
        [
         30687050,
         "250.00",
         "4.83"
        ],
        [
         40815199,
         "70.00",
         "4.50"
        ],
        [
         40957650,
         "204.00",
         "3.50"
        ],
        [
         43993821,
         "50.00",
         "4.91"
        ],
        [
         45336807,
         "98.00",
         "4.20"
        ],
        [
         26871731,
         "131.00",
         "4.40"
        ],
        [
         27131577,
         "95.00",
         "4.71"
        ],
        [
         39621518,
         "75.00",
         "4.33"
        ],
        [
         39621539,
         "89.00",
         "4.00"
        ],
        [
         40963645,
         "104.00",
         "1.00"
        ],
        [
         45283684,
         "60.00",
         "4.50"
        ],
        [
         7971244,
         "67.00",
         "4.50"
        ],
        [
         13280057,
         "95.00",
         "4.64"
        ],
        [
         32887919,
         "350.00",
         "4.67"
        ],
        [
         42081768,
         "250.00",
         "4.88"
        ],
        [
         42681733,
         "324.00",
         "4.00"
        ],
        [
         46446160,
         "107.00",
         "3.00"
        ],
        [
         46621804,
         "82.00",
         "4.74"
        ],
        [
         22585758,
         "56.00",
         "4.62"
        ],
        [
         31343589,
         "130.00",
         "5.00"
        ],
        [
         43307650,
         "120.00",
         "4.92"
        ],
        [
         20797693,
         "125.00",
         "4.64"
        ],
        [
         27286394,
         "89.00",
         "5.00"
        ],
        [
         29790176,
         "88.00",
         "5.00"
        ],
        [
         31946608,
         "250.00",
         "4.91"
        ],
        [
         32778681,
         "43.00",
         "5.00"
        ],
        [
         35480029,
         "60.00",
         "5.00"
        ],
        [
         39521342,
         "104.00",
         "4.00"
        ],
        [
         40218129,
         "200.00",
         "4.50"
        ],
        [
         42756760,
         "58.00",
         "4.63"
        ],
        [
         49114301,
         "97.00",
         "1.00"
        ],
        [
         7492145,
         "109.00",
         "4.50"
        ],
        [
         11030622,
         "67.00",
         "4.77"
        ],
        [
         23020884,
         "53.00",
         "4.88"
        ],
        [
         30415164,
         "88.00",
         "4.62"
        ],
        [
         32816607,
         "70.00",
         "5.00"
        ],
        [
         32818216,
         "290.00",
         "5.00"
        ],
        [
         32860612,
         "141.00",
         "4.70"
        ],
        [
         36784873,
         "60.00",
         "5.00"
        ],
        [
         7701827,
         "150.00",
         "4.89"
        ],
        [
         8069188,
         "61.00",
         "4.82"
        ],
        [
         11157686,
         "130.00",
         "4.87"
        ],
        [
         16530524,
         "100.00",
         "3.67"
        ],
        [
         23969107,
         "148.00",
         "4.60"
        ],
        [
         25716711,
         "195.00",
         "5.00"
        ],
        [
         26267529,
         "39.00",
         "4.29"
        ],
        [
         26680149,
         "170.00",
         "5.00"
        ],
        [
         28201246,
         "140.00",
         "5.00"
        ],
        [
         29180555,
         "100.00",
         "4.98"
        ],
        [
         29630932,
         "155.00",
         "5.00"
        ],
        [
         42826463,
         "121.00",
         "4.47"
        ],
        [
         46912223,
         "150.00",
         "5.00"
        ],
        [
         49194768,
         "185.00",
         "5.00"
        ],
        [
         8113202,
         "110.00",
         "4.71"
        ],
        [
         12941391,
         "88.00",
         "4.00"
        ],
        [
         21117550,
         "96.00",
         "5.00"
        ],
        [
         23767256,
         "60.00",
         "4.25"
        ],
        [
         26318024,
         "115.00",
         "4.93"
        ],
        [
         27925680,
         "40.00",
         "5.00"
        ],
        [
         33178972,
         "80.00",
         "4.67"
        ],
        [
         47219384,
         "50.00",
         "1.00"
        ],
        [
         48276770,
         "54.00",
         "2.50"
        ],
        [
         19062761,
         "45.00",
         "4.95"
        ],
        [
         19771259,
         "50.00",
         "4.82"
        ],
        [
         26798787,
         "90.00",
         "4.67"
        ],
        [
         38225473,
         "175.00",
         "5.00"
        ],
        [
         42083392,
         "104.00",
         "4.00"
        ],
        [
         5436950,
         "85.00",
         "4.86"
        ],
        [
         7401649,
         "85.00",
         "4.67"
        ],
        [
         11134992,
         "100.00",
         "4.63"
        ],
        [
         13542576,
         "70.00",
         "4.61"
        ],
        [
         22808110,
         "110.00",
         "4.79"
        ],
        [
         23354863,
         "85.00",
         "1.00"
        ],
        [
         276025,
         "65.00",
         "4.62"
        ],
        [
         530979,
         "197.00",
         "4.70"
        ],
        [
         4190063,
         "257.00",
         "4.39"
        ],
        [
         4827173,
         "44.00",
         "4.53"
        ],
        [
         12936458,
         "49.00",
         "5.00"
        ],
        [
         14040641,
         "120.00",
         "4.96"
        ],
        [
         15671234,
         "91.00",
         "4.80"
        ],
        [
         37874820,
         "80.00",
         "4.38"
        ],
        [
         38005526,
         "90.00",
         "5.00"
        ],
        [
         40445945,
         "30.00",
         "4.83"
        ],
        [
         40510148,
         "100.00",
         "4.50"
        ],
        [
         45695094,
         "65.00",
         "4.50"
        ],
        [
         49244029,
         "140.00",
         "5.00"
        ],
        [
         16551084,
         "120.00",
         "5.00"
        ],
        [
         16613789,
         "66.00",
         "4.89"
        ],
        [
         20709398,
         "131.00",
         "4.35"
        ],
        [
         20798663,
         "90.00",
         "4.38"
        ],
        [
         22665542,
         "145.00",
         "4.60"
        ],
        [
         22721865,
         "83.00",
         "4.51"
        ],
        [
         24275836,
         "200.00",
         "5.00"
        ],
        [
         27746928,
         "60.00",
         "5.00"
        ],
        [
         39211660,
         "65.00",
         "5.00"
        ],
        [
         41147803,
         "80.00",
         "5.00"
        ],
        [
         42811797,
         "75.00",
         "5.00"
        ],
        [
         47524345,
         "314.00",
         "5.00"
        ],
        [
         626512,
         "110.00",
         "4.97"
        ],
        [
         2168178,
         "91.00",
         "4.67"
        ],
        [
         12194712,
         "130.00",
         "5.00"
        ],
        [
         16422397,
         "90.00",
         "4.85"
        ],
        [
         21275097,
         "210.00",
         "5.00"
        ],
        [
         31702428,
         "67.00",
         "4.00"
        ],
        [
         32172340,
         "157.00",
         "5.00"
        ],
        [
         38799236,
         "142.00",
         "4.60"
        ],
        [
         41639731,
         "120.00",
         "4.67"
        ],
        [
         45365639,
         "120.00",
         "5.00"
        ],
        [
         45859602,
         "288.00",
         "5.00"
        ],
        [
         18902924,
         "110.00",
         "4.89"
        ],
        [
         25804431,
         "92.00",
         "5.00"
        ],
        [
         29002033,
         "124.00",
         "4.41"
        ],
        [
         43177810,
         "131.00",
         "4.80"
        ],
        [
         45323363,
         "136.00",
         "5.00"
        ],
        [
         3102373,
         "240.00",
         "4.95"
        ],
        [
         20307382,
         "54.00",
         "4.84"
        ],
        [
         31203820,
         "70.00",
         "4.55"
        ],
        [
         35855024,
         "170.00",
         "5.00"
        ],
        [
         40582798,
         "103.00",
         "4.74"
        ],
        [
         6801761,
         "60.00",
         "4.20"
        ],
        [
         11830227,
         "52.00",
         "4.78"
        ],
        [
         13709871,
         "81.00",
         "4.60"
        ],
        [
         23447279,
         "100.00",
         "5.00"
        ],
        [
         26715273,
         "133.00",
         "5.00"
        ],
        [
         31890853,
         "67.00",
         "3.67"
        ],
        [
         37068191,
         "500.00",
         "0.00"
        ],
        [
         47922923,
         "75.00",
         "5.00"
        ],
        [
         50103440,
         "55.00",
         "5.00"
        ],
        [
         7830382,
         "62.00",
         "4.72"
        ],
        [
         17845523,
         "159.00",
         "4.95"
        ],
        [
         29557130,
         "117.00",
         "4.64"
        ],
        [
         36708738,
         "67.00",
         "4.00"
        ],
        [
         49683014,
         "77.00",
         "4.71"
        ],
        [
         1192759,
         "85.00",
         "4.78"
        ],
        [
         8147327,
         "100.00",
         "5.00"
        ],
        [
         16439123,
         "67.00",
         "4.77"
        ],
        [
         21031079,
         "45.00",
         "4.88"
        ],
        [
         22174300,
         "55.00",
         "4.70"
        ],
        [
         23523212,
         "128.00",
         "4.71"
        ],
        [
         25886296,
         "160.00",
         "4.92"
        ],
        [
         28134184,
         "135.00",
         "4.76"
        ],
        [
         40963162,
         "104.00",
         "4.00"
        ],
        [
         46088164,
         "70.00",
         "4.60"
        ],
        [
         2415094,
         "115.00",
         "4.79"
        ],
        [
         18942742,
         "601.00",
         "5.00"
        ],
        [
         23340883,
         "48.00",
         "4.85"
        ],
        [
         30619273,
         "86.00",
         "5.00"
        ],
        [
         34218013,
         "115.00",
         "5.00"
        ],
        [
         40088245,
         "52.00",
         "5.00"
        ],
        [
         44586691,
         "140.00",
         "4.80"
        ],
        [
         6942314,
         "95.00",
         "4.58"
        ],
        [
         8902030,
         "120.00",
         "4.64"
        ],
        [
         20396786,
         "250.00",
         "4.95"
        ],
        [
         28534716,
         "109.00",
         "4.85"
        ],
        [
         29527703,
         "120.00",
         "4.75"
        ],
        [
         765191,
         "125.00",
         "4.58"
        ],
        [
         12417832,
         "500.00",
         "4.00"
        ],
        [
         23714879,
         "101.00",
         "4.62"
        ],
        [
         29034306,
         "99.00",
         "4.91"
        ],
        [
         38821988,
         "89.00",
         "5.00"
        ],
        [
         40616841,
         "55.00",
         "5.00"
        ],
        [
         7492387,
         "109.00",
         "5.00"
        ],
        [
         30756137,
         "50.00",
         "4.23"
        ],
        [
         3451577,
         "89.00",
         "4.95"
        ],
        [
         8479304,
         "150.00",
         "4.62"
        ],
        [
         12190137,
         "93.00",
         "4.47"
        ],
        [
         21604492,
         "85.00",
         "5.00"
        ],
        [
         29143747,
         "116.00",
         "4.34"
        ],
        [
         35981729,
         "90.00",
         "0.00"
        ],
        [
         44225535,
         "132.00",
         "5.00"
        ],
        [
         46203154,
         "89.00",
         "5.00"
        ],
        [
         46634257,
         "128.00",
         "4.75"
        ],
        [
         50089034,
         "109.00",
         "1.00"
        ],
        [
         8647682,
         "66.00",
         "4.33"
        ],
        [
         15869970,
         "70.00",
         "5.00"
        ],
        [
         16880260,
         "45.00",
         "4.20"
        ],
        [
         19836013,
         "67.00",
         "4.87"
        ],
        [
         30331263,
         "250.00",
         "5.00"
        ],
        [
         32739259,
         "68.00",
         "5.00"
        ],
        [
         41778788,
         "493.00",
         "4.00"
        ],
        [
         44042724,
         "88.00",
         "5.00"
        ],
        [
         32299696,
         "50.00",
         "4.82"
        ],
        [
         34634219,
         "90.00",
         "4.50"
        ],
        [
         43446918,
         "99.00",
         "4.50"
        ],
        [
         44117379,
         "60.00",
         "5.00"
        ],
        [
         11300923,
         "70.00",
         "4.75"
        ],
        [
         17166730,
         "150.00",
         "5.00"
        ],
        [
         30753207,
         "50.00",
         "4.80"
        ],
        [
         34159665,
         "378.00",
         "4.55"
        ],
        [
         49787894,
         "134.00",
         "4.50"
        ],
        [
         49875270,
         "55.00",
         "5.00"
        ],
        [
         610685,
         "36.00",
         "4.17"
        ],
        [
         656316,
         "100.00",
         "4.80"
        ],
        [
         4822620,
         "125.00",
         "4.90"
        ],
        [
         16017499,
         "42.00",
         "0.00"
        ],
        [
         27597309,
         "118.00",
         "5.00"
        ],
        [
         32543644,
         "105.00",
         "4.41"
        ],
        [
         46004288,
         "45.00",
         "4.80"
        ],
        [
         49292169,
         "99.00",
         "4.42"
        ],
        [
         6279426,
         "60.00",
         "5.00"
        ],
        [
         13822514,
         "77.00",
         "4.86"
        ],
        [
         21108470,
         "84.00",
         "5.00"
        ],
        [
         25048675,
         "450.00",
         "5.00"
        ],
        [
         27484333,
         "166.00",
         "5.00"
        ],
        [
         30813176,
         "90.00",
         "5.00"
        ],
        [
         33124445,
         "93.00",
         "4.80"
        ],
        [
         36686681,
         "110.00",
         "4.67"
        ],
        [
         40030021,
         "90.00",
         "4.71"
        ],
        [
         41095127,
         "75.00",
         "4.33"
        ],
        [
         45678768,
         "132.00",
         "4.00"
        ],
        [
         48586369,
         "45.00",
         "4.67"
        ],
        [
         338682,
         "157.00",
         "4.80"
        ],
        [
         7798321,
         "420.00",
         "4.78"
        ],
        [
         14252288,
         "183.00",
         "4.95"
        ],
        [
         24914339,
         "89.00",
         "4.68"
        ],
        [
         30687441,
         "69.00",
         "5.00"
        ],
        [
         32597746,
         "68.00",
         "4.88"
        ],
        [
         32862527,
         "149.00",
         "5.00"
        ],
        [
         38036747,
         "83.00",
         "5.00"
        ],
        [
         42328224,
         "69.00",
         "5.00"
        ],
        [
         1067335,
         "120.00",
         "4.73"
        ],
        [
         13203361,
         "78.00",
         "4.50"
        ],
        [
         35376772,
         "100.00",
         "4.51"
        ],
        [
         39515994,
         "96.00",
         "3.50"
        ],
        [
         41837357,
         "39.00",
         "4.83"
        ],
        [
         44326527,
         "45.00",
         "4.50"
        ],
        [
         46444200,
         "70.00",
         "4.33"
        ],
        [
         7289703,
         "60.00",
         "4.88"
        ],
        [
         17661291,
         "67.00",
         "4.88"
        ],
        [
         37489736,
         "65.00",
         "5.00"
        ],
        [
         47595692,
         "43.00",
         "5.00"
        ],
        [
         48950218,
         "110.00",
         "4.67"
        ],
        [
         1933385,
         "288.00",
         "4.83"
        ],
        [
         2058042,
         "55.00",
         "4.83"
        ],
        [
         11316463,
         "125.00",
         "4.92"
        ],
        [
         14190296,
         "89.00",
         "4.66"
        ],
        [
         23237285,
         "65.00",
         "4.98"
        ],
        [
         28504976,
         "60.00",
         "4.83"
        ],
        [
         37453637,
         "121.00",
         "5.00"
        ],
        [
         37610434,
         "67.00",
         "4.67"
        ],
        [
         38132588,
         "77.00",
         "5.00"
        ],
        [
         41164283,
         "96.00",
         "4.00"
        ],
        [
         43545814,
         "73.00",
         "4.63"
        ],
        [
         9890287,
         "62.00",
         "4.70"
        ],
        [
         16531834,
         "46.00",
         "4.50"
        ],
        [
         22697970,
         "250.00",
         "0.00"
        ],
        [
         22951619,
         "180.00",
         "4.73"
        ],
        [
         25507726,
         "220.00",
         "4.00"
        ],
        [
         40124023,
         "80.00",
         "5.00"
        ],
        [
         49252572,
         "44.00",
         "5.00"
        ],
        [
         26408295,
         "85.00",
         "4.71"
        ],
        [
         27245109,
         "80.00",
         "4.85"
        ],
        [
         29896141,
         "59.00",
         "4.74"
        ],
        [
         33153550,
         "210.00",
         "4.50"
        ],
        [
         37612810,
         "35.00",
         "4.56"
        ],
        [
         39435918,
         "61.00",
         "5.00"
        ],
        [
         39541190,
         "104.00",
         "3.50"
        ],
        [
         42086774,
         "68.00",
         "5.00"
        ],
        [
         649023,
         "67.00",
         "4.87"
        ],
        [
         2069351,
         "100.00",
         "4.64"
        ],
        [
         5559199,
         "57.00",
         "5.00"
        ],
        [
         8196271,
         "62.00",
         "4.86"
        ],
        [
         10975641,
         "80.00",
         "4.83"
        ],
        [
         19541160,
         "67.00",
         "4.83"
        ],
        [
         35671505,
         "65.00",
         "4.95"
        ],
        [
         39569088,
         "104.00",
         "5.00"
        ],
        [
         41810571,
         "150.00",
         "5.00"
        ],
        [
         42531318,
         "132.00",
         "5.00"
        ],
        [
         45323601,
         "167.00",
         "4.00"
        ],
        [
         1179787,
         "79.00",
         "4.82"
        ],
        [
         15463301,
         "65.00",
         "4.50"
        ],
        [
         15558327,
         "90.00",
         "4.00"
        ],
        [
         18986489,
         "350.00",
         "4.67"
        ],
        [
         19820423,
         "36.00",
         "4.23"
        ],
        [
         33607560,
         "175.00",
         "4.94"
        ],
        [
         34143147,
         "164.00",
         "4.00"
        ],
        [
         24053771,
         "103.00",
         "4.71"
        ],
        [
         30952353,
         "100.00",
         "5.00"
        ],
        [
         35237878,
         "150.00",
         "5.00"
        ],
        [
         35546128,
         "120.00",
         "5.00"
        ],
        [
         44924369,
         "260.00",
         "5.00"
        ],
        [
         45415479,
         "105.00",
         "4.86"
        ],
        [
         664917,
         "120.00",
         "4.86"
        ],
        [
         3163290,
         "110.00",
         "4.60"
        ],
        [
         3837904,
         "49.00",
         "4.45"
        ],
        [
         6275508,
         "90.00",
         "0.00"
        ],
        [
         8471424,
         "110.00",
         "4.91"
        ],
        [
         14479388,
         "199.00",
         "4.00"
        ],
        [
         14888346,
         "120.00",
         "4.47"
        ],
        [
         15727181,
         "10.00",
         "4.00"
        ],
        [
         32336998,
         "90.00",
         "4.57"
        ],
        [
         33205348,
         "150.00",
         "4.73"
        ],
        [
         41932671,
         "53.00",
         "5.00"
        ],
        [
         43874858,
         "50.00",
         "4.67"
        ],
        [
         3716543,
         "75.00",
         "5.00"
        ],
        [
         6324829,
         "84.00",
         "4.43"
        ],
        [
         9161848,
         "950.00",
         "5.00"
        ],
        [
         19552254,
         "69.00",
         "4.41"
        ],
        [
         28030067,
         "100.00",
         "4.30"
        ],
        [
         6929096,
         "175.00",
         "5.00"
        ],
        [
         7817866,
         "364.00",
         "5.00"
        ],
        [
         11962965,
         "180.00",
         "4.33"
        ],
        [
         12816482,
         "50.00",
         "5.00"
        ],
        [
         16865565,
         "80.00",
         "4.44"
        ],
        [
         17358787,
         "100.00",
         "5.00"
        ],
        [
         18367360,
         "100.00",
         "4.99"
        ],
        [
         26115359,
         "150.00",
         "4.76"
        ],
        [
         33155303,
         "39.00",
         "5.00"
        ],
        [
         36212033,
         "60.00",
         "5.00"
        ],
        [
         40347739,
         "180.00",
         "4.80"
        ],
        [
         42108451,
         "40.00",
         "4.50"
        ],
        [
         43017132,
         "125.00",
         "3.80"
        ],
        [
         47459936,
         "440.00",
         "5.00"
        ],
        [
         5248925,
         "88.00",
         "4.48"
        ],
        [
         10155127,
         "149.00",
         "4.76"
        ],
        [
         36924184,
         "33.00",
         "5.00"
        ],
        [
         37137105,
         "80.00",
         "4.71"
        ],
        [
         37276515,
         "190.00",
         "4.00"
        ],
        [
         1172184,
         "150.00",
         "4.89"
        ],
        [
         10084649,
         "80.00",
         "4.54"
        ],
        [
         22353375,
         "197.00",
         "5.00"
        ],
        [
         22502451,
         "48.00",
         "5.00"
        ],
        [
         25440502,
         "133.00",
         "5.00"
        ],
        [
         37144047,
         "80.00",
         "4.65"
        ],
        [
         43473282,
         "99.00",
         "4.70"
        ],
        [
         47856569,
         "115.00",
         "5.00"
        ],
        [
         3948265,
         "49.00",
         "4.92"
        ],
        [
         16591476,
         "120.00",
         "4.96"
        ],
        [
         29298090,
         "140.00",
         "4.95"
        ],
        [
         38791432,
         "85.00",
         "4.87"
        ],
        [
         913745,
         "38.00",
         "4.13"
        ],
        [
         1669494,
         "222.00",
         "5.00"
        ],
        [
         7125870,
         "81.00",
         "4.74"
        ],
        [
         11844674,
         "235.00",
         "4.83"
        ],
        [
         16257749,
         "193.00",
         "4.33"
        ],
        [
         30492333,
         "69.00",
         "4.69"
        ],
        [
         38717240,
         "180.00",
         "5.00"
        ],
        [
         44565466,
         "200.00",
         "5.00"
        ],
        [
         45451516,
         "65.00",
         "5.00"
        ],
        [
         46111481,
         "104.00",
         "5.00"
        ],
        [
         966887,
         "84.00",
         "4.56"
        ],
        [
         12244930,
         "186.00",
         "4.60"
        ],
        [
         13410260,
         "102.00",
         "4.86"
        ],
        [
         20264125,
         "70.00",
         "5.00"
        ],
        [
         21599460,
         "104.00",
         "4.63"
        ],
        [
         22162228,
         "140.00",
         "4.89"
        ],
        [
         23794805,
         "70.00",
         "4.92"
        ],
        [
         25139027,
         "66.00",
         "4.63"
        ],
        [
         27120635,
         "140.00",
         "4.75"
        ],
        [
         27592713,
         "63.00",
         "5.00"
        ],
        [
         29525466,
         "98.00",
         "4.97"
        ],
        [
         30194680,
         "90.00",
         "5.00"
        ],
        [
         31160433,
         "45.00",
         "5.00"
        ],
        [
         35741478,
         "70.00",
         "4.24"
        ],
        [
         40443949,
         "77.00",
         "4.59"
        ],
        [
         43333881,
         "100.00",
         "4.67"
        ],
        [
         49711666,
         "99.00",
         "5.00"
        ],
        [
         1251652,
         "75.00",
         "4.64"
        ],
        [
         5686998,
         "64.00",
         "4.77"
        ],
        [
         9662569,
         "89.00",
         "4.50"
        ],
        [
         15641749,
         "227.00",
         "4.00"
        ],
        [
         35102593,
         "110.00",
         "5.00"
        ],
        [
         43110073,
         "130.00",
         "5.00"
        ],
        [
         3423232,
         "89.00",
         "4.67"
        ],
        [
         23049562,
         "38.00",
         "4.62"
        ],
        [
         32149874,
         "80.00",
         "4.76"
        ],
        [
         36719518,
         "80.00",
         "4.18"
        ],
        [
         40246994,
         "104.00",
         "4.88"
        ],
        [
         728403,
         "274.00",
         "4.73"
        ],
        [
         963950,
         "80.00",
         "4.94"
        ],
        [
         16972237,
         "130.00",
         "4.71"
        ],
        [
         39712844,
         "50.00",
         "5.00"
        ],
        [
         15215114,
         "97.00",
         "4.62"
        ],
        [
         25764077,
         "90.00",
         "4.95"
        ],
        [
         30507834,
         "141.00",
         "4.77"
        ],
        [
         40585341,
         "104.00",
         "4.50"
        ],
        [
         44199957,
         "130.00",
         "5.00"
        ],
        [
         8717390,
         "100.00",
         "4.67"
        ],
        [
         13814466,
         "71.00",
         "4.67"
        ],
        [
         33217759,
         "119.00",
         "4.70"
        ],
        [
         39566206,
         "104.00",
         "3.50"
        ],
        [
         41161900,
         "96.00",
         "4.00"
        ],
        [
         43455576,
         "99.00",
         "5.00"
        ],
        [
         49075101,
         "123.00",
         "5.00"
        ],
        [
         800449,
         "280.00",
         "4.84"
        ],
        [
         7445669,
         "142.00",
         "4.88"
        ],
        [
         19773185,
         "110.00",
         "5.00"
        ],
        [
         21392804,
         "78.00",
         "4.56"
        ],
        [
         31030466,
         "59.00",
         "5.00"
        ],
        [
         33322767,
         "200.00",
         "4.63"
        ],
        [
         38570077,
         "600.00",
         "5.00"
        ],
        [
         41190691,
         "120.00",
         "5.00"
        ],
        [
         45449253,
         "60.00",
         "4.80"
        ],
        [
         4674252,
         "88.00",
         "4.50"
        ],
        [
         6151047,
         "129.00",
         "4.84"
        ],
        [
         6754329,
         "99.00",
         "4.78"
        ],
        [
         7626959,
         "120.00",
         "4.74"
        ],
        [
         7847916,
         "120.00",
         "5.00"
        ],
        [
         9603781,
         "181.00",
         "4.88"
        ],
        [
         10067403,
         "150.00",
         "4.67"
        ],
        [
         11318272,
         "61.00",
         "4.30"
        ],
        [
         17172361,
         "78.00",
         "4.86"
        ],
        [
         22593765,
         "119.00",
         "4.67"
        ],
        [
         29752324,
         "78.00",
         "4.81"
        ],
        [
         39542571,
         "104.00",
         "5.00"
        ],
        [
         40062171,
         "76.00",
         "5.00"
        ],
        [
         9620792,
         "185.00",
         "4.78"
        ],
        [
         15966357,
         "104.00",
         "4.65"
        ],
        [
         17589735,
         "280.00",
         "4.86"
        ],
        [
         17615948,
         "95.00",
         "4.67"
        ],
        [
         35285239,
         "100.00",
         "4.50"
        ],
        [
         37135935,
         "133.00",
         "4.00"
        ],
        [
         45936403,
         "100.00",
         "5.00"
        ],
        [
         17147615,
         "260.00",
         "4.67"
        ],
        [
         18245559,
         "150.00",
         "4.96"
        ],
        [
         18493989,
         "236.00",
         "4.33"
        ],
        [
         28781148,
         "96.00",
         "4.88"
        ],
        [
         32439705,
         "120.00",
         "4.93"
        ],
        [
         44048994,
         "132.00",
         "4.64"
        ],
        [
         921964,
         "50.00",
         "5.00"
        ],
        [
         3322739,
         "130.00",
         "4.86"
        ],
        [
         4264696,
         "142.00",
         "4.73"
        ],
        [
         21479760,
         "100.00",
         "4.00"
        ],
        [
         25401700,
         "49.00",
         "4.40"
        ],
        [
         34417122,
         "56.00",
         "4.91"
        ],
        [
         39350716,
         "70.00",
         "5.00"
        ],
        [
         626831,
         "350.00",
         "4.33"
        ],
        [
         10603615,
         "111.00",
         "4.35"
        ],
        [
         17219491,
         "115.00",
         "4.67"
        ],
        [
         18381329,
         "87.00",
         "4.72"
        ],
        [
         24850134,
         "42.00",
         "4.86"
        ],
        [
         40272787,
         "104.00",
         "4.75"
        ],
        [
         43551116,
         "150.00",
         "5.00"
        ],
        [
         46290560,
         "90.00",
         "4.91"
        ],
        [
         46673234,
         "88.00",
         "4.40"
        ],
        [
         2214480,
         "50.00",
         "4.58"
        ],
        [
         5247146,
         "88.00",
         "4.35"
        ],
        [
         10509547,
         "103.00",
         "4.57"
        ],
        [
         12040233,
         "70.00",
         "4.63"
        ],
        [
         22786989,
         "140.00",
         "4.93"
        ],
        [
         42245524,
         "195.00",
         "4.00"
        ],
        [
         49883025,
         "129.00",
         "5.00"
        ],
        [
         1252213,
         "110.00",
         "4.33"
        ],
        [
         2026519,
         "93.00",
         "4.33"
        ],
        [
         6805470,
         "100.00",
         "4.82"
        ],
        [
         29378572,
         "70.00",
         "4.91"
        ],
        [
         33124597,
         "166.00",
         "3.50"
        ],
        [
         34742552,
         "59.00",
         "4.38"
        ],
        [
         38011300,
         "104.00",
         "5.00"
        ],
        [
         42883022,
         "150.00",
         "5.00"
        ],
        [
         48226084,
         "100.00",
         "4.00"
        ],
        [
         39219315,
         "55.00",
         "4.45"
        ],
        [
         40776710,
         "109.00",
         "4.53"
        ],
        [
         41490843,
         "100.00",
         "5.00"
        ],
        [
         41836973,
         "73.00",
         "4.60"
        ],
        [
         11312826,
         "192.00",
         "4.91"
        ],
        [
         15243894,
         "550.00",
         "5.00"
        ],
        [
         17185384,
         "167.00",
         "4.88"
        ],
        [
         20964450,
         "34.00",
         "5.00"
        ],
        [
         34431197,
         "200.00",
         "5.00"
        ],
        [
         35570922,
         "74.00",
         "4.88"
        ],
        [
         35639358,
         "110.00",
         "1.00"
        ],
        [
         38710306,
         "70.00",
         "1.00"
        ],
        [
         41926540,
         "141.00",
         "5.00"
        ],
        [
         49280371,
         "100.00",
         "5.00"
        ],
        [
         49977457,
         "35.00",
         "5.00"
        ],
        [
         44959,
         "68.00",
         "4.87"
        ],
        [
         13610420,
         "105.00",
         "4.50"
        ],
        [
         24812881,
         "80.00",
         "4.75"
        ],
        [
         26329246,
         "75.00",
         "4.68"
        ],
        [
         30949949,
         "460.00",
         "4.53"
        ],
        [
         40980546,
         "65.00",
         "5.00"
        ],
        [
         4769087,
         "49.00",
         "4.74"
        ],
        [
         17619387,
         "89.00",
         "4.86"
        ],
        [
         22033127,
         "115.00",
         "4.69"
        ],
        [
         29721996,
         "67.00",
         "4.67"
        ],
        [
         41266803,
         "98.00",
         "0.00"
        ],
        [
         41732191,
         "121.00",
         "4.83"
        ],
        [
         42119715,
         "43.00",
         "3.50"
        ],
        [
         48102129,
         "100.00",
         "5.00"
        ],
        [
         5055787,
         "110.00",
         "4.54"
        ],
        [
         11688257,
         "120.00",
         "4.75"
        ],
        [
         29746073,
         "178.00",
         "2.00"
        ],
        [
         41837072,
         "84.00",
         "0.00"
        ],
        [
         46187008,
         "199.00",
         "5.00"
        ],
        [
         1273891,
         "220.00",
         "5.00"
        ],
        [
         12581984,
         "100.00",
         "4.88"
        ],
        [
         13966397,
         "155.00",
         "4.83"
        ],
        [
         23461278,
         "39.00",
         "4.23"
        ],
        [
         32787062,
         "100.00",
         "4.00"
        ],
        [
         41003444,
         "59.00",
         "4.67"
        ],
        [
         43992771,
         "70.00",
         "5.00"
        ],
        [
         44158035,
         "150.00",
         "4.50"
        ],
        [
         7117459,
         "100.00",
         "4.76"
        ],
        [
         18893751,
         "150.00",
         "4.83"
        ],
        [
         28619250,
         "153.00",
         "5.00"
        ],
        [
         40109394,
         "70.00",
         "5.00"
        ],
        [
         40443064,
         "108.00",
         "5.00"
        ],
        [
         41095238,
         "83.00",
         "4.50"
        ],
        [
         43492506,
         "200.00",
         "5.00"
        ],
        [
         48397760,
         "75.00",
         "5.00"
        ],
        [
         5028852,
         "95.00",
         "4.68"
        ],
        [
         21686480,
         "100.00",
         "4.67"
        ],
        [
         24663997,
         "88.00",
         "4.94"
        ],
        [
         42789704,
         "85.00",
         "4.80"
        ],
        [
         2350002,
         "151.00",
         "4.73"
        ],
        [
         3087183,
         "99.00",
         "4.78"
        ],
        [
         3384278,
         "47.00",
         "4.53"
        ],
        [
         9491456,
         "100.00",
         "4.71"
        ],
        [
         11381653,
         "120.00",
         "4.33"
        ],
        [
         11997033,
         "80.00",
         "4.38"
        ],
        [
         12240143,
         "97.00",
         "5.00"
        ],
        [
         17244023,
         "81.00",
         "4.85"
        ],
        [
         19783641,
         "80.00",
         "4.87"
        ],
        [
         22682322,
         "233.00",
         "4.31"
        ],
        [
         32165884,
         "79.00",
         "5.00"
        ],
        [
         840332,
         "55.00",
         "0.00"
        ],
        [
         2760444,
         "110.00",
         "4.80"
        ],
        [
         4953188,
         "91.00",
         "4.44"
        ],
        [
         5517400,
         "125.00",
         "4.59"
        ],
        [
         23101396,
         "42.00",
         "4.75"
        ],
        [
         36724127,
         "140.00",
         "4.90"
        ],
        [
         39251150,
         "89.00",
         "5.00"
        ],
        [
         46369692,
         "100.00",
         "4.75"
        ],
        [
         48876090,
         "51.00",
         "5.00"
        ],
        [
         12422220,
         "400.00",
         "4.67"
        ],
        [
         12500606,
         "110.00",
         "4.84"
        ],
        [
         15249322,
         "61.00",
         "4.76"
        ],
        [
         23918133,
         "70.00",
         "5.00"
        ],
        [
         29291450,
         "200.00",
         "4.58"
        ],
        [
         30084709,
         "61.00",
         "4.62"
        ],
        [
         30554962,
         "150.00",
         "4.93"
        ],
        [
         35257942,
         "70.00",
         "5.00"
        ],
        [
         26410923,
         "135.00",
         "4.67"
        ],
        [
         33207864,
         "150.00",
         "4.80"
        ],
        [
         35528205,
         "89.00",
         "5.00"
        ],
        [
         3440524,
         "53.00",
         "4.68"
        ],
        [
         5867434,
         "600.00",
         "5.00"
        ],
        [
         10430368,
         "109.00",
         "4.76"
        ],
        [
         11264647,
         "55.00",
         "5.00"
        ],
        [
         12422395,
         "640.00",
         "5.00"
        ],
        [
         16854166,
         "560.00",
         "4.75"
        ],
        [
         26392547,
         "70.00",
         "5.00"
        ],
        [
         28459943,
         "69.00",
         "4.67"
        ],
        [
         38743517,
         "79.00",
         "4.50"
        ],
        [
         44302602,
         "60.00",
         "5.00"
        ],
        [
         45753418,
         "60.00",
         "4.63"
        ],
        [
         494701,
         "124.00",
         "4.07"
        ],
        [
         7586171,
         "40.00",
         "4.11"
        ],
        [
         16199048,
         "104.00",
         "4.31"
        ],
        [
         23630646,
         "290.00",
         "4.96"
        ],
        [
         30924384,
         "135.00",
         "5.00"
        ],
        [
         32667993,
         "99.00",
         "4.84"
        ],
        [
         38529059,
         "99.00",
         "4.67"
        ],
        [
         41023562,
         "43.00",
         "5.00"
        ],
        [
         44825804,
         "107.00",
         "5.00"
        ],
        [
         45696239,
         "59.00",
         "4.50"
        ],
        [
         4422262,
         "120.00",
         "5.00"
        ],
        [
         10348605,
         "198.00",
         "4.73"
        ],
        [
         19851270,
         "67.00",
         "4.85"
        ],
        [
         21972181,
         "109.00",
         "4.00"
        ],
        [
         33086710,
         "39.00",
         "5.00"
        ],
        [
         42020277,
         "49.00",
         "4.33"
        ],
        [
         42037321,
         "200.00",
         "5.00"
        ],
        [
         14786231,
         "70.00",
         "4.69"
        ],
        [
         23915971,
         "129.00",
         "4.53"
        ],
        [
         28167195,
         "120.00",
         "4.89"
        ],
        [
         29323288,
         "58.00",
         "4.80"
        ],
        [
         29798602,
         "95.00",
         "4.70"
        ],
        [
         39241336,
         "73.00",
         "0.00"
        ],
        [
         39516890,
         "104.00",
         "4.50"
        ],
        [
         42103223,
         "72.00",
         "4.50"
        ],
        [
         4843398,
         "85.00",
         "4.38"
        ],
        [
         6382351,
         "468.00",
         "5.00"
        ],
        [
         14275170,
         "92.00",
         "5.00"
        ],
        [
         27280427,
         "125.00",
         "0.00"
        ],
        [
         27772603,
         "65.00",
         "4.36"
        ],
        [
         40133645,
         "120.00",
         "4.75"
        ],
        [
         8080654,
         "155.00",
         "4.85"
        ],
        [
         17577152,
         "101.00",
         "5.00"
        ],
        [
         23511189,
         "80.00",
         "4.24"
        ],
        [
         32831598,
         "80.00",
         "4.89"
        ],
        [
         36844810,
         "79.00",
         "4.81"
        ],
        [
         29138602,
         "110.00",
         "4.78"
        ],
        [
         45538038,
         "95.00",
         "5.00"
        ],
        [
         4320491,
         "49.00",
         "4.66"
        ],
        [
         9528653,
         "80.00",
         "4.50"
        ],
        [
         18818818,
         "99.00",
         "4.90"
        ],
        [
         23341695,
         "40.00",
         "4.68"
        ],
        [
         23740559,
         "150.00",
         "4.83"
        ],
        [
         28130086,
         "60.00",
         "4.45"
        ],
        [
         38515753,
         "75.00",
         "5.00"
        ],
        [
         40519794,
         "180.00",
         "5.00"
        ],
        [
         47815970,
         "97.00",
         "4.38"
        ],
        [
         3178070,
         "75.00",
         "4.86"
        ],
        [
         19771058,
         "100.00",
         "5.00"
        ],
        [
         26230721,
         "45.00",
         "5.00"
        ],
        [
         31254488,
         "65.00",
         "4.27"
        ],
        [
         36287742,
         "174.00",
         "4.79"
        ],
        [
         37587502,
         "185.00",
         "5.00"
        ],
        [
         48535713,
         "89.00",
         "5.00"
        ],
        [
         5296496,
         "156.00",
         "4.75"
        ],
        [
         17674864,
         "65.00",
         "4.86"
        ],
        [
         22343298,
         "128.00",
         "4.90"
        ],
        [
         34474339,
         "90.00",
         "4.00"
        ],
        [
         35698975,
         "160.00",
         "4.56"
        ],
        [
         37520450,
         "164.00",
         "5.00"
        ],
        [
         37727518,
         "75.00",
         "4.83"
        ],
        [
         39546428,
         "96.00",
         "3.50"
        ],
        [
         4799361,
         "126.00",
         "4.83"
        ],
        [
         20764918,
         "80.00",
         "4.72"
        ],
        [
         28406673,
         "117.00",
         "4.90"
        ],
        [
         29958113,
         "115.00",
         "4.67"
        ],
        [
         41447947,
         "120.00",
         "5.00"
        ],
        [
         42444950,
         "110.00",
         "4.80"
        ],
        [
         7067049,
         "149.00",
         "4.83"
        ],
        [
         14957240,
         "120.00",
         "5.00"
        ],
        [
         36309779,
         "61.00",
         "5.00"
        ],
        [
         37720976,
         "77.00",
         "5.00"
        ],
        [
         41524511,
         "180.00",
         "4.80"
        ],
        [
         43455995,
         "99.00",
         "4.50"
        ],
        [
         952395,
         "120.00",
         "4.89"
        ],
        [
         7416695,
         "81.00",
         "4.71"
        ],
        [
         7632813,
         "250.00",
         "4.67"
        ],
        [
         16821125,
         "203.00",
         "4.00"
        ],
        [
         19844397,
         "165.00",
         "4.83"
        ],
        [
         30928567,
         "60.00",
         "4.60"
        ],
        [
         44144364,
         "69.00",
         "5.00"
        ],
        [
         5903347,
         "23.00",
         "4.80"
        ],
        [
         10377339,
         "160.00",
         "4.70"
        ],
        [
         10387269,
         "58.00",
         "4.63"
        ],
        [
         10982977,
         "105.00",
         "5.00"
        ],
        [
         13219098,
         "92.00",
         "4.96"
        ],
        [
         32750947,
         "141.00",
         "5.00"
        ],
        [
         34175401,
         "95.00",
         "4.95"
        ],
        [
         37316354,
         "98.00",
         "4.77"
        ],
        [
         39272298,
         "38.00",
         "5.00"
        ],
        [
         43304757,
         "144.00",
         "4.83"
        ],
        [
         46483452,
         "78.00",
         "3.33"
        ],
        [
         21131496,
         "44.00",
         "4.82"
        ],
        [
         24383151,
         "140.00",
         "5.00"
        ],
        [
         35575874,
         "93.00",
         "4.83"
        ],
        [
         36503399,
         "90.00",
         "4.78"
        ],
        [
         39661332,
         "85.00",
         "4.95"
        ],
        [
         45628395,
         "55.00",
         "4.50"
        ],
        [
         49700699,
         "229.00",
         "5.00"
        ],
        [
         468995,
         "107.00",
         "4.74"
        ],
        [
         9743988,
         "100.00",
         "4.86"
        ],
        [
         16355741,
         "67.00",
         "4.97"
        ],
        [
         26468107,
         "100.00",
         "5.00"
        ],
        [
         29035010,
         "137.00",
         "4.83"
        ],
        [
         42759195,
         "75.00",
         "5.00"
        ],
        [
         47791382,
         "55.00",
         "4.82"
        ],
        [
         48930993,
         "135.00",
         "4.75"
        ],
        [
         16687683,
         "70.00",
         "4.83"
        ],
        [
         27194490,
         "100.00",
         "4.93"
        ],
        [
         38253199,
         "149.00",
         "4.93"
        ],
        [
         42595167,
         "100.00",
         "4.00"
        ],
        [
         969981,
         "120.00",
         "5.00"
        ],
        [
         2336814,
         "150.00",
         "4.53"
        ],
        [
         21251812,
         "85.00",
         "4.87"
        ],
        [
         21692262,
         "115.00",
         "4.90"
        ],
        [
         25557751,
         "100.00",
         "2.00"
        ],
        [
         27696826,
         "64.00",
         "5.00"
        ],
        [
         32201638,
         "119.00",
         "4.54"
        ],
        [
         33290427,
         "60.00",
         "4.78"
        ],
        [
         40026248,
         "87.00",
         "4.48"
        ],
        [
         42345278,
         "155.00",
         "4.89"
        ],
        [
         43148154,
         "60.00",
         "4.67"
        ],
        [
         43221999,
         "88.00",
         "5.00"
        ],
        [
         10984038,
         "75.00",
         "5.00"
        ],
        [
         19960091,
         "80.00",
         "4.76"
        ],
        [
         22091580,
         "148.00",
         "4.84"
        ],
        [
         23478816,
         "45.00",
         "4.70"
        ],
        [
         25056162,
         "210.00",
         "5.00"
        ],
        [
         29243691,
         "150.00",
         "5.00"
        ],
        [
         30552736,
         "97.00",
         "4.63"
        ],
        [
         35556438,
         "100.00",
         "4.89"
        ],
        [
         40942050,
         "60.00",
         "5.00"
        ],
        [
         43033297,
         "120.00",
         "5.00"
        ],
        [
         48933731,
         "157.00",
         "4.78"
        ],
        [
         2452737,
         "63.00",
         "4.82"
        ],
        [
         4844036,
         "30.00",
         "5.00"
        ],
        [
         9020187,
         "200.00",
         "4.70"
        ],
        [
         10003145,
         "131.00",
         "4.85"
        ],
        [
         19172142,
         "57.00",
         "4.58"
        ],
        [
         23850452,
         "110.00",
         "5.00"
        ],
        [
         37826302,
         "60.00",
         "4.95"
        ],
        [
         38807359,
         "50.00",
         "4.92"
        ],
        [
         39333864,
         "124.00",
         "5.00"
        ],
        [
         40205372,
         "76.00",
         "0.00"
        ],
        [
         42992640,
         "200.00",
         "4.87"
        ],
        [
         47813533,
         "134.00",
         "2.00"
        ],
        [
         2366343,
         "82.00",
         "4.52"
        ],
        [
         3509380,
         "83.00",
         "4.37"
        ],
        [
         21958415,
         "57.00",
         "4.94"
        ],
        [
         26872383,
         "120.00",
         "4.50"
        ],
        [
         29291312,
         "100.00",
         "5.00"
        ],
        [
         42049527,
         "58.00",
         "5.00"
        ],
        [
         43719198,
         "160.00",
         "3.50"
        ],
        [
         49106525,
         "42.00",
         "4.50"
        ],
        [
         325986,
         "150.00",
         "4.84"
        ],
        [
         20394072,
         "46.00",
         "4.92"
        ],
        [
         27806144,
         "90.00",
         "4.99"
        ],
        [
         27823044,
         "55.00",
         "3.33"
        ],
        [
         31538423,
         "120.00",
         "5.00"
        ],
        [
         35555554,
         "100.00",
         "5.00"
        ],
        [
         37313127,
         "107.00",
         "4.00"
        ],
        [
         41078192,
         "104.00",
         "5.00"
        ],
        [
         43616447,
         "106.00",
         "4.56"
        ],
        [
         9166481,
         "65.00",
         "5.00"
        ],
        [
         11780330,
         "230.00",
         "4.11"
        ],
        [
         22157935,
         "50.00",
         "5.00"
        ],
        [
         27011423,
         "69.00",
         "5.00"
        ],
        [
         30727721,
         "83.00",
         "4.78"
        ],
        [
         31299672,
         "180.00",
         "4.86"
        ],
        [
         39287864,
         "79.00",
         "4.43"
        ],
        [
         14050492,
         "149.00",
         "5.00"
        ],
        [
         14158355,
         "119.00",
         "4.61"
        ],
        [
         21840630,
         "110.00",
         "4.70"
        ],
        [
         32481902,
         "65.00",
         "4.40"
        ],
        [
         39810160,
         "49.00",
         "4.33"
        ],
        [
         41208997,
         "89.00",
         "4.50"
        ],
        [
         42849516,
         "55.00",
         "5.00"
        ],
        [
         43439392,
         "80.00",
         "5.00"
        ],
        [
         48913929,
         "90.00",
         "4.00"
        ],
        [
         17939469,
         "175.00",
         "4.98"
        ],
        [
         21100076,
         "304.00",
         "5.00"
        ],
        [
         34146181,
         "220.00",
         "5.00"
        ],
        [
         41471627,
         "80.00",
         "4.73"
        ],
        [
         45279831,
         "90.00",
         "5.00"
        ],
        [
         2981431,
         "36.00",
         "4.28"
        ],
        [
         11051956,
         "77.00",
         "4.80"
        ],
        [
         20799055,
         "161.00",
         "4.62"
        ],
        [
         22996481,
         "160.00",
         "4.89"
        ],
        [
         32493584,
         "100.00",
         "4.00"
        ],
        [
         42167400,
         "75.00",
         "4.00"
        ],
        [
         42874036,
         "83.00",
         "4.83"
        ],
        [
         47815787,
         "94.00",
         "4.43"
        ],
        [
         50124536,
         "95.00",
         "5.00"
        ],
        [
         901420,
         "95.00",
         "4.43"
        ],
        [
         12212792,
         "62.00",
         "4.44"
        ],
        [
         17615951,
         "92.00",
         "4.90"
        ],
        [
         18562480,
         "101.00",
         "4.94"
        ],
        [
         35353903,
         "120.00",
         "5.00"
        ],
        [
         36842252,
         "89.00",
         "4.82"
        ],
        [
         37230133,
         "55.00",
         "5.00"
        ],
        [
         41101967,
         "95.00",
         "4.82"
        ],
        [
         49472336,
         "98.00",
         "5.00"
        ],
        [
         50082282,
         "45.00",
         "5.00"
        ],
        [
         6756755,
         "150.00",
         "5.00"
        ],
        [
         22476460,
         "120.00",
         "4.85"
        ],
        [
         26525411,
         "51.00",
         "4.79"
        ],
        [
         28926742,
         "55.00",
         "4.50"
        ],
        [
         40435591,
         "100.00",
         "5.00"
        ],
        [
         41222017,
         "66.00",
         "0.00"
        ],
        [
         42172453,
         "81.00",
         "4.67"
        ],
        [
         1390100,
         "85.00",
         "4.60"
        ],
        [
         9806206,
         "120.00",
         "4.76"
        ],
        [
         13988515,
         "166.00",
         "4.67"
        ],
        [
         15711153,
         "133.00",
         "4.85"
        ],
        [
         39551533,
         "96.00",
         "2.00"
        ],
        [
         43977527,
         "200.00",
         "5.00"
        ],
        [
         44592421,
         "55.00",
         "4.67"
        ],
        [
         3990293,
         "120.00",
         "5.00"
        ],
        [
         10087307,
         "81.00",
         "5.00"
        ],
        [
         17623239,
         "290.00",
         "4.50"
        ],
        [
         32830328,
         "80.00",
         "4.89"
        ],
        [
         33728757,
         "130.00",
         "4.72"
        ],
        [
         909957,
         "237.00",
         "4.55"
        ],
        [
         2742038,
         "165.00",
         "4.17"
        ],
        [
         7336796,
         "110.00",
         "4.83"
        ],
        [
         10574168,
         "75.00",
         "4.62"
        ],
        [
         14464267,
         "75.00",
         "4.73"
        ],
        [
         16172566,
         "114.00",
         "4.76"
        ],
        [
         20348351,
         "101.00",
         "4.00"
        ],
        [
         23397668,
         "70.00",
         "4.85"
        ],
        [
         34252016,
         "385.00",
         "5.00"
        ],
        [
         35150322,
         "80.00",
         "5.00"
        ],
        [
         35383749,
         "59.00",
         "5.00"
        ],
        [
         40961221,
         "132.00",
         "5.00"
        ],
        [
         47324346,
         "100.00",
         "1.00"
        ],
        [
         3651974,
         "76.00",
         "4.88"
        ],
        [
         8344245,
         "69.00",
         "4.79"
        ],
        [
         9836688,
         "100.00",
         "4.96"
        ],
        [
         9969651,
         "71.00",
         "4.69"
        ],
        [
         10023698,
         "78.00",
         "4.78"
        ],
        [
         24143796,
         "65.00",
         "5.00"
        ],
        [
         28793259,
         "100.00",
         "5.00"
        ],
        [
         41609039,
         "161.00",
         "4.78"
        ],
        [
         2940931,
         "55.00",
         "4.77"
        ],
        [
         5455569,
         "109.00",
         "4.51"
        ],
        [
         6034943,
         "50.00",
         "4.87"
        ],
        [
         7910947,
         "262.00",
         "4.67"
        ],
        [
         12818905,
         "140.00",
         "4.50"
        ],
        [
         14571441,
         "85.00",
         "4.91"
        ],
        [
         15986599,
         "67.00",
         "4.44"
        ],
        [
         29474298,
         "126.00",
         "4.00"
        ],
        [
         47764385,
         "90.00",
         "2.00"
        ],
        [
         7367940,
         "128.00",
         "4.13"
        ],
        [
         8660375,
         "75.00",
         "4.63"
        ],
        [
         14233292,
         "49.00",
         "4.76"
        ],
        [
         15481869,
         "70.00",
         "4.82"
        ],
        [
         21692965,
         "160.00",
         "4.89"
        ],
        [
         29892666,
         "85.00",
         "5.00"
        ],
        [
         32281082,
         "120.00",
         "4.67"
        ],
        [
         35862520,
         "100.00",
         "5.00"
        ],
        [
         37077642,
         "78.00",
         "1.00"
        ],
        [
         693976,
         "120.00",
         "4.90"
        ],
        [
         7450908,
         "80.00",
         "4.85"
        ],
        [
         9501881,
         "107.00",
         "4.88"
        ],
        [
         9783381,
         "64.00",
         "4.89"
        ],
        [
         11413062,
         "164.00",
         "4.94"
        ],
        [
         11981313,
         "116.00",
         "4.80"
        ],
        [
         24392188,
         "75.00",
         "4.52"
        ],
        [
         27022237,
         "80.00",
         "0.00"
        ],
        [
         27162074,
         "89.00",
         "4.88"
        ],
        [
         29986784,
         "135.00",
         "4.86"
        ],
        [
         36580506,
         "150.00",
         "5.00"
        ],
        [
         39521726,
         "104.00",
         "4.00"
        ],
        [
         41496102,
         "40.00",
         "3.90"
        ],
        [
         42876356,
         "66.00",
         "4.50"
        ],
        [
         42936495,
         "160.00",
         "5.00"
        ],
        [
         43983490,
         "100.00",
         "4.75"
        ],
        [
         1421517,
         "77.00",
         "4.75"
        ],
        [
         5616194,
         "150.00",
         "5.00"
        ],
        [
         9271687,
         "500.00",
         "5.00"
        ],
        [
         9798603,
         "89.00",
         "4.73"
        ],
        [
         12558556,
         "88.00",
         "4.85"
        ],
        [
         14275460,
         "100.00",
         "4.51"
        ],
        [
         14987040,
         "180.00",
         "5.00"
        ],
        [
         29028597,
         "50.00",
         "4.67"
        ],
        [
         37714616,
         "79.00",
         "5.00"
        ],
        [
         43483234,
         "96.00",
         "3.67"
        ],
        [
         46086400,
         "210.00",
         "5.00"
        ],
        [
         721025,
         "199.00",
         "4.82"
        ],
        [
         5759222,
         "95.00",
         "4.67"
        ],
        [
         6635324,
         "140.00",
         "4.50"
        ],
        [
         21362573,
         "145.00",
         "5.00"
        ],
        [
         22475827,
         "50.00",
         "5.00"
        ],
        [
         23495573,
         "66.00",
         "4.58"
        ],
        [
         24408641,
         "90.00",
         "5.00"
        ],
        [
         31099175,
         "55.00",
         "5.00"
        ],
        [
         41277752,
         "59.00",
         "5.00"
        ],
        [
         50275514,
         "105.00",
         "5.00"
        ],
        [
         1933491,
         "185.00",
         "4.70"
        ],
        [
         15864251,
         "129.00",
         "4.95"
        ],
        [
         16565849,
         "268.00",
         "5.00"
        ],
        [
         17454756,
         "65.00",
         "4.67"
        ],
        [
         18868868,
         "95.00",
         "4.89"
        ],
        [
         22041488,
         "358.00",
         "4.97"
        ],
        [
         23636260,
         "95.00",
         "4.77"
        ],
        [
         31831066,
         "99.00",
         "4.95"
        ],
        [
         38012936,
         "121.00",
         "5.00"
        ],
        [
         43663800,
         "125.00",
         "5.00"
        ],
        [
         940654,
         "139.00",
         "4.67"
        ],
        [
         1050136,
         "47.00",
         "4.35"
        ],
        [
         3418549,
         "36.00",
         "4.46"
        ],
        [
         5111081,
         "99.00",
         "4.67"
        ],
        [
         6653930,
         "150.00",
         "4.50"
        ],
        [
         11377087,
         "48.00",
         "4.50"
        ],
        [
         15700637,
         "55.00",
         "4.85"
        ],
        [
         21085478,
         "293.00",
         "4.67"
        ],
        [
         47841004,
         "75.00",
         "5.00"
        ],
        [
         48501665,
         "169.00",
         "5.00"
        ],
        [
         381538,
         "146.00",
         "5.00"
        ],
        [
         28332242,
         "110.00",
         "4.59"
        ],
        [
         39144163,
         "65.00",
         "2.00"
        ],
        [
         1163211,
         "79.00",
         "4.84"
        ],
        [
         20928186,
         "72.00",
         "4.84"
        ],
        [
         24407671,
         "65.00",
         "4.90"
        ],
        [
         31374489,
         "84.00",
         "4.00"
        ],
        [
         31619098,
         "199.00",
         "4.57"
        ],
        [
         42112241,
         "130.00",
         "4.60"
        ],
        [
         935428,
         "140.00",
         "5.00"
        ],
        [
         8563888,
         "84.00",
         "4.37"
        ],
        [
         25796141,
         "854.00",
         "5.00"
        ],
        [
         27919851,
         "128.00",
         "4.81"
        ],
        [
         35671865,
         "140.00",
         "5.00"
        ],
        [
         38426767,
         "144.00",
         "5.00"
        ],
        [
         38650532,
         "98.00",
         "5.00"
        ],
        [
         39575550,
         "104.00",
         "5.00"
        ],
        [
         40028839,
         "70.00",
         "0.00"
        ],
        [
         40940208,
         "99.00",
         "5.00"
        ],
        [
         44012422,
         "70.00",
         "4.50"
        ],
        [
         3948699,
         "159.00",
         "4.59"
        ],
        [
         11814447,
         "90.00",
         "4.66"
        ],
        [
         19026031,
         "121.00",
         "0.00"
        ],
        [
         20059534,
         "120.00",
         "4.86"
        ],
        [
         23572346,
         "44.00",
         "4.88"
        ],
        [
         26656429,
         "80.00",
         "4.94"
        ],
        [
         36803749,
         "73.00",
         "4.50"
        ],
        [
         38126236,
         "81.00",
         "5.00"
        ],
        [
         38886924,
         "104.00",
         "4.17"
        ],
        [
         39503630,
         "50.00",
         "4.67"
        ],
        [
         40419692,
         "150.00",
         "5.00"
        ],
        [
         43644445,
         "93.00",
         "5.00"
        ],
        [
         639461,
         "129.00",
         "4.22"
        ],
        [
         2777113,
         "50.00",
         "4.75"
        ],
        [
         13670795,
         "100.00",
         "4.93"
        ],
        [
         20842636,
         "105.00",
         "4.50"
        ],
        [
         21560355,
         "193.00",
         "4.53"
        ],
        [
         34238052,
         "40.00",
         "4.69"
        ],
        [
         40718209,
         "115.00",
         "5.00"
        ],
        [
         45653005,
         "90.00",
         "5.00"
        ],
        [
         46692642,
         "91.00",
         "3.00"
        ],
        [
         952342,
         "130.00",
         "4.92"
        ],
        [
         7845921,
         "106.00",
         "4.86"
        ],
        [
         21644044,
         "159.00",
         "4.92"
        ],
        [
         26119727,
         "130.00",
         "5.00"
        ],
        [
         26598431,
         "365.00",
         "5.00"
        ],
        [
         27134801,
         "153.00",
         "5.00"
        ],
        [
         27535408,
         "285.00",
         "4.50"
        ],
        [
         42240245,
         "81.00",
         "4.64"
        ],
        [
         42485930,
         "110.00",
         "4.75"
        ],
        [
         42931696,
         "107.00",
         "5.00"
        ],
        [
         44413452,
         "125.00",
         "5.00"
        ],
        [
         610738,
         "150.00",
         "4.33"
        ],
        [
         21185566,
         "90.00",
         "4.75"
        ],
        [
         21678925,
         "70.00",
         "4.52"
        ],
        [
         20893756,
         "360.00",
         "4.80"
        ],
        [
         32439416,
         "85.00",
         "4.86"
        ],
        [
         43871988,
         "104.00",
         "4.34"
        ],
        [
         45251777,
         "200.00",
         "5.00"
        ],
        [
         46850662,
         "65.00",
         "5.00"
        ],
        [
         7429800,
         "235.00",
         "4.90"
        ],
        [
         19867995,
         "49.00",
         "5.00"
        ],
        [
         21599640,
         "126.00",
         "4.50"
        ],
        [
         24950831,
         "88.00",
         "5.00"
        ],
        [
         34828847,
         "61.00",
         "4.50"
        ],
        [
         35734873,
         "200.00",
         "4.50"
        ],
        [
         38593068,
         "240.00",
         "4.83"
        ],
        [
         39385375,
         "116.00",
         "5.00"
        ],
        [
         39961295,
         "196.00",
         "5.00"
        ],
        [
         45833164,
         "500.00",
         "4.89"
        ],
        [
         46573112,
         "78.00",
         "4.34"
        ],
        [
         50189850,
         "109.00",
         "5.00"
        ],
        [
         7348483,
         "81.00",
         "4.82"
        ],
        [
         23736667,
         "50.00",
         "4.98"
        ],
        [
         37360569,
         "100.00",
         "5.00"
        ],
        [
         46216984,
         "70.00",
         "5.00"
        ],
        [
         2974328,
         "90.00",
         "4.72"
        ],
        [
         4969489,
         "115.00",
         "4.73"
        ],
        [
         14370287,
         "150.00",
         "3.50"
        ],
        [
         23714530,
         "150.00",
         "4.40"
        ],
        [
         24978123,
         "53.00",
         "4.83"
        ],
        [
         39520256,
         "104.00",
         "5.00"
        ],
        [
         44639058,
         "70.00",
         "4.00"
        ],
        [
         10778062,
         "98.00",
         "4.68"
        ],
        [
         12457924,
         "170.00",
         "4.77"
        ],
        [
         14727973,
         "92.00",
         "4.94"
        ],
        [
         14757969,
         "171.00",
         "4.76"
        ],
        [
         17331836,
         "125.00",
         "5.00"
        ],
        [
         26083464,
         "50.00",
         "4.62"
        ],
        [
         32741322,
         "220.00",
         "5.00"
        ],
        [
         39445793,
         "64.00",
         "4.25"
        ],
        [
         45530371,
         "89.00",
         "5.00"
        ],
        [
         45729298,
         "35.00",
         "4.50"
        ],
        [
         18018494,
         "46.00",
         "4.48"
        ],
        [
         18470960,
         "120.00",
         "5.00"
        ],
        [
         19897934,
         "85.00",
         "5.00"
        ],
        [
         23320007,
         "109.00",
         "4.82"
        ],
        [
         32761169,
         "66.00",
         "4.80"
        ],
        [
         35560387,
         "120.00",
         "4.94"
        ],
        [
         36636576,
         "58.00",
         "4.33"
        ],
        [
         45410976,
         "95.00",
         "4.00"
        ],
        [
         49392157,
         "88.00",
         "4.27"
        ],
        [
         19382811,
         "70.00",
         "4.71"
        ],
        [
         27477230,
         "47.00",
         "5.00"
        ],
        [
         29270920,
         "79.00",
         "4.00"
        ],
        [
         34890565,
         "134.00",
         "4.58"
        ],
        [
         35405625,
         "300.00",
         "5.00"
        ],
        [
         39252027,
         "70.00",
         "4.77"
        ],
        [
         42236573,
         "85.00",
         "4.50"
        ],
        [
         5690631,
         "41.00",
         "4.80"
        ],
        [
         15764644,
         "111.00",
         "4.33"
        ],
        [
         23246592,
         "40.00",
         "4.88"
        ],
        [
         23849560,
         "140.00",
         "4.90"
        ],
        [
         24988143,
         "42.00",
         "4.82"
        ],
        [
         26175658,
         "260.00",
         "4.67"
        ],
        [
         30285090,
         "150.00",
         "5.00"
        ],
        [
         32832522,
         "89.00",
         "4.00"
        ],
        [
         33066100,
         "84.00",
         "4.77"
        ],
        [
         33840294,
         "135.00",
         "5.00"
        ],
        [
         41715861,
         "100.00",
         "5.00"
        ],
        [
         42501335,
         "140.00",
         "5.00"
        ],
        [
         46685345,
         "160.00",
         "5.00"
        ],
        [
         49705803,
         "76.00",
         "4.00"
        ],
        [
         4581470,
         "132.00",
         "4.95"
        ],
        [
         17263959,
         "115.00",
         "4.57"
        ],
        [
         17602151,
         "81.00",
         "4.54"
        ],
        [
         24531319,
         "165.00",
         "5.00"
        ],
        [
         46872297,
         "120.00",
         "4.75"
        ],
        [
         3934582,
         "88.00",
         "4.63"
        ],
        [
         5961262,
         "229.00",
         "4.80"
        ],
        [
         7490872,
         "180.00",
         "4.78"
        ],
        [
         10729350,
         "115.00",
         "4.81"
        ],
        [
         11736459,
         "70.00",
         "4.63"
        ],
        [
         12313309,
         "181.00",
         "5.00"
        ],
        [
         25046205,
         "100.00",
         "5.00"
        ],
        [
         28970343,
         "97.00",
         "4.95"
        ],
        [
         32404023,
         "105.00",
         "4.74"
        ],
        [
         34486346,
         "195.00",
         "5.00"
        ],
        [
         35453889,
         "89.00",
         "5.00"
        ],
        [
         37173037,
         "129.00",
         "5.00"
        ],
        [
         39575966,
         "104.00",
         "4.00"
        ],
        [
         40232524,
         "77.00",
         "4.00"
        ],
        [
         45230072,
         "48.00",
         "5.00"
        ],
        [
         49195715,
         "80.00",
         "5.00"
        ],
        [
         11547188,
         "60.00",
         "4.38"
        ],
        [
         11665732,
         "133.00",
         "4.89"
        ],
        [
         12085880,
         "107.00",
         "4.75"
        ],
        [
         16801405,
         "40.00",
         "4.71"
        ],
        [
         23635950,
         "130.00",
         "4.92"
        ],
        [
         29713911,
         "92.00",
         "4.89"
        ],
        [
         41799032,
         "120.00",
         "5.00"
        ],
        [
         14435396,
         "74.00",
         "4.90"
        ],
        [
         17457392,
         "75.00",
         "4.80"
        ],
        [
         22722210,
         "41.00",
         "4.34"
        ],
        [
         30462632,
         "399.00",
         "4.74"
        ],
        [
         35038457,
         "100.00",
         "4.85"
        ],
        [
         41281842,
         "65.00",
         "5.00"
        ],
        [
         2420928,
         "54.00",
         "4.38"
        ],
        [
         2675341,
         "120.00",
         "4.92"
        ],
        [
         11117739,
         "30.00",
         "4.76"
        ],
        [
         12829370,
         "300.00",
         "4.75"
        ],
        [
         16257353,
         "122.00",
         "3.88"
        ],
        [
         29751763,
         "59.00",
         "4.85"
        ],
        [
         33862576,
         "90.00",
         "4.80"
        ],
        [
         34267966,
         "220.00",
         "4.75"
        ],
        [
         43954631,
         "79.00",
         "4.56"
        ],
        [
         47355980,
         "94.00",
         "4.77"
        ],
        [
         9703138,
         "80.00",
         "3.00"
        ],
        [
         16162980,
         "90.00",
         "0.00"
        ],
        [
         23901725,
         "125.00",
         "4.79"
        ],
        [
         24038384,
         "80.00",
         "4.77"
        ],
        [
         37016967,
         "105.00",
         "5.00"
        ],
        [
         38798078,
         "180.00",
         "5.00"
        ],
        [
         41404635,
         "73.00",
         "4.31"
        ],
        [
         45931369,
         "120.00",
         "4.83"
        ],
        [
         47110428,
         "135.00",
         "4.00"
        ],
        [
         47765028,
         "50.00",
         "5.00"
        ],
        [
         996962,
         "126.00",
         "5.00"
        ],
        [
         1821071,
         "114.00",
         "4.36"
        ],
        [
         1917876,
         "55.00",
         "4.99"
        ],
        [
         17536030,
         "88.00",
         "4.60"
        ],
        [
         20047620,
         "38.00",
         "4.22"
        ],
        [
         32680358,
         "208.00",
         "4.27"
        ],
        [
         40277898,
         "96.00",
         "4.00"
        ],
        [
         42761576,
         "81.00",
         "5.00"
        ],
        [
         16525323,
         "135.00",
         "4.67"
        ],
        [
         17034108,
         "67.00",
         "4.67"
        ],
        [
         20734555,
         "120.00",
         "0.00"
        ],
        [
         21734698,
         "66.00",
         "4.92"
        ],
        [
         26942664,
         "119.00",
         "5.00"
        ],
        [
         47702734,
         "44.00",
         "2.00"
        ],
        [
         1081909,
         "113.00",
         "4.89"
        ],
        [
         1933146,
         "268.00",
         "4.78"
        ],
        [
         14736267,
         "80.00",
         "4.97"
        ],
        [
         23012046,
         "55.00",
         "3.50"
        ],
        [
         28650613,
         "88.00",
         "5.00"
        ],
        [
         7730834,
         "60.00",
         "4.33"
        ],
        [
         12061069,
         "95.00",
         "4.96"
        ],
        [
         23542297,
         "100.00",
         "5.00"
        ],
        [
         25314275,
         "110.00",
         "4.92"
        ],
        [
         31348590,
         "38.00",
         "4.70"
        ],
        [
         49705732,
         "60.00",
         "5.00"
        ],
        [
         11157899,
         "115.00",
         "4.71"
        ],
        [
         16471533,
         "90.00",
         "4.89"
        ],
        [
         19146061,
         "430.00",
         "5.00"
        ],
        [
         39428721,
         "65.00",
         "4.89"
        ],
        [
         41868363,
         "104.00",
         "5.00"
        ],
        [
         42175166,
         "71.00",
         "4.63"
        ],
        [
         43721602,
         "160.00",
         "4.33"
        ],
        [
         7622817,
         "40.00",
         "4.63"
        ],
        [
         37847327,
         "71.00",
         "4.83"
        ],
        [
         39960841,
         "55.00",
         "4.73"
        ],
        [
         42725891,
         "50.00",
         "5.00"
        ],
        [
         48003186,
         "200.00",
         "5.00"
        ],
        [
         3707868,
         "60.00",
         "4.85"
        ],
        [
         5233073,
         "79.00",
         "4.83"
        ],
        [
         16892607,
         "85.00",
         "4.89"
        ],
        [
         32340445,
         "80.00",
         "4.89"
        ],
        [
         1650333,
         "350.00",
         "4.91"
        ],
        [
         7289094,
         "110.00",
         "4.95"
        ],
        [
         10960560,
         "183.00",
         "4.75"
        ],
        [
         23797235,
         "70.00",
         "4.50"
        ],
        [
         32941792,
         "131.00",
         "4.75"
        ],
        [
         43661787,
         "750.00",
         "5.00"
        ],
        [
         1834727,
         "66.00",
         "4.10"
        ],
        [
         5506730,
         "140.00",
         "4.56"
        ],
        [
         11333675,
         "97.00",
         "4.66"
        ],
        [
         17049976,
         "122.00",
         "4.19"
        ],
        [
         22652248,
         "190.00",
         "5.00"
        ],
        [
         23304953,
         "89.00",
         "4.93"
        ],
        [
         32600209,
         "95.00",
         "4.86"
        ],
        [
         44513789,
         "67.00",
         "4.13"
        ],
        [
         47008191,
         "65.00",
         "5.00"
        ],
        [
         47726793,
         "80.00",
         "4.50"
        ],
        [
         49283899,
         "141.00",
         "4.00"
        ],
        [
         3351768,
         "53.00",
         "5.00"
        ],
        [
         22742579,
         "390.00",
         "4.89"
        ],
        [
         24859784,
         "110.00",
         "4.94"
        ],
        [
         47700082,
         "49.00",
         "3.25"
        ],
        [
         48518399,
         "45.00",
         "5.00"
        ],
        [
         7217925,
         "109.00",
         "4.67"
        ],
        [
         16497058,
         "120.00",
         "4.71"
        ],
        [
         23461382,
         "34.00",
         "4.81"
        ],
        [
         31202269,
         "96.00",
         "4.47"
        ],
        [
         5416095,
         "200.00",
         "4.93"
        ],
        [
         16159057,
         "299.00",
         "4.86"
        ],
        [
         17825267,
         "69.00",
         "4.78"
        ],
        [
         20168897,
         "86.00",
         "4.67"
        ],
        [
         34349701,
         "50.00",
         "4.56"
        ],
        [
         42525849,
         "65.00",
         "5.00"
        ],
        [
         47433816,
         "150.00",
         "4.00"
        ],
        [
         48276878,
         "175.00",
         "4.80"
        ],
        [
         1236785,
         "180.00",
         "4.57"
        ],
        [
         6929104,
         "100.00",
         "4.71"
        ],
        [
         30554684,
         "85.00",
         "5.00"
        ],
        [
         40615768,
         "136.00",
         "5.00"
        ],
        [
         48051061,
         "77.00",
         "5.00"
        ],
        [
         1167323,
         "165.00",
         "5.00"
        ],
        [
         4158583,
         "170.00",
         "4.63"
        ],
        [
         6521675,
         "120.00",
         "4.89"
        ],
        [
         7794862,
         "100.00",
         "4.00"
        ],
        [
         16309343,
         "60.00",
         "4.89"
        ],
        [
         17473908,
         "102.00",
         "4.55"
        ],
        [
         18840514,
         "90.00",
         "4.85"
        ],
        [
         20739453,
         "175.00",
         "4.82"
        ],
        [
         22264281,
         "100.00",
         "4.97"
        ],
        [
         29979983,
         "120.00",
         "4.27"
        ],
        [
         30580109,
         "386.00",
         "4.97"
        ],
        [
         31560210,
         "80.00",
         "4.38"
        ],
        [
         33956194,
         "500.00",
         "4.33"
        ],
        [
         43268815,
         "131.00",
         "4.40"
        ],
        [
         45720030,
         "65.00",
         "4.75"
        ],
        [
         47422317,
         "79.00",
         "4.25"
        ],
        [
         47795336,
         "110.00",
         "3.60"
        ],
        [
         48991798,
         "108.00",
         "4.00"
        ],
        [
         17196955,
         "104.00",
         "4.95"
        ],
        [
         23393927,
         "200.00",
         "4.59"
        ],
        [
         24055168,
         "95.00",
         "5.00"
        ],
        [
         29838232,
         "149.00",
         "4.95"
        ],
        [
         44115046,
         "120.00",
         "5.00"
        ],
        [
         628055,
         "48.00",
         "4.75"
        ],
        [
         9984236,
         "104.00",
         "5.00"
        ],
        [
         11603929,
         "125.00",
         "4.97"
        ],
        [
         13329369,
         "77.00",
         "5.00"
        ],
        [
         22997037,
         "87.00",
         "5.00"
        ],
        [
         34437252,
         "100.00",
         "5.00"
        ],
        [
         45782210,
         "104.00",
         "5.00"
        ],
        [
         7271653,
         "110.00",
         "4.87"
        ],
        [
         11447446,
         "250.00",
         "5.00"
        ],
        [
         12944103,
         "89.00",
         "5.00"
        ],
        [
         14816058,
         "88.00",
         "5.00"
        ],
        [
         37542244,
         "83.00",
         "4.88"
        ],
        [
         38486498,
         "125.00",
         "4.63"
        ],
        [
         38547173,
         "100.00",
         "5.00"
        ],
        [
         45185062,
         "75.00",
         "5.00"
        ],
        [
         12101245,
         "105.00",
         "4.49"
        ],
        [
         14369898,
         "70.00",
         "4.60"
        ],
        [
         31393487,
         "208.00",
         "5.00"
        ],
        [
         35492642,
         "120.00",
         "4.78"
        ],
        [
         40130142,
         "130.00",
         "4.75"
        ],
        [
         50132447,
         "100.00",
         "4.75"
        ],
        [
         754676,
         "95.00",
         "4.67"
        ],
        [
         817501,
         "76.00",
         "4.45"
        ],
        [
         16322751,
         "230.00",
         "0.00"
        ],
        [
         26140465,
         "230.00",
         "4.40"
        ],
        [
         31551129,
         "130.00",
         "4.00"
        ],
        [
         36682996,
         "170.00",
         "5.00"
        ],
        [
         43472948,
         "99.00",
         "4.75"
        ],
        [
         47971372,
         "85.00",
         "5.00"
        ],
        [
         4522610,
         "116.00",
         "4.44"
        ],
        [
         20277017,
         "57.00",
         "4.67"
        ],
        [
         22288806,
         "60.00",
         "5.00"
        ],
        [
         30138742,
         "77.00",
         "4.46"
        ],
        [
         33865776,
         "157.00",
         "4.50"
        ],
        [
         2463585,
         "70.00",
         "4.65"
        ],
        [
         3162126,
         "219.00",
         "4.73"
        ],
        [
         38539406,
         "59.00",
         "5.00"
        ],
        [
         39083845,
         "380.00",
         "5.00"
        ],
        [
         41787417,
         "52.00",
         "4.50"
        ],
        [
         45463474,
         "393.00",
         "4.79"
        ],
        [
         48803853,
         "70.00",
         "4.00"
        ],
        [
         49811870,
         "63.00",
         "5.00"
        ],
        [
         22822880,
         "176.00",
         "4.66"
        ],
        [
         26424140,
         "90.00",
         "4.80"
        ],
        [
         28173093,
         "160.00",
         "4.67"
        ],
        [
         30705658,
         "89.00",
         "4.58"
        ],
        [
         32689551,
         "260.00",
         "5.00"
        ],
        [
         39234479,
         "513.00",
         "5.00"
        ],
        [
         43953930,
         "78.00",
         "3.92"
        ],
        [
         42515,
         "72.00",
         "4.69"
        ],
        [
         399388,
         "49.00",
         "4.82"
        ],
        [
         2539227,
         "107.00",
         "4.55"
        ],
        [
         3789436,
         "120.00",
         "4.67"
        ],
        [
         13135441,
         "66.00",
         "4.74"
        ],
        [
         22740212,
         "40.00",
         "4.92"
        ],
        [
         37428032,
         "40.00",
         "4.90"
        ],
        [
         40100994,
         "104.00",
         "4.50"
        ],
        [
         1933255,
         "321.00",
         "4.79"
        ],
        [
         13340167,
         "83.00",
         "4.84"
        ],
        [
         13800901,
         "66.00",
         "4.90"
        ],
        [
         25120694,
         "137.00",
         "5.00"
        ],
        [
         29325047,
         "70.00",
         "5.00"
        ],
        [
         33029935,
         "100.00",
         "4.88"
        ],
        [
         44091555,
         "69.00",
         "4.67"
        ],
        [
         45579207,
         "84.00",
         "5.00"
        ],
        [
         5304033,
         "98.00",
         "4.43"
        ],
        [
         24213085,
         "229.00",
         "4.57"
        ],
        [
         36435433,
         "130.00",
         "4.77"
        ],
        [
         40551921,
         "50.00",
         "4.52"
        ],
        [
         46081272,
         "121.00",
         "5.00"
        ],
        [
         919262,
         "75.00",
         "4.21"
        ],
        [
         5120419,
         "254.00",
         "4.53"
        ],
        [
         9620597,
         "199.00",
         "4.44"
        ],
        [
         28753707,
         "70.00",
         "4.53"
        ],
        [
         30320214,
         "280.00",
         "4.38"
        ],
        [
         34198661,
         "125.00",
         "4.83"
        ],
        [
         35630907,
         "90.00",
         "5.00"
        ],
        [
         40960110,
         "204.00",
         "5.00"
        ],
        [
         42873743,
         "135.00",
         "4.46"
        ],
        [
         10332954,
         "110.00",
         "4.79"
        ],
        [
         13650940,
         "140.00",
         "3.83"
        ],
        [
         20189104,
         "60.00",
         "5.00"
        ],
        [
         22903833,
         "80.00",
         "4.45"
        ],
        [
         37362857,
         "50.00",
         "5.00"
        ],
        [
         42243972,
         "104.00",
         "4.00"
        ],
        [
         46327775,
         "0.00",
         "5.00"
        ],
        [
         3314773,
         "95.00",
         "4.92"
        ],
        [
         8855212,
         "98.00",
         "4.86"
        ],
        [
         16291892,
         "193.00",
         "4.00"
        ],
        [
         19216795,
         "421.00",
         "5.00"
        ],
        [
         31395439,
         "42.00",
         "4.70"
        ],
        [
         32639600,
         "110.00",
         "5.00"
        ],
        [
         32689588,
         "200.00",
         "4.50"
        ],
        [
         42084343,
         "132.00",
         "5.00"
        ],
        [
         43649480,
         "82.00",
         "3.91"
        ],
        [
         45516467,
         "100.00",
         "5.00"
        ],
        [
         49726730,
         "107.00",
         "5.00"
        ],
        [
         1389340,
         "145.00",
         "4.40"
        ],
        [
         5400013,
         "164.00",
         "5.00"
        ],
        [
         13387622,
         "107.00",
         "5.00"
        ],
        [
         19520337,
         "131.00",
         "5.00"
        ],
        [
         21033152,
         "160.00",
         "4.95"
        ],
        [
         24931447,
         "150.00",
         "4.14"
        ],
        [
         25776508,
         "46.00",
         "4.80"
        ],
        [
         35819977,
         "40.00",
         "5.00"
        ],
        [
         45152091,
         "89.00",
         "4.50"
        ],
        [
         48913308,
         "41.00",
         "4.30"
        ],
        [
         49029310,
         "103.00",
         "4.67"
        ],
        [
         49574486,
         "166.00",
         "4.17"
        ],
        [
         23434769,
         "40.00",
         "4.86"
        ],
        [
         26674068,
         "81.00",
         "4.27"
        ],
        [
         29700642,
         "131.00",
         "4.77"
        ],
        [
         35832242,
         "700.00",
         "5.00"
        ],
        [
         194110,
         "135.00",
         "4.50"
        ],
        [
         2707979,
         "120.00",
         "4.48"
        ],
        [
         43193305,
         "80.00",
         "5.00"
        ],
        [
         45410856,
         "55.00",
         "4.00"
        ],
        [
         45694097,
         "58.00",
         "4.00"
        ],
        [
         48977042,
         "90.00",
         "5.00"
        ],
        [
         476344,
         "290.00",
         "4.71"
        ],
        [
         8379453,
         "114.00",
         "4.90"
        ],
        [
         17302932,
         "130.00",
         "4.87"
        ],
        [
         34933269,
         "79.00",
         "4.54"
        ],
        [
         36379287,
         "60.00",
         "4.86"
        ],
        [
         43055276,
         "54.00",
         "5.00"
        ],
        [
         43803955,
         "130.00",
         "5.00"
        ],
        [
         48012669,
         "220.00",
         "5.00"
        ],
        [
         21424946,
         "199.00",
         "4.77"
        ],
        [
         26490977,
         "392.00",
         "4.50"
        ],
        [
         38396480,
         "82.00",
         "4.87"
        ],
        [
         41361222,
         "141.00",
         "4.50"
        ],
        [
         44566685,
         "109.00",
         "4.47"
        ],
        [
         45315731,
         "364.00",
         "2.50"
        ],
        [
         2675703,
         "130.00",
         "4.92"
        ],
        [
         8178791,
         "75.00",
         "4.81"
        ],
        [
         16569836,
         "82.00",
         "5.00"
        ],
        [
         37076120,
         "108.00",
         "5.00"
        ],
        [
         40507945,
         "120.00",
         "4.75"
        ],
        [
         43420855,
         "100.00",
         "5.00"
        ],
        [
         1479883,
         "59.00",
         "5.00"
        ],
        [
         20881066,
         "123.00",
         "4.77"
        ],
        [
         27723547,
         "90.00",
         "4.83"
        ],
        [
         36588677,
         "85.00",
         "4.15"
        ],
        [
         38361151,
         "165.00",
         "4.82"
        ],
        [
         49851139,
         "55.00",
         "5.00"
        ],
        [
         11121856,
         "45.00",
         "4.35"
        ],
        [
         12899329,
         "50.00",
         "4.90"
        ],
        [
         17339235,
         "190.00",
         "4.00"
        ],
        [
         32797118,
         "61.00",
         "4.46"
        ],
        [
         35566124,
         "75.00",
         "5.00"
        ],
        [
         48863168,
         "70.00",
         "5.00"
        ],
        [
         1288406,
         "100.00",
         "4.67"
        ],
        [
         7632418,
         "190.00",
         "4.70"
        ],
        [
         11459919,
         "550.00",
         "3.40"
        ],
        [
         22880514,
         "198.00",
         "5.00"
        ],
        [
         23691838,
         "48.00",
         "4.63"
        ],
        [
         30053885,
         "75.00",
         "5.00"
        ],
        [
         32914559,
         "69.00",
         "5.00"
        ],
        [
         35515113,
         "219.00",
         "4.67"
        ],
        [
         35644592,
         "40.00",
         "4.61"
        ],
        [
         36023219,
         "50.00",
         "4.00"
        ],
        [
         41151410,
         "67.00",
         "5.00"
        ],
        [
         42674230,
         "85.00",
         "4.75"
        ],
        [
         49946351,
         "55.00",
         "5.00"
        ],
        [
         766186,
         "129.00",
         "4.92"
        ],
        [
         14588423,
         "71.00",
         "4.86"
        ],
        [
         19639287,
         "71.00",
         "4.78"
        ],
        [
         20238633,
         "75.00",
         "4.85"
        ],
        [
         23205718,
         "180.00",
         "5.00"
        ],
        [
         38489321,
         "80.00",
         "4.93"
        ],
        [
         42172181,
         "95.00",
         "5.00"
        ],
        [
         43874467,
         "150.00",
         "4.57"
        ],
        [
         44072712,
         "55.00",
         "5.00"
        ],
        [
         47371920,
         "60.00",
         "5.00"
        ],
        [
         50037662,
         "82.00",
         "4.75"
        ],
        [
         946415,
         "75.00",
         "4.75"
        ],
        [
         5071668,
         "75.00",
         "4.58"
        ],
        [
         5924154,
         "88.00",
         "4.68"
        ],
        [
         8190949,
         "63.00",
         "5.00"
        ],
        [
         17414348,
         "69.00",
         "4.88"
        ],
        [
         40776782,
         "124.00",
         "4.35"
        ],
        [
         40962908,
         "104.00",
         "5.00"
        ],
        [
         42583084,
         "72.00",
         "4.80"
        ],
        [
         43456063,
         "99.00",
         "4.67"
        ],
        [
         48226276,
         "75.00",
         "5.00"
        ],
        [
         2714778,
         "69.00",
         "5.00"
        ],
        [
         6809505,
         "450.00",
         "4.74"
        ],
        [
         32398326,
         "140.00",
         "4.59"
        ],
        [
         33367012,
         "80.00",
         "4.70"
        ],
        [
         37587592,
         "96.00",
         "4.75"
        ],
        [
         40316839,
         "115.00",
         "4.67"
        ],
        [
         48597945,
         "141.00",
         "3.50"
        ],
        [
         534098,
         "86.00",
         "4.80"
        ],
        [
         706264,
         "110.00",
         "4.80"
        ],
        [
         2148059,
         "70.00",
         "4.73"
        ],
        [
         4293517,
         "75.00",
         "4.25"
        ],
        [
         5066448,
         "155.00",
         "4.83"
        ],
        [
         17123055,
         "466.00",
         "4.33"
        ],
        [
         20019981,
         "141.00",
         "4.90"
        ],
        [
         20669530,
         "114.00",
         "4.88"
        ],
        [
         40650990,
         "100.00",
         "0.00"
        ],
        [
         43235723,
         "87.00",
         "4.50"
        ],
        [
         43722937,
         "108.00",
         "4.00"
        ],
        [
         48101734,
         "60.00",
         "5.00"
        ],
        [
         42226266,
         "102.00",
         "4.76"
        ],
        [
         46129884,
         "75.00",
         "5.00"
        ],
        [
         47839547,
         "85.00",
         "5.00"
        ],
        [
         9646917,
         "70.00",
         "4.62"
        ],
        [
         16285767,
         "139.00",
         "4.94"
        ],
        [
         16475033,
         "100.00",
         "0.00"
        ],
        [
         25504660,
         "324.00",
         "4.77"
        ],
        [
         36875964,
         "80.00",
         "4.27"
        ],
        [
         628495,
         "77.00",
         "4.83"
        ],
        [
         9986899,
         "180.00",
         "4.91"
        ],
        [
         16328782,
         "50.00",
         "5.00"
        ],
        [
         16504003,
         "50.00",
         "5.00"
        ],
        [
         21973416,
         "90.00",
         "4.57"
        ],
        [
         27869391,
         "105.00",
         "4.64"
        ],
        [
         32273285,
         "141.00",
         "4.50"
        ],
        [
         33576602,
         "115.00",
         "5.00"
        ],
        [
         40528105,
         "89.00",
         "5.00"
        ],
        [
         43585633,
         "45.00",
         "5.00"
        ],
        [
         44645763,
         "90.00",
         "4.75"
        ],
        [
         44878456,
         "65.00",
         "5.00"
        ],
        [
         1286802,
         "75.00",
         "5.00"
        ],
        [
         13279964,
         "85.00",
         "4.69"
        ],
        [
         15831895,
         "91.00",
         "4.76"
        ],
        [
         23491832,
         "140.00",
         "5.00"
        ],
        [
         30339820,
         "190.00",
         "5.00"
        ],
        [
         37928700,
         "88.00",
         "4.68"
        ],
        [
         39391081,
         "150.00",
         "4.86"
        ],
        [
         42706635,
         "110.00",
         "4.90"
        ],
        [
         44643285,
         "90.00",
         "3.50"
        ],
        [
         20127765,
         "63.00",
         "4.60"
        ],
        [
         39211082,
         "159.00",
         "4.64"
        ],
        [
         41676980,
         "65.00",
         "5.00"
        ],
        [
         46258676,
         "150.00",
         "5.00"
        ],
        [
         5740336,
         "71.00",
         "4.48"
        ],
        [
         6252372,
         "44.00",
         "4.74"
        ],
        [
         17109045,
         "74.00",
         "4.54"
        ],
        [
         25048631,
         "250.00",
         "4.00"
        ],
        [
         26626507,
         "85.00",
         "4.82"
        ],
        [
         47931405,
         "68.00",
         "4.33"
        ],
        [
         4677724,
         "90.00",
         "4.75"
        ],
        [
         4869297,
         "107.00",
         "4.71"
        ],
        [
         8457830,
         "59.00",
         "4.86"
        ],
        [
         25241049,
         "77.00",
         "4.77"
        ],
        [
         35980305,
         "65.00",
         "4.86"
        ],
        [
         36537157,
         "150.00",
         "5.00"
        ],
        [
         41387940,
         "70.00",
         "5.00"
        ],
        [
         42116782,
         "60.00",
         "4.56"
        ],
        [
         45736720,
         "235.00",
         "5.00"
        ],
        [
         1706604,
         "250.00",
         "4.86"
        ],
        [
         3040262,
         "47.00",
         "4.95"
        ],
        [
         26240736,
         "115.00",
         "4.73"
        ],
        [
         38788691,
         "180.00",
         "4.85"
        ],
        [
         39574937,
         "104.00",
         "5.00"
        ],
        [
         41370057,
         "96.00",
         "5.00"
        ],
        [
         42220716,
         "80.00",
         "4.00"
        ]
       ],
       "datasetInfos": [],
       "dbfsResultPath": null,
       "isJsonSchema": true,
       "metadata": {
        "dataframeName": "_sqldf",
        "executionCount": 5
       },
       "overflow": false,
       "plotOptions": {
        "customPlotOptions": {},
        "displayType": "table",
        "pivotAggregation": null,
        "pivotColumns": null,
        "xColumns": null,
        "yColumns": null
       },
       "removedWidgets": [],
       "schema": [
        {
         "metadata": "{}",
         "name": "listing_id",
         "type": "\"integer\""
        },
        {
         "metadata": "{}",
         "name": "average_price",
         "type": "\"decimal(10,2)\""
        },
        {
         "metadata": "{}",
         "name": "average_rating",
         "type": "\"decimal(4,2)\""
        }
       ],
       "type": "table"
      }
     },
     "output_type": "display_data"
    }
   ],
   "source": [
    "%sql\n",
    "select * from reporting.price_rating_correlation"
   ]
  },
  {
   "cell_type": "code",
   "execution_count": 0,
   "metadata": {
    "application/vnd.databricks.v1+cell": {
     "cellMetadata": {
      "byteLimit": 2048000,
      "implicitDf": true,
      "rowLimit": 10000
     },
     "inputWidgets": {},
     "nuid": "3a4e90b8-cad4-428d-9c7e-74a6cdf9c257",
     "showTitle": false,
     "title": ""
    }
   },
   "outputs": [
    {
     "output_type": "display_data",
     "data": {
      "text/html": [
       "<style scoped>\n",
       "  .ansiout {\n",
       "    display: block;\n",
       "    unicode-bidi: embed;\n",
       "    white-space: pre-wrap;\n",
       "    word-wrap: break-word;\n",
       "    word-break: break-all;\n",
       "    font-family: \"Menlo\", \"Monaco\", \"Consolas\", \"Ubuntu Mono\", \"Source Code Pro\", monospace;\n",
       "    font-size: 13px;\n",
       "    color: #555;\n",
       "    margin-left: 4px;\n",
       "    line-height: 19px;\n",
       "  }\n",
       "</style>"
      ]
     },
     "metadata": {
      "application/vnd.databricks.v1+output": {
       "arguments": {},
       "data": "",
       "errorSummary": "Command skipped",
       "errorTraceType": "html",
       "metadata": {},
       "type": "ipynbError"
      }
     },
     "output_type": "display_data"
    }
   ],
   "source": [
    "%sql\n",
    "SELECT \n",
    "    CORR(average_price, average_rating) as correlation_coefficient\n",
    "FROM \n",
    "    reporting.price_rating_correlation;\n"
   ]
  },
  {
   "cell_type": "markdown",
   "metadata": {
    "application/vnd.databricks.v1+cell": {
     "cellMetadata": {
      "byteLimit": 2048000,
      "rowLimit": 10000
     },
     "inputWidgets": {},
     "nuid": "206f425d-da3e-4ab5-a076-96b20897e22b",
     "showTitle": false,
     "title": ""
    }
   },
   "source": [
    "Given the value 0.030060627628897704:\n",
    "\n",
    "It's very close to 0, indicating a very weak positive correlation between average_price and average_rating.\n",
    "This means that there's a very slight tendency that as the price increases, the rating also increases. However, the correlation is so weak that it's almost negligible."
   ]
  }
 ],
 "metadata": {
  "application/vnd.databricks.v1+notebook": {
   "dashboards": [
    {
     "elements": [],
     "globalVars": {},
     "guid": "",
     "layoutOption": {
      "grid": true,
      "stack": true
     },
     "nuid": "0ec4adbb-8d47-498a-8b52-cf071f413e24",
     "origId": 4472402743618783,
     "title": "Rating factors",
     "version": "DashboardViewV1",
     "width": 1024
    },
    {
     "elements": [
      {
       "dashboardResultIndex": null,
       "elementNUID": "a39f6e9e-b037-4693-8bb7-1c9c3ceb3e42",
       "elementType": "command",
       "guid": "0262dbae-2a06-4207-a919-b82c04250525",
       "options": null,
       "position": {
        "height": 1,
        "width": 12,
        "x": 0,
        "y": 0,
        "z": null
       },
       "resultIndex": null
      },
      {
       "dashboardResultIndex": null,
       "elementNUID": "52dbb113-7709-4b66-8f15-60ac0ff58426",
       "elementType": "command",
       "guid": "16f6a12a-5fd6-4563-8f5f-f8783cb214b0",
       "options": null,
       "position": {
        "height": 1,
        "width": 12,
        "x": 0,
        "y": 3,
        "z": null
       },
       "resultIndex": null
      },
      {
       "dashboardResultIndex": null,
       "elementNUID": "333346bb-4464-4cee-ac7e-dd05e9d4d6ff",
       "elementType": "command",
       "guid": "5f03c5bc-5804-4bce-8f88-0dc3dfb7c689",
       "options": null,
       "position": {
        "height": 1,
        "width": 12,
        "x": 0,
        "y": 2,
        "z": null
       },
       "resultIndex": null
      },
      {
       "dashboardResultIndex": null,
       "elementNUID": "206f425d-da3e-4ab5-a076-96b20897e22b",
       "elementType": "command",
       "guid": "72cb9ed8-b329-49f6-884b-8aaa818c21b0",
       "options": null,
       "position": {
        "height": 5,
        "width": 12,
        "x": 0,
        "y": 10,
        "z": null
       },
       "resultIndex": null
      },
      {
       "dashboardResultIndex": null,
       "elementNUID": "b53c073f-32c4-42bc-a904-6eb467556237",
       "elementType": "command",
       "guid": "9332245b-90c0-4f55-a5ae-2f31ca88b153",
       "options": null,
       "position": {
        "height": 1,
        "width": 12,
        "x": 0,
        "y": 9,
        "z": null
       },
       "resultIndex": null
      },
      {
       "dashboardResultIndex": null,
       "elementNUID": "9c845769-ea8a-4b5f-b2ef-6c0938607682",
       "elementType": "command",
       "guid": "9cae806d-310c-4054-9ea6-1069e19e9c06",
       "options": null,
       "position": {
        "height": 1,
        "width": 12,
        "x": 0,
        "y": 5,
        "z": null
       },
       "resultIndex": null
      },
      {
       "dashboardResultIndex": null,
       "elementNUID": "3da3c1c6-46a8-437b-9ffb-895fd22763ba",
       "elementType": "command",
       "guid": "a660fd4e-1883-43c0-861a-f8e5ed2d8ded",
       "options": null,
       "position": {
        "height": 3,
        "width": 12,
        "x": 0,
        "y": 6,
        "z": null
       },
       "resultIndex": null
      },
      {
       "dashboardResultIndex": null,
       "elementNUID": "6fa4feb6-ae7d-4e53-bcd5-ccf03a1714f1",
       "elementType": "command",
       "guid": "a734c1e7-dd7b-4619-a411-500d5562d773",
       "options": null,
       "position": {
        "height": 1,
        "width": 12,
        "x": 0,
        "y": 1,
        "z": null
       },
       "resultIndex": null
      }
     ],
     "globalVars": {},
     "guid": "",
     "layoutOption": {
      "grid": true,
      "stack": true
     },
     "nuid": "dc78b6c5-150b-40e7-9c35-254d46ac17f1",
     "origId": 4472402743618784,
     "title": "Untitled",
     "version": "DashboardViewV1",
     "width": 1024
    },
    {
     "elements": [],
     "globalVars": {},
     "guid": "",
     "layoutOption": {
      "grid": true,
      "stack": true
     },
     "nuid": "256f5593-7965-4ace-8a02-bfe7b1f53d35",
     "origId": 4472402743618810,
     "title": "Untitled",
     "version": "DashboardViewV1",
     "width": 1024
    }
   ],
   "language": "python",
   "notebookMetadata": {
    "mostRecentlyExecutedCommandWithImplicitDF": {
     "commandId": 4472402743618809,
     "dataframes": [
      "_sqldf"
     ]
    },
    "pythonIndentUnit": 4
   },
   "notebookName": "Airbnb Geneva Analysis",
   "widgets": {}
  }
 },
 "nbformat": 4,
 "nbformat_minor": 0
}
